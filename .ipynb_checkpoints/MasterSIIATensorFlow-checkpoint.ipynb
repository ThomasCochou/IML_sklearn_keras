{
 "cells": [
  {
   "cell_type": "markdown",
   "metadata": {
    "id": "TrkXPt60RQZk"
   },
   "source": [
    "# TP d'appropriation de l'apprentissage artificiel et du \"Deep Learning\" avec Numpy, SKLearn et Keras\n",
    "### MASTER SIIA \n"
   ]
  },
  {
   "cell_type": "markdown",
   "metadata": {
    "id": "GqlQvQrhRTVM"
   },
   "source": [
    "#Introduction\n",
    "\n",
    "**TensorFlow** est un outil qui permet d'implémenter et de tester rapidement des algorithmes d'apprentissage artificiel profonds. Une de ses caractéristiques est d'être adapté à des architectures matérielles dédiées au calcul (GPU) et de permettre une distribution de ce calcul sur des grappes de machines très simplement. Il permet d'utiliser de nombreux algorithmes prets à l'usage mais également de définir soi même tous les composants d'une architecture profonde de façon très détaillée. Il est également doté d'un outil de visualisation de l'architecture en cours de construction grâce à **tensor board.**\n",
    "\n",
    "Sa prise en main nécessite de connaitre les principaux algorithmes et principes d'apprentissage ainsi que la manipulation de données avec **Numpy**. Durant ce TP nous allons commencer par une présentation rapide de quelques fonctions de **Numpy** qui est une librairie python dédiée au calcul numérique. Nous aborderons également **matplotlib** qui vous permettra de tracer des courbes facilement. Nous verrons leur usage à travers l'utilisation de quelques fonctions de **Scikit-learn** également dédiée à l'apprentissage artificiel. **Scikit-Learn (Ou SKlearn)** avait été regroupé avec **Tensor Flow 1** pour donner naissance a **skFlow**. Néanmoins, cette librairie fut progressivement remplacer par **Keras** conjointement avec l'arrivée de **Tensor Flow 2**. Tout ceci a pour but de vous expliquer pourquoi, il y a parfois des confusion entre les versions, les codes, les noms des librairies. **Keras** a l'ambition d'être uns sur-couche à plusieurs librairies dont **Tensor flow**. Cependant pour entrer dans le détail des modèles, il est nécessaire de descendre un cran en dessous (chose que nous n'aurons sans doute pas le temps de faire). \n",
    "\n",
    "### Evolution 2020 :\n",
    "La crise sanitaire m'a incité à passer ce TP sous notebook google collab mais il est toujours possible d'exécuter le code en local sur vos machines. La principale difficulté étant celle de l'installation des bonnes versions des libraires. Il existe donc deux versions du TP, la version présente contient du code *Tensor Flow 2* exécutable sous Google Collab. Vous trouverez sur ma page web une version compatible avec **Tensor flow 1 et skLearn**.\n",
    "\n",
    "# Numpy\n",
    "\n",
    "**Numpy** permet une manipulation rapide de structures de données telles que les matrices (classe `array`). Il implémente également de façon rigoureuse des opérations sur les données grâce à la classe `linalg`. Le code suivant montre comment générer des données de test. Ici une entrée est une valeur choisie aléatoirement (et rangée dans le tableau X) et une sortie est calculée comme une fonction linéaire de l'entrée auquel on a ajouté un bruit (rangée dans le tableau y)."
   ]
  },
  {
   "cell_type": "code",
   "execution_count": 4,
   "metadata": {
    "id": "39tdZRRASg_0"
   },
   "outputs": [],
   "source": [
    "import numpy as np\n",
    "nbDonnee = 100\n",
    "X = 3*np.random.rand(nbDonnee,1) # Génération de 100 valeurs aléatoires représentant 100 exemples d'entrées.\n",
    "y = 2 + 4*X + np.random.randn(nbDonnee,1) # Génération des données de sorties qui sont une fonction des entrées plus un bruit."
   ]
  },
  {
   "cell_type": "markdown",
   "metadata": {
    "id": "lDgRpSHbSmGd"
   },
   "source": [
    "Vous pouvez afficher les points correspondants grâce à `matplotlib`"
   ]
  },
  {
   "cell_type": "code",
   "execution_count": 5,
   "metadata": {
    "id": "JNqUGVvHSpIT"
   },
   "outputs": [
    {
     "data": {
      "image/png": "[encoded data removed]",
      "text/plain": [
       "<Figure size 432x288 with 1 Axes>"
      ]
     },
     "metadata": {
      "needs_background": "light"
     },
     "output_type": "display_data"
    }
   ],
   "source": [
    "import matplotlib\n",
    "import matplotlib.pyplot as plt\n",
    "plt.plot(X,y, \"b.\") # On trace un point bleu pour chaque point des données\n",
    "plt.axis([0,3,0,15]) # On fixe les bornes de l'abscisse et de l'ordonnée du graphique\n",
    "plt.show() # On affiche le tout"
   ]
  },
  {
   "cell_type": "markdown",
   "metadata": {
    "id": "NEAAAZqnSyxU"
   },
   "source": [
    "Rappelons qu'une régression linéaire consiste à calculer le vecteur \\($\\Theta\\$) tel que l'estimation de \\(y\\) connaissant une entrée \\(x\\), est :\n",
    "\n",
    "$$ \\widehat y = h_{\\Theta}(x) = \\Theta^{T}.x $$\n",
    "\n",
    "\\($h_{\\Theta}$\\) étant une fonction hypothèse (linéaire), dépendant des paramètres \\($\\Theta$\\).\n",
    "\n",
    "Rappelons également qu'il existe une solution analytique du calcul de \\($\\Theta$\\) minimisant la moyenne du carré des erreurs de prédiction, cette solution est :\n",
    "\n",
    "$$ \\widehat \\Theta = (X^T.X)^{-1}.X^T.Y $$\n",
    "\n",
    "Où \\($X$\\) est l'ensemble des données d'entrée et Y l'ensemble des données de sorties.\n",
    "\n",
    "Numpy permet de transposer des matrices (operateur `T`) d'en faire le produit (fonction `dot()`) ou de les inverser (fonction `inv()`) de la classe `linalg`).\n",
    "\n",
    "Rappelons également qu'une combinaison linéaire lorsque les entrées ne sont composées que d'une valeur \\($x_1$\\), se calcule de la façon suivante :\n",
    "\n",
    "$$ \\widehat y = \\theta_0 + \\theta_1 * x_1 $$.\n",
    "\n",
    "Par conséquent, pour faire le calcul de \\($\\Theta$\\), il faut ajouter une colonne de 1 aux entrées X pour introduire \\($\\Theta_0$\\) dans la solution.\n",
    "\n",
    "Ceci se fait avec l'opérateur `c_` qui permet de concaténer des colonnes. On peut ainsi calculer la régression linéaire et l'afficher :"
   ]
  },
  {
   "cell_type": "code",
   "execution_count": 3,
   "metadata": {
    "colab": {
     "base_uri": "https://localhost:8080/",
     "height": 301
    },
    "id": "IadXt-ifTOKD",
    "outputId": "90295088-49e3-41ad-8dd6-f24ed802d14c"
   },
   "outputs": [
    {
     "name": "stdout",
     "output_type": "stream",
     "text": [
      "Theta :  [[2.12155124]\n",
      " [3.81399696]]\n"
     ]
    },
    {
     "data": {
      "image/png": "[encoded data removed]",
      "text/plain": [
       "<Figure size 432x288 with 1 Axes>"
      ]
     },
     "metadata": {
      "needs_background": "light"
     },
     "output_type": "display_data"
    }
   ],
   "source": [
    "import time\n",
    "X_b = np.c_[np.ones((nbDonnee,1)),X] # Ajout de la constante '1' à chaque donnée pour calculer le biais theta0 (rappelons que l'équation d'une regression linéaire est y = theta0 + theta1*x1 + theta2*x2 + ... Ici on a juste une valeur par exemple (donc x1) et on ajoute le 1 pour calculer le theta0 \n",
    "before = time.time() #permettra d'obtenir le temps de calcul de l'algorithme\n",
    "theta_best=np.linalg.inv(X_b.T.dot(X_b)).dot(X_b.T).dot(y) #  Numpy est doté de nombreux algorithmes d'algèbre linéaire. Ici, il permet de calculer l'inverse d'une matrice. (rappelons qu'il existe une solution analytique permettant de calculer le theta qui minimise la MSE et qui est [1/(Xt.X)].Xt.y\n",
    "print(\"Theta : \", theta_best)\n",
    "# Nous allons maintenant tracer la droite représentant le theta_best ainsi que les points utilisés pour l'apprendre\n",
    "X_new= np.array([[0],[3]]) # Choix de 2 valeurs de X\n",
    "X_new_b = np.c_[np.ones((2,1)),X_new] # On ajoute le '1' à chaque donnée\n",
    "y_predict = X_new_b.dot(theta_best) # on calcul le y à partir de theta_best\n",
    "plt.plot(X_new, y_predict, \"r-\") # On trace une droite rouge entre les 2 points prédits\n",
    "plt.plot(X,y, \"b.\") #On trace un point bleu pour chaque point des données utilisées pour apprendre theta\n",
    "plt.axis([0,3,0,15]) # On fixe les bornes de l'abscisse et de l'ordonnée du graphique\n",
    "plt.show() # On affiche la courbe"
   ]
  },
  {
   "cell_type": "code",
   "execution_count": 82,
   "metadata": {},
   "outputs": [],
   "source": [
    "import math\n",
    "\n",
    "X = 3*np.random.rand(100,1)\n",
    "y = np.sin(X) + 0.1*np.random.randn(100,1)\n",
    "\n"
   ]
  },
  {
   "cell_type": "code",
   "execution_count": 83,
   "metadata": {},
   "outputs": [
    {
     "data": {
      "image/png": "[encoded data removed]",
      "text/plain": [
       "<Figure size 432x288 with 1 Axes>"
      ]
     },
     "metadata": {
      "needs_background": "light"
     },
     "output_type": "display_data"
    }
   ],
   "source": [
    "plt.plot(X,y, \"b.\") # On trace un point bleu pour chaque point des données\n",
    "plt.axis([-1,4,0,1.5]) # On fixe les bornes de l'abscisse et de l'ordonnée du graphique\n",
    "plt.show() # On affiche le tout"
   ]
  },
  {
   "cell_type": "code",
   "execution_count": 84,
   "metadata": {},
   "outputs": [
    {
     "name": "stdout",
     "output_type": "stream",
     "text": [
      "Theta :  [[0.6601511 ]\n",
      " [0.01755746]]\n"
     ]
    },
    {
     "data": {
      "image/png": "[encoded data removed]",
      "text/plain": [
       "<Figure size 432x288 with 1 Axes>"
      ]
     },
     "metadata": {
      "needs_background": "light"
     },
     "output_type": "display_data"
    }
   ],
   "source": [
    "X_b = np.c_[np.ones((nbDonnee,1)),X] # Ajout de la constante '1' à chaque donnée pour calculer le biais theta0 (rappelons que l'équation d'une regression linéaire est y = theta0 + theta1*x1 + theta2*x2 + ... Ici on a juste une valeur par exemple (donc x1) et on ajoute le 1 pour calculer le theta0 \n",
    "before = time.time() #permettra d'obtenir le temps de calcul de l'algorithme\n",
    "theta_best=np.linalg.inv(X_b.T.dot(X_b)).dot(X_b.T).dot(y) #  Numpy est doté de nombreux algorithmes d'algèbre linéaire. Ici, il permet de calculer l'inverse d'une matrice. (rappelons qu'il existe une solution analytique permettant de calculer le theta qui minimise la MSE et qui est [1/(Xt.X)].Xt.y\n",
    "print(\"Theta : \", theta_best)\n",
    "# Nous allons maintenant tracer la droite représentant le theta_best ainsi que les points utilisés pour l'apprendre\n",
    "X_new= np.array([[0],[3]]) # Choix de 2 valeurs de X\n",
    "X_new_b = np.c_[np.ones((2,1)),X_new] # On ajoute le '1' à chaque donnée\n",
    "y_predict = X_new_b.dot(theta_best) # on calcul le y à partir de theta_best\n",
    "plt.plot(X_new, y_predict, \"r-\") # On trace une droite rouge entre les 2 points prédits\n",
    "plt.plot(X,y, \"b.\") #On trace un point bleu pour chaque point des données utilisées pour apprendre theta\n",
    "plt.axis([-1,4,0,1.5]) # On fixe les bornes de l'abscisse et de l'ordonnée du graphique\n",
    "plt.show() # On affiche la courbe"
   ]
  },
  {
   "cell_type": "markdown",
   "metadata": {
    "id": "kFKj6ctrTXx8"
   },
   "source": [
    "## Question 1 :\n",
    "\n",
    "Tester le code précédent et observer les courbes correspondantes. Générez des données ne se rapprochant pas d'une droite (par exemple à l'aide d'une fonction sinusoïdale, une puissance ou toute autre fonction non linéaire) et faites une regression linéaire. Affichez le résultat. Quelle conclusion ?\n",
    "\n",
    "    Une régression linéeaire n'est pas très efficace sur une courbe non linéaire.\n",
    "\n",
    "## Question 2 :\n",
    "\n",
    "Ajoutez une colonne aux entrées qui représentent les valeurs de ces entrées mises au carré. Faite une régression linéaire sur cette représentation des entrées par 2 valeurs.\n",
    "\n",
    "Une exemple de code permettant de construire un tableau `X2` du carré des éléments d'un tableau `X` à l'aide d'une lambda fonction est:"
   ]
  },
  {
   "cell_type": "markdown",
   "metadata": {},
   "source": [
    "# A REVOIR Q2"
   ]
  },
  {
   "cell_type": "code",
   "execution_count": 86,
   "metadata": {
    "id": "j_GEUqKJTpa1"
   },
   "outputs": [],
   "source": [
    "X2 = np.apply_along_axis(lambda x: (x*x), 0, X)"
   ]
  },
  {
   "cell_type": "code",
   "execution_count": 88,
   "metadata": {},
   "outputs": [
    {
     "name": "stdout",
     "output_type": "stream",
     "text": [
      "Theta :  [[ 0.74860447]\n",
      " [-0.0186226 ]]\n"
     ]
    },
    {
     "data": {
      "image/png": "[encoded data removed]",
      "text/plain": [
       "<Figure size 432x288 with 1 Axes>"
      ]
     },
     "metadata": {
      "needs_background": "light"
     },
     "output_type": "display_data"
    }
   ],
   "source": [
    "X_b = np.c_[np.ones((nbDonnee,1)),X2] # Ajout de la constante '1' à chaque donnée pour calculer le biais theta0 (rappelons que l'équation d'une regression linéaire est y = theta0 + theta1*x1 + theta2*x2 + ... Ici on a juste une valeur par exemple (donc x1) et on ajoute le 1 pour calculer le theta0 \n",
    "before = time.time() #permettra d'obtenir le temps de calcul de l'algorithme\n",
    "theta_best=np.linalg.inv(X_b.T.dot(X_b)).dot(X_b.T).dot(y) #  Numpy est doté de nombreux algorithmes d'algèbre linéaire. Ici, il permet de calculer l'inverse d'une matrice. (rappelons qu'il existe une solution analytique permettant de calculer le theta qui minimise la MSE et qui est [1/(Xt.X)].Xt.y\n",
    "print(\"Theta : \", theta_best)\n",
    "# Nous allons maintenant tracer la droite représentant le theta_best ainsi que les points utilisés pour l'apprendre\n",
    "X_new= np.array([[0],[3]]) # Choix de 2 valeurs de X\n",
    "X_new_b = np.c_[np.ones((2,1)),X_new] # On ajoute le '1' à chaque donnée\n",
    "y_predict = X_new_b.dot(theta_best) # on calcul le y à partir de theta_best\n",
    "plt.plot(X_new, y_predict, \"r-\") # On trace une droite rouge entre les 2 points prédits\n",
    "plt.plot(X2,y, \"b.\") #On trace un point bleu pour chaque point des données utilisées pour apprendre theta\n",
    "plt.axis([-1,4,0,1.5]) # On fixe les bornes de l'abscisse et de l'ordonnée du graphique\n",
    "plt.show() # On affiche la courbe"
   ]
  },
  {
   "cell_type": "markdown",
   "metadata": {
    "id": "MGfAvvhTTsgT"
   },
   "source": [
    "Attention, il n'est plus possible de tracer une droite pour représenter les sorties calculées par le modèle puisqu'elles ne suivent plus l'équation d'une droite.\n",
    "\n",
    "Quelle Conclusion ?"
   ]
  },
  {
   "cell_type": "markdown",
   "metadata": {
    "id": "xZZsRrptT4jz"
   },
   "source": [
    "# Scikit-Learn\n",
    "\n",
    "`Scikit-Learn` permet d'utiliser des algorithmes d'apprentissage artificiel 'tout prêts' et apporte également des fonctions supplémentaires bien utiles. Nous allons d'ailleurs commencer par une généralisation de ce qui a été fait précédemment grâce à lui. On parle de **polynomialisation**. Il s'agit d'ajouter aux *features* leur valeur au carré, à la puissance 3, à la puissance n, ainsi que la valeur de leurs produits respectifs (par exemple x1 * x2) et de leur produit au carré, à la puissance n ... Ceci devrait améliorer la précision du prédicteur (au risque de lui faire faire du sur-apprentissage).\n",
    "\n",
    "Dans `Scikit-learn`, il existe un moyen rapide de polynomiser un vecteur de features : la classe `PolynomialFeatures` :\n",
    "\n"
   ]
  },
  {
   "cell_type": "code",
   "execution_count": 21,
   "metadata": {
    "colab": {
     "base_uri": "https://localhost:8080/"
    },
    "id": "U-SigosZUb6k",
    "outputId": "fad03be4-d8fd-4645-d5a4-5ea3a4b898e2"
   },
   "outputs": [
    {
     "name": "stdout",
     "output_type": "stream",
     "text": [
      "[1.         2.01394952 4.05599269 8.16856454]\n",
      "[11.09306048]\n"
     ]
    }
   ],
   "source": [
    "import numpy as np\n",
    "from sklearn.preprocessing import PolynomialFeatures\n",
    "from sklearn.linear_model import LinearRegression\n",
    "\n",
    "# on va pousser jusque la puissance 3 et on ajoute la colonne de 1 pour le Theta0\n",
    "poly_features = PolynomialFeatures(degree=3, include_bias=True) \n",
    "X = 3*np.random.rand(100,1) # Generation de trois valeurs pouvant représenter 100 exemples d'entrées\n",
    "X_poly=poly_features.fit_transform(X) # Cette fonction fait la polynomialisation pour nous ;-)\n",
    "y = 2 + 4*X + np.random.randn(100,1)\n",
    "\n",
    "print(X_poly[0])\n",
    "print(y[0])"
   ]
  },
  {
   "cell_type": "markdown",
   "metadata": {
    "id": "0tfse6xZUf9z"
   },
   "source": [
    "## Question 3:\n",
    "\n",
    "*   Testez une fonction à apprendre assez complexe avec différents degrès de polynomialisation.\n",
    "*   Découpez ce jeu en 2/3 dédié à l'apprentissage et 1/3 dédié à la vérification (jeu de test). On découpe un tableau en deux de cette façon:"
   ]
  },
  {
   "cell_type": "code",
   "execution_count": 32,
   "metadata": {
    "colab": {
     "base_uri": "https://localhost:8080/"
    },
    "id": "0R3isD0DU3H7",
    "outputId": "fbf34ac4-4120-4dcc-844b-cfc83ddfea5e"
   },
   "outputs": [
    {
     "data": {
      "text/plain": [
       "0.9141681646922564"
      ]
     },
     "execution_count": 32,
     "metadata": {},
     "output_type": "execute_result"
    }
   ],
   "source": [
    "from sklearn.model_selection import train_test_split\n",
    "\n",
    "X_train, X_test, y_train, y_test = train_test_split(X_poly, y, test_size=0.33, random_state=42)\n",
    "\n",
    "reg = LinearRegression().fit(X_train, y_train)\n",
    "\n",
    "reg.score(X_train, y_train)"
   ]
  },
  {
   "cell_type": "markdown",
   "metadata": {
    "id": "nyRiKF8eV0fT"
   },
   "source": [
    "## Question 4\n",
    "\n",
    "Calculez la MSE (moyenne des erreurs au carré) des données apprises et la MSE de données de test. Observez le sur-apprentissage. Avec scikit-learn, le calcul de la MSE se fait ainsi :"
   ]
  },
  {
   "cell_type": "code",
   "execution_count": 39,
   "metadata": {
    "colab": {
     "base_uri": "https://localhost:8080/"
    },
    "id": "X1c3JxT-V6uD",
    "outputId": "691eed0f-1d66-457d-f737-af5fc3cb6d09"
   },
   "outputs": [
    {
     "name": "stdout",
     "output_type": "stream",
     "text": [
      "1.0176422270979002\n"
     ]
    },
    {
     "data": {
      "image/png": "[encoded data removed]",
      "text/plain": [
       "<Figure size 432x288 with 1 Axes>"
      ]
     },
     "metadata": {
      "needs_background": "light"
     },
     "output_type": "display_data"
    }
   ],
   "source": [
    "from sklearn.metrics import mean_squared_error\n",
    "\n",
    "y = y_test # y sont les valeurs des sorties réelles qu'il faudrait retrouver\n",
    "yp = reg.predict(X_test) # yp sont les valeurs estimées par l'algorithme d'apprentissage\n",
    "MSE = mean_squared_error(y,yp)\n",
    "print(MSE)\n",
    "\n",
    "plt.plot(X_test, yp, \"r.\")\n",
    "plt.plot(X_test,y, \"b.\")\n",
    "plt.axis([-1,4,0,20])\n",
    "plt.show()"
   ]
  },
  {
   "cell_type": "markdown",
   "metadata": {
    "id": "5ODhDR-NWEkq"
   },
   "source": [
    "## Notion de régularisation\n",
    "\n",
    "Trouver la polynomialisation qui permet d'éviter le sur-apprentissage tout en garantissant un apprentissage s'appelle la \"régularisation\" d'un modèle. Il existe différentes façons de régulariser une regression. Parmi elles, il y a la \"Ridge Regression\" encore nommée la Regularisation de Tikhonov, la Regression en lasso (Least Absolute Shrinkage and Selection Operator Regression), l'Elastic Net ou le Early Stopping. Je vous invite à consulter la litterature pour avoir des détails sur ces différentes méthodes ([par exemple ici](https://towardsdatascience.com/regularization-in-machine-learning-76441ddcf99a))."
   ]
  },
  {
   "cell_type": "markdown",
   "metadata": {
    "id": "cxB88zVh4Yad"
   },
   "source": [
    "# Et la descente de grandient dans tout ça ?"
   ]
  },
  {
   "cell_type": "markdown",
   "metadata": {
    "id": "QeUsyUxa4U8m"
   },
   "source": [
    "Le calcul Analytique de la solution, qui se traduit par l'utilisation d'un calcul matriciel :\n",
    "`np.linalg.inv(X_b.T.dot(X_b)).dot(X_b.T).dot(y)`\n",
    "Pose des problèmes lorsque le nombre de données est très grand (ce qui est le cas des bases de données actuelles). C'est une des raisons pour laquelle on s'est rapidement penché vers des méthodes itératives du type *descente de gradient* qui évitent l'utilisation d'une matrice de taille NxN (pour N données).\n",
    "L'autre interêt de la *descente de gradient* est qu'elle peut se faire paramétrer des modèles non linéaires (réseaux de neurones par exemple).\n"
   ]
  },
  {
   "cell_type": "markdown",
   "metadata": {
    "id": "D2mLDN8x0rKL"
   },
   "source": [
    "# Utiliser des bases de données\n",
    "\n",
    "Nous allons donc passer à des quantités de données plus importantes présentant également un nombre de *features* plus important et surtout, représentant des informations *réelles* extraites d'observations. Il existe de très nombreuses bases de données disponibles (par exemple le [data set du CMU](http://lib.stat.cmu.edu/datasets/), voir la [liste Wikipedia à ce sujet](https://en.wikipedia.org/wiki/List_of_datasets_for_machine-learning_research)). `Scikit-Learn` possède un package `datasets` qui permet d'accéder à différents exemples de données. Il existe une fonction `load` pour chaque base : `load_boston()`, `load_iris()`, `load_diabetes()`, `load_digits()` ... `Scikit-learn` fournit également des images (`load_sample_image()`) et des générateurs de données permettant de fabriquer des valeurs controlées et des bases de toute taille. Nous allons utiliser une base très classique `iris` qui contient des fleurs réparties selon trois classes. Le fait d'appartenir à une classe dépendant de différentes propriétés de la fleur ([voir ici les détails sur iris](https://archive.ics.uci.edu/ml/datasets/iris)). Le code ci-dessous vous permet de visualiser la classe de chaque fleur en fonction de ces propriétés (longueur des pétales, longueur des sépales, largeurs des sépales, largeurs des pétales).\n"
   ]
  },
  {
   "cell_type": "markdown",
   "metadata": {
    "id": "WwV6qhA0YuY3"
   },
   "source": []
  },
  {
   "cell_type": "code",
   "execution_count": 63,
   "metadata": {
    "colab": {
     "base_uri": "https://localhost:8080/",
     "height": 1000
    },
    "id": "tJ5469Zs0mkv",
    "outputId": "0c929a99-ef47-4b0c-d4f7-0bbcee8c4d6d"
   },
   "outputs": [
    {
     "data": {
      "image/png": "[encoded data removed]",
      "text/plain": [
       "<Figure size 504x720 with 2 Axes>"
      ]
     },
     "metadata": {},
     "output_type": "display_data"
    }
   ],
   "source": [
    "import numpy as np\n",
    "import matplotlib.pyplot as plt\n",
    "plt.style.use('ggplot')\n",
    "\n",
    "from sklearn.datasets import load_iris\n",
    "\n",
    "iris = load_iris()\n",
    "X = iris['data']\n",
    "#print(X)\n",
    "y = iris['target']\n",
    "names = iris['target_names']\n",
    "feature_names = iris['feature_names']\n",
    "\n",
    "# Visualize the data sets\n",
    "plt.figure(figsize=(7, 10))\n",
    "\n",
    "plt.subplot(211)\n",
    "for target, target_name in enumerate(names):\n",
    "    X_plot = X[y == target]\n",
    "    plt.plot(X_plot[:, 0], X_plot[:, 1], linestyle='none', marker='o', label=target_name)\n",
    "plt.xlabel(feature_names[0])\n",
    "plt.ylabel(feature_names[1])\n",
    "plt.axis('equal')\n",
    "plt.legend();\n",
    "\n",
    "plt.subplot(212)\n",
    "for target, target_name in enumerate(names):\n",
    "    X_plot = X[y == target]\n",
    "    plt.plot(X_plot[:, 2], X_plot[:, 3], linestyle='none', marker='o', label=target_name)\n",
    "plt.xlabel(feature_names[2])\n",
    "plt.ylabel(feature_names[3])\n",
    "plt.axis('equal')\n",
    "plt.legend();"
   ]
  },
  {
   "cell_type": "markdown",
   "metadata": {
    "id": "kgvyBzR6WZ1i"
   },
   "source": [
    "# Première Régression Logistique\n",
    "\n",
    "Nous allons maintenant entrer dans le vif du sujet en essayant de faire une régression logistique sur cette base de donnée 'iris`. La regression logistique (appelée parfois Logit Regression) permet de classer des données ou plutôt de fournir une probabilité d'appartenance d'une donnée à une classe (si la probabilité est supérieure à 0.5 on l'affecte à une classe et si elle est inférieure à 0.5, on ne l'affecte pas à cette classe).\n",
    "\n",
    "Cette probabilité est $$\\widehat p = h_\\Theta(x) = \\sigma(\\Theta^T . x) $$ où $\\Theta$ est le vecteur des poids à calculer et sigma est la fonction logistique : $$\\sigma(t)= {1 \\over (1 + exp(-t))}$$\n",
    "\n",
    "De façon plus explicite, on calcul une fonction linéaire $\\theta_1*x_1 + \\theta_2*x_2 + ...\\theta_n*x_n$ que l'on fait passer dans une fonction sigmoïde $\\sigma()$ (qui permet de renvoyer une valeur comprise entre 0 et 1) qui est alors la probabilité d'appartenance de la donnée d'entrée à la classe concernée.\n",
    "\n",
    "Il n'y a pas de solution analytique à la recherche du vecteur des poids $\\Theta$ et comme expliqué ci-dessous, si il y en avait une, le nombre de données la rendrait sans doute inapplicable du point de vu de la mémoire utilisée. Par contre, la fonction de cout ([log loss](https://towardsdatascience.com/understanding-binary-cross-entropy-log-loss-a-visual-explanation-a3ac6025181a)), qui est la moyenne des couts sur un ensemble de données d'apprentissage, est convexe (Il n'y a pas de minimums locaux) et donc on peut calculer les poids avec une simple descente de gradient et être sûr que l'on obtient un apprentissage optimal. Pour cela, `Scikit-learn` fournit une classe `LogisticRegression` qui possède une méthode `fit()` calculant les poids $\\Theta $ par descente de gradient. Ceci permettant donc de fournir une probabilité d'appartenance à une classe (en prenant les `features` d'un exemple en entrée). Le code ci-dessous illustre ce processus.\n",
    "Sur la figure finale sont représentées :\n",
    "* en bleu, l'appartenance ou non à la classe *iris virginica* de chaque exemple en fonction de la largeur des pétales.\n",
    "* en vert la sortie de la fonction sigmoïde ($\\sigma()$, donc la probabilité d'appartenir à la classe *iris virginica*) en fonction d'une valeur de largeur de pétales.\n",
    "* en rouge, le complément : la probabilité de ne pas appartenir à cette classe."
   ]
  },
  {
   "cell_type": "code",
   "execution_count": 82,
   "metadata": {
    "colab": {
     "base_uri": "https://localhost:8080/",
     "height": 300
    },
    "id": "c-lj1SORY2JD",
    "outputId": "a842d1fc-31a6-4a78-9351-22894454fb93"
   },
   "outputs": [
    {
     "name": "stdout",
     "output_type": "stream",
     "text": [
      "Largeur 0\n",
      "[0.2]\n",
      "Largeur_new 0\n",
      "[0.]\n",
      "Typeproba 0\n",
      "[9.99250016e-01 7.49984089e-04]\n"
     ]
    },
    {
     "data": {
      "image/png": "[encoded data removed]",
      "text/plain": [
       "<Figure size 432x288 with 1 Axes>"
      ]
     },
     "metadata": {},
     "output_type": "display_data"
    },
    {
     "name": "stdout",
     "output_type": "stream",
     "text": [
      "Accuracy: 0.960000\n"
     ]
    }
   ],
   "source": [
    "from sklearn import datasets,  metrics\n",
    "from sklearn.linear_model import LogisticRegression\n",
    "import numpy as np\n",
    "import matplotlib.pyplot as plt\n",
    "iris = datasets.load_iris()\n",
    "#print(list(iris.keys()))\n",
    "# ['target_names', 'data', 'DESCR', 'target', 'feature_names']\n",
    "# Chaque fleur possède 4 features (de 0 à 3), la 3 étant la largeur les pétales\n",
    "Largeur = iris[\"data\"][:, 3:]\n",
    "print(\"Largeur 0\")\n",
    "print(Largeur[0])\n",
    "\n",
    "# La \"target\" étant un type de fleur compris entre 0 et 2\n",
    "Type = (iris[\"target\"] == 2).astype(np.int) # On créé une liste qui contient 1 lorsque la fleur est de type 2 et 0 sinon pour faire une classification\n",
    "log_reg = LogisticRegression() # On créé un modèle de régression logistique (qui définit ce qu'est la fonction cout et qui sait calculer la régression)\n",
    "log_reg.fit(Largeur,Type)\n",
    "\n",
    "# On va créer une représentation de ce que rend le modèle (Type en fonction de largeur)\n",
    "Largeur_new = np.linspace(0,3,100).reshape(-1,1) # linspace renvoie 100 valeurs permettant d'aller de 0 à 3, reshape() les repositionne dans un tableau à 1 colonne pour pouvoir les envoyer à \"predict_proba\"\n",
    "print(\"Largeur_new 0\")\n",
    "print(Largeur_new[0])\n",
    "\n",
    "Type_proba = log_reg.predict_proba(Largeur_new) # predict proba renvoie un tableau de 2 colonnes : proba classe False / proba classe True\n",
    "print(\"Typeproba 0\")\n",
    "print(Type_proba[0])\n",
    "\n",
    "plt.plot(Largeur_new, Type_proba[:,1], \"g-\", label = \"Iris-Virginica\") #en vert ligne continue\n",
    "plt.xlabel(\"largeur pétale\")\n",
    "plt.ylabel(\"Probabilité d'être une Iris Virginica\")\n",
    "plt.plot(Largeur_new, Type_proba[:,0], \"r--\", label = \"Pas une Iris-Virginica\") #en rouge ligne pointillés\n",
    "plt.plot(Largeur,Type, \"bo\") # Dessine les données initiales avec un rond bleu\n",
    "plt.show()\n",
    "# Le code suivant recalcul les valeurs que donne le modèle à partir des données d'entrée pour calculer l'accuracy (la précision)\n",
    "Type_proba = log_reg.predict_proba(Largeur) \n",
    "prediction = (Type_proba[:, 1:]>0.5).astype(np.int)\n",
    "#print(\"Type Proba : \", Type_proba)\n",
    "#print(\"Prediction : \", prediction)\n",
    "score = metrics.accuracy_score(Type, prediction)\n",
    "print (\"Accuracy: %f\" % score)"
   ]
  },
  {
   "cell_type": "markdown",
   "metadata": {
    "id": "aSi7W4YPZYYc"
   },
   "source": [
    "## Question 4 :\n",
    "\n",
    "Exécutez le code précédent. Calculez la MSE sur la base des exemples. Ajoutez une `feature` (longueur des pétales) aux données, refaite un apprentissage et comparez à nouveau la MSE. Faites la même chose en intégrant toutes les `features` (largeur et longueur des sépales)\n",
    "\n",
    "Conclusion ?"
   ]
  },
  {
   "cell_type": "code",
   "execution_count": 88,
   "metadata": {},
   "outputs": [
    {
     "name": "stdout",
     "output_type": "stream",
     "text": [
      "0.04\n"
     ]
    }
   ],
   "source": [
    "MSE = mean_squared_error(Type,prediction)\n",
    "print(MSE)"
   ]
  },
  {
   "cell_type": "code",
   "execution_count": 140,
   "metadata": {},
   "outputs": [
    {
     "name": "stdout",
     "output_type": "stream",
     "text": [
      "Features 0\n",
      "[0.2 1.4 0.2]\n",
      "Features_new 0\n",
      "[0.  1.5 3. ]\n",
      "Typeproba 0\n",
      "[9.99876609e-01 1.23390980e-04]\n"
     ]
    }
   ],
   "source": [
    "Longueur = iris[\"data\"][:, 2:]\n",
    "\n",
    "Features = np.concatenate((Largeur, Longueur), axis=1)\n",
    "\n",
    "print(\"Features 0\")\n",
    "print(Features[0])\n",
    "\n",
    "log_reg = LogisticRegression()\n",
    "\n",
    "log_reg.fit(Features,Type)\n",
    "\n",
    "Features_new = []\n",
    "\n",
    "for i in range(150) :\n",
    "    values = np.linspace(0, 3, num=3)\n",
    "    Features_new.append(values)\n",
    "\n",
    "print(\"Features_new 0\")\n",
    "print(Features_new[0])\n",
    "\n",
    "Type_proba = log_reg.predict_proba(Features_new) # predict proba renvoie un tableau de 2 colonnes : proba classe False / proba classe True\n",
    "print(\"Typeproba 0\")\n",
    "print(Type_proba[0])\n",
    "\n",
    "Type_proba = log_reg.predict_proba(Features_new) \n",
    "prediction = (Type_proba[:, 1:]>0.5).astype(np.int)"
   ]
  },
  {
   "cell_type": "code",
   "execution_count": 141,
   "metadata": {},
   "outputs": [
    {
     "name": "stdout",
     "output_type": "stream",
     "text": [
      "0.3333333333333333\n"
     ]
    }
   ],
   "source": [
    "MSE = mean_squared_error(Type,prediction)\n",
    "print(MSE)"
   ]
  },
  {
   "cell_type": "markdown",
   "metadata": {
    "id": "AyYxkZqYaXWV"
   },
   "source": [
    "# Keras :\n",
    "Lorsque nous utilisions `Tensor Flow 1.X`, nous avions une encapsulation de Tensor flow dans Scikit-learn appelée `Scikit-flow`. Cette libraire a été abandonnée au profit de `keras` lors du passage à `Tensor Flow 2.X` qui a l'avantage de pouvoir encapsuler non seulement `tensor flow` mais d'autres librairies de machine learning.\n",
    "\n",
    "C'est une façon simple et rapide d'utiliser `TensorFlow`. Ci-dessous, la classe `LinearClassifier` est tout simplement un classifier basé sur une fonction logistique (pour 2 classes) et softmax (pour plus de 2 classes). Elle réalise donc a peu près le même travail que la régression logistique précédente. Néanmoins, il y a des nuances à observer :\n",
    "* Keras (et tensor flow) étant spécifiquement dédiés à de l'apprentissage artificiel, un ensemble séparé de données d'entrainement et de tests est attendu\n",
    "* L'algorithme d'apprentissage peut être plus finement paramétré. Par défaut une descente de gradient consiste à calculer l'erreur cumulée sur toutes les données et à rétropropager celle-ci sur les différents paramètre du modèle. Ceci est très lent alors qu'en prenant des petits paquets de données et en calculant une erreur cumulée sur ces petits paquets, on peut remettre à jour les paramètres du modèle beaucoup plus osuvent. On utilise pour cela la notion  de *mini-batch* et d'*epoch*.  Une *epoch* correspond au nombre de fois que l'on fait passer l'ensemble des données dans l'algorithme. Un *mini-batch* est un paquet de données que l'on fait passer dans le modèle avant de mettre à jour les paramètres du modèle via la rétropropagation du gradient. Dans ce cas, il faut fixer la taille des *mini-batch*. Enfin, il existe différentes catégorie d'algorithmes (certains recalculant les mini-batch aléatoirement par exemple) qui font que plusieurs heures seraient nécessaires pour tous les énumérer. Pour les curieux, il est possible de consulter cette [page](https://ruder.io/optimizing-gradient-descent/index.html#gradientdescentvariants) . \n",
    "* Ici, on construit un modèle qui est un empilement de couches. Ici étant donné que l'on reproduit une régression logistique, il y a une seule couche *Dense* (toutes les entrées sont reliées à tous les neurosnes) qui contient un seul \"neurone\" avec une fonction de transfert *sigmoid*. \n"
   ]
  },
  {
   "cell_type": "code",
   "execution_count": 36,
   "metadata": {
    "colab": {
     "base_uri": "https://localhost:8080/"
    },
    "id": "NidNrpyhtYvm",
    "outputId": "a52d9873-b166-4b90-a6be-ce8cd077ec4b"
   },
   "outputs": [
    {
     "name": "stdout",
     "output_type": "stream",
     "text": [
      "Epoch 1/20\n",
      "15/15 [==============================] - 0s 8ms/step - loss: 0.6492 - binary_accuracy: 0.6667 - val_loss: 0.4431 - val_binary_accuracy: 0.8267\n",
      "Epoch 2/20\n",
      "15/15 [==============================] - 0s 2ms/step - loss: 0.4635 - binary_accuracy: 0.7733 - val_loss: 0.4264 - val_binary_accuracy: 0.9600\n",
      "Epoch 3/20\n",
      "15/15 [==============================] - 0s 2ms/step - loss: 0.4494 - binary_accuracy: 0.9333 - val_loss: 0.4187 - val_binary_accuracy: 0.9200\n",
      "Epoch 4/20\n",
      "15/15 [==============================] - 0s 2ms/step - loss: 0.4401 - binary_accuracy: 0.8667 - val_loss: 0.4112 - val_binary_accuracy: 0.9733\n",
      "Epoch 5/20\n",
      "15/15 [==============================] - 0s 2ms/step - loss: 0.4339 - binary_accuracy: 0.9467 - val_loss: 0.4031 - val_binary_accuracy: 0.9467\n",
      "Epoch 6/20\n",
      "15/15 [==============================] - 0s 2ms/step - loss: 0.4275 - binary_accuracy: 0.9067 - val_loss: 0.3955 - val_binary_accuracy: 0.9600\n",
      "Epoch 7/20\n",
      "15/15 [==============================] - 0s 4ms/step - loss: 0.4181 - binary_accuracy: 0.9467 - val_loss: 0.3892 - val_binary_accuracy: 0.9733\n",
      "Epoch 8/20\n",
      "15/15 [==============================] - 0s 2ms/step - loss: 0.4145 - binary_accuracy: 0.8933 - val_loss: 0.3829 - val_binary_accuracy: 0.9733\n",
      "Epoch 9/20\n",
      "15/15 [==============================] - 0s 3ms/step - loss: 0.4079 - binary_accuracy: 0.9333 - val_loss: 0.3776 - val_binary_accuracy: 0.9867\n",
      "Epoch 10/20\n",
      "15/15 [==============================] - 0s 3ms/step - loss: 0.4054 - binary_accuracy: 0.9600 - val_loss: 0.3723 - val_binary_accuracy: 0.9733\n",
      "Epoch 11/20\n",
      "15/15 [==============================] - 0s 3ms/step - loss: 0.4007 - binary_accuracy: 0.9333 - val_loss: 0.3706 - val_binary_accuracy: 0.9333\n",
      "Epoch 12/20\n",
      "15/15 [==============================] - 0s 3ms/step - loss: 0.3959 - binary_accuracy: 0.9200 - val_loss: 0.3645 - val_binary_accuracy: 0.9600\n",
      "Epoch 13/20\n",
      "15/15 [==============================] - 0s 3ms/step - loss: 0.3910 - binary_accuracy: 0.9333 - val_loss: 0.3582 - val_binary_accuracy: 0.9867\n",
      "Epoch 14/20\n",
      "15/15 [==============================] - 0s 3ms/step - loss: 0.3883 - binary_accuracy: 0.9200 - val_loss: 0.3623 - val_binary_accuracy: 0.8933\n",
      "Epoch 15/20\n",
      "15/15 [==============================] - 0s 2ms/step - loss: 0.3876 - binary_accuracy: 0.9067 - val_loss: 0.3507 - val_binary_accuracy: 0.9733\n",
      "Epoch 16/20\n",
      "15/15 [==============================] - 0s 2ms/step - loss: 0.3736 - binary_accuracy: 0.9467 - val_loss: 0.3545 - val_binary_accuracy: 0.9200\n",
      "Epoch 17/20\n",
      "15/15 [==============================] - 0s 2ms/step - loss: 0.3748 - binary_accuracy: 0.9333 - val_loss: 0.3428 - val_binary_accuracy: 0.9867\n",
      "Epoch 18/20\n",
      "15/15 [==============================] - 0s 2ms/step - loss: 0.3766 - binary_accuracy: 0.9467 - val_loss: 0.3395 - val_binary_accuracy: 0.9867\n",
      "Epoch 19/20\n",
      "15/15 [==============================] - 0s 3ms/step - loss: 0.3705 - binary_accuracy: 0.9467 - val_loss: 0.3381 - val_binary_accuracy: 0.9733\n",
      "Epoch 20/20\n",
      "15/15 [==============================] - 0s 5ms/step - loss: 0.3666 - binary_accuracy: 0.9333 - val_loss: 0.3329 - val_binary_accuracy: 0.9867\n",
      "Epoch 1/50\n",
      "15/15 [==============================] - 0s 8ms/step - loss: 0.7985 - binary_accuracy: 0.6667 - val_loss: 0.6691 - val_binary_accuracy: 0.6667\n",
      "Epoch 2/50\n",
      "15/15 [==============================] - 0s 2ms/step - loss: 0.6580 - binary_accuracy: 0.6533 - val_loss: 0.6245 - val_binary_accuracy: 0.7467\n",
      "Epoch 3/50\n",
      "15/15 [==============================] - 0s 2ms/step - loss: 0.6218 - binary_accuracy: 0.6933 - val_loss: 0.5903 - val_binary_accuracy: 0.7600\n",
      "Epoch 4/50\n",
      "15/15 [==============================] - 0s 2ms/step - loss: 0.5937 - binary_accuracy: 0.7733 - val_loss: 0.5622 - val_binary_accuracy: 0.8400\n",
      "Epoch 5/50\n",
      "15/15 [==============================] - 0s 2ms/step - loss: 0.5574 - binary_accuracy: 0.7600 - val_loss: 0.5425 - val_binary_accuracy: 0.8667\n",
      "Epoch 6/50\n",
      "15/15 [==============================] - 0s 2ms/step - loss: 0.5336 - binary_accuracy: 0.7867 - val_loss: 0.5241 - val_binary_accuracy: 0.7467\n",
      "Epoch 7/50\n",
      "15/15 [==============================] - 0s 2ms/step - loss: 0.5250 - binary_accuracy: 0.7467 - val_loss: 0.4967 - val_binary_accuracy: 0.8400\n",
      "Epoch 8/50\n",
      "15/15 [==============================] - 0s 2ms/step - loss: 0.5069 - binary_accuracy: 0.7867 - val_loss: 0.4789 - val_binary_accuracy: 0.8667\n",
      "Epoch 9/50\n",
      "15/15 [==============================] - 0s 2ms/step - loss: 0.4927 - binary_accuracy: 0.8667 - val_loss: 0.4638 - val_binary_accuracy: 0.8800\n",
      "Epoch 10/50\n",
      "15/15 [==============================] - 0s 2ms/step - loss: 0.4714 - binary_accuracy: 0.9067 - val_loss: 0.4524 - val_binary_accuracy: 0.8400\n",
      "Epoch 11/50\n",
      "15/15 [==============================] - 0s 2ms/step - loss: 0.4592 - binary_accuracy: 0.8667 - val_loss: 0.4430 - val_binary_accuracy: 0.8933\n",
      "Epoch 12/50\n",
      "15/15 [==============================] - 0s 2ms/step - loss: 0.4534 - binary_accuracy: 0.9200 - val_loss: 0.4280 - val_binary_accuracy: 0.8800\n",
      "Epoch 13/50\n",
      "15/15 [==============================] - 0s 2ms/step - loss: 0.4430 - binary_accuracy: 0.8400 - val_loss: 0.4183 - val_binary_accuracy: 0.8933\n",
      "Epoch 14/50\n",
      "15/15 [==============================] - 0s 2ms/step - loss: 0.4392 - binary_accuracy: 0.8933 - val_loss: 0.4098 - val_binary_accuracy: 0.8800\n",
      "Epoch 15/50\n",
      "15/15 [==============================] - 0s 2ms/step - loss: 0.4209 - binary_accuracy: 0.9333 - val_loss: 0.4041 - val_binary_accuracy: 0.8533\n",
      "Epoch 16/50\n",
      "15/15 [==============================] - 0s 2ms/step - loss: 0.4186 - binary_accuracy: 0.8933 - val_loss: 0.3951 - val_binary_accuracy: 0.8667\n",
      "Epoch 17/50\n",
      "15/15 [==============================] - 0s 2ms/step - loss: 0.4200 - binary_accuracy: 0.8800 - val_loss: 0.3857 - val_binary_accuracy: 0.9333\n",
      "Epoch 18/50\n",
      "15/15 [==============================] - 0s 2ms/step - loss: 0.4039 - binary_accuracy: 0.9200 - val_loss: 0.3804 - val_binary_accuracy: 0.9333\n",
      "Epoch 19/50\n",
      "15/15 [==============================] - 0s 2ms/step - loss: 0.3973 - binary_accuracy: 0.9467 - val_loss: 0.3758 - val_binary_accuracy: 0.9333\n",
      "Epoch 20/50\n",
      "15/15 [==============================] - 0s 2ms/step - loss: 0.3932 - binary_accuracy: 0.9333 - val_loss: 0.3688 - val_binary_accuracy: 0.9333\n",
      "Epoch 21/50\n",
      "15/15 [==============================] - 0s 2ms/step - loss: 0.3896 - binary_accuracy: 0.9600 - val_loss: 0.3624 - val_binary_accuracy: 0.9333\n",
      "Epoch 22/50\n",
      "15/15 [==============================] - 0s 2ms/step - loss: 0.3866 - binary_accuracy: 0.9467 - val_loss: 0.3579 - val_binary_accuracy: 0.9600\n",
      "Epoch 23/50\n",
      "15/15 [==============================] - 0s 2ms/step - loss: 0.3817 - binary_accuracy: 0.9600 - val_loss: 0.3529 - val_binary_accuracy: 0.9333\n",
      "Epoch 24/50\n",
      "15/15 [==============================] - 0s 2ms/step - loss: 0.3727 - binary_accuracy: 0.9467 - val_loss: 0.3496 - val_binary_accuracy: 0.9333\n",
      "Epoch 25/50\n",
      "15/15 [==============================] - 0s 2ms/step - loss: 0.3707 - binary_accuracy: 0.9600 - val_loss: 0.3449 - val_binary_accuracy: 0.9467\n",
      "Epoch 26/50\n",
      "15/15 [==============================] - 0s 2ms/step - loss: 0.3687 - binary_accuracy: 0.9333 - val_loss: 0.3434 - val_binary_accuracy: 0.9333\n",
      "Epoch 27/50\n",
      "15/15 [==============================] - 0s 2ms/step - loss: 0.3629 - binary_accuracy: 0.9467 - val_loss: 0.3390 - val_binary_accuracy: 0.9333\n",
      "Epoch 28/50\n",
      "15/15 [==============================] - 0s 2ms/step - loss: 0.3642 - binary_accuracy: 0.9067 - val_loss: 0.3340 - val_binary_accuracy: 0.9467\n",
      "Epoch 29/50\n",
      "15/15 [==============================] - 0s 2ms/step - loss: 0.3605 - binary_accuracy: 0.8800 - val_loss: 0.3340 - val_binary_accuracy: 0.9333\n",
      "Epoch 30/50\n",
      "15/15 [==============================] - 0s 2ms/step - loss: 0.3592 - binary_accuracy: 0.9067 - val_loss: 0.3270 - val_binary_accuracy: 0.9333\n",
      "Epoch 31/50\n",
      "15/15 [==============================] - 0s 2ms/step - loss: 0.3494 - binary_accuracy: 0.9600 - val_loss: 0.3234 - val_binary_accuracy: 0.9600\n",
      "Epoch 32/50\n",
      "15/15 [==============================] - 0s 2ms/step - loss: 0.3501 - binary_accuracy: 0.9333 - val_loss: 0.3212 - val_binary_accuracy: 0.9467\n",
      "Epoch 33/50\n",
      "15/15 [==============================] - 0s 2ms/step - loss: 0.3470 - binary_accuracy: 0.9600 - val_loss: 0.3176 - val_binary_accuracy: 0.9733\n"
     ]
    },
    {
     "name": "stdout",
     "output_type": "stream",
     "text": [
      "Epoch 34/50\n",
      "15/15 [==============================] - 0s 2ms/step - loss: 0.3471 - binary_accuracy: 0.9600 - val_loss: 0.3161 - val_binary_accuracy: 0.9467\n",
      "Epoch 35/50\n",
      "15/15 [==============================] - 0s 2ms/step - loss: 0.3399 - binary_accuracy: 0.9600 - val_loss: 0.3132 - val_binary_accuracy: 0.9600\n",
      "Epoch 36/50\n",
      "15/15 [==============================] - 0s 2ms/step - loss: 0.3370 - binary_accuracy: 0.9467 - val_loss: 0.3141 - val_binary_accuracy: 0.9467\n",
      "Epoch 37/50\n",
      "15/15 [==============================] - 0s 2ms/step - loss: 0.3370 - binary_accuracy: 0.9600 - val_loss: 0.3082 - val_binary_accuracy: 0.9733\n",
      "Epoch 38/50\n",
      "15/15 [==============================] - 0s 2ms/step - loss: 0.3300 - binary_accuracy: 0.9333 - val_loss: 0.3059 - val_binary_accuracy: 0.9600\n",
      "Epoch 39/50\n",
      "15/15 [==============================] - 0s 2ms/step - loss: 0.3295 - binary_accuracy: 0.9600 - val_loss: 0.3034 - val_binary_accuracy: 0.9600\n",
      "Epoch 40/50\n",
      "15/15 [==============================] - 0s 2ms/step - loss: 0.3319 - binary_accuracy: 0.9467 - val_loss: 0.3049 - val_binary_accuracy: 0.9467\n",
      "Epoch 41/50\n",
      "15/15 [==============================] - 0s 2ms/step - loss: 0.3321 - binary_accuracy: 0.9333 - val_loss: 0.2990 - val_binary_accuracy: 0.9600\n",
      "Epoch 42/50\n",
      "15/15 [==============================] - 0s 2ms/step - loss: 0.3216 - binary_accuracy: 0.9467 - val_loss: 0.3006 - val_binary_accuracy: 0.9467\n",
      "Epoch 43/50\n",
      "15/15 [==============================] - 0s 2ms/step - loss: 0.3285 - binary_accuracy: 0.9333 - val_loss: 0.2949 - val_binary_accuracy: 0.9600\n",
      "Epoch 44/50\n",
      "15/15 [==============================] - 0s 2ms/step - loss: 0.3244 - binary_accuracy: 0.9600 - val_loss: 0.2932 - val_binary_accuracy: 0.9600\n",
      "Epoch 45/50\n",
      "15/15 [==============================] - 0s 2ms/step - loss: 0.3232 - binary_accuracy: 0.9600 - val_loss: 0.2912 - val_binary_accuracy: 0.9600\n",
      "Epoch 46/50\n",
      "15/15 [==============================] - 0s 2ms/step - loss: 0.3228 - binary_accuracy: 0.9467 - val_loss: 0.2897 - val_binary_accuracy: 0.9600\n",
      "Epoch 47/50\n",
      "15/15 [==============================] - 0s 2ms/step - loss: 0.3156 - binary_accuracy: 0.9467 - val_loss: 0.2892 - val_binary_accuracy: 0.9733\n",
      "Epoch 48/50\n",
      "15/15 [==============================] - 0s 2ms/step - loss: 0.3171 - binary_accuracy: 0.9467 - val_loss: 0.2860 - val_binary_accuracy: 0.9600\n",
      "Epoch 49/50\n",
      "15/15 [==============================] - 0s 2ms/step - loss: 0.3110 - binary_accuracy: 0.9600 - val_loss: 0.2845 - val_binary_accuracy: 0.9600\n",
      "Epoch 50/50\n",
      "15/15 [==============================] - 0s 2ms/step - loss: 0.3113 - binary_accuracy: 0.9467 - val_loss: 0.2828 - val_binary_accuracy: 0.9600\n",
      "Epoch 1/100\n",
      "15/15 [==============================] - 0s 8ms/step - loss: 0.6046 - binary_accuracy: 0.7333 - val_loss: 0.5441 - val_binary_accuracy: 0.7200\n",
      "Epoch 2/100\n",
      "15/15 [==============================] - 0s 2ms/step - loss: 0.5515 - binary_accuracy: 0.7467 - val_loss: 0.5150 - val_binary_accuracy: 0.8000\n",
      "Epoch 3/100\n",
      "15/15 [==============================] - 0s 3ms/step - loss: 0.5272 - binary_accuracy: 0.8000 - val_loss: 0.4937 - val_binary_accuracy: 0.8133\n",
      "Epoch 4/100\n",
      "15/15 [==============================] - 0s 2ms/step - loss: 0.5114 - binary_accuracy: 0.7867 - val_loss: 0.4773 - val_binary_accuracy: 0.8267\n",
      "Epoch 5/100\n",
      "15/15 [==============================] - 0s 2ms/step - loss: 0.4948 - binary_accuracy: 0.7867 - val_loss: 0.4607 - val_binary_accuracy: 0.8400\n",
      "Epoch 6/100\n",
      "15/15 [==============================] - 0s 2ms/step - loss: 0.4737 - binary_accuracy: 0.8133 - val_loss: 0.4458 - val_binary_accuracy: 0.8133\n",
      "Epoch 7/100\n",
      "15/15 [==============================] - 0s 2ms/step - loss: 0.4741 - binary_accuracy: 0.8133 - val_loss: 0.4328 - val_binary_accuracy: 0.8400\n",
      "Epoch 8/100\n",
      "15/15 [==============================] - 0s 2ms/step - loss: 0.4528 - binary_accuracy: 0.7867 - val_loss: 0.4224 - val_binary_accuracy: 0.8800\n",
      "Epoch 9/100\n",
      "15/15 [==============================] - 0s 2ms/step - loss: 0.4496 - binary_accuracy: 0.8267 - val_loss: 0.4117 - val_binary_accuracy: 0.8400\n",
      "Epoch 10/100\n",
      "15/15 [==============================] - 0s 2ms/step - loss: 0.4329 - binary_accuracy: 0.8267 - val_loss: 0.4024 - val_binary_accuracy: 0.8800\n",
      "Epoch 11/100\n",
      "15/15 [==============================] - 0s 2ms/step - loss: 0.4255 - binary_accuracy: 0.8133 - val_loss: 0.3941 - val_binary_accuracy: 0.8533\n",
      "Epoch 12/100\n",
      "15/15 [==============================] - 0s 2ms/step - loss: 0.4170 - binary_accuracy: 0.8533 - val_loss: 0.3873 - val_binary_accuracy: 0.8533\n",
      "Epoch 13/100\n",
      "15/15 [==============================] - 0s 2ms/step - loss: 0.4143 - binary_accuracy: 0.8267 - val_loss: 0.3790 - val_binary_accuracy: 0.8933\n",
      "Epoch 14/100\n",
      "15/15 [==============================] - 0s 2ms/step - loss: 0.4107 - binary_accuracy: 0.8667 - val_loss: 0.3725 - val_binary_accuracy: 0.8667\n",
      "Epoch 15/100\n",
      "15/15 [==============================] - 0s 2ms/step - loss: 0.4057 - binary_accuracy: 0.9067 - val_loss: 0.3664 - val_binary_accuracy: 0.8933\n",
      "Epoch 16/100\n",
      "15/15 [==============================] - 0s 2ms/step - loss: 0.4003 - binary_accuracy: 0.8800 - val_loss: 0.3608 - val_binary_accuracy: 0.8933\n",
      "Epoch 17/100\n",
      "15/15 [==============================] - 0s 2ms/step - loss: 0.3909 - binary_accuracy: 0.8933 - val_loss: 0.3560 - val_binary_accuracy: 0.8933\n",
      "Epoch 18/100\n",
      "15/15 [==============================] - 0s 2ms/step - loss: 0.3810 - binary_accuracy: 0.8800 - val_loss: 0.3505 - val_binary_accuracy: 0.8933\n",
      "Epoch 19/100\n",
      "15/15 [==============================] - 0s 2ms/step - loss: 0.3807 - binary_accuracy: 0.8933 - val_loss: 0.3459 - val_binary_accuracy: 0.9200\n",
      "Epoch 20/100\n",
      "15/15 [==============================] - 0s 2ms/step - loss: 0.3798 - binary_accuracy: 0.8667 - val_loss: 0.3414 - val_binary_accuracy: 0.8933\n",
      "Epoch 21/100\n",
      "15/15 [==============================] - 0s 2ms/step - loss: 0.3689 - binary_accuracy: 0.8933 - val_loss: 0.3418 - val_binary_accuracy: 0.8667\n",
      "Epoch 22/100\n",
      "15/15 [==============================] - 0s 2ms/step - loss: 0.3675 - binary_accuracy: 0.9067 - val_loss: 0.3365 - val_binary_accuracy: 0.8933\n",
      "Epoch 23/100\n",
      "15/15 [==============================] - 0s 2ms/step - loss: 0.3637 - binary_accuracy: 0.9200 - val_loss: 0.3332 - val_binary_accuracy: 0.8933\n",
      "Epoch 24/100\n",
      "15/15 [==============================] - 0s 2ms/step - loss: 0.3553 - binary_accuracy: 0.9200 - val_loss: 0.3271 - val_binary_accuracy: 0.9200\n",
      "Epoch 25/100\n",
      "15/15 [==============================] - 0s 2ms/step - loss: 0.3613 - binary_accuracy: 0.9333 - val_loss: 0.3235 - val_binary_accuracy: 0.9200\n",
      "Epoch 26/100\n",
      "15/15 [==============================] - 0s 2ms/step - loss: 0.3537 - binary_accuracy: 0.9333 - val_loss: 0.3208 - val_binary_accuracy: 0.9200\n",
      "Epoch 27/100\n",
      "15/15 [==============================] - 0s 2ms/step - loss: 0.3554 - binary_accuracy: 0.9067 - val_loss: 0.3173 - val_binary_accuracy: 0.9200\n",
      "Epoch 28/100\n",
      "15/15 [==============================] - 0s 2ms/step - loss: 0.3497 - binary_accuracy: 0.9333 - val_loss: 0.3145 - val_binary_accuracy: 0.9333\n",
      "Epoch 29/100\n",
      "15/15 [==============================] - 0s 2ms/step - loss: 0.3428 - binary_accuracy: 0.9200 - val_loss: 0.3117 - val_binary_accuracy: 0.9333\n",
      "Epoch 30/100\n",
      "15/15 [==============================] - 0s 2ms/step - loss: 0.3444 - binary_accuracy: 0.9067 - val_loss: 0.3110 - val_binary_accuracy: 0.9067\n",
      "Epoch 31/100\n",
      "15/15 [==============================] - 0s 2ms/step - loss: 0.3354 - binary_accuracy: 0.9333 - val_loss: 0.3068 - val_binary_accuracy: 0.9333\n",
      "Epoch 32/100\n",
      "15/15 [==============================] - 0s 2ms/step - loss: 0.3389 - binary_accuracy: 0.9467 - val_loss: 0.3043 - val_binary_accuracy: 0.9333\n",
      "Epoch 33/100\n",
      "15/15 [==============================] - 0s 2ms/step - loss: 0.3342 - binary_accuracy: 0.9200 - val_loss: 0.3021 - val_binary_accuracy: 0.9467\n",
      "Epoch 34/100\n",
      "15/15 [==============================] - 0s 2ms/step - loss: 0.3321 - binary_accuracy: 0.9333 - val_loss: 0.3012 - val_binary_accuracy: 0.9333\n",
      "Epoch 35/100\n",
      "15/15 [==============================] - 0s 2ms/step - loss: 0.3282 - binary_accuracy: 0.9333 - val_loss: 0.2981 - val_binary_accuracy: 0.9333\n",
      "Epoch 36/100\n",
      "15/15 [==============================] - 0s 2ms/step - loss: 0.3249 - binary_accuracy: 0.9200 - val_loss: 0.2987 - val_binary_accuracy: 0.9067\n"
     ]
    },
    {
     "name": "stdout",
     "output_type": "stream",
     "text": [
      "Epoch 37/100\n",
      "15/15 [==============================] - 0s 2ms/step - loss: 0.3260 - binary_accuracy: 0.9200 - val_loss: 0.2936 - val_binary_accuracy: 0.9467\n",
      "Epoch 38/100\n",
      "15/15 [==============================] - 0s 2ms/step - loss: 0.3218 - binary_accuracy: 0.9200 - val_loss: 0.2956 - val_binary_accuracy: 0.9067\n",
      "Epoch 39/100\n",
      "15/15 [==============================] - 0s 2ms/step - loss: 0.3216 - binary_accuracy: 0.9333 - val_loss: 0.2935 - val_binary_accuracy: 0.9067\n",
      "Epoch 40/100\n",
      "15/15 [==============================] - 0s 2ms/step - loss: 0.3251 - binary_accuracy: 0.9200 - val_loss: 0.2891 - val_binary_accuracy: 0.9333\n",
      "Epoch 41/100\n",
      "15/15 [==============================] - 0s 2ms/step - loss: 0.3189 - binary_accuracy: 0.9467 - val_loss: 0.2884 - val_binary_accuracy: 0.9333\n",
      "Epoch 42/100\n",
      "15/15 [==============================] - 0s 2ms/step - loss: 0.3187 - binary_accuracy: 0.9200 - val_loss: 0.2845 - val_binary_accuracy: 0.9600\n",
      "Epoch 43/100\n",
      "15/15 [==============================] - 0s 2ms/step - loss: 0.3149 - binary_accuracy: 0.9600 - val_loss: 0.2828 - val_binary_accuracy: 0.9600\n",
      "Epoch 44/100\n",
      "15/15 [==============================] - 0s 2ms/step - loss: 0.3149 - binary_accuracy: 0.9200 - val_loss: 0.2818 - val_binary_accuracy: 0.9600\n",
      "Epoch 45/100\n",
      "15/15 [==============================] - 0s 2ms/step - loss: 0.3087 - binary_accuracy: 0.9067 - val_loss: 0.2806 - val_binary_accuracy: 0.9467\n",
      "Epoch 46/100\n",
      "15/15 [==============================] - 0s 2ms/step - loss: 0.3104 - binary_accuracy: 0.9467 - val_loss: 0.2780 - val_binary_accuracy: 0.9333\n",
      "Epoch 47/100\n",
      "15/15 [==============================] - 0s 2ms/step - loss: 0.3079 - binary_accuracy: 0.9600 - val_loss: 0.2779 - val_binary_accuracy: 0.9600\n",
      "Epoch 48/100\n",
      "15/15 [==============================] - 0s 2ms/step - loss: 0.3090 - binary_accuracy: 0.9600 - val_loss: 0.2762 - val_binary_accuracy: 0.9733\n",
      "Epoch 49/100\n",
      "15/15 [==============================] - 0s 2ms/step - loss: 0.3081 - binary_accuracy: 0.9333 - val_loss: 0.2742 - val_binary_accuracy: 0.9600\n",
      "Epoch 50/100\n",
      "15/15 [==============================] - 0s 2ms/step - loss: 0.3054 - binary_accuracy: 0.9467 - val_loss: 0.2729 - val_binary_accuracy: 0.9600\n",
      "Epoch 51/100\n",
      "15/15 [==============================] - 0s 2ms/step - loss: 0.3041 - binary_accuracy: 0.9467 - val_loss: 0.2721 - val_binary_accuracy: 0.9733\n",
      "Epoch 52/100\n",
      "15/15 [==============================] - 0s 2ms/step - loss: 0.2987 - binary_accuracy: 0.9600 - val_loss: 0.2717 - val_binary_accuracy: 0.9600\n",
      "Epoch 53/100\n",
      "15/15 [==============================] - 0s 2ms/step - loss: 0.2996 - binary_accuracy: 0.9467 - val_loss: 0.2697 - val_binary_accuracy: 0.9733\n",
      "Epoch 54/100\n",
      "15/15 [==============================] - 0s 2ms/step - loss: 0.2951 - binary_accuracy: 0.9467 - val_loss: 0.2678 - val_binary_accuracy: 0.9467\n",
      "Epoch 55/100\n",
      "15/15 [==============================] - 0s 2ms/step - loss: 0.2963 - binary_accuracy: 0.9333 - val_loss: 0.2682 - val_binary_accuracy: 0.9600\n",
      "Epoch 56/100\n",
      "15/15 [==============================] - 0s 2ms/step - loss: 0.2997 - binary_accuracy: 0.9600 - val_loss: 0.2672 - val_binary_accuracy: 0.9600\n",
      "Epoch 57/100\n",
      "15/15 [==============================] - 0s 2ms/step - loss: 0.2962 - binary_accuracy: 0.9600 - val_loss: 0.2638 - val_binary_accuracy: 0.9733\n",
      "Epoch 58/100\n",
      "15/15 [==============================] - 0s 2ms/step - loss: 0.2985 - binary_accuracy: 0.9467 - val_loss: 0.2621 - val_binary_accuracy: 0.9600\n",
      "Epoch 59/100\n",
      "15/15 [==============================] - 0s 2ms/step - loss: 0.2935 - binary_accuracy: 0.9467 - val_loss: 0.2612 - val_binary_accuracy: 0.9600\n",
      "Epoch 60/100\n",
      "15/15 [==============================] - 0s 2ms/step - loss: 0.2937 - binary_accuracy: 0.9467 - val_loss: 0.2602 - val_binary_accuracy: 0.9733\n",
      "Epoch 61/100\n",
      "15/15 [==============================] - 0s 2ms/step - loss: 0.2924 - binary_accuracy: 0.9600 - val_loss: 0.2589 - val_binary_accuracy: 0.9600\n",
      "Epoch 62/100\n",
      "15/15 [==============================] - 0s 2ms/step - loss: 0.2952 - binary_accuracy: 0.9333 - val_loss: 0.2578 - val_binary_accuracy: 0.9733\n",
      "Epoch 63/100\n",
      "15/15 [==============================] - 0s 2ms/step - loss: 0.2890 - binary_accuracy: 0.9600 - val_loss: 0.2567 - val_binary_accuracy: 0.9733\n",
      "Epoch 64/100\n",
      "15/15 [==============================] - 0s 2ms/step - loss: 0.2862 - binary_accuracy: 0.9600 - val_loss: 0.2589 - val_binary_accuracy: 0.9467\n",
      "Epoch 65/100\n",
      "15/15 [==============================] - 0s 2ms/step - loss: 0.2874 - binary_accuracy: 0.9600 - val_loss: 0.2557 - val_binary_accuracy: 0.9733\n",
      "Epoch 66/100\n",
      "15/15 [==============================] - 0s 2ms/step - loss: 0.2845 - binary_accuracy: 0.9333 - val_loss: 0.2533 - val_binary_accuracy: 0.9600\n",
      "Epoch 67/100\n",
      "15/15 [==============================] - 0s 2ms/step - loss: 0.2850 - binary_accuracy: 0.9600 - val_loss: 0.2526 - val_binary_accuracy: 0.9733\n",
      "Epoch 68/100\n",
      "15/15 [==============================] - 0s 2ms/step - loss: 0.2848 - binary_accuracy: 0.9600 - val_loss: 0.2519 - val_binary_accuracy: 0.9733\n",
      "Epoch 69/100\n",
      "15/15 [==============================] - 0s 2ms/step - loss: 0.2828 - binary_accuracy: 0.9600 - val_loss: 0.2513 - val_binary_accuracy: 0.9733\n",
      "Epoch 70/100\n",
      "15/15 [==============================] - 0s 2ms/step - loss: 0.2808 - binary_accuracy: 0.9600 - val_loss: 0.2500 - val_binary_accuracy: 0.9733\n",
      "Epoch 71/100\n",
      "15/15 [==============================] - 0s 2ms/step - loss: 0.2837 - binary_accuracy: 0.9600 - val_loss: 0.2487 - val_binary_accuracy: 0.9733\n",
      "Epoch 72/100\n",
      "15/15 [==============================] - 0s 2ms/step - loss: 0.2774 - binary_accuracy: 0.9467 - val_loss: 0.2506 - val_binary_accuracy: 0.9600\n",
      "Epoch 73/100\n",
      "15/15 [==============================] - 0s 2ms/step - loss: 0.2778 - binary_accuracy: 0.9600 - val_loss: 0.2520 - val_binary_accuracy: 0.9333\n",
      "Epoch 74/100\n",
      "15/15 [==============================] - 0s 2ms/step - loss: 0.2774 - binary_accuracy: 0.9467 - val_loss: 0.2468 - val_binary_accuracy: 0.9733\n",
      "Epoch 75/100\n",
      "15/15 [==============================] - 0s 2ms/step - loss: 0.2800 - binary_accuracy: 0.9600 - val_loss: 0.2449 - val_binary_accuracy: 0.9733\n",
      "Epoch 76/100\n",
      "15/15 [==============================] - 0s 2ms/step - loss: 0.2785 - binary_accuracy: 0.9467 - val_loss: 0.2458 - val_binary_accuracy: 0.9733\n",
      "Epoch 77/100\n",
      "15/15 [==============================] - 0s 2ms/step - loss: 0.2743 - binary_accuracy: 0.9467 - val_loss: 0.2430 - val_binary_accuracy: 0.9733\n",
      "Epoch 78/100\n",
      "15/15 [==============================] - 0s 2ms/step - loss: 0.2741 - binary_accuracy: 0.9600 - val_loss: 0.2431 - val_binary_accuracy: 0.9733\n",
      "Epoch 79/100\n",
      "15/15 [==============================] - 0s 2ms/step - loss: 0.2709 - binary_accuracy: 0.9467 - val_loss: 0.2413 - val_binary_accuracy: 0.9733\n",
      "Epoch 80/100\n",
      "15/15 [==============================] - 0s 2ms/step - loss: 0.2738 - binary_accuracy: 0.9600 - val_loss: 0.2425 - val_binary_accuracy: 0.9733\n",
      "Epoch 81/100\n",
      "15/15 [==============================] - 0s 2ms/step - loss: 0.2703 - binary_accuracy: 0.9600 - val_loss: 0.2412 - val_binary_accuracy: 0.9733\n",
      "Epoch 82/100\n",
      "15/15 [==============================] - 0s 2ms/step - loss: 0.2730 - binary_accuracy: 0.9600 - val_loss: 0.2428 - val_binary_accuracy: 0.9467\n",
      "Epoch 83/100\n",
      "15/15 [==============================] - 0s 2ms/step - loss: 0.2729 - binary_accuracy: 0.9467 - val_loss: 0.2381 - val_binary_accuracy: 0.9733\n",
      "Epoch 84/100\n",
      "15/15 [==============================] - 0s 2ms/step - loss: 0.2698 - binary_accuracy: 0.9600 - val_loss: 0.2374 - val_binary_accuracy: 0.9733\n",
      "Epoch 85/100\n",
      "15/15 [==============================] - 0s 2ms/step - loss: 0.2680 - binary_accuracy: 0.9600 - val_loss: 0.2374 - val_binary_accuracy: 0.9733\n",
      "Epoch 86/100\n",
      "15/15 [==============================] - 0s 2ms/step - loss: 0.2677 - binary_accuracy: 0.9467 - val_loss: 0.2414 - val_binary_accuracy: 0.9333\n",
      "Epoch 87/100\n",
      "15/15 [==============================] - 0s 2ms/step - loss: 0.2680 - binary_accuracy: 0.9467 - val_loss: 0.2391 - val_binary_accuracy: 0.9467\n",
      "Epoch 88/100\n",
      "15/15 [==============================] - 0s 2ms/step - loss: 0.2668 - binary_accuracy: 0.9467 - val_loss: 0.2382 - val_binary_accuracy: 0.9467\n",
      "Epoch 89/100\n"
     ]
    },
    {
     "name": "stdout",
     "output_type": "stream",
     "text": [
      "15/15 [==============================] - 0s 2ms/step - loss: 0.2668 - binary_accuracy: 0.9467 - val_loss: 0.2346 - val_binary_accuracy: 0.9733\n",
      "Epoch 90/100\n",
      "15/15 [==============================] - 0s 2ms/step - loss: 0.2654 - binary_accuracy: 0.9467 - val_loss: 0.2336 - val_binary_accuracy: 0.9733\n",
      "Epoch 91/100\n",
      "15/15 [==============================] - 0s 2ms/step - loss: 0.2632 - binary_accuracy: 0.9600 - val_loss: 0.2322 - val_binary_accuracy: 0.9733\n",
      "Epoch 92/100\n",
      "15/15 [==============================] - 0s 2ms/step - loss: 0.2607 - binary_accuracy: 0.9733 - val_loss: 0.2319 - val_binary_accuracy: 0.9600\n",
      "Epoch 93/100\n",
      "15/15 [==============================] - 0s 2ms/step - loss: 0.2659 - binary_accuracy: 0.9600 - val_loss: 0.2306 - val_binary_accuracy: 0.9733\n",
      "Epoch 94/100\n",
      "15/15 [==============================] - 0s 2ms/step - loss: 0.2630 - binary_accuracy: 0.9467 - val_loss: 0.2304 - val_binary_accuracy: 0.9733\n",
      "Epoch 95/100\n",
      "15/15 [==============================] - 0s 2ms/step - loss: 0.2611 - binary_accuracy: 0.9600 - val_loss: 0.2312 - val_binary_accuracy: 0.9733\n",
      "Epoch 96/100\n",
      "15/15 [==============================] - 0s 2ms/step - loss: 0.2611 - binary_accuracy: 0.9600 - val_loss: 0.2287 - val_binary_accuracy: 0.9733\n",
      "Epoch 97/100\n",
      "15/15 [==============================] - 0s 2ms/step - loss: 0.2579 - binary_accuracy: 0.9467 - val_loss: 0.2277 - val_binary_accuracy: 0.9867\n",
      "Epoch 98/100\n",
      "15/15 [==============================] - 0s 2ms/step - loss: 0.2592 - binary_accuracy: 0.9467 - val_loss: 0.2285 - val_binary_accuracy: 0.9733\n",
      "Epoch 99/100\n",
      "15/15 [==============================] - 0s 2ms/step - loss: 0.2584 - binary_accuracy: 0.9467 - val_loss: 0.2273 - val_binary_accuracy: 0.9733\n",
      "Epoch 100/100\n",
      "15/15 [==============================] - 0s 2ms/step - loss: 0.2569 - binary_accuracy: 0.9600 - val_loss: 0.2281 - val_binary_accuracy: 0.9733\n"
     ]
    }
   ],
   "source": [
    "import numpy as np\n",
    "import pandas as pd\n",
    "import matplotlib.pyplot as plt\n",
    "from tensorflow import keras\n",
    "from keras.layers import Dense\n",
    "from keras.models import Sequential\n",
    "from sklearn.datasets import load_iris\n",
    "from sklearn.model_selection import train_test_split\n",
    "\n",
    "# Préparation des données :\n",
    "\n",
    "iris = load_iris()\n",
    "X = iris['data']\n",
    "Y = (iris[\"target\"] == 2).astype(np.int) # On créé une liste qui contient 1 lorsque la fleur est de type 2 et 0 sinon pour faire une classification\n",
    "X_train, X_test, Y_train, Y_test = train_test_split(X, Y, test_size=0.5, random_state=2)\n",
    "n_features = 4\n",
    "model = keras.Sequential()\n",
    "model.add(keras.layers.Dense(1, input_shape=(n_features,), activation='sigmoid'))\n",
    "model.compile(optimizer='sgd', loss='binary_crossentropy', metrics=['binary_accuracy'])\n",
    "\n",
    "\n",
    "history_logistic_regression_20 = model.fit(X_train, Y_train,\n",
    "                                 batch_size=5,\n",
    "                                 epochs=20,\n",
    "                                 verbose=1,\n",
    "                                 validation_data=(X_test, Y_test)\n",
    "                        )\n",
    "\n",
    "model = keras.Sequential()\n",
    "model.add(keras.layers.Dense(1, input_shape=(n_features,), activation='sigmoid'))\n",
    "model.compile(optimizer='sgd', loss='binary_crossentropy', metrics=['binary_accuracy'])\n",
    "\n",
    "history_logistic_regression_50 = model.fit(X_train, Y_train,\n",
    "                                 batch_size=5,\n",
    "                                 epochs=50,\n",
    "                                 verbose=1,\n",
    "                                 validation_data=(X_test, Y_test)\n",
    "                        )\n",
    "\n",
    "model = keras.Sequential()\n",
    "model.add(keras.layers.Dense(1, input_shape=(n_features,), activation='sigmoid'))\n",
    "model.compile(optimizer='sgd', loss='binary_crossentropy', metrics=['binary_accuracy'])\n",
    "\n",
    "history_logistic_regression_100 = model.fit(X_train, Y_train,\n",
    "                                 batch_size=5,\n",
    "                                 epochs=100,\n",
    "                                 verbose=1,\n",
    "                                 validation_data=(X_test, Y_test)\n",
    "                        )"
   ]
  },
  {
   "cell_type": "code",
   "execution_count": 37,
   "metadata": {},
   "outputs": [
    {
     "data": {
      "image/png": "[encoded data removed]",
      "text/plain": [
       "<Figure size 504x720 with 2 Axes>"
      ]
     },
     "metadata": {},
     "output_type": "display_data"
    }
   ],
   "source": [
    "fig = plt.figure(figsize=(7, 10))\n",
    "\n",
    "fig.patch.set_facecolor((1,1,1))\n",
    "\n",
    "plt.subplot(211)\n",
    "\n",
    "plt.plot(history_logistic_regression_20.history['binary_accuracy'], \"g-\")\n",
    "plt.plot(history_logistic_regression_50.history['binary_accuracy'], \"r-\")\n",
    "plt.plot(history_logistic_regression_100.history['binary_accuracy'], \"b-\")\n",
    "plt.title('model accuracy')\n",
    "plt.ylabel('accuracy')\n",
    "plt.xlabel('epoch')\n",
    "\n",
    "plt.subplot(212)\n",
    "\n",
    "plt.plot(history_logistic_regression_20.history['loss'], \"g-\")\n",
    "plt.plot(history_logistic_regression_50.history['loss'], \"r-\")\n",
    "plt.plot(history_logistic_regression_100.history['loss'], \"b-\")\n",
    "plt.title('model loss')\n",
    "plt.ylabel('loss')\n",
    "plt.xlabel('epoch')\n",
    "plt.show()"
   ]
  },
  {
   "cell_type": "markdown",
   "metadata": {
    "id": "6-RrmRB6msPu"
   },
   "source": [
    "`keras` (et `tensorflow`) sont destinés à faire des modèles profonds et à traiter des très gros ensembles de données. Il est alors très facile de prendre le code précédent et d'ajouter de couches et des neurones. Ci-dessous, je mets d'abord une couche dense de 10 neurones suivi de la couche d'un neurone permettant de définir la classe de l'entrée.\n"
   ]
  },
  {
   "cell_type": "code",
   "execution_count": 38,
   "metadata": {
    "colab": {
     "base_uri": "https://localhost:8080/"
    },
    "id": "OUpoj9lfnZEk",
    "outputId": "7a696bc0-e063-4112-a09c-95598dc2bfa4"
   },
   "outputs": [
    {
     "name": "stdout",
     "output_type": "stream",
     "text": [
      "Epoch 1/20\n",
      "15/15 [==============================] - 0s 9ms/step - loss: 0.6792 - binary_accuracy: 0.6667 - val_loss: 0.6796 - val_binary_accuracy: 0.6667\n",
      "Epoch 2/20\n",
      "15/15 [==============================] - 0s 3ms/step - loss: 0.6778 - binary_accuracy: 0.6667 - val_loss: 0.6769 - val_binary_accuracy: 0.6667\n",
      "Epoch 3/20\n",
      "15/15 [==============================] - 0s 2ms/step - loss: 0.6760 - binary_accuracy: 0.6667 - val_loss: 0.6745 - val_binary_accuracy: 0.6667\n",
      "Epoch 4/20\n",
      "15/15 [==============================] - 0s 3ms/step - loss: 0.6724 - binary_accuracy: 0.6667 - val_loss: 0.6723 - val_binary_accuracy: 0.6667\n",
      "Epoch 5/20\n",
      "15/15 [==============================] - 0s 3ms/step - loss: 0.6695 - binary_accuracy: 0.6667 - val_loss: 0.6702 - val_binary_accuracy: 0.6667\n",
      "Epoch 6/20\n",
      "15/15 [==============================] - 0s 3ms/step - loss: 0.6678 - binary_accuracy: 0.6667 - val_loss: 0.6683 - val_binary_accuracy: 0.6667\n",
      "Epoch 7/20\n",
      "15/15 [==============================] - 0s 3ms/step - loss: 0.6653 - binary_accuracy: 0.6667 - val_loss: 0.6665 - val_binary_accuracy: 0.6667\n",
      "Epoch 8/20\n",
      "15/15 [==============================] - 0s 3ms/step - loss: 0.6649 - binary_accuracy: 0.6667 - val_loss: 0.6648 - val_binary_accuracy: 0.6667\n",
      "Epoch 9/20\n",
      "15/15 [==============================] - 0s 3ms/step - loss: 0.6627 - binary_accuracy: 0.6667 - val_loss: 0.6632 - val_binary_accuracy: 0.6667\n",
      "Epoch 10/20\n",
      "15/15 [==============================] - 0s 2ms/step - loss: 0.6618 - binary_accuracy: 0.6667 - val_loss: 0.6617 - val_binary_accuracy: 0.6667\n",
      "Epoch 11/20\n",
      "15/15 [==============================] - 0s 2ms/step - loss: 0.6592 - binary_accuracy: 0.6667 - val_loss: 0.6603 - val_binary_accuracy: 0.6667\n",
      "Epoch 12/20\n",
      "15/15 [==============================] - 0s 2ms/step - loss: 0.6586 - binary_accuracy: 0.6667 - val_loss: 0.6589 - val_binary_accuracy: 0.6667\n",
      "Epoch 13/20\n",
      "15/15 [==============================] - 0s 2ms/step - loss: 0.6594 - binary_accuracy: 0.6667 - val_loss: 0.6576 - val_binary_accuracy: 0.6667\n",
      "Epoch 14/20\n",
      "15/15 [==============================] - 0s 2ms/step - loss: 0.6562 - binary_accuracy: 0.6667 - val_loss: 0.6563 - val_binary_accuracy: 0.6667\n",
      "Epoch 15/20\n",
      "15/15 [==============================] - 0s 2ms/step - loss: 0.6557 - binary_accuracy: 0.6667 - val_loss: 0.6551 - val_binary_accuracy: 0.6667\n",
      "Epoch 16/20\n",
      "15/15 [==============================] - 0s 2ms/step - loss: 0.6550 - binary_accuracy: 0.6667 - val_loss: 0.6540 - val_binary_accuracy: 0.6667\n",
      "Epoch 17/20\n",
      "15/15 [==============================] - 0s 2ms/step - loss: 0.6532 - binary_accuracy: 0.6667 - val_loss: 0.6529 - val_binary_accuracy: 0.6667\n",
      "Epoch 18/20\n",
      "15/15 [==============================] - 0s 2ms/step - loss: 0.6524 - binary_accuracy: 0.6667 - val_loss: 0.6518 - val_binary_accuracy: 0.6667\n",
      "Epoch 19/20\n",
      "15/15 [==============================] - 0s 3ms/step - loss: 0.6506 - binary_accuracy: 0.6667 - val_loss: 0.6508 - val_binary_accuracy: 0.6667\n",
      "Epoch 20/20\n",
      "15/15 [==============================] - 0s 4ms/step - loss: 0.6510 - binary_accuracy: 0.6667 - val_loss: 0.6498 - val_binary_accuracy: 0.6667\n",
      "Epoch 1/50\n",
      "15/15 [==============================] - 0s 9ms/step - loss: 0.7460 - binary_accuracy: 0.3333 - val_loss: 0.7136 - val_binary_accuracy: 0.3333\n",
      "Epoch 2/50\n",
      "15/15 [==============================] - 0s 3ms/step - loss: 0.6991 - binary_accuracy: 0.5200 - val_loss: 0.6805 - val_binary_accuracy: 0.6533\n",
      "Epoch 3/50\n",
      "15/15 [==============================] - 0s 3ms/step - loss: 0.6734 - binary_accuracy: 0.6667 - val_loss: 0.6615 - val_binary_accuracy: 0.6667\n",
      "Epoch 4/50\n",
      "15/15 [==============================] - 0s 2ms/step - loss: 0.6566 - binary_accuracy: 0.6667 - val_loss: 0.6484 - val_binary_accuracy: 0.6667\n",
      "Epoch 5/50\n",
      "15/15 [==============================] - 0s 2ms/step - loss: 0.6463 - binary_accuracy: 0.6667 - val_loss: 0.6397 - val_binary_accuracy: 0.6667\n",
      "Epoch 6/50\n",
      "15/15 [==============================] - 0s 2ms/step - loss: 0.6400 - binary_accuracy: 0.6667 - val_loss: 0.6331 - val_binary_accuracy: 0.6667\n",
      "Epoch 7/50\n",
      "15/15 [==============================] - 0s 2ms/step - loss: 0.6335 - binary_accuracy: 0.6667 - val_loss: 0.6280 - val_binary_accuracy: 0.6667\n",
      "Epoch 8/50\n",
      "15/15 [==============================] - 0s 2ms/step - loss: 0.6295 - binary_accuracy: 0.6667 - val_loss: 0.6233 - val_binary_accuracy: 0.6667\n",
      "Epoch 9/50\n",
      "15/15 [==============================] - 0s 3ms/step - loss: 0.6256 - binary_accuracy: 0.6667 - val_loss: 0.6194 - val_binary_accuracy: 0.6667\n",
      "Epoch 10/50\n",
      "15/15 [==============================] - 0s 3ms/step - loss: 0.6223 - binary_accuracy: 0.6667 - val_loss: 0.6159 - val_binary_accuracy: 0.6667\n",
      "Epoch 11/50\n",
      "15/15 [==============================] - 0s 2ms/step - loss: 0.6184 - binary_accuracy: 0.6667 - val_loss: 0.6125 - val_binary_accuracy: 0.6667\n",
      "Epoch 12/50\n",
      "15/15 [==============================] - 0s 2ms/step - loss: 0.6151 - binary_accuracy: 0.6667 - val_loss: 0.6091 - val_binary_accuracy: 0.6667\n",
      "Epoch 13/50\n",
      "15/15 [==============================] - 0s 2ms/step - loss: 0.6118 - binary_accuracy: 0.6667 - val_loss: 0.6058 - val_binary_accuracy: 0.6667\n",
      "Epoch 14/50\n",
      "15/15 [==============================] - 0s 2ms/step - loss: 0.6083 - binary_accuracy: 0.6667 - val_loss: 0.6025 - val_binary_accuracy: 0.6667\n",
      "Epoch 15/50\n",
      "15/15 [==============================] - 0s 2ms/step - loss: 0.6067 - binary_accuracy: 0.6667 - val_loss: 0.5993 - val_binary_accuracy: 0.6667\n",
      "Epoch 16/50\n",
      "15/15 [==============================] - 0s 2ms/step - loss: 0.6036 - binary_accuracy: 0.6667 - val_loss: 0.5960 - val_binary_accuracy: 0.6667\n",
      "Epoch 17/50\n",
      "15/15 [==============================] - 0s 3ms/step - loss: 0.5998 - binary_accuracy: 0.6667 - val_loss: 0.5928 - val_binary_accuracy: 0.6667\n",
      "Epoch 18/50\n",
      "15/15 [==============================] - 0s 2ms/step - loss: 0.5970 - binary_accuracy: 0.6667 - val_loss: 0.5896 - val_binary_accuracy: 0.6667\n",
      "Epoch 19/50\n",
      "15/15 [==============================] - 0s 2ms/step - loss: 0.5950 - binary_accuracy: 0.6667 - val_loss: 0.5864 - val_binary_accuracy: 0.6667\n",
      "Epoch 20/50\n",
      "15/15 [==============================] - 0s 2ms/step - loss: 0.5926 - binary_accuracy: 0.6667 - val_loss: 0.5832 - val_binary_accuracy: 0.6667\n",
      "Epoch 21/50\n",
      "15/15 [==============================] - 0s 2ms/step - loss: 0.5884 - binary_accuracy: 0.6667 - val_loss: 0.5801 - val_binary_accuracy: 0.6667\n",
      "Epoch 22/50\n",
      "15/15 [==============================] - 0s 2ms/step - loss: 0.5862 - binary_accuracy: 0.6667 - val_loss: 0.5771 - val_binary_accuracy: 0.6667\n",
      "Epoch 23/50\n",
      "15/15 [==============================] - 0s 2ms/step - loss: 0.5829 - binary_accuracy: 0.6667 - val_loss: 0.5741 - val_binary_accuracy: 0.6667\n",
      "Epoch 24/50\n",
      "15/15 [==============================] - 0s 2ms/step - loss: 0.5810 - binary_accuracy: 0.6667 - val_loss: 0.5712 - val_binary_accuracy: 0.6667\n",
      "Epoch 25/50\n",
      "15/15 [==============================] - 0s 2ms/step - loss: 0.5778 - binary_accuracy: 0.6667 - val_loss: 0.5683 - val_binary_accuracy: 0.6667\n",
      "Epoch 26/50\n",
      "15/15 [==============================] - 0s 2ms/step - loss: 0.5753 - binary_accuracy: 0.6667 - val_loss: 0.5655 - val_binary_accuracy: 0.6667\n",
      "Epoch 27/50\n",
      "15/15 [==============================] - 0s 2ms/step - loss: 0.5727 - binary_accuracy: 0.6667 - val_loss: 0.5628 - val_binary_accuracy: 0.6667\n",
      "Epoch 28/50\n",
      "15/15 [==============================] - 0s 2ms/step - loss: 0.5707 - binary_accuracy: 0.6667 - val_loss: 0.5601 - val_binary_accuracy: 0.6667\n",
      "Epoch 29/50\n",
      "15/15 [==============================] - 0s 2ms/step - loss: 0.5680 - binary_accuracy: 0.6667 - val_loss: 0.5574 - val_binary_accuracy: 0.6667\n",
      "Epoch 30/50\n",
      "15/15 [==============================] - 0s 2ms/step - loss: 0.5653 - binary_accuracy: 0.6667 - val_loss: 0.5549 - val_binary_accuracy: 0.6667\n",
      "Epoch 31/50\n",
      "15/15 [==============================] - 0s 2ms/step - loss: 0.5639 - binary_accuracy: 0.6667 - val_loss: 0.5524 - val_binary_accuracy: 0.6667\n",
      "Epoch 32/50\n",
      "15/15 [==============================] - 0s 2ms/step - loss: 0.5619 - binary_accuracy: 0.6667 - val_loss: 0.5499 - val_binary_accuracy: 0.6667\n",
      "Epoch 33/50\n",
      "15/15 [==============================] - 0s 2ms/step - loss: 0.5587 - binary_accuracy: 0.6667 - val_loss: 0.5475 - val_binary_accuracy: 0.6667\n"
     ]
    },
    {
     "name": "stdout",
     "output_type": "stream",
     "text": [
      "Epoch 34/50\n",
      "15/15 [==============================] - 0s 2ms/step - loss: 0.5578 - binary_accuracy: 0.6667 - val_loss: 0.5451 - val_binary_accuracy: 0.6667\n",
      "Epoch 35/50\n",
      "15/15 [==============================] - 0s 2ms/step - loss: 0.5557 - binary_accuracy: 0.6667 - val_loss: 0.5427 - val_binary_accuracy: 0.6667\n",
      "Epoch 36/50\n",
      "15/15 [==============================] - 0s 2ms/step - loss: 0.5530 - binary_accuracy: 0.6667 - val_loss: 0.5403 - val_binary_accuracy: 0.6667\n",
      "Epoch 37/50\n",
      "15/15 [==============================] - 0s 2ms/step - loss: 0.5510 - binary_accuracy: 0.6667 - val_loss: 0.5381 - val_binary_accuracy: 0.6667\n",
      "Epoch 38/50\n",
      "15/15 [==============================] - 0s 2ms/step - loss: 0.5485 - binary_accuracy: 0.6667 - val_loss: 0.5358 - val_binary_accuracy: 0.6667\n",
      "Epoch 39/50\n",
      "15/15 [==============================] - 0s 2ms/step - loss: 0.5466 - binary_accuracy: 0.6667 - val_loss: 0.5337 - val_binary_accuracy: 0.6667\n",
      "Epoch 40/50\n",
      "15/15 [==============================] - 0s 2ms/step - loss: 0.5441 - binary_accuracy: 0.6667 - val_loss: 0.5316 - val_binary_accuracy: 0.6667\n",
      "Epoch 41/50\n",
      "15/15 [==============================] - 0s 2ms/step - loss: 0.5418 - binary_accuracy: 0.6667 - val_loss: 0.5292 - val_binary_accuracy: 0.6667\n",
      "Epoch 42/50\n",
      "15/15 [==============================] - 0s 2ms/step - loss: 0.5413 - binary_accuracy: 0.6667 - val_loss: 0.5271 - val_binary_accuracy: 0.6667\n",
      "Epoch 43/50\n",
      "15/15 [==============================] - 0s 2ms/step - loss: 0.5390 - binary_accuracy: 0.6667 - val_loss: 0.5248 - val_binary_accuracy: 0.6667\n",
      "Epoch 44/50\n",
      "15/15 [==============================] - 0s 2ms/step - loss: 0.5367 - binary_accuracy: 0.6667 - val_loss: 0.5227 - val_binary_accuracy: 0.6667\n",
      "Epoch 45/50\n",
      "15/15 [==============================] - 0s 2ms/step - loss: 0.5347 - binary_accuracy: 0.6667 - val_loss: 0.5206 - val_binary_accuracy: 0.6667\n",
      "Epoch 46/50\n",
      "15/15 [==============================] - 0s 2ms/step - loss: 0.5330 - binary_accuracy: 0.6667 - val_loss: 0.5184 - val_binary_accuracy: 0.6667\n",
      "Epoch 47/50\n",
      "15/15 [==============================] - 0s 2ms/step - loss: 0.5313 - binary_accuracy: 0.6667 - val_loss: 0.5162 - val_binary_accuracy: 0.6667\n",
      "Epoch 48/50\n",
      "15/15 [==============================] - 0s 2ms/step - loss: 0.5300 - binary_accuracy: 0.6667 - val_loss: 0.5139 - val_binary_accuracy: 0.6667\n",
      "Epoch 49/50\n",
      "15/15 [==============================] - 0s 2ms/step - loss: 0.5267 - binary_accuracy: 0.6667 - val_loss: 0.5118 - val_binary_accuracy: 0.6667\n",
      "Epoch 50/50\n",
      "15/15 [==============================] - 0s 2ms/step - loss: 0.5252 - binary_accuracy: 0.6667 - val_loss: 0.5099 - val_binary_accuracy: 0.6667\n",
      "Epoch 1/100\n",
      "15/15 [==============================] - 0s 9ms/step - loss: 0.6398 - binary_accuracy: 0.6533 - val_loss: 0.6169 - val_binary_accuracy: 0.7200\n",
      "Epoch 2/100\n",
      "15/15 [==============================] - 0s 2ms/step - loss: 0.6193 - binary_accuracy: 0.7867 - val_loss: 0.5994 - val_binary_accuracy: 0.9733\n",
      "Epoch 3/100\n",
      "15/15 [==============================] - 0s 3ms/step - loss: 0.6031 - binary_accuracy: 0.8800 - val_loss: 0.5860 - val_binary_accuracy: 0.7600\n",
      "Epoch 4/100\n",
      "15/15 [==============================] - 0s 2ms/step - loss: 0.5924 - binary_accuracy: 0.6800 - val_loss: 0.5759 - val_binary_accuracy: 0.6667\n",
      "Epoch 5/100\n",
      "15/15 [==============================] - 0s 2ms/step - loss: 0.5832 - binary_accuracy: 0.6667 - val_loss: 0.5678 - val_binary_accuracy: 0.6667\n",
      "Epoch 6/100\n",
      "15/15 [==============================] - 0s 2ms/step - loss: 0.5752 - binary_accuracy: 0.6667 - val_loss: 0.5610 - val_binary_accuracy: 0.6667\n",
      "Epoch 7/100\n",
      "15/15 [==============================] - 0s 2ms/step - loss: 0.5694 - binary_accuracy: 0.6667 - val_loss: 0.5551 - val_binary_accuracy: 0.6667\n",
      "Epoch 8/100\n",
      "15/15 [==============================] - 0s 2ms/step - loss: 0.5646 - binary_accuracy: 0.6667 - val_loss: 0.5498 - val_binary_accuracy: 0.6667\n",
      "Epoch 9/100\n",
      "15/15 [==============================] - ETA: 0s - loss: 0.5468 - binary_accuracy: 0.600 - 0s 3ms/step - loss: 0.5583 - binary_accuracy: 0.6667 - val_loss: 0.5447 - val_binary_accuracy: 0.6667\n",
      "Epoch 10/100\n",
      "15/15 [==============================] - 0s 3ms/step - loss: 0.5547 - binary_accuracy: 0.6667 - val_loss: 0.5399 - val_binary_accuracy: 0.6667\n",
      "Epoch 11/100\n",
      "15/15 [==============================] - 0s 3ms/step - loss: 0.5500 - binary_accuracy: 0.6667 - val_loss: 0.5353 - val_binary_accuracy: 0.6667\n",
      "Epoch 12/100\n",
      "15/15 [==============================] - 0s 2ms/step - loss: 0.5458 - binary_accuracy: 0.6667 - val_loss: 0.5308 - val_binary_accuracy: 0.6667\n",
      "Epoch 13/100\n",
      "15/15 [==============================] - ETA: 0s - loss: 0.7815 - binary_accuracy: 0.200 - 0s 2ms/step - loss: 0.5429 - binary_accuracy: 0.6667 - val_loss: 0.5264 - val_binary_accuracy: 0.6667\n",
      "Epoch 14/100\n",
      "15/15 [==============================] - 0s 2ms/step - loss: 0.5375 - binary_accuracy: 0.6667 - val_loss: 0.5220 - val_binary_accuracy: 0.6667\n",
      "Epoch 15/100\n",
      "15/15 [==============================] - 0s 3ms/step - loss: 0.5343 - binary_accuracy: 0.6667 - val_loss: 0.5177 - val_binary_accuracy: 0.6667\n",
      "Epoch 16/100\n",
      "15/15 [==============================] - 0s 2ms/step - loss: 0.5302 - binary_accuracy: 0.6667 - val_loss: 0.5135 - val_binary_accuracy: 0.6667\n",
      "Epoch 17/100\n",
      "15/15 [==============================] - 0s 2ms/step - loss: 0.5264 - binary_accuracy: 0.6667 - val_loss: 0.5094 - val_binary_accuracy: 0.6667\n",
      "Epoch 18/100\n",
      "15/15 [==============================] - 0s 2ms/step - loss: 0.5230 - binary_accuracy: 0.6800 - val_loss: 0.5057 - val_binary_accuracy: 0.6667\n",
      "Epoch 19/100\n",
      "15/15 [==============================] - 0s 2ms/step - loss: 0.5197 - binary_accuracy: 0.6667 - val_loss: 0.5019 - val_binary_accuracy: 0.6667\n",
      "Epoch 20/100\n",
      "15/15 [==============================] - 0s 2ms/step - loss: 0.5165 - binary_accuracy: 0.6667 - val_loss: 0.4984 - val_binary_accuracy: 0.6667\n",
      "Epoch 21/100\n",
      "15/15 [==============================] - 0s 2ms/step - loss: 0.5129 - binary_accuracy: 0.6667 - val_loss: 0.4949 - val_binary_accuracy: 0.6667\n",
      "Epoch 22/100\n",
      "15/15 [==============================] - 0s 2ms/step - loss: 0.5100 - binary_accuracy: 0.6800 - val_loss: 0.4915 - val_binary_accuracy: 0.6667\n",
      "Epoch 23/100\n",
      "15/15 [==============================] - 0s 2ms/step - loss: 0.5068 - binary_accuracy: 0.6800 - val_loss: 0.4882 - val_binary_accuracy: 0.6667\n",
      "Epoch 24/100\n",
      "15/15 [==============================] - 0s 2ms/step - loss: 0.5053 - binary_accuracy: 0.6800 - val_loss: 0.4852 - val_binary_accuracy: 0.6667\n",
      "Epoch 25/100\n",
      "15/15 [==============================] - 0s 2ms/step - loss: 0.5014 - binary_accuracy: 0.6800 - val_loss: 0.4822 - val_binary_accuracy: 0.6667\n",
      "Epoch 26/100\n",
      "15/15 [==============================] - 0s 2ms/step - loss: 0.4990 - binary_accuracy: 0.6800 - val_loss: 0.4793 - val_binary_accuracy: 0.6667\n",
      "Epoch 27/100\n",
      "15/15 [==============================] - 0s 2ms/step - loss: 0.4963 - binary_accuracy: 0.6933 - val_loss: 0.4766 - val_binary_accuracy: 0.6667\n",
      "Epoch 28/100\n",
      "15/15 [==============================] - 0s 3ms/step - loss: 0.4941 - binary_accuracy: 0.6800 - val_loss: 0.4737 - val_binary_accuracy: 0.6667\n",
      "Epoch 29/100\n",
      "15/15 [==============================] - 0s 3ms/step - loss: 0.4924 - binary_accuracy: 0.6933 - val_loss: 0.4711 - val_binary_accuracy: 0.6800\n",
      "Epoch 30/100\n",
      "15/15 [==============================] - 0s 2ms/step - loss: 0.4889 - binary_accuracy: 0.6933 - val_loss: 0.4686 - val_binary_accuracy: 0.6800\n",
      "Epoch 31/100\n",
      "15/15 [==============================] - 0s 2ms/step - loss: 0.4872 - binary_accuracy: 0.6933 - val_loss: 0.4661 - val_binary_accuracy: 0.6800\n",
      "Epoch 32/100\n",
      "15/15 [==============================] - 0s 2ms/step - loss: 0.4850 - binary_accuracy: 0.6933 - val_loss: 0.4638 - val_binary_accuracy: 0.6800\n",
      "Epoch 33/100\n",
      "15/15 [==============================] - 0s 2ms/step - loss: 0.4830 - binary_accuracy: 0.6933 - val_loss: 0.4614 - val_binary_accuracy: 0.6800\n",
      "Epoch 34/100\n",
      "15/15 [==============================] - 0s 2ms/step - loss: 0.4805 - binary_accuracy: 0.7067 - val_loss: 0.4591 - val_binary_accuracy: 0.6800\n",
      "Epoch 35/100\n",
      "15/15 [==============================] - 0s 2ms/step - loss: 0.4786 - binary_accuracy: 0.6933 - val_loss: 0.4569 - val_binary_accuracy: 0.6800\n",
      "Epoch 36/100\n"
     ]
    },
    {
     "name": "stdout",
     "output_type": "stream",
     "text": [
      "15/15 [==============================] - 0s 2ms/step - loss: 0.4767 - binary_accuracy: 0.6933 - val_loss: 0.4545 - val_binary_accuracy: 0.6800\n",
      "Epoch 37/100\n",
      "15/15 [==============================] - 0s 2ms/step - loss: 0.4745 - binary_accuracy: 0.7067 - val_loss: 0.4524 - val_binary_accuracy: 0.6800\n",
      "Epoch 38/100\n",
      "15/15 [==============================] - 0s 2ms/step - loss: 0.4730 - binary_accuracy: 0.7200 - val_loss: 0.4502 - val_binary_accuracy: 0.6800\n",
      "Epoch 39/100\n",
      "15/15 [==============================] - 0s 2ms/step - loss: 0.4708 - binary_accuracy: 0.7200 - val_loss: 0.4482 - val_binary_accuracy: 0.6800\n",
      "Epoch 40/100\n",
      "15/15 [==============================] - 0s 2ms/step - loss: 0.4692 - binary_accuracy: 0.7200 - val_loss: 0.4461 - val_binary_accuracy: 0.6933\n",
      "Epoch 41/100\n",
      "15/15 [==============================] - 0s 2ms/step - loss: 0.4674 - binary_accuracy: 0.7067 - val_loss: 0.4440 - val_binary_accuracy: 0.6933\n",
      "Epoch 42/100\n",
      "15/15 [==============================] - 0s 2ms/step - loss: 0.4656 - binary_accuracy: 0.7200 - val_loss: 0.4420 - val_binary_accuracy: 0.7067\n",
      "Epoch 43/100\n",
      "15/15 [==============================] - 0s 2ms/step - loss: 0.4640 - binary_accuracy: 0.7467 - val_loss: 0.4401 - val_binary_accuracy: 0.7067\n",
      "Epoch 44/100\n",
      "15/15 [==============================] - 0s 2ms/step - loss: 0.4611 - binary_accuracy: 0.7333 - val_loss: 0.4381 - val_binary_accuracy: 0.7067\n",
      "Epoch 45/100\n",
      "15/15 [==============================] - 0s 2ms/step - loss: 0.4609 - binary_accuracy: 0.7467 - val_loss: 0.4361 - val_binary_accuracy: 0.7067\n",
      "Epoch 46/100\n",
      "15/15 [==============================] - 0s 2ms/step - loss: 0.4579 - binary_accuracy: 0.7333 - val_loss: 0.4342 - val_binary_accuracy: 0.7200\n",
      "Epoch 47/100\n",
      "15/15 [==============================] - 0s 2ms/step - loss: 0.4561 - binary_accuracy: 0.7467 - val_loss: 0.4324 - val_binary_accuracy: 0.7467\n",
      "Epoch 48/100\n",
      "15/15 [==============================] - 0s 2ms/step - loss: 0.4548 - binary_accuracy: 0.7467 - val_loss: 0.4307 - val_binary_accuracy: 0.7467\n",
      "Epoch 49/100\n",
      "15/15 [==============================] - 0s 2ms/step - loss: 0.4532 - binary_accuracy: 0.7600 - val_loss: 0.4291 - val_binary_accuracy: 0.7200\n",
      "Epoch 50/100\n",
      "15/15 [==============================] - 0s 2ms/step - loss: 0.4524 - binary_accuracy: 0.7333 - val_loss: 0.4269 - val_binary_accuracy: 0.7733\n",
      "Epoch 51/100\n",
      "15/15 [==============================] - 0s 3ms/step - loss: 0.4507 - binary_accuracy: 0.7600 - val_loss: 0.4253 - val_binary_accuracy: 0.7733\n",
      "Epoch 52/100\n",
      "15/15 [==============================] - 0s 2ms/step - loss: 0.4487 - binary_accuracy: 0.7600 - val_loss: 0.4234 - val_binary_accuracy: 0.7733\n",
      "Epoch 53/100\n",
      "15/15 [==============================] - 0s 2ms/step - loss: 0.4467 - binary_accuracy: 0.7467 - val_loss: 0.4215 - val_binary_accuracy: 0.7733\n",
      "Epoch 54/100\n",
      "15/15 [==============================] - 0s 2ms/step - loss: 0.4454 - binary_accuracy: 0.7867 - val_loss: 0.4198 - val_binary_accuracy: 0.7733\n",
      "Epoch 55/100\n",
      "15/15 [==============================] - 0s 2ms/step - loss: 0.4433 - binary_accuracy: 0.7867 - val_loss: 0.4182 - val_binary_accuracy: 0.7733\n",
      "Epoch 56/100\n",
      "15/15 [==============================] - 0s 2ms/step - loss: 0.4418 - binary_accuracy: 0.7867 - val_loss: 0.4166 - val_binary_accuracy: 0.7733\n",
      "Epoch 57/100\n",
      "15/15 [==============================] - 0s 2ms/step - loss: 0.4404 - binary_accuracy: 0.7733 - val_loss: 0.4146 - val_binary_accuracy: 0.7867\n",
      "Epoch 58/100\n",
      "15/15 [==============================] - 0s 2ms/step - loss: 0.4387 - binary_accuracy: 0.7867 - val_loss: 0.4132 - val_binary_accuracy: 0.7733\n",
      "Epoch 59/100\n",
      "15/15 [==============================] - 0s 2ms/step - loss: 0.4372 - binary_accuracy: 0.7600 - val_loss: 0.4113 - val_binary_accuracy: 0.8400\n",
      "Epoch 60/100\n",
      "15/15 [==============================] - 0s 2ms/step - loss: 0.4363 - binary_accuracy: 0.7733 - val_loss: 0.4093 - val_binary_accuracy: 0.8533\n",
      "Epoch 61/100\n",
      "15/15 [==============================] - 0s 2ms/step - loss: 0.4351 - binary_accuracy: 0.8267 - val_loss: 0.4079 - val_binary_accuracy: 0.8533\n",
      "Epoch 62/100\n",
      "15/15 [==============================] - 0s 3ms/step - loss: 0.4339 - binary_accuracy: 0.8267 - val_loss: 0.4065 - val_binary_accuracy: 0.8533\n",
      "Epoch 63/100\n",
      "15/15 [==============================] - 0s 3ms/step - loss: 0.4313 - binary_accuracy: 0.8133 - val_loss: 0.4051 - val_binary_accuracy: 0.8533\n",
      "Epoch 64/100\n",
      "15/15 [==============================] - 0s 2ms/step - loss: 0.4304 - binary_accuracy: 0.8000 - val_loss: 0.4034 - val_binary_accuracy: 0.8533\n",
      "Epoch 65/100\n",
      "15/15 [==============================] - 0s 2ms/step - loss: 0.4305 - binary_accuracy: 0.8133 - val_loss: 0.4018 - val_binary_accuracy: 0.8667\n",
      "Epoch 66/100\n",
      "15/15 [==============================] - 0s 2ms/step - loss: 0.4274 - binary_accuracy: 0.8400 - val_loss: 0.4002 - val_binary_accuracy: 0.8800\n",
      "Epoch 67/100\n",
      "15/15 [==============================] - 0s 2ms/step - loss: 0.4255 - binary_accuracy: 0.8000 - val_loss: 0.3985 - val_binary_accuracy: 0.8800\n",
      "Epoch 68/100\n",
      "15/15 [==============================] - 0s 2ms/step - loss: 0.4252 - binary_accuracy: 0.7733 - val_loss: 0.3966 - val_binary_accuracy: 0.9067\n",
      "Epoch 69/100\n",
      "15/15 [==============================] - 0s 2ms/step - loss: 0.4230 - binary_accuracy: 0.8800 - val_loss: 0.3953 - val_binary_accuracy: 0.9067\n",
      "Epoch 70/100\n",
      "15/15 [==============================] - 0s 2ms/step - loss: 0.4223 - binary_accuracy: 0.8267 - val_loss: 0.3937 - val_binary_accuracy: 0.9067\n",
      "Epoch 71/100\n",
      "15/15 [==============================] - 0s 2ms/step - loss: 0.4204 - binary_accuracy: 0.8933 - val_loss: 0.3927 - val_binary_accuracy: 0.8800\n",
      "Epoch 72/100\n",
      "15/15 [==============================] - 0s 2ms/step - loss: 0.4192 - binary_accuracy: 0.8133 - val_loss: 0.3911 - val_binary_accuracy: 0.8800\n",
      "Epoch 73/100\n",
      "15/15 [==============================] - 0s 2ms/step - loss: 0.4174 - binary_accuracy: 0.8133 - val_loss: 0.3893 - val_binary_accuracy: 0.9067\n",
      "Epoch 74/100\n",
      "15/15 [==============================] - 0s 2ms/step - loss: 0.4168 - binary_accuracy: 0.8400 - val_loss: 0.3876 - val_binary_accuracy: 0.9200\n",
      "Epoch 75/100\n",
      "15/15 [==============================] - 0s 2ms/step - loss: 0.4146 - binary_accuracy: 0.8667 - val_loss: 0.3862 - val_binary_accuracy: 0.9200\n",
      "Epoch 76/100\n",
      "15/15 [==============================] - 0s 2ms/step - loss: 0.4138 - binary_accuracy: 0.8800 - val_loss: 0.3847 - val_binary_accuracy: 0.9200\n",
      "Epoch 77/100\n",
      "15/15 [==============================] - 0s 2ms/step - loss: 0.4133 - binary_accuracy: 0.8800 - val_loss: 0.3835 - val_binary_accuracy: 0.9200\n",
      "Epoch 78/100\n",
      "15/15 [==============================] - 0s 2ms/step - loss: 0.4115 - binary_accuracy: 0.8933 - val_loss: 0.3823 - val_binary_accuracy: 0.9067\n",
      "Epoch 79/100\n",
      "15/15 [==============================] - 0s 2ms/step - loss: 0.4097 - binary_accuracy: 0.8667 - val_loss: 0.3805 - val_binary_accuracy: 0.9200\n",
      "Epoch 80/100\n",
      "15/15 [==============================] - 0s 2ms/step - loss: 0.4088 - binary_accuracy: 0.8933 - val_loss: 0.3794 - val_binary_accuracy: 0.9200\n",
      "Epoch 81/100\n",
      "15/15 [==============================] - 0s 2ms/step - loss: 0.4079 - binary_accuracy: 0.8933 - val_loss: 0.3784 - val_binary_accuracy: 0.9067\n",
      "Epoch 82/100\n",
      "15/15 [==============================] - 0s 2ms/step - loss: 0.4063 - binary_accuracy: 0.8933 - val_loss: 0.3768 - val_binary_accuracy: 0.9200\n",
      "Epoch 83/100\n",
      "15/15 [==============================] - 0s 2ms/step - loss: 0.4057 - binary_accuracy: 0.8133 - val_loss: 0.3748 - val_binary_accuracy: 0.9467\n",
      "Epoch 84/100\n",
      "15/15 [==============================] - 0s 2ms/step - loss: 0.4031 - binary_accuracy: 0.8800 - val_loss: 0.3734 - val_binary_accuracy: 0.9467\n",
      "Epoch 85/100\n",
      "15/15 [==============================] - 0s 2ms/step - loss: 0.4030 - binary_accuracy: 0.8800 - val_loss: 0.3718 - val_binary_accuracy: 0.9467\n",
      "Epoch 86/100\n",
      "15/15 [==============================] - 0s 2ms/step - loss: 0.4006 - binary_accuracy: 0.8933 - val_loss: 0.3705 - val_binary_accuracy: 0.9467\n",
      "Epoch 87/100\n",
      "15/15 [==============================] - 0s 2ms/step - loss: 0.4006 - binary_accuracy: 0.9067 - val_loss: 0.3694 - val_binary_accuracy: 0.9467\n",
      "Epoch 88/100\n"
     ]
    },
    {
     "name": "stdout",
     "output_type": "stream",
     "text": [
      "15/15 [==============================] - 0s 2ms/step - loss: 0.3996 - binary_accuracy: 0.8933 - val_loss: 0.3684 - val_binary_accuracy: 0.9467\n",
      "Epoch 89/100\n",
      "15/15 [==============================] - 0s 2ms/step - loss: 0.3967 - binary_accuracy: 0.9067 - val_loss: 0.3670 - val_binary_accuracy: 0.9467\n",
      "Epoch 90/100\n",
      "15/15 [==============================] - 0s 2ms/step - loss: 0.3953 - binary_accuracy: 0.8933 - val_loss: 0.3654 - val_binary_accuracy: 0.9467\n",
      "Epoch 91/100\n",
      "15/15 [==============================] - 0s 2ms/step - loss: 0.3949 - binary_accuracy: 0.9067 - val_loss: 0.3643 - val_binary_accuracy: 0.9467\n",
      "Epoch 92/100\n",
      "15/15 [==============================] - 0s 2ms/step - loss: 0.3947 - binary_accuracy: 0.9200 - val_loss: 0.3632 - val_binary_accuracy: 0.9467\n",
      "Epoch 93/100\n",
      "15/15 [==============================] - 0s 2ms/step - loss: 0.3915 - binary_accuracy: 0.8933 - val_loss: 0.3616 - val_binary_accuracy: 0.9467\n",
      "Epoch 94/100\n",
      "15/15 [==============================] - 0s 2ms/step - loss: 0.3912 - binary_accuracy: 0.9200 - val_loss: 0.3608 - val_binary_accuracy: 0.9467\n",
      "Epoch 95/100\n",
      "15/15 [==============================] - 0s 2ms/step - loss: 0.3901 - binary_accuracy: 0.8933 - val_loss: 0.3590 - val_binary_accuracy: 0.9467\n",
      "Epoch 96/100\n",
      "15/15 [==============================] - 0s 2ms/step - loss: 0.3877 - binary_accuracy: 0.8933 - val_loss: 0.3574 - val_binary_accuracy: 0.9467\n",
      "Epoch 97/100\n",
      "15/15 [==============================] - 0s 2ms/step - loss: 0.3883 - binary_accuracy: 0.9067 - val_loss: 0.3562 - val_binary_accuracy: 0.9467\n",
      "Epoch 98/100\n",
      "15/15 [==============================] - 0s 2ms/step - loss: 0.3863 - binary_accuracy: 0.9467 - val_loss: 0.3553 - val_binary_accuracy: 0.9467\n",
      "Epoch 99/100\n",
      "15/15 [==============================] - 0s 2ms/step - loss: 0.3852 - binary_accuracy: 0.9067 - val_loss: 0.3540 - val_binary_accuracy: 0.9467\n",
      "Epoch 100/100\n",
      "15/15 [==============================] - 0s 2ms/step - loss: 0.3835 - binary_accuracy: 0.9067 - val_loss: 0.3522 - val_binary_accuracy: 0.9467\n"
     ]
    }
   ],
   "source": [
    "model = keras.Sequential()\n",
    "model.add(keras.layers.Dense(10, input_shape=(n_features,), activation='sigmoid'))\n",
    "model.add(keras.layers.Dense(1, activation='sigmoid'))\n",
    "model.compile(optimizer='sgd', loss='binary_crossentropy', metrics=['binary_accuracy'])\n",
    "\n",
    "\n",
    "history_neural_network_20 = model.fit(X_train, Y_train,\n",
    "                                 batch_size=5,\n",
    "                                 epochs=20,\n",
    "                                 verbose=1,\n",
    "                                 validation_data=(X_test, Y_test)\n",
    "                        )\n",
    "\n",
    "model = keras.Sequential()\n",
    "model.add(keras.layers.Dense(10, input_shape=(n_features,), activation='sigmoid'))\n",
    "model.add(keras.layers.Dense(1, activation='sigmoid'))\n",
    "model.compile(optimizer='sgd', loss='binary_crossentropy', metrics=['binary_accuracy'])\n",
    "\n",
    "history_neural_network_50 = model.fit(X_train, Y_train,\n",
    "                                 batch_size=5,\n",
    "                                 epochs=50,\n",
    "                                 verbose=1,\n",
    "                                 validation_data=(X_test, Y_test)\n",
    "                        )\n",
    "\n",
    "model = keras.Sequential()\n",
    "model.add(keras.layers.Dense(10, input_shape=(n_features,), activation='sigmoid'))\n",
    "model.add(keras.layers.Dense(1, activation='sigmoid'))\n",
    "model.compile(optimizer='sgd', loss='binary_crossentropy', metrics=['binary_accuracy'])\n",
    "\n",
    "history_neural_network_100 = model.fit(X_train, Y_train,\n",
    "                                 batch_size=5,\n",
    "                                 epochs=100,\n",
    "                                 verbose=1,\n",
    "                                 validation_data=(X_test, Y_test)\n",
    "                        )"
   ]
  },
  {
   "cell_type": "code",
   "execution_count": 39,
   "metadata": {},
   "outputs": [
    {
     "data": {
      "image/png": "[encoded data removed]",
      "text/plain": [
       "<Figure size 504x720 with 2 Axes>"
      ]
     },
     "metadata": {},
     "output_type": "display_data"
    }
   ],
   "source": [
    "fig = plt.figure(figsize=(7, 10))\n",
    "\n",
    "fig.patch.set_facecolor((1,1,1))\n",
    "\n",
    "plt.subplot(211)\n",
    "\n",
    "plt.plot(history_neural_network_20.history['binary_accuracy'], \"g-\")\n",
    "plt.plot(history_neural_network_50.history['binary_accuracy'], \"r-\")\n",
    "plt.plot(history_neural_network_100.history['binary_accuracy'], \"b-\")\n",
    "plt.title('model accuracy')\n",
    "plt.ylabel('accuracy')\n",
    "plt.xlabel('epoch')\n",
    "\n",
    "plt.subplot(212)\n",
    "\n",
    "plt.plot(history_neural_network_20.history['loss'], \"g-\")\n",
    "plt.plot(history_neural_network_50.history['loss'], \"r-\")\n",
    "plt.plot(history_neural_network_100.history['loss'], \"b-\")\n",
    "plt.title('model loss')\n",
    "plt.ylabel('loss')\n",
    "plt.xlabel('epoch')\n",
    "plt.show()"
   ]
  },
  {
   "cell_type": "markdown",
   "metadata": {
    "id": "mNEVxasCoVB7"
   },
   "source": [
    "# Question 5\n",
    "Comparez les performances du modèle simple de régression logistique (celui avec un seul neurone) et ce réseau de neurones. Faite varier le nombre d'époch (20, 50, 100) et dressez un tableau montrant la meilleure *accuracy* pour chacun des modèles et expliquez le résultat. "
   ]
  },
  {
   "cell_type": "code",
   "execution_count": 50,
   "metadata": {},
   "outputs": [
    {
     "name": "stdout",
     "output_type": "stream",
     "text": [
      "                     20 epochs  50 epochs  100 epochs\n",
      "logistic regression   0.933333   0.946667    0.960000\n",
      "neural network        0.666667   0.666667    0.906667\n"
     ]
    }
   ],
   "source": [
    "data = np.array([[history_logistic_regression_20.history['binary_accuracy'][len(history_logistic_regression_20.history['binary_accuracy'])-1],\n",
    "                   history_logistic_regression_50.history['binary_accuracy'][len(history_logistic_regression_50.history['binary_accuracy'])-1],\n",
    "                   history_logistic_regression_100.history['binary_accuracy'][len(history_logistic_regression_100.history['binary_accuracy'])-1]],\n",
    "                   [history_neural_network_20.history['binary_accuracy'][len(history_neural_network_20.history['binary_accuracy'])-1],\n",
    "                   history_neural_network_50.history['binary_accuracy'][len(history_neural_network_50.history['binary_accuracy'])-1],\n",
    "                   history_neural_network_100.history['binary_accuracy'][len(history_neural_network_100.history['binary_accuracy'])-1]]])\n",
    "\n",
    "columns = ['20 epochs','50 epochs','100 epochs']\n",
    "index = [\"logistic regression\", \"neural network\"]\n",
    "\n",
    "df = pd.DataFrame(data=data,index=index,columns=columns)\n",
    "\n",
    "print(df)"
   ]
  },
  {
   "cell_type": "markdown",
   "metadata": {},
   "source": [
    "La regression logistique semble rapidement overfitter en un nombre d'époques relativement faible, tandis que l'accuracy du réseau de neurones s'améliore avec un nombre d'époque croissant."
   ]
  },
  {
   "cell_type": "markdown",
   "metadata": {
    "id": "2Dw7gvmnqh20"
   },
   "source": [
    "# Utilisation d'un softmax pour une classification multiple\n",
    "La base de donnée `iris` représente 3 classes et pour l'instant, nous n'avons fait que classer les exemples comme étant dans une seule classe ou pas. Il est possible de créer un réseau avec 3 neurones de sorties qui vont calculer les 3 probabilités d'appartenance à chacune des classes. Il faut remettre en forme les labels des données dans un vecteur de 3 bits (un bit à 1 pour la classe à laquelle appartient l'entrée). Ceci correspond à ce que l'on appelle le \"One Hot Endoding\". Une classe est dédiée à cela dans sklearn. "
   ]
  },
  {
   "cell_type": "code",
   "execution_count": 51,
   "metadata": {
    "colab": {
     "base_uri": "https://localhost:8080/"
    },
    "id": "f8i_xCxMFWyM",
    "outputId": "2af9ece7-cec3-4a1d-c223-a48b48d33c5c"
   },
   "outputs": [
    {
     "name": "stdout",
     "output_type": "stream",
     "text": [
      "Nombre de features :  4\n",
      "Nombre de classes  3\n",
      " Exemple d'encodage de la donnée numéro 5 et 12 : \n",
      "features :  [5.4 3.9 1.7 0.4]  sortie :  [1. 0. 0.]\n",
      "features :  [4.8 3.  1.4 0.1]  sortie :  [1. 0. 0.]\n"
     ]
    }
   ],
   "source": [
    "import numpy as np\n",
    "import pandas as pd\n",
    "from sklearn.datasets import load_iris\n",
    "from sklearn.model_selection import train_test_split\n",
    "from sklearn.preprocessing import OneHotEncoder, StandardScaler\n",
    "\n",
    "iris = load_iris()\n",
    "X = iris['data']\n",
    "y = iris['target']\n",
    "names = iris['target_names']\n",
    "feature_names = iris['feature_names']\n",
    "\n",
    "# One hot encoding\n",
    "enc = OneHotEncoder()\n",
    "Y = enc.fit_transform(y[:, np.newaxis]).toarray()\n",
    "\n",
    "\n",
    "n_features = X.shape[1]\n",
    "n_classes = Y.shape[1]\n",
    "print(\"Nombre de features : \", n_features)\n",
    "print(\"Nombre de classes \", n_classes)\n",
    "print(\" Exemple d'encodage de la donnée numéro 5 et 12 : \")\n",
    "print(\"features : \", X[5], \" sortie : \", Y[5])\n",
    "print(\"features : \", X[12], \" sortie : \", Y[12])\n",
    "\n"
   ]
  },
  {
   "cell_type": "markdown",
   "metadata": {
    "id": "Gz4Pgp7QHFrj"
   },
   "source": [
    "Pour améliorer les convergences des algorithmes, il est conseillé de 'normaliser' les données. Pour cela les valeurs sont 're-calculées' de sorte que leur ordre soit respecté tout en rendant leur distribution normale (centrée sur 0 avec une variance de 1), c'est le rôle des `Scaler`. "
   ]
  },
  {
   "cell_type": "code",
   "execution_count": 52,
   "metadata": {
    "colab": {
     "base_uri": "https://localhost:8080/"
    },
    "id": "sqKfdEF5HE4D",
    "outputId": "f5dc1bf2-594e-4bee-ca26-65fe6bf766eb"
   },
   "outputs": [
    {
     "name": "stdout",
     "output_type": "stream",
     "text": [
      " Exemple d'encodage de la donnée numéro 5 et 12 : \n",
      "features :  [-0.53717756  1.93979142 -1.16971425 -1.05217993]  sortie :  [1. 0. 0.]\n",
      "features :  [-1.26418478 -0.13197948 -1.34022653 -1.44707648]  sortie :  [1. 0. 0.]\n"
     ]
    }
   ],
   "source": [
    "\n",
    "# Scale data to have mean 0 and variance 1 \n",
    "# which is importance for convergence of the neural network\n",
    "scaler = StandardScaler()\n",
    "X_scaled = scaler.fit_transform(X)\n",
    "\n",
    "print(\" Exemple d'encodage de la donnée numéro 5 et 12 : \")\n",
    "print(\"features : \", X_scaled[5], \" sortie : \", Y[5])\n",
    "print(\"features : \", X_scaled[12], \" sortie : \", Y[12])\n",
    "\n",
    "\n",
    "\n"
   ]
  },
  {
   "cell_type": "markdown",
   "metadata": {
    "id": "K5aX5FWnINyd"
   },
   "source": [
    "On redéfinie les données d'entrainement avec ces valeurs normalisées."
   ]
  },
  {
   "cell_type": "code",
   "execution_count": 53,
   "metadata": {
    "id": "laAastQHH4IL"
   },
   "outputs": [],
   "source": [
    "\n",
    "\n",
    "# Split the data set into training and testing\n",
    "X_train, X_test, Y_train, Y_test = train_test_split(\n",
    "    X_scaled, Y, test_size=0.5, random_state=2)"
   ]
  },
  {
   "cell_type": "markdown",
   "metadata": {
    "id": "9ptvekiLJvPb"
   },
   "source": [
    "Et on créé un réseau dont les 3 sorties sont désormais passées au travers d'un softmax."
   ]
  },
  {
   "cell_type": "code",
   "execution_count": 54,
   "metadata": {
    "id": "KSMv86ykbIkC"
   },
   "outputs": [],
   "source": [
    "\n",
    "model = keras.Sequential()\n",
    "model.add(keras.layers.Dense(10, input_shape=(n_features,), activation='sigmoid'))\n",
    "model.add(keras.layers.Dense(3, activation='softmax'))\n",
    "model.compile(loss='categorical_crossentropy', optimizer='adam', metrics=['accuracy'])\n"
   ]
  },
  {
   "cell_type": "markdown",
   "metadata": {
    "id": "ekbVmJ4BL5vy"
   },
   "source": [
    "Et on lance l'apprentissage :"
   ]
  },
  {
   "cell_type": "code",
   "execution_count": 61,
   "metadata": {
    "colab": {
     "base_uri": "https://localhost:8080/"
    },
    "id": "xinPIHFhL8Jf",
    "outputId": "f10e6d5f-cd71-4ecd-ad11-27cbd4add628"
   },
   "outputs": [
    {
     "name": "stdout",
     "output_type": "stream",
     "text": [
      "Epoch 1/50\n",
      "15/15 [==============================] - 0s 9ms/step - loss: 1.0682 - accuracy: 0.5467 - val_loss: 1.0457 - val_accuracy: 0.6267\n",
      "Epoch 2/50\n",
      "15/15 [==============================] - 0s 3ms/step - loss: 1.0379 - accuracy: 0.7067 - val_loss: 1.0181 - val_accuracy: 0.6533\n",
      "Epoch 3/50\n",
      "15/15 [==============================] - 0s 2ms/step - loss: 1.0097 - accuracy: 0.6667 - val_loss: 0.9938 - val_accuracy: 0.6533\n",
      "Epoch 4/50\n",
      "15/15 [==============================] - 0s 2ms/step - loss: 0.9862 - accuracy: 0.7067 - val_loss: 0.9730 - val_accuracy: 0.6667\n",
      "Epoch 5/50\n",
      "15/15 [==============================] - 0s 2ms/step - loss: 0.9667 - accuracy: 0.7200 - val_loss: 0.9544 - val_accuracy: 0.7600\n",
      "Epoch 6/50\n",
      "15/15 [==============================] - 0s 3ms/step - loss: 0.9476 - accuracy: 0.7200 - val_loss: 0.9362 - val_accuracy: 0.8267\n",
      "Epoch 7/50\n",
      "15/15 [==============================] - 0s 3ms/step - loss: 0.9298 - accuracy: 0.8000 - val_loss: 0.9192 - val_accuracy: 0.8400\n",
      "Epoch 8/50\n",
      "15/15 [==============================] - 0s 2ms/step - loss: 0.9135 - accuracy: 0.8533 - val_loss: 0.9025 - val_accuracy: 0.8533\n",
      "Epoch 9/50\n",
      "15/15 [==============================] - 0s 3ms/step - loss: 0.8978 - accuracy: 0.8667 - val_loss: 0.8862 - val_accuracy: 0.8533\n",
      "Epoch 10/50\n",
      "15/15 [==============================] - 0s 3ms/step - loss: 0.8817 - accuracy: 0.8800 - val_loss: 0.8702 - val_accuracy: 0.8533\n",
      "Epoch 11/50\n",
      "15/15 [==============================] - 0s 4ms/step - loss: 0.8669 - accuracy: 0.8667 - val_loss: 0.8542 - val_accuracy: 0.8533\n",
      "Epoch 12/50\n",
      "15/15 [==============================] - 0s 4ms/step - loss: 0.8519 - accuracy: 0.8267 - val_loss: 0.8383 - val_accuracy: 0.8533\n",
      "Epoch 13/50\n",
      "15/15 [==============================] - 0s 3ms/step - loss: 0.8372 - accuracy: 0.7867 - val_loss: 0.8227 - val_accuracy: 0.8533\n",
      "Epoch 14/50\n",
      "15/15 [==============================] - 0s 4ms/step - loss: 0.8224 - accuracy: 0.8000 - val_loss: 0.8073 - val_accuracy: 0.8533\n",
      "Epoch 15/50\n",
      "15/15 [==============================] - 0s 5ms/step - loss: 0.8082 - accuracy: 0.8267 - val_loss: 0.7922 - val_accuracy: 0.8533\n",
      "Epoch 16/50\n",
      "15/15 [==============================] - 0s 3ms/step - loss: 0.7943 - accuracy: 0.8133 - val_loss: 0.7774 - val_accuracy: 0.8267\n",
      "Epoch 17/50\n",
      "15/15 [==============================] - 0s 2ms/step - loss: 0.7799 - accuracy: 0.8400 - val_loss: 0.7629 - val_accuracy: 0.8133\n",
      "Epoch 18/50\n",
      "15/15 [==============================] - 0s 2ms/step - loss: 0.7667 - accuracy: 0.8000 - val_loss: 0.7490 - val_accuracy: 0.8133\n",
      "Epoch 19/50\n",
      "15/15 [==============================] - 0s 2ms/step - loss: 0.7536 - accuracy: 0.7733 - val_loss: 0.7353 - val_accuracy: 0.8133\n",
      "Epoch 20/50\n",
      "15/15 [==============================] - 0s 2ms/step - loss: 0.7405 - accuracy: 0.8000 - val_loss: 0.7220 - val_accuracy: 0.8133\n",
      "Epoch 21/50\n",
      "15/15 [==============================] - 0s 3ms/step - loss: 0.7283 - accuracy: 0.8267 - val_loss: 0.7093 - val_accuracy: 0.8133\n",
      "Epoch 22/50\n",
      "15/15 [==============================] - 0s 3ms/step - loss: 0.7170 - accuracy: 0.6933 - val_loss: 0.6971 - val_accuracy: 0.8133\n",
      "Epoch 23/50\n",
      "15/15 [==============================] - 0s 2ms/step - loss: 0.7057 - accuracy: 0.6800 - val_loss: 0.6853 - val_accuracy: 0.8133\n",
      "Epoch 24/50\n",
      "15/15 [==============================] - 0s 2ms/step - loss: 0.6941 - accuracy: 0.7867 - val_loss: 0.6742 - val_accuracy: 0.8133\n",
      "Epoch 25/50\n",
      "15/15 [==============================] - 0s 2ms/step - loss: 0.6845 - accuracy: 0.7067 - val_loss: 0.6633 - val_accuracy: 0.8133\n",
      "Epoch 26/50\n",
      "15/15 [==============================] - 0s 2ms/step - loss: 0.6739 - accuracy: 0.6933 - val_loss: 0.6529 - val_accuracy: 0.8133\n",
      "Epoch 27/50\n",
      "15/15 [==============================] - 0s 2ms/step - loss: 0.6646 - accuracy: 0.7067 - val_loss: 0.6431 - val_accuracy: 0.8133\n",
      "Epoch 28/50\n",
      "15/15 [==============================] - 0s 2ms/step - loss: 0.6555 - accuracy: 0.7200 - val_loss: 0.6337 - val_accuracy: 0.8133\n",
      "Epoch 29/50\n",
      "15/15 [==============================] - 0s 2ms/step - loss: 0.6479 - accuracy: 0.7467 - val_loss: 0.6249 - val_accuracy: 0.8133\n",
      "Epoch 30/50\n",
      "15/15 [==============================] - 0s 2ms/step - loss: 0.6389 - accuracy: 0.7733 - val_loss: 0.6164 - val_accuracy: 0.8133\n",
      "Epoch 31/50\n",
      "15/15 [==============================] - 0s 3ms/step - loss: 0.6321 - accuracy: 0.7867 - val_loss: 0.6085 - val_accuracy: 0.8000\n",
      "Epoch 32/50\n",
      "15/15 [==============================] - 0s 3ms/step - loss: 0.6242 - accuracy: 0.7067 - val_loss: 0.6010 - val_accuracy: 0.7733\n",
      "Epoch 33/50\n",
      "15/15 [==============================] - 0s 3ms/step - loss: 0.6173 - accuracy: 0.7867 - val_loss: 0.5940 - val_accuracy: 0.7333\n",
      "Epoch 34/50\n",
      "15/15 [==============================] - 0s 3ms/step - loss: 0.6109 - accuracy: 0.7733 - val_loss: 0.5873 - val_accuracy: 0.7067\n",
      "Epoch 35/50\n",
      "15/15 [==============================] - 0s 2ms/step - loss: 0.6046 - accuracy: 0.7867 - val_loss: 0.5809 - val_accuracy: 0.6933\n",
      "Epoch 36/50\n",
      "15/15 [==============================] - 0s 2ms/step - loss: 0.5984 - accuracy: 0.7333 - val_loss: 0.5749 - val_accuracy: 0.6800\n",
      "Epoch 37/50\n",
      "15/15 [==============================] - 0s 2ms/step - loss: 0.5934 - accuracy: 0.6800 - val_loss: 0.5691 - val_accuracy: 0.7067\n",
      "Epoch 38/50\n",
      "15/15 [==============================] - 0s 2ms/step - loss: 0.5877 - accuracy: 0.6800 - val_loss: 0.5636 - val_accuracy: 0.7333\n",
      "Epoch 39/50\n",
      "15/15 [==============================] - 0s 2ms/step - loss: 0.5833 - accuracy: 0.6800 - val_loss: 0.5585 - val_accuracy: 0.7200\n",
      "Epoch 40/50\n",
      "15/15 [==============================] - 0s 2ms/step - loss: 0.5782 - accuracy: 0.6667 - val_loss: 0.5536 - val_accuracy: 0.7467\n",
      "Epoch 41/50\n",
      "15/15 [==============================] - 0s 2ms/step - loss: 0.5745 - accuracy: 0.7333 - val_loss: 0.5490 - val_accuracy: 0.7333\n",
      "Epoch 42/50\n",
      "15/15 [==============================] - 0s 2ms/step - loss: 0.5699 - accuracy: 0.8000 - val_loss: 0.5448 - val_accuracy: 0.7067\n",
      "Epoch 43/50\n",
      "15/15 [==============================] - 0s 2ms/step - loss: 0.5666 - accuracy: 0.6800 - val_loss: 0.5405 - val_accuracy: 0.7600\n",
      "Epoch 44/50\n",
      "15/15 [==============================] - 0s 2ms/step - loss: 0.5619 - accuracy: 0.6933 - val_loss: 0.5365 - val_accuracy: 0.7733\n",
      "Epoch 45/50\n",
      "15/15 [==============================] - 0s 2ms/step - loss: 0.5589 - accuracy: 0.7067 - val_loss: 0.5328 - val_accuracy: 0.8000\n",
      "Epoch 46/50\n",
      "15/15 [==============================] - 0s 2ms/step - loss: 0.5547 - accuracy: 0.7067 - val_loss: 0.5292 - val_accuracy: 0.8133\n",
      "Epoch 47/50\n",
      "15/15 [==============================] - 0s 2ms/step - loss: 0.5525 - accuracy: 0.6933 - val_loss: 0.5258 - val_accuracy: 0.8133\n",
      "Epoch 48/50\n",
      "15/15 [==============================] - 0s 2ms/step - loss: 0.5485 - accuracy: 0.7867 - val_loss: 0.5226 - val_accuracy: 0.8133\n",
      "Epoch 49/50\n",
      "15/15 [==============================] - 0s 2ms/step - loss: 0.5466 - accuracy: 0.7067 - val_loss: 0.5196 - val_accuracy: 0.8133\n",
      "Epoch 50/50\n",
      "15/15 [==============================] - 0s 2ms/step - loss: 0.5434 - accuracy: 0.7067 - val_loss: 0.5167 - val_accuracy: 0.8133\n"
     ]
    }
   ],
   "source": [
    "history = model.fit(X_train, Y_train,\n",
    "                                 batch_size=5,\n",
    "                                 epochs=50,\n",
    "                                 verbose=1,\n",
    "                                 validation_data=(X_test, Y_test)\n",
    "                        )"
   ]
  },
  {
   "cell_type": "markdown",
   "metadata": {
    "id": "NmiCNOdiOADb"
   },
   "source": [
    "Le code suivant a simplement pour but de vous montrer comment voir la prédiction du modèle pour des valeurs d'entrées particulières."
   ]
  },
  {
   "cell_type": "code",
   "execution_count": 62,
   "metadata": {
    "colab": {
     "base_uri": "https://localhost:8080/"
    },
    "id": "ZBfnGntpMUn7",
    "outputId": "519129f7-8e46-457a-a718-940a56ea0e88"
   },
   "outputs": [
    {
     "name": "stdout",
     "output_type": "stream",
     "text": [
      "sortie prédite par le modèle pour une entrée particulière : \n",
      "[[0.90414834 0.05319767 0.04265398]]\n",
      "Elle appartient donc à la classe : \n",
      "[0]\n",
      "sortie prédite par le modèle pour une autre entrée particulière : \n",
      "[[0.05975366 0.4855663  0.45468006]]\n",
      "Elle appartient donc à la classe : \n",
      "[1]\n"
     ]
    }
   ],
   "source": [
    "print(\"sortie prédite par le modèle pour une entrée particulière : \")\n",
    "print(model.predict([[-0.53717756,  1.93979142, -1.16971425, -1.05217993]]))\n",
    "print(\"Elle appartient donc à la classe : \")\n",
    "print(np.argmax(model.predict([[-0.53717756,  1.93979142, -1.16971425, -1.05217993]]), axis=-1))\n",
    "\n",
    "print(\"sortie prédite par le modèle pour une autre entrée particulière : \")\n",
    "print(model.predict([[1.2,  0.82, 1, 0.2]]))\n",
    "print(\"Elle appartient donc à la classe : \")\n",
    "print(np.argmax(model.predict([[1,  1, 1, 1]]), axis=-1))"
   ]
  },
  {
   "cell_type": "markdown",
   "metadata": {
    "id": "uST1miSMOVQV"
   },
   "source": [
    "## Question 6 \n",
    "Comme expliqué plus haut, il existe plusieurs algorithmes de descente de gradient. Ici nous sommes partie sur un ADAM avec une couche dense composée de neurones avec une fonction de transfert sigmoïde. Pouvez vous dresser un tableau comparatif des résultats obtenus en utilisant un un algorithme de descente de gradient stochastique ('sgd') et des fonctions de transfert ('relu') et en conclure sur l'interêt de chacun de ces choix pour la classification de la base `iris` "
   ]
  },
  {
   "cell_type": "code",
   "execution_count": 73,
   "metadata": {
    "id": "RIajXhYKOUQU"
   },
   "outputs": [
    {
     "name": "stdout",
     "output_type": "stream",
     "text": [
      "Epoch 1/50\n",
      "15/15 [==============================] - 0s 9ms/step - loss: 1.4466 - accuracy: 0.1600 - val_loss: 1.3355 - val_accuracy: 0.2800\n",
      "Epoch 2/50\n",
      "15/15 [==============================] - 0s 2ms/step - loss: 1.2901 - accuracy: 0.3200 - val_loss: 1.2114 - val_accuracy: 0.4133\n",
      "Epoch 3/50\n",
      "15/15 [==============================] - 0s 2ms/step - loss: 1.1746 - accuracy: 0.4800 - val_loss: 1.1141 - val_accuracy: 0.5467\n",
      "Epoch 4/50\n",
      "15/15 [==============================] - 0s 2ms/step - loss: 1.0848 - accuracy: 0.5467 - val_loss: 1.0351 - val_accuracy: 0.5867\n",
      "Epoch 5/50\n",
      "15/15 [==============================] - 0s 2ms/step - loss: 1.0117 - accuracy: 0.5600 - val_loss: 0.9682 - val_accuracy: 0.6000\n",
      "Epoch 6/50\n",
      "15/15 [==============================] - 0s 2ms/step - loss: 0.9495 - accuracy: 0.5600 - val_loss: 0.9106 - val_accuracy: 0.6267\n",
      "Epoch 7/50\n",
      "15/15 [==============================] - 0s 3ms/step - loss: 0.8948 - accuracy: 0.6533 - val_loss: 0.8599 - val_accuracy: 0.6667\n",
      "Epoch 8/50\n",
      "15/15 [==============================] - 0s 3ms/step - loss: 0.8471 - accuracy: 0.7333 - val_loss: 0.8145 - val_accuracy: 0.7200\n",
      "Epoch 9/50\n",
      "15/15 [==============================] - 0s 3ms/step - loss: 0.8052 - accuracy: 0.8000 - val_loss: 0.7739 - val_accuracy: 0.7733\n",
      "Epoch 10/50\n",
      "15/15 [==============================] - 0s 3ms/step - loss: 0.7669 - accuracy: 0.8000 - val_loss: 0.7375 - val_accuracy: 0.8000\n",
      "Epoch 11/50\n",
      "15/15 [==============================] - 0s 2ms/step - loss: 0.7331 - accuracy: 0.7867 - val_loss: 0.7046 - val_accuracy: 0.8000\n",
      "Epoch 12/50\n",
      "15/15 [==============================] - 0s 2ms/step - loss: 0.7020 - accuracy: 0.8133 - val_loss: 0.6748 - val_accuracy: 0.8000\n",
      "Epoch 13/50\n",
      "15/15 [==============================] - 0s 2ms/step - loss: 0.6743 - accuracy: 0.8133 - val_loss: 0.6479 - val_accuracy: 0.8000\n",
      "Epoch 14/50\n",
      "15/15 [==============================] - 0s 2ms/step - loss: 0.6494 - accuracy: 0.8267 - val_loss: 0.6234 - val_accuracy: 0.8267\n",
      "Epoch 15/50\n",
      "15/15 [==============================] - 0s 2ms/step - loss: 0.6262 - accuracy: 0.8267 - val_loss: 0.6008 - val_accuracy: 0.8533\n",
      "Epoch 16/50\n",
      "15/15 [==============================] - 0s 2ms/step - loss: 0.6049 - accuracy: 0.8267 - val_loss: 0.5800 - val_accuracy: 0.8533\n",
      "Epoch 17/50\n",
      "15/15 [==============================] - 0s 2ms/step - loss: 0.5849 - accuracy: 0.8400 - val_loss: 0.5606 - val_accuracy: 0.8533\n",
      "Epoch 18/50\n",
      "15/15 [==============================] - 0s 2ms/step - loss: 0.5670 - accuracy: 0.8267 - val_loss: 0.5429 - val_accuracy: 0.8533\n",
      "Epoch 19/50\n",
      "15/15 [==============================] - 0s 2ms/step - loss: 0.5499 - accuracy: 0.8267 - val_loss: 0.5265 - val_accuracy: 0.8533\n",
      "Epoch 20/50\n",
      "15/15 [==============================] - 0s 2ms/step - loss: 0.5338 - accuracy: 0.8400 - val_loss: 0.5111 - val_accuracy: 0.8533\n",
      "Epoch 21/50\n",
      "15/15 [==============================] - 0s 2ms/step - loss: 0.5190 - accuracy: 0.8400 - val_loss: 0.4968 - val_accuracy: 0.8667\n",
      "Epoch 22/50\n",
      "15/15 [==============================] - 0s 2ms/step - loss: 0.5045 - accuracy: 0.8400 - val_loss: 0.4837 - val_accuracy: 0.8667\n",
      "Epoch 23/50\n",
      "15/15 [==============================] - 0s 2ms/step - loss: 0.4916 - accuracy: 0.8400 - val_loss: 0.4714 - val_accuracy: 0.8667\n",
      "Epoch 24/50\n",
      "15/15 [==============================] - ETA: 0s - loss: 0.8657 - accuracy: 0.40 - 0s 2ms/step - loss: 0.4796 - accuracy: 0.8533 - val_loss: 0.4598 - val_accuracy: 0.8667\n",
      "Epoch 25/50\n",
      "15/15 [==============================] - 0s 2ms/step - loss: 0.4680 - accuracy: 0.8400 - val_loss: 0.4489 - val_accuracy: 0.8667\n",
      "Epoch 26/50\n",
      "15/15 [==============================] - 0s 2ms/step - loss: 0.4569 - accuracy: 0.8400 - val_loss: 0.4389 - val_accuracy: 0.8667\n",
      "Epoch 27/50\n",
      "15/15 [==============================] - 0s 2ms/step - loss: 0.4467 - accuracy: 0.8400 - val_loss: 0.4295 - val_accuracy: 0.8667\n",
      "Epoch 28/50\n",
      "15/15 [==============================] - 0s 2ms/step - loss: 0.4373 - accuracy: 0.8400 - val_loss: 0.4206 - val_accuracy: 0.8667\n",
      "Epoch 29/50\n",
      "15/15 [==============================] - 0s 2ms/step - loss: 0.4278 - accuracy: 0.8400 - val_loss: 0.4121 - val_accuracy: 0.8667\n",
      "Epoch 30/50\n",
      "15/15 [==============================] - 0s 2ms/step - loss: 0.4188 - accuracy: 0.8400 - val_loss: 0.4040 - val_accuracy: 0.8667\n",
      "Epoch 31/50\n",
      "15/15 [==============================] - 0s 2ms/step - loss: 0.4110 - accuracy: 0.8533 - val_loss: 0.3963 - val_accuracy: 0.8933\n",
      "Epoch 32/50\n",
      "15/15 [==============================] - 0s 2ms/step - loss: 0.4022 - accuracy: 0.8400 - val_loss: 0.3892 - val_accuracy: 0.8933\n",
      "Epoch 33/50\n",
      "15/15 [==============================] - 0s 2ms/step - loss: 0.3949 - accuracy: 0.8800 - val_loss: 0.3822 - val_accuracy: 0.8933\n",
      "Epoch 34/50\n",
      "15/15 [==============================] - 0s 2ms/step - loss: 0.3876 - accuracy: 0.8800 - val_loss: 0.3758 - val_accuracy: 0.8933\n",
      "Epoch 35/50\n",
      "15/15 [==============================] - 0s 2ms/step - loss: 0.3804 - accuracy: 0.8800 - val_loss: 0.3697 - val_accuracy: 0.8800\n",
      "Epoch 36/50\n",
      "15/15 [==============================] - 0s 2ms/step - loss: 0.3739 - accuracy: 0.8800 - val_loss: 0.3640 - val_accuracy: 0.8933\n",
      "Epoch 37/50\n",
      "15/15 [==============================] - 0s 3ms/step - loss: 0.3677 - accuracy: 0.8800 - val_loss: 0.3587 - val_accuracy: 0.8933\n",
      "Epoch 38/50\n",
      "15/15 [==============================] - 0s 2ms/step - loss: 0.3622 - accuracy: 0.8800 - val_loss: 0.3537 - val_accuracy: 0.8933\n",
      "Epoch 39/50\n",
      "15/15 [==============================] - 0s 2ms/step - loss: 0.3560 - accuracy: 0.8933 - val_loss: 0.3486 - val_accuracy: 0.8933\n",
      "Epoch 40/50\n",
      "15/15 [==============================] - 0s 2ms/step - loss: 0.3506 - accuracy: 0.8933 - val_loss: 0.3434 - val_accuracy: 0.8933\n",
      "Epoch 41/50\n",
      "15/15 [==============================] - 0s 2ms/step - loss: 0.3448 - accuracy: 0.8933 - val_loss: 0.3387 - val_accuracy: 0.9067\n",
      "Epoch 42/50\n",
      "15/15 [==============================] - 0s 2ms/step - loss: 0.3392 - accuracy: 0.8933 - val_loss: 0.3343 - val_accuracy: 0.9067\n",
      "Epoch 43/50\n",
      "15/15 [==============================] - 0s 2ms/step - loss: 0.3345 - accuracy: 0.8933 - val_loss: 0.3298 - val_accuracy: 0.9067\n",
      "Epoch 44/50\n",
      "15/15 [==============================] - 0s 2ms/step - loss: 0.3291 - accuracy: 0.8933 - val_loss: 0.3257 - val_accuracy: 0.9067\n",
      "Epoch 45/50\n",
      "15/15 [==============================] - 0s 2ms/step - loss: 0.3237 - accuracy: 0.8933 - val_loss: 0.3216 - val_accuracy: 0.9067\n",
      "Epoch 46/50\n",
      "15/15 [==============================] - 0s 2ms/step - loss: 0.3194 - accuracy: 0.8933 - val_loss: 0.3175 - val_accuracy: 0.9067\n",
      "Epoch 47/50\n",
      "15/15 [==============================] - 0s 2ms/step - loss: 0.3144 - accuracy: 0.8933 - val_loss: 0.3137 - val_accuracy: 0.9067\n",
      "Epoch 48/50\n",
      "15/15 [==============================] - 0s 2ms/step - loss: 0.3104 - accuracy: 0.8933 - val_loss: 0.3099 - val_accuracy: 0.9200\n",
      "Epoch 49/50\n",
      "15/15 [==============================] - 0s 2ms/step - loss: 0.3053 - accuracy: 0.9067 - val_loss: 0.3063 - val_accuracy: 0.9200\n",
      "Epoch 50/50\n",
      "15/15 [==============================] - 0s 2ms/step - loss: 0.3013 - accuracy: 0.9067 - val_loss: 0.3029 - val_accuracy: 0.9200\n"
     ]
    }
   ],
   "source": [
    "\n",
    "model_new = keras.Sequential()\n",
    "model_new.add(keras.layers.Dense(10, input_shape=(n_features,), activation='relu'))\n",
    "model_new.add(keras.layers.Dense(3, activation='softmax'))\n",
    "model_new.compile(loss='categorical_crossentropy', optimizer='sgd', metrics=['accuracy'])\n",
    "\n",
    "history_new = model_new.fit(X_train, Y_train,\n",
    "                                 batch_size=5,\n",
    "                                 epochs=50,\n",
    "                                 verbose=1,\n",
    "                                 validation_data=(X_test, Y_test)\n",
    "                        )"
   ]
  },
  {
   "cell_type": "code",
   "execution_count": 74,
   "metadata": {},
   "outputs": [
    {
     "data": {
      "text/plain": [
       "<matplotlib.legend.Legend at 0x20145fe8160>"
      ]
     },
     "execution_count": 74,
     "metadata": {},
     "output_type": "execute_result"
    },
    {
     "data": {
      "image/png": "[encoded data removed]",
      "text/plain": [
       "<Figure size 504x720 with 2 Axes>"
      ]
     },
     "metadata": {},
     "output_type": "display_data"
    }
   ],
   "source": [
    "fig = plt.figure(figsize=(7, 10))\n",
    "\n",
    "fig.patch.set_facecolor((1,1,1))\n",
    "\n",
    "plt.subplot(211)\n",
    "\n",
    "plt.plot(history.history['accuracy'], \"g-\", label=\"ADAM\")\n",
    "plt.plot(history_new.history['accuracy'], \"b-\", label=\"SGD\")\n",
    "plt.title('model accuracy')\n",
    "plt.ylabel('accuracy')\n",
    "plt.xlabel('epoch')\n",
    "plt.legend()\n",
    "\n",
    "plt.subplot(212)\n",
    "\n",
    "plt.plot(history.history['loss'], \"g-\", label=\"ADAM\")\n",
    "plt.plot(history_new.history['loss'], \"b-\", label=\"SGD\")\n",
    "plt.title('model loss')\n",
    "plt.ylabel('loss')\n",
    "plt.xlabel('epoch')\n",
    "plt.legend()\n",
    "\n"
   ]
  },
  {
   "cell_type": "markdown",
   "metadata": {},
   "source": [
    "La descente de gradient stochastique semble avoir une accuracy plus stable, peut être lié à de l'overfitting.\n",
    "Cependant l'utilisation de ADAM semble atteindre un bon niveau d'accuracy assez rapidement vers 10 epochs avant de devenir instable."
   ]
  },
  {
   "cell_type": "markdown",
   "metadata": {
    "id": "RY2F9paoPWNT"
   },
   "source": [
    "# Comparaison automatique de modèles"
   ]
  },
  {
   "cell_type": "markdown",
   "metadata": {
    "id": "5R0Fa9ZwPtAB"
   },
   "source": [
    "Le code suivant permet de créer plusieurs modèles. "
   ]
  },
  {
   "cell_type": "markdown",
   "metadata": {
    "id": "JoYEhB1LLlAN"
   },
   "source": []
  },
  {
   "cell_type": "code",
   "execution_count": 75,
   "metadata": {
    "colab": {
     "base_uri": "https://localhost:8080/"
    },
    "id": "qJlz9behJS_j",
    "outputId": "7f8184ce-7634-4b9e-fdf1-5c46429365ad"
   },
   "outputs": [
    {
     "name": "stdout",
     "output_type": "stream",
     "text": [
      "Model: \"model_1\"\n",
      "_________________________________________________________________\n",
      "Layer (type)                 Output Shape              Param #   \n",
      "=================================================================\n",
      "dense_31 (Dense)             (None, 8)                 40        \n",
      "_________________________________________________________________\n",
      "dense_32 (Dense)             (None, 3)                 27        \n",
      "=================================================================\n",
      "Total params: 67\n",
      "Trainable params: 67\n",
      "Non-trainable params: 0\n",
      "_________________________________________________________________\n",
      "Model: \"model_2\"\n",
      "_________________________________________________________________\n",
      "Layer (type)                 Output Shape              Param #   \n",
      "=================================================================\n",
      "dense_33 (Dense)             (None, 8)                 40        \n",
      "_________________________________________________________________\n",
      "dense_34 (Dense)             (None, 8)                 72        \n",
      "_________________________________________________________________\n",
      "dense_35 (Dense)             (None, 3)                 27        \n",
      "=================================================================\n",
      "Total params: 139\n",
      "Trainable params: 139\n",
      "Non-trainable params: 0\n",
      "_________________________________________________________________\n",
      "Model: \"model_3\"\n",
      "_________________________________________________________________\n",
      "Layer (type)                 Output Shape              Param #   \n",
      "=================================================================\n",
      "dense_36 (Dense)             (None, 8)                 40        \n",
      "_________________________________________________________________\n",
      "dense_37 (Dense)             (None, 8)                 72        \n",
      "_________________________________________________________________\n",
      "dense_38 (Dense)             (None, 8)                 72        \n",
      "_________________________________________________________________\n",
      "dense_39 (Dense)             (None, 3)                 27        \n",
      "=================================================================\n",
      "Total params: 211\n",
      "Trainable params: 211\n",
      "Non-trainable params: 0\n",
      "_________________________________________________________________\n"
     ]
    }
   ],
   "source": [
    "from keras.models import Sequential\n",
    "from keras.layers import Dense\n",
    "\n",
    "def create_custom_model(input_dim, output_dim, nodes, n=1, name='model'):\n",
    "    def create_model():\n",
    "        # Create model\n",
    "        model = Sequential(name=name)\n",
    "        for i in range(n):\n",
    "            model.add(Dense(nodes, input_dim=input_dim, activation='relu'))\n",
    "        model.add(Dense(output_dim, activation='softmax'))\n",
    "\n",
    "        # Compile model\n",
    "        model.compile(loss='categorical_crossentropy', \n",
    "                      optimizer='adam', \n",
    "                      metrics=['accuracy'])\n",
    "        return model\n",
    "    return create_model\n",
    "\n",
    "models = [create_custom_model(n_features, n_classes, 8, i, 'model_{}'.format(i)) \n",
    "          for i in range(1, 4)]\n",
    "\n",
    "for create_model in models:\n",
    "    create_model().summary()\n"
   ]
  },
  {
   "cell_type": "markdown",
   "metadata": {
    "id": "G6Cq_U1cP5Fi"
   },
   "source": [
    "## Question 7\n",
    "Quelle est la différence entre ces 3 modèles ?"
   ]
  },
  {
   "cell_type": "markdown",
   "metadata": {},
   "source": [
    "Chaque nouveau modèle contient une couche dense de plus que le précèdent et ajoute donc de nouveaux paramètres (poids et biais) au réseau de neurones."
   ]
  },
  {
   "cell_type": "markdown",
   "metadata": {
    "id": "fGMCMdzfRB67"
   },
   "source": [
    "Le code suivant permet de les exécuter en parallèle et de stocker les résultats dans le dictionnaire `history_dict`. Nous n'entrerons pas ici dans les mécanismes de `callback` qui sont gérés via `TensorBoard`. Il faut simplement savoir que `Tensor Flow` est associé à une libraire `TensorBoard` qui permet la gestion et la supervision de tensor flow. En particulier, elle permet d'utiliser un serveur html pour afficher la progression des algorithmes en temps réel sur une page web via un mécanismes de callback."
   ]
  },
  {
   "cell_type": "code",
   "execution_count": 76,
   "metadata": {
    "colab": {
     "base_uri": "https://localhost:8080/"
    },
    "id": "dhTGVIzTJf6y",
    "outputId": "658c82b6-7edd-45a1-acd4-3f838882b6a9"
   },
   "outputs": [
    {
     "name": "stdout",
     "output_type": "stream",
     "text": [
      "Model name: model_1\n",
      "Test loss: 0.32512548565864563\n",
      "Test accuracy: 0.9066666960716248\n",
      "Model name: model_2\n",
      "Test loss: 0.2377837598323822\n",
      "Test accuracy: 0.9333333373069763\n",
      "Model name: model_3\n",
      "Test loss: 0.32477468252182007\n",
      "Test accuracy: 0.9066666960716248\n"
     ]
    }
   ],
   "source": [
    "from keras.callbacks import TensorBoard\n",
    "\n",
    "history_dict = {}\n",
    "\n",
    "# TensorBoard Callback\n",
    "cb = TensorBoard()\n",
    "\n",
    "for create_model in models:\n",
    "    model = create_model()\n",
    "    print('Model name:', model.name)\n",
    "    history_callback = model.fit(X_train, Y_train,\n",
    "                                 batch_size=5,\n",
    "                                 epochs=50,\n",
    "                                 verbose=0,\n",
    "                                 validation_data=(X_test, Y_test),\n",
    "                                 callbacks=[cb])\n",
    "    score = model.evaluate(X_test, Y_test, verbose=0)\n",
    "    print('Test loss:', score[0])\n",
    "    print('Test accuracy:', score[1])\n",
    "    \n",
    "    history_dict[model.name] = [history_callback, model]\n"
   ]
  },
  {
   "cell_type": "markdown",
   "metadata": {
    "id": "agRhnLjJRTaD"
   },
   "source": [
    "Ce dictionnaire est utilisé pour tracer des courbes de comparaison de performance :"
   ]
  },
  {
   "cell_type": "code",
   "execution_count": 77,
   "metadata": {
    "colab": {
     "base_uri": "https://localhost:8080/",
     "height": 391
    },
    "id": "Hb549OR9JmgS",
    "outputId": "65630616-e0b4-410b-f6b9-e0348d1a1628"
   },
   "outputs": [
    {
     "data": {
      "image/png": "[encoded data removed]",
      "text/plain": [
       "<Figure size 576x432 with 2 Axes>"
      ]
     },
     "metadata": {
      "needs_background": "light"
     },
     "output_type": "display_data"
    }
   ],
   "source": [
    "fig, (ax1, ax2) = plt.subplots(2, figsize=(8, 6))\n",
    "\n",
    "for model_name in history_dict:\n",
    "    val_accurady = history_dict[model_name][0].history['val_accuracy']\n",
    "    val_loss = history_dict[model_name][0].history['val_loss']\n",
    "    ax1.plot(val_accurady, label=model_name)\n",
    "    ax2.plot(val_loss, label=model_name)\n",
    "    \n",
    "ax1.set_ylabel('validation accuracy')\n",
    "ax2.set_ylabel('validation loss')\n",
    "ax2.set_xlabel('epochs')\n",
    "ax1.legend()\n",
    "ax2.legend();\n"
   ]
  },
  {
   "cell_type": "markdown",
   "metadata": {
    "id": "ogD97lNeU1Mj"
   },
   "source": [
    "## Obtention de la courbe ROC \n",
    "La courbe ROC est un moyen d'évaluer la qualité d'un classifieur. Elle indique le taux de faux positifs et de faux négatifs selon le seuil que l'on fixe pour séparer le fait que les données appartiennent ou non à une classe. Ici, on prend la sortie du classifieur softmax, on fixe un seuil d'acceptation pour une classe donnée, on observe le classement issue du classifieur associé à ce seuil pour chaque donnée de test. Si le seuil est très bas, les données vont toutes être dans la classe. Si on compare à la classe réelle, on vera qu'il y a des données mal classées, ce seront les faux positifs. Plus le seuil est faible plus le nombre de faux positifs s'approche des 100%. A l'inverse si le seuil est très haut, des données seront classées hors de la classe alors qu'elles en font partie. Ce sont des faux négatifs. Plus le seuil est haut plus le taux de faux négatifs s'approche de 100%. On obtient donc des points extrèmes en haut à droites et en bas à gauche d'une courbe ROC. Les points intermédiaires vont permettre de délimiter une *aire sous la courbe*. Un classifieur parfait possède une aire sous la courbe de 1. Un classifieur *aléatoire* possède une aire sous la courbe de 0.5. Le code suivant montre l'air sous la courbe de vos modèles. \n"
   ]
  },
  {
   "cell_type": "code",
   "execution_count": 78,
   "metadata": {
    "colab": {
     "base_uri": "https://localhost:8080/",
     "height": 626
    },
    "id": "Qyt3zO80V__b",
    "outputId": "880d332b-c615-4c51-9f27-e9a9e32397a8"
   },
   "outputs": [
    {
     "name": "stdout",
     "output_type": "stream",
     "text": [
      "WARNING:tensorflow:5 out of the last 9 calls to <function Model.make_predict_function.<locals>.predict_function at 0x0000020141380940> triggered tf.function retracing. Tracing is expensive and the excessive number of tracings could be due to (1) creating @tf.function repeatedly in a loop, (2) passing tensors with different shapes, (3) passing Python objects instead of tensors. For (1), please define your @tf.function outside of the loop. For (2), @tf.function has experimental_relax_shapes=True option that relaxes argument shapes that can avoid unnecessary retracing. For (3), please refer to https://www.tensorflow.org/guide/function#controlling_retracing and https://www.tensorflow.org/api_docs/python/tf/function for  more details.\n",
      "WARNING:tensorflow:6 out of the last 12 calls to <function Model.make_predict_function.<locals>.predict_function at 0x0000020141464B80> triggered tf.function retracing. Tracing is expensive and the excessive number of tracings could be due to (1) creating @tf.function repeatedly in a loop, (2) passing tensors with different shapes, (3) passing Python objects instead of tensors. For (1), please define your @tf.function outside of the loop. For (2), @tf.function has experimental_relax_shapes=True option that relaxes argument shapes that can avoid unnecessary retracing. For (3), please refer to https://www.tensorflow.org/guide/function#controlling_retracing and https://www.tensorflow.org/api_docs/python/tf/function for  more details.\n"
     ]
    },
    {
     "data": {
      "image/png": "[encoded data removed]",
      "text/plain": [
       "<Figure size 720x720 with 1 Axes>"
      ]
     },
     "metadata": {
      "needs_background": "light"
     },
     "output_type": "display_data"
    }
   ],
   "source": [
    "from sklearn.metrics import roc_curve, auc\n",
    "\n",
    "plt.figure(figsize=(10, 10))\n",
    "plt.plot([0, 1], [0, 1], 'k--')\n",
    "\n",
    "for model_name in history_dict:\n",
    "    model = history_dict[model_name][1]\n",
    "    \n",
    "    Y_pred = model.predict(X_test)\n",
    "    fpr, tpr, threshold = roc_curve(Y_test.ravel(), Y_pred.ravel())\n",
    "    \n",
    "    plt.plot(fpr, tpr, label='{}, AUC = {:.3f}'.format(model_name, auc(fpr, tpr)))\n",
    "plt.xlabel('False positive rate')\n",
    "plt.ylabel('True positive rate')\n",
    "plt.title('ROC curve')\n",
    "plt.legend();\n"
   ]
  },
  {
   "cell_type": "markdown",
   "metadata": {
    "id": "mhyzuqp7Rjc7"
   },
   "source": [
    "## Question 8\n",
    "En modifiant les modèles en termes de fonction de transfert des neurones, nombre de couches par modèle, nombre de neurones ou encore fonction de transfert des neurones, essayez de déterminer une configuration qui *bat* le modèle 2.\n",
    "Montrez ses différentes courbes de performances."
   ]
  },
  {
   "cell_type": "code",
   "execution_count": 118,
   "metadata": {},
   "outputs": [
    {
     "name": "stdout",
     "output_type": "stream",
     "text": [
      "Model: \"sequential_27\"\n",
      "_________________________________________________________________\n",
      "Layer (type)                 Output Shape              Param #   \n",
      "=================================================================\n",
      "dense_84 (Dense)             (None, 16)                80        \n",
      "_________________________________________________________________\n",
      "dense_85 (Dense)             (None, 16)                272       \n",
      "_________________________________________________________________\n",
      "dense_86 (Dense)             (None, 16)                272       \n",
      "_________________________________________________________________\n",
      "dense_87 (Dense)             (None, 16)                272       \n",
      "_________________________________________________________________\n",
      "dense_88 (Dense)             (None, 3)                 51        \n",
      "=================================================================\n",
      "Total params: 947\n",
      "Trainable params: 947\n",
      "Non-trainable params: 0\n",
      "_________________________________________________________________\n"
     ]
    }
   ],
   "source": [
    "model_new = keras.Sequential()\n",
    "model_new.add(keras.layers.Dense(16, input_shape=(n_features,), activation='relu'))\n",
    "model_new.add(keras.layers.Dense(16,  activation='relu'))\n",
    "model_new.add(keras.layers.Dense(16,  activation='relu'))\n",
    "model_new.add(keras.layers.Dense(16,  activation='relu'))\n",
    "model_new.add(keras.layers.Dense(3, activation='softmax'))\n",
    "model_new.compile(loss='categorical_crossentropy', optimizer='sgd', metrics=['accuracy'])\n",
    "\n",
    "model_new.summary()\n"
   ]
  },
  {
   "cell_type": "code",
   "execution_count": 119,
   "metadata": {},
   "outputs": [
    {
     "name": "stdout",
     "output_type": "stream",
     "text": [
      "Epoch 1/50\n",
      "15/15 [==============================] - 0s 10ms/step - loss: 1.0937 - accuracy: 0.3067 - val_loss: 1.0510 - val_accuracy: 0.4133\n",
      "Epoch 2/50\n",
      "15/15 [==============================] - 0s 2ms/step - loss: 1.0275 - accuracy: 0.4533 - val_loss: 0.9973 - val_accuracy: 0.5333\n",
      "Epoch 3/50\n",
      "15/15 [==============================] - 0s 2ms/step - loss: 0.9835 - accuracy: 0.5067 - val_loss: 0.9540 - val_accuracy: 0.6000\n",
      "Epoch 4/50\n",
      "15/15 [==============================] - 0s 2ms/step - loss: 0.9428 - accuracy: 0.5600 - val_loss: 0.9114 - val_accuracy: 0.6533\n",
      "Epoch 5/50\n",
      "15/15 [==============================] - 0s 2ms/step - loss: 0.9026 - accuracy: 0.6667 - val_loss: 0.8698 - val_accuracy: 0.7067\n",
      "Epoch 6/50\n",
      "15/15 [==============================] - 0s 2ms/step - loss: 0.8646 - accuracy: 0.6800 - val_loss: 0.8289 - val_accuracy: 0.7333\n",
      "Epoch 7/50\n",
      "15/15 [==============================] - 0s 2ms/step - loss: 0.8256 - accuracy: 0.7333 - val_loss: 0.7906 - val_accuracy: 0.7467\n",
      "Epoch 8/50\n",
      "15/15 [==============================] - 0s 2ms/step - loss: 0.7913 - accuracy: 0.7600 - val_loss: 0.7568 - val_accuracy: 0.7467\n",
      "Epoch 9/50\n",
      "15/15 [==============================] - 0s 2ms/step - loss: 0.7620 - accuracy: 0.8133 - val_loss: 0.7268 - val_accuracy: 0.7867\n",
      "Epoch 10/50\n",
      "15/15 [==============================] - 0s 2ms/step - loss: 0.7341 - accuracy: 0.8400 - val_loss: 0.7003 - val_accuracy: 0.8000\n",
      "Epoch 11/50\n",
      "15/15 [==============================] - 0s 2ms/step - loss: 0.7111 - accuracy: 0.8400 - val_loss: 0.6773 - val_accuracy: 0.8000\n",
      "Epoch 12/50\n",
      "15/15 [==============================] - 0s 2ms/step - loss: 0.6900 - accuracy: 0.8533 - val_loss: 0.6569 - val_accuracy: 0.8000\n",
      "Epoch 13/50\n",
      "15/15 [==============================] - 0s 2ms/step - loss: 0.6712 - accuracy: 0.8533 - val_loss: 0.6390 - val_accuracy: 0.8000\n",
      "Epoch 14/50\n",
      "15/15 [==============================] - 0s 2ms/step - loss: 0.6544 - accuracy: 0.8533 - val_loss: 0.6213 - val_accuracy: 0.8267\n",
      "Epoch 15/50\n",
      "15/15 [==============================] - 0s 2ms/step - loss: 0.6371 - accuracy: 0.8533 - val_loss: 0.6048 - val_accuracy: 0.8400\n",
      "Epoch 16/50\n",
      "15/15 [==============================] - 0s 2ms/step - loss: 0.6216 - accuracy: 0.8533 - val_loss: 0.5892 - val_accuracy: 0.8400\n",
      "Epoch 17/50\n",
      "15/15 [==============================] - 0s 2ms/step - loss: 0.6052 - accuracy: 0.8667 - val_loss: 0.5720 - val_accuracy: 0.8533\n",
      "Epoch 18/50\n",
      "15/15 [==============================] - 0s 2ms/step - loss: 0.5891 - accuracy: 0.8667 - val_loss: 0.5565 - val_accuracy: 0.8533\n",
      "Epoch 19/50\n",
      "15/15 [==============================] - 0s 3ms/step - loss: 0.5734 - accuracy: 0.8800 - val_loss: 0.5398 - val_accuracy: 0.8667\n",
      "Epoch 20/50\n",
      "15/15 [==============================] - 0s 5ms/step - loss: 0.5583 - accuracy: 0.8533 - val_loss: 0.5237 - val_accuracy: 0.8667\n",
      "Epoch 21/50\n",
      "15/15 [==============================] - 0s 3ms/step - loss: 0.5424 - accuracy: 0.8800 - val_loss: 0.5074 - val_accuracy: 0.8800\n",
      "Epoch 22/50\n",
      "15/15 [==============================] - 0s 2ms/step - loss: 0.5265 - accuracy: 0.8800 - val_loss: 0.4917 - val_accuracy: 0.8800\n",
      "Epoch 23/50\n",
      "15/15 [==============================] - 0s 2ms/step - loss: 0.5107 - accuracy: 0.8533 - val_loss: 0.4772 - val_accuracy: 0.8800\n",
      "Epoch 24/50\n",
      "15/15 [==============================] - 0s 2ms/step - loss: 0.4939 - accuracy: 0.8667 - val_loss: 0.4617 - val_accuracy: 0.8800\n",
      "Epoch 25/50\n",
      "15/15 [==============================] - 0s 2ms/step - loss: 0.4774 - accuracy: 0.8667 - val_loss: 0.4445 - val_accuracy: 0.8800\n",
      "Epoch 26/50\n",
      "15/15 [==============================] - 0s 2ms/step - loss: 0.4594 - accuracy: 0.8667 - val_loss: 0.4263 - val_accuracy: 0.8800\n",
      "Epoch 27/50\n",
      "15/15 [==============================] - 0s 2ms/step - loss: 0.4423 - accuracy: 0.8667 - val_loss: 0.4091 - val_accuracy: 0.8933\n",
      "Epoch 28/50\n",
      "15/15 [==============================] - 0s 2ms/step - loss: 0.4257 - accuracy: 0.8933 - val_loss: 0.3903 - val_accuracy: 0.9067\n",
      "Epoch 29/50\n",
      "15/15 [==============================] - 0s 2ms/step - loss: 0.4086 - accuracy: 0.8800 - val_loss: 0.3770 - val_accuracy: 0.9067\n",
      "Epoch 30/50\n",
      "15/15 [==============================] - 0s 2ms/step - loss: 0.3914 - accuracy: 0.8667 - val_loss: 0.3596 - val_accuracy: 0.9067\n",
      "Epoch 31/50\n",
      "15/15 [==============================] - 0s 2ms/step - loss: 0.3759 - accuracy: 0.8800 - val_loss: 0.3424 - val_accuracy: 0.9200\n",
      "Epoch 32/50\n",
      "15/15 [==============================] - 0s 2ms/step - loss: 0.3571 - accuracy: 0.8933 - val_loss: 0.3252 - val_accuracy: 0.9467\n",
      "Epoch 33/50\n",
      "15/15 [==============================] - 0s 2ms/step - loss: 0.3416 - accuracy: 0.9333 - val_loss: 0.3142 - val_accuracy: 0.9467\n",
      "Epoch 34/50\n",
      "15/15 [==============================] - 0s 2ms/step - loss: 0.3269 - accuracy: 0.9067 - val_loss: 0.2993 - val_accuracy: 0.9467\n",
      "Epoch 35/50\n",
      "15/15 [==============================] - 0s 3ms/step - loss: 0.3089 - accuracy: 0.9333 - val_loss: 0.2832 - val_accuracy: 0.9467\n",
      "Epoch 36/50\n",
      "15/15 [==============================] - 0s 2ms/step - loss: 0.2939 - accuracy: 0.9467 - val_loss: 0.2708 - val_accuracy: 0.9467\n",
      "Epoch 37/50\n",
      "15/15 [==============================] - 0s 2ms/step - loss: 0.2801 - accuracy: 0.9600 - val_loss: 0.2631 - val_accuracy: 0.9467\n",
      "Epoch 38/50\n",
      "15/15 [==============================] - 0s 2ms/step - loss: 0.2647 - accuracy: 0.9600 - val_loss: 0.2487 - val_accuracy: 0.9467\n",
      "Epoch 39/50\n",
      "15/15 [==============================] - 0s 2ms/step - loss: 0.2515 - accuracy: 0.9600 - val_loss: 0.2334 - val_accuracy: 0.9467\n",
      "Epoch 40/50\n",
      "15/15 [==============================] - 0s 2ms/step - loss: 0.2397 - accuracy: 0.9600 - val_loss: 0.2240 - val_accuracy: 0.9467\n",
      "Epoch 41/50\n",
      "15/15 [==============================] - 0s 2ms/step - loss: 0.2256 - accuracy: 0.9733 - val_loss: 0.2128 - val_accuracy: 0.9467\n",
      "Epoch 42/50\n",
      "15/15 [==============================] - 0s 2ms/step - loss: 0.2159 - accuracy: 0.9733 - val_loss: 0.2092 - val_accuracy: 0.9467\n",
      "Epoch 43/50\n",
      "15/15 [==============================] - 0s 2ms/step - loss: 0.2035 - accuracy: 0.9733 - val_loss: 0.1974 - val_accuracy: 0.9467\n",
      "Epoch 44/50\n",
      "15/15 [==============================] - 0s 2ms/step - loss: 0.1945 - accuracy: 0.9600 - val_loss: 0.1903 - val_accuracy: 0.9467\n",
      "Epoch 45/50\n",
      "15/15 [==============================] - 0s 3ms/step - loss: 0.1866 - accuracy: 0.9733 - val_loss: 0.1854 - val_accuracy: 0.9467\n",
      "Epoch 46/50\n",
      "15/15 [==============================] - 0s 2ms/step - loss: 0.1745 - accuracy: 0.9733 - val_loss: 0.1805 - val_accuracy: 0.9333\n",
      "Epoch 47/50\n",
      "15/15 [==============================] - 0s 2ms/step - loss: 0.1658 - accuracy: 0.9733 - val_loss: 0.1720 - val_accuracy: 0.9333\n",
      "Epoch 48/50\n",
      "15/15 [==============================] - 0s 2ms/step - loss: 0.1584 - accuracy: 0.9733 - val_loss: 0.1627 - val_accuracy: 0.9333\n",
      "Epoch 49/50\n",
      "15/15 [==============================] - 0s 2ms/step - loss: 0.1527 - accuracy: 0.9733 - val_loss: 0.1605 - val_accuracy: 0.9333\n",
      "Epoch 50/50\n",
      "15/15 [==============================] - 0s 2ms/step - loss: 0.1460 - accuracy: 0.9733 - val_loss: 0.1501 - val_accuracy: 0.9333\n"
     ]
    }
   ],
   "source": [
    "history_new = model_new.fit(X_train, Y_train,\n",
    "                                 batch_size=5,\n",
    "                                 epochs=50,\n",
    "                                 verbose=1,\n",
    "                                 validation_data=(X_test, Y_test)\n",
    "                        )"
   ]
  },
  {
   "cell_type": "code",
   "execution_count": 120,
   "metadata": {},
   "outputs": [
    {
     "data": {
      "text/plain": [
       "Text(0.5, 0, 'epoch')"
      ]
     },
     "execution_count": 120,
     "metadata": {},
     "output_type": "execute_result"
    },
    {
     "data": {
      "image/png": "[encoded data removed]",
      "text/plain": [
       "<Figure size 504x720 with 2 Axes>"
      ]
     },
     "metadata": {},
     "output_type": "display_data"
    }
   ],
   "source": [
    "fig = plt.figure(figsize=(7, 10))\n",
    "\n",
    "fig.patch.set_facecolor((1,1,1))\n",
    "\n",
    "plt.subplot(211)\n",
    "\n",
    "plt.plot(history_new.history['accuracy'], \"b-\")\n",
    "plt.title('model accuracy')\n",
    "plt.ylabel('accuracy')\n",
    "plt.xlabel('epoch')\n",
    "\n",
    "plt.subplot(212)\n",
    "\n",
    "plt.plot(history_new.history['loss'], \"b-\")\n",
    "plt.title('model loss')\n",
    "plt.ylabel('loss')\n",
    "plt.xlabel('epoch')"
   ]
  },
  {
   "cell_type": "code",
   "execution_count": 121,
   "metadata": {},
   "outputs": [
    {
     "data": {
      "image/png": "[encoded data removed]",
      "text/plain": [
       "<Figure size 504x360 with 1 Axes>"
      ]
     },
     "metadata": {},
     "output_type": "display_data"
    }
   ],
   "source": [
    "fig = plt.figure(figsize=(7, 5))\n",
    "\n",
    "fig.patch.set_facecolor((1,1,1))\n",
    "\n",
    "model = history_dict[\"model_2\"][1]\n",
    "Y_pred = model.predict(X_test)\n",
    "fpr, tpr, threshold = roc_curve(Y_test.ravel(), Y_pred.ravel())\n",
    "plt.plot(fpr, tpr, label='{}, AUC = {:.3f}'.format(\"model_2\", auc(fpr, tpr)))\n",
    "\n",
    "Y_pred_new = model_new.predict(X_test)\n",
    "fpr, tpr, threshold = roc_curve(Y_test.ravel(), Y_pred_new.ravel())\n",
    "plt.plot(fpr, tpr, label='{}, AUC = {:.3f}'.format(\"model_new\", auc(fpr, tpr)))\n",
    "\n",
    "plt.xlabel('False positive rate')\n",
    "plt.ylabel('True positive rate')\n",
    "plt.title('ROC curve')\n",
    "plt.legend();"
   ]
  },
  {
   "cell_type": "markdown",
   "metadata": {},
   "source": [
    "Le nouveau modèle est plus performant que le modèle 2."
   ]
  },
  {
   "cell_type": "markdown",
   "metadata": {
    "id": "RhUDpQXumXhy"
   },
   "source": [
    "# Plus loin sur Tensor Flow\n",
    "\n",
    "Nous allons présenter la programmation plus bas niveau de tensorFlow. En tensorFlow, il faut définir un modèle avant tout calcul. Ce modèle est traduit en un graphe qui peut être distribué (sur GPU, sur grappes de machines ...)."
   ]
  },
  {
   "cell_type": "code",
   "execution_count": 122,
   "metadata": {
    "id": "5WOY5V61mr7X"
   },
   "outputs": [],
   "source": [
    "import tensorflow as tf\n",
    "x = tf.Variable(3, name=\"x\")\n",
    "y= tf.Variable(4, name=\"y\")\n",
    "f = x*x*y + y +2  "
   ]
  },
  {
   "cell_type": "markdown",
   "metadata": {
    "id": "jHBZO1xpm5CG"
   },
   "source": [
    "L'argument 'name' est facultatif mais utile pour les affichages et en particulier le 'tensorBoard' (abordé un peu plus loin dans ce TP). Pour exécuter le calcul, et par exemple obtenir la valeur de f, il faut créer une 'session'. Dans une session, on peut calculer les valeurs d'un noeud avec la méthode 'run()' de la session. Avant cela, il faut initialiser les valeurs des variables qui ont des valeurs initiales grâce à 'initializer'. "
   ]
  },
  {
   "cell_type": "code",
   "execution_count": 123,
   "metadata": {
    "colab": {
     "base_uri": "https://localhost:8080/"
    },
    "id": "H_hzBfppm6M3",
    "outputId": "000b6f8b-7a20-40bb-93c3-da0392a9aed7"
   },
   "outputs": [
    {
     "name": "stdout",
     "output_type": "stream",
     "text": [
      "tf.Tensor(42, shape=(), dtype=int32)\n"
     ]
    }
   ],
   "source": [
    "print(f)"
   ]
  }
 ],
 "metadata": {
  "colab": {
   "collapsed_sections": [],
   "name": "MasterSIIATensorFlow.ipynb",
   "provenance": []
  },
  "kernelspec": {
   "display_name": "Python 3 (ipykernel)",
   "language": "python",
   "name": "python3"
  },
  "language_info": {
   "codemirror_mode": {
    "name": "ipython",
    "version": 3
   },
   "file_extension": ".py",
   "mimetype": "text/x-python",
   "name": "python",
   "nbconvert_exporter": "python",
   "pygments_lexer": "ipython3",
   "version": "3.9.7"
  }
 },
 "nbformat": 4,
 "nbformat_minor": 1
}
