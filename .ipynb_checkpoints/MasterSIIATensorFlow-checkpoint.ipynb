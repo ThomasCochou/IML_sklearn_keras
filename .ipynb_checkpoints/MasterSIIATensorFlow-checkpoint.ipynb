{
 "cells": [
  {
   "cell_type": "markdown",
   "metadata": {
    "id": "TrkXPt60RQZk"
   },
   "source": [
    "# TP d'appropriation de l'apprentissage artificiel et du \"Deep Learning\" avec Numpy, SKLearn et Keras\n",
    "### MASTER SIIA \n"
   ]
  },
  {
   "cell_type": "markdown",
   "metadata": {
    "id": "GqlQvQrhRTVM"
   },
   "source": [
    "#Introduction\n",
    "\n",
    "**TensorFlow** est un outil qui permet d'implémenter et de tester rapidement des algorithmes d'apprentissage artificiel profonds. Une de ses caractéristiques est d'être adapté à des architectures matérielles dédiées au calcul (GPU) et de permettre une distribution de ce calcul sur des grappes de machines très simplement. Il permet d'utiliser de nombreux algorithmes prets à l'usage mais également de définir soi même tous les composants d'une architecture profonde de façon très détaillée. Il est également doté d'un outil de visualisation de l'architecture en cours de construction grâce à **tensor board.**\n",
    "\n",
    "Sa prise en main nécessite de connaitre les principaux algorithmes et principes d'apprentissage ainsi que la manipulation de données avec **Numpy**. Durant ce TP nous allons commencer par une présentation rapide de quelques fonctions de **Numpy** qui est une librairie python dédiée au calcul numérique. Nous aborderons également **matplotlib** qui vous permettra de tracer des courbes facilement. Nous verrons leur usage à travers l'utilisation de quelques fonctions de **Scikit-learn** également dédiée à l'apprentissage artificiel. **Scikit-Learn (Ou SKlearn)** avait été regroupé avec **Tensor Flow 1** pour donner naissance a **skFlow**. Néanmoins, cette librairie fut progressivement remplacer par **Keras** conjointement avec l'arrivée de **Tensor Flow 2**. Tout ceci a pour but de vous expliquer pourquoi, il y a parfois des confusion entre les versions, les codes, les noms des librairies. **Keras** a l'ambition d'être uns sur-couche à plusieurs librairies dont **Tensor flow**. Cependant pour entrer dans le détail des modèles, il est nécessaire de descendre un cran en dessous (chose que nous n'aurons sans doute pas le temps de faire). \n",
    "\n",
    "### Evolution 2020 :\n",
    "La crise sanitaire m'a incité à passer ce TP sous notebook google collab mais il est toujours possible d'exécuter le code en local sur vos machines. La principale difficulté étant celle de l'installation des bonnes versions des libraires. Il existe donc deux versions du TP, la version présente contient du code *Tensor Flow 2* exécutable sous Google Collab. Vous trouverez sur ma page web une version compatible avec **Tensor flow 1 et skLearn**.\n",
    "\n",
    "# Numpy\n",
    "\n",
    "**Numpy** permet une manipulation rapide de structures de données telles que les matrices (classe `array`). Il implémente également de façon rigoureuse des opérations sur les données grâce à la classe `linalg`. Le code suivant montre comment générer des données de test. Ici une entrée est une valeur choisie aléatoirement (et rangée dans le tableau X) et une sortie est calculée comme une fonction linéaire de l'entrée auquel on a ajouté un bruit (rangée dans le tableau y)."
   ]
  },
  {
   "cell_type": "code",
   "execution_count": 4,
   "metadata": {
    "id": "39tdZRRASg_0"
   },
   "outputs": [],
   "source": [
    "import numpy as np\n",
    "nbDonnee = 100\n",
    "X = 3*np.random.rand(nbDonnee,1) # Génération de 100 valeurs aléatoires représentant 100 exemples d'entrées.\n",
    "y = 2 + 4*X + np.random.randn(nbDonnee,1) # Génération des données de sorties qui sont une fonction des entrées plus un bruit."
   ]
  },
  {
   "cell_type": "markdown",
   "metadata": {
    "id": "lDgRpSHbSmGd"
   },
   "source": [
    "Vous pouvez afficher les points correspondants grâce à `matplotlib`"
   ]
  },
  {
   "cell_type": "code",
   "execution_count": 5,
   "metadata": {
    "id": "JNqUGVvHSpIT"
   },
   "outputs": [
    {
     "data": {
      "image/png": "[encoded data removed]",
      "text/plain": [
       "<Figure size 432x288 with 1 Axes>"
      ]
     },
     "metadata": {
      "needs_background": "light"
     },
     "output_type": "display_data"
    }
   ],
   "source": [
    "import matplotlib\n",
    "import matplotlib.pyplot as plt\n",
    "plt.plot(X,y, \"b.\") # On trace un point bleu pour chaque point des données\n",
    "plt.axis([0,3,0,15]) # On fixe les bornes de l'abscisse et de l'ordonnée du graphique\n",
    "plt.show() # On affiche le tout"
   ]
  },
  {
   "cell_type": "markdown",
   "metadata": {
    "id": "NEAAAZqnSyxU"
   },
   "source": [
    "Rappelons qu'une régression linéaire consiste à calculer le vecteur \\($\\Theta\\$) tel que l'estimation de \\(y\\) connaissant une entrée \\(x\\), est :\n",
    "\n",
    "$$ \\widehat y = h_{\\Theta}(x) = \\Theta^{T}.x $$\n",
    "\n",
    "\\($h_{\\Theta}$\\) étant une fonction hypothèse (linéaire), dépendant des paramètres \\($\\Theta$\\).\n",
    "\n",
    "Rappelons également qu'il existe une solution analytique du calcul de \\($\\Theta$\\) minimisant la moyenne du carré des erreurs de prédiction, cette solution est :\n",
    "\n",
    "$$ \\widehat \\Theta = (X^T.X)^{-1}.X^T.Y $$\n",
    "\n",
    "Où \\($X$\\) est l'ensemble des données d'entrée et Y l'ensemble des données de sorties.\n",
    "\n",
    "Numpy permet de transposer des matrices (operateur `T`) d'en faire le produit (fonction `dot()`) ou de les inverser (fonction `inv()`) de la classe `linalg`).\n",
    "\n",
    "Rappelons également qu'une combinaison linéaire lorsque les entrées ne sont composées que d'une valeur \\($x_1$\\), se calcule de la façon suivante :\n",
    "\n",
    "$$ \\widehat y = \\theta_0 + \\theta_1 * x_1 $$.\n",
    "\n",
    "Par conséquent, pour faire le calcul de \\($\\Theta$\\), il faut ajouter une colonne de 1 aux entrées X pour introduire \\($\\Theta_0$\\) dans la solution.\n",
    "\n",
    "Ceci se fait avec l'opérateur `c_` qui permet de concaténer des colonnes. On peut ainsi calculer la régression linéaire et l'afficher :"
   ]
  },
  {
   "cell_type": "code",
   "execution_count": 3,
   "metadata": {
    "colab": {
     "base_uri": "https://localhost:8080/",
     "height": 301
    },
    "id": "IadXt-ifTOKD",
    "outputId": "90295088-49e3-41ad-8dd6-f24ed802d14c"
   },
   "outputs": [
    {
     "name": "stdout",
     "output_type": "stream",
     "text": [
      "Theta :  [[2.12155124]\n",
      " [3.81399696]]\n"
     ]
    },
    {
     "data": {
      "image/png": "[encoded data removed]",
      "text/plain": [
       "<Figure size 432x288 with 1 Axes>"
      ]
     },
     "metadata": {
      "needs_background": "light"
     },
     "output_type": "display_data"
    }
   ],
   "source": [
    "import time\n",
    "X_b = np.c_[np.ones((nbDonnee,1)),X] # Ajout de la constante '1' à chaque donnée pour calculer le biais theta0 (rappelons que l'équation d'une regression linéaire est y = theta0 + theta1*x1 + theta2*x2 + ... Ici on a juste une valeur par exemple (donc x1) et on ajoute le 1 pour calculer le theta0 \n",
    "before = time.time() #permettra d'obtenir le temps de calcul de l'algorithme\n",
    "theta_best=np.linalg.inv(X_b.T.dot(X_b)).dot(X_b.T).dot(y) #  Numpy est doté de nombreux algorithmes d'algèbre linéaire. Ici, il permet de calculer l'inverse d'une matrice. (rappelons qu'il existe une solution analytique permettant de calculer le theta qui minimise la MSE et qui est [1/(Xt.X)].Xt.y\n",
    "print(\"Theta : \", theta_best)\n",
    "# Nous allons maintenant tracer la droite représentant le theta_best ainsi que les points utilisés pour l'apprendre\n",
    "X_new= np.array([[0],[3]]) # Choix de 2 valeurs de X\n",
    "X_new_b = np.c_[np.ones((2,1)),X_new] # On ajoute le '1' à chaque donnée\n",
    "y_predict = X_new_b.dot(theta_best) # on calcul le y à partir de theta_best\n",
    "plt.plot(X_new, y_predict, \"r-\") # On trace une droite rouge entre les 2 points prédits\n",
    "plt.plot(X,y, \"b.\") #On trace un point bleu pour chaque point des données utilisées pour apprendre theta\n",
    "plt.axis([0,3,0,15]) # On fixe les bornes de l'abscisse et de l'ordonnée du graphique\n",
    "plt.show() # On affiche la courbe"
   ]
  },
  {
   "cell_type": "code",
   "execution_count": 82,
   "metadata": {},
   "outputs": [],
   "source": [
    "import math\n",
    "\n",
    "X = 3*np.random.rand(100,1)\n",
    "y = np.sin(X) + 0.1*np.random.randn(100,1)\n",
    "\n"
   ]
  },
  {
   "cell_type": "code",
   "execution_count": 83,
   "metadata": {},
   "outputs": [
    {
     "data": {
      "image/png": "[encoded data removed]",
      "text/plain": [
       "<Figure size 432x288 with 1 Axes>"
      ]
     },
     "metadata": {
      "needs_background": "light"
     },
     "output_type": "display_data"
    }
   ],
   "source": [
    "plt.plot(X,y, \"b.\") # On trace un point bleu pour chaque point des données\n",
    "plt.axis([-1,4,0,1.5]) # On fixe les bornes de l'abscisse et de l'ordonnée du graphique\n",
    "plt.show() # On affiche le tout"
   ]
  },
  {
   "cell_type": "code",
   "execution_count": 84,
   "metadata": {},
   "outputs": [
    {
     "name": "stdout",
     "output_type": "stream",
     "text": [
      "Theta :  [[0.6601511 ]\n",
      " [0.01755746]]\n"
     ]
    },
    {
     "data": {
      "image/png": "[encoded data removed]",
      "text/plain": [
       "<Figure size 432x288 with 1 Axes>"
      ]
     },
     "metadata": {
      "needs_background": "light"
     },
     "output_type": "display_data"
    }
   ],
   "source": [
    "X_b = np.c_[np.ones((nbDonnee,1)),X] # Ajout de la constante '1' à chaque donnée pour calculer le biais theta0 (rappelons que l'équation d'une regression linéaire est y = theta0 + theta1*x1 + theta2*x2 + ... Ici on a juste une valeur par exemple (donc x1) et on ajoute le 1 pour calculer le theta0 \n",
    "before = time.time() #permettra d'obtenir le temps de calcul de l'algorithme\n",
    "theta_best=np.linalg.inv(X_b.T.dot(X_b)).dot(X_b.T).dot(y) #  Numpy est doté de nombreux algorithmes d'algèbre linéaire. Ici, il permet de calculer l'inverse d'une matrice. (rappelons qu'il existe une solution analytique permettant de calculer le theta qui minimise la MSE et qui est [1/(Xt.X)].Xt.y\n",
    "print(\"Theta : \", theta_best)\n",
    "# Nous allons maintenant tracer la droite représentant le theta_best ainsi que les points utilisés pour l'apprendre\n",
    "X_new= np.array([[0],[3]]) # Choix de 2 valeurs de X\n",
    "X_new_b = np.c_[np.ones((2,1)),X_new] # On ajoute le '1' à chaque donnée\n",
    "y_predict = X_new_b.dot(theta_best) # on calcul le y à partir de theta_best\n",
    "plt.plot(X_new, y_predict, \"r-\") # On trace une droite rouge entre les 2 points prédits\n",
    "plt.plot(X,y, \"b.\") #On trace un point bleu pour chaque point des données utilisées pour apprendre theta\n",
    "plt.axis([-1,4,0,1.5]) # On fixe les bornes de l'abscisse et de l'ordonnée du graphique\n",
    "plt.show() # On affiche la courbe"
   ]
  },
  {
   "cell_type": "markdown",
   "metadata": {
    "id": "kFKj6ctrTXx8"
   },
   "source": [
    "## Question 1 :\n",
    "\n",
    "Tester le code précédent et observer les courbes correspondantes. Générez des données ne se rapprochant pas d'une droite (par exemple à l'aide d'une fonction sinusoïdale, une puissance ou toute autre fonction non linéaire) et faites une regression linéaire. Affichez le résultat. Quelle conclusion ?\n",
    "\n",
    "    Une régression linéeaire n'est pas très efficace sur une courbe non linéaire.\n",
    "\n",
    "## Question 2 :\n",
    "\n",
    "Ajoutez une colonne aux entrées qui représentent les valeurs de ces entrées mises au carré. Faite une régression linéaire sur cette représentation des entrées par 2 valeurs.\n",
    "\n",
    "Une exemple de code permettant de construire un tableau `X2` du carré des éléments d'un tableau `X` à l'aide d'une lambda fonction est:"
   ]
  },
  {
   "cell_type": "code",
   "execution_count": 86,
   "metadata": {
    "id": "j_GEUqKJTpa1"
   },
   "outputs": [],
   "source": [
    "X2 = np.apply_along_axis(lambda x: (x*x), 0, X)"
   ]
  },
  {
   "cell_type": "code",
   "execution_count": 88,
   "metadata": {},
   "outputs": [
    {
     "name": "stdout",
     "output_type": "stream",
     "text": [
      "Theta :  [[ 0.74860447]\n",
      " [-0.0186226 ]]\n"
     ]
    },
    {
     "data": {
      "image/png": "[encoded data removed]",
      "text/plain": [
       "<Figure size 432x288 with 1 Axes>"
      ]
     },
     "metadata": {
      "needs_background": "light"
     },
     "output_type": "display_data"
    }
   ],
   "source": [
    "X_b = np.c_[np.ones((nbDonnee,1)),X2] # Ajout de la constante '1' à chaque donnée pour calculer le biais theta0 (rappelons que l'équation d'une regression linéaire est y = theta0 + theta1*x1 + theta2*x2 + ... Ici on a juste une valeur par exemple (donc x1) et on ajoute le 1 pour calculer le theta0 \n",
    "before = time.time() #permettra d'obtenir le temps de calcul de l'algorithme\n",
    "theta_best=np.linalg.inv(X_b.T.dot(X_b)).dot(X_b.T).dot(y) #  Numpy est doté de nombreux algorithmes d'algèbre linéaire. Ici, il permet de calculer l'inverse d'une matrice. (rappelons qu'il existe une solution analytique permettant de calculer le theta qui minimise la MSE et qui est [1/(Xt.X)].Xt.y\n",
    "print(\"Theta : \", theta_best)\n",
    "# Nous allons maintenant tracer la droite représentant le theta_best ainsi que les points utilisés pour l'apprendre\n",
    "X_new= np.array([[0],[3]]) # Choix de 2 valeurs de X\n",
    "X_new_b = np.c_[np.ones((2,1)),X_new] # On ajoute le '1' à chaque donnée\n",
    "y_predict = X_new_b.dot(theta_best) # on calcul le y à partir de theta_best\n",
    "plt.plot(X_new, y_predict, \"r-\") # On trace une droite rouge entre les 2 points prédits\n",
    "plt.plot(X2,y, \"b.\") #On trace un point bleu pour chaque point des données utilisées pour apprendre theta\n",
    "plt.axis([-1,4,0,1.5]) # On fixe les bornes de l'abscisse et de l'ordonnée du graphique\n",
    "plt.show() # On affiche la courbe"
   ]
  },
  {
   "cell_type": "markdown",
   "metadata": {
    "id": "MGfAvvhTTsgT"
   },
   "source": [
    "Attention, il n'est plus possible de tracer une droite pour représenter les sorties calculées par le modèle puisqu'elles ne suivent plus l'équation d'une droite.\n",
    "\n",
    "Quelle Conclusion ?"
   ]
  },
  {
   "cell_type": "markdown",
   "metadata": {
    "id": "xZZsRrptT4jz"
   },
   "source": [
    "# Scikit-Learn\n",
    "\n",
    "`Scikit-Learn` permet d'utiliser des algorithmes d'apprentissage artificiel 'tout prêts' et apporte également des fonctions supplémentaires bien utiles. Nous allons d'ailleurs commencer par une généralisation de ce qui a été fait précédemment grâce à lui. On parle de **polynomialisation**. Il s'agit d'ajouter aux *features* leur valeur au carré, à la puissance 3, à la puissance n, ainsi que la valeur de leurs produits respectifs (par exemple x1 * x2) et de leur produit au carré, à la puissance n ... Ceci devrait améliorer la précision du prédicteur (au risque de lui faire faire du sur-apprentissage).\n",
    "\n",
    "Dans `Scikit-learn`, il existe un moyen rapide de polynomiser un vecteur de features : la classe `PolynomialFeatures` :\n",
    "\n"
   ]
  },
  {
   "cell_type": "code",
   "execution_count": 37,
   "metadata": {
    "colab": {
     "base_uri": "https://localhost:8080/"
    },
    "id": "U-SigosZUb6k",
    "outputId": "fad03be4-d8fd-4645-d5a4-5ea3a4b898e2"
   },
   "outputs": [
    {
     "name": "stdout",
     "output_type": "stream",
     "text": [
      "X :  [[0.17309601]\n",
      " [2.90732955]\n",
      " [0.47003915]]\n",
      "X_poly :  [[1.00000000e+00 1.73096006e-01 2.99622272e-02 5.18634185e-03]\n",
      " [1.00000000e+00 2.90732955e+00 8.45256514e+00 2.45743924e+01]\n",
      " [1.00000000e+00 4.70039149e-01 2.20936802e-01 1.03848946e-01]]\n",
      "X_flatten :  12\n",
      "y_flatten :  12\n"
     ]
    }
   ],
   "source": [
    "import numpy as np\n",
    "from sklearn.preprocessing import PolynomialFeatures\n",
    "# on va pousser jusque la puissance 3 et on ajoute la colonne de 1 pour le Theta0\n",
    "poly_features = PolynomialFeatures(degree=3, include_bias=True) \n",
    "X = 3*np.random.rand(3,1) # Generation de trois valeurs pouvant représenter 3 exemples d'entrées\n",
    "X_poly=poly_features.fit_transform(X) # Cette fonction fait la polynomialisation pour nous ;-)\n",
    "y = 2 + 4*X + np.random.randn(3,1)\n",
    "\n",
    "# X_flatten = []\n",
    "# Y_flatten = []\n",
    "\n",
    "# i=0\n",
    "# for array in X_poly:\n",
    "#     for value in array :\n",
    "#         X_flatten.append(value)\n",
    "#         Y_flatten.append(y[i][0])\n",
    "\n",
    "#     i = i + 1\n",
    "\n",
    "# X_flatten = np.asarray(X_flatten)\n",
    "# Y_flatten = np.asarray(Y_flatten)\n",
    "    \n",
    "print (\"X : \" , X)\n",
    "print (\"X_poly : \", X_poly)\n",
    "print (\"X_flatten : \" , len(X_flatten))\n",
    "print (\"y_flatten : \", len(Y_flatten))"
   ]
  },
  {
   "cell_type": "markdown",
   "metadata": {
    "id": "0tfse6xZUf9z"
   },
   "source": [
    "## Question 3:\n",
    "\n",
    "*   Testez une fonction à apprendre assez complexe avec différents degrès de polynomialisation.\n",
    "*   Découpez ce jeu en 2/3 dédié à l'apprentissage et 1/3 dédié à la vérification (jeu de test). On découpe un tableau en deux de cette façon:"
   ]
  },
  {
   "cell_type": "code",
   "execution_count": 47,
   "metadata": {},
   "outputs": [
    {
     "ename": "SyntaxError",
     "evalue": "unexpected EOF while parsing (Temp/ipykernel_15668/2159296613.py, line 8)",
     "output_type": "error",
     "traceback": [
      "\u001b[1;36m  File \u001b[1;32m\"C:\\Users\\cocho\\AppData\\Local\\Temp/ipykernel_15668/2159296613.py\"\u001b[1;36m, line \u001b[1;32m8\u001b[0m\n\u001b[1;33m    print(reg.predict((X_poly,y))\u001b[0m\n\u001b[1;37m                                 ^\u001b[0m\n\u001b[1;31mSyntaxError\u001b[0m\u001b[1;31m:\u001b[0m unexpected EOF while parsing\n"
     ]
    }
   ],
   "source": [
    "from sklearn.linear_model import LinearRegression\n",
    "from sklearn.model_selection import train_test_split\n",
    "\n",
    "X_train, X_test, y_train, y_test = train_test_split(X_poly,y, test_size=0.3,random_state=109) # 70% training and 30% test\n",
    "\n",
    "reg = LinearRegression().fit(X_train, y_train)\n",
    "\n",
    "print(reg.predict(X_poly,y))"
   ]
  },
  {
   "cell_type": "code",
   "execution_count": null,
   "metadata": {},
   "outputs": [],
   "source": []
  },
  {
   "cell_type": "code",
   "execution_count": 39,
   "metadata": {
    "colab": {
     "base_uri": "https://localhost:8080/"
    },
    "id": "0R3isD0DU3H7",
    "outputId": "fbf34ac4-4120-4dcc-844b-cfc83ddfea5e"
   },
   "outputs": [
    {
     "name": "stdout",
     "output_type": "stream",
     "text": [
      "[1, 2]\n",
      "[3 6]\n"
     ]
    }
   ],
   "source": [
    "a = [1,2,3,4,5]\n",
    "b = a[:2]\n",
    "print(b)\n",
    "\n",
    "import numpy as np\n",
    "\n",
    "c = np.array([[1,2,3],[4,5,6]])\n",
    "print (c[:,2])\n"
   ]
  },
  {
   "cell_type": "markdown",
   "metadata": {
    "id": "nyRiKF8eV0fT"
   },
   "source": [
    "##Question 4\n",
    "\n",
    "Calculez la MSE (moyenne des erreurs au carré) des données apprises et la MSE de données de test. Observez le sur-apprentissage. Avec scikit-learn, le calcul de la MSE se fait ainsi :"
   ]
  },
  {
   "cell_type": "code",
   "execution_count": null,
   "metadata": {
    "colab": {
     "base_uri": "https://localhost:8080/"
    },
    "id": "X1c3JxT-V6uD",
    "outputId": "691eed0f-1d66-457d-f737-af5fc3cb6d09"
   },
   "outputs": [
    {
     "name": "stdout",
     "output_type": "stream",
     "text": [
      "5.386\n"
     ]
    }
   ],
   "source": [
    "\n",
    "from sklearn.metrics import mean_squared_error\n",
    "y = [1, 2, -2, 3, 1.5] # y sont les valeurs des sorties réelles qu'il faudrait retrouver\n",
    "yp = [0.2, 1.8, 3, 2,2] # yp sont les valeurs estimées par l'algorithme d'apprentissage\n",
    "MSE = mean_squared_error(y,yp)\n",
    "print(MSE)"
   ]
  },
  {
   "cell_type": "markdown",
   "metadata": {
    "id": "5ODhDR-NWEkq"
   },
   "source": [
    "## Notion de régularisation\n",
    "\n",
    "Trouver la polynomialisation qui permet d'éviter le sur-apprentissage tout en garantissant un apprentissage s'appelle la \"régularisation\" d'un modèle. Il existe différentes façons de régulariser une regression. Parmi elles, il y a la \"Ridge Regression\" encore nommée la Regularisation de Tikhonov, la Regression en lasso (Least Absolute Shrinkage and Selection Operator Regression), l'Elastic Net ou le Early Stopping. Je vous invite à consulter la litterature pour avoir des détails sur ces différentes méthodes ([par exemple ici](https://towardsdatascience.com/regularization-in-machine-learning-76441ddcf99a))."
   ]
  },
  {
   "cell_type": "markdown",
   "metadata": {
    "id": "cxB88zVh4Yad"
   },
   "source": [
    "# Et la descente de grandient dans tout ça ?"
   ]
  },
  {
   "cell_type": "markdown",
   "metadata": {
    "id": "QeUsyUxa4U8m"
   },
   "source": [
    "Le calcul Analytique de la solution, qui se traduit par l'utilisation d'un calcul matriciel :\n",
    "`np.linalg.inv(X_b.T.dot(X_b)).dot(X_b.T).dot(y)`\n",
    "Pose des problèmes lorsque le nombre de données est très grand (ce qui est le cas des bases de données actuelles). C'est une des raisons pour laquelle on s'est rapidement penché vers des méthodes itératives du type *descente de gradient* qui évitent l'utilisation d'une matrice de taille NxN (pour N données).\n",
    "L'autre interêt de la *descente de gradient* est qu'elle peut se faire paramétrer des modèles non linéaires (réseaux de neurones par exemple).\n"
   ]
  },
  {
   "cell_type": "markdown",
   "metadata": {
    "id": "D2mLDN8x0rKL"
   },
   "source": [
    "# Utiliser des bases de données\n",
    "\n",
    "Nous allons donc passer à des quantités de données plus importantes présentant également un nombre de *features* plus important et surtout, représentant des informations *réelles* extraites d'observations. Il existe de très nombreuses bases de données disponibles (par exemple le [data set du CMU](http://lib.stat.cmu.edu/datasets/), voir la [liste Wikipedia à ce sujet](https://en.wikipedia.org/wiki/List_of_datasets_for_machine-learning_research)). `Scikit-Learn` possède un package `datasets` qui permet d'accéder à différents exemples de données. Il existe une fonction `load` pour chaque base : `load_boston()`, `load_iris()`, `load_diabetes()`, `load_digits()` ... `Scikit-learn` fournit également des images (`load_sample_image()`) et des générateurs de données permettant de fabriquer des valeurs controlées et des bases de toute taille. Nous allons utiliser une base très classique `iris` qui contient des fleurs réparties selon trois classes. Le fait d'appartenir à une classe dépendant de différentes propriétés de la fleur ([voir ici les détails sur iris](https://archive.ics.uci.edu/ml/datasets/iris)). Le code ci-dessous vous permet de visualiser la classe de chaque fleur en fonction de ces propriétés (longueur des pétales, longueur des sépales, largeurs des sépales, largeurs des pétales).\n"
   ]
  },
  {
   "cell_type": "markdown",
   "metadata": {
    "id": "WwV6qhA0YuY3"
   },
   "source": []
  },
  {
   "cell_type": "code",
   "execution_count": null,
   "metadata": {
    "colab": {
     "base_uri": "https://localhost:8080/",
     "height": 1000
    },
    "id": "tJ5469Zs0mkv",
    "outputId": "0c929a99-ef47-4b0c-d4f7-0bbcee8c4d6d"
   },
   "outputs": [
    {
     "name": "stdout",
     "output_type": "stream",
     "text": [
      "[[5.1 3.5 1.4 0.2]\n",
      " [4.9 3.  1.4 0.2]\n",
      " [4.7 3.2 1.3 0.2]\n",
      " [4.6 3.1 1.5 0.2]\n",
      " [5.  3.6 1.4 0.2]\n",
      " [5.4 3.9 1.7 0.4]\n",
      " [4.6 3.4 1.4 0.3]\n",
      " [5.  3.4 1.5 0.2]\n",
      " [4.4 2.9 1.4 0.2]\n",
      " [4.9 3.1 1.5 0.1]\n",
      " [5.4 3.7 1.5 0.2]\n",
      " [4.8 3.4 1.6 0.2]\n",
      " [4.8 3.  1.4 0.1]\n",
      " [4.3 3.  1.1 0.1]\n",
      " [5.8 4.  1.2 0.2]\n",
      " [5.7 4.4 1.5 0.4]\n",
      " [5.4 3.9 1.3 0.4]\n",
      " [5.1 3.5 1.4 0.3]\n",
      " [5.7 3.8 1.7 0.3]\n",
      " [5.1 3.8 1.5 0.3]\n",
      " [5.4 3.4 1.7 0.2]\n",
      " [5.1 3.7 1.5 0.4]\n",
      " [4.6 3.6 1.  0.2]\n",
      " [5.1 3.3 1.7 0.5]\n",
      " [4.8 3.4 1.9 0.2]\n",
      " [5.  3.  1.6 0.2]\n",
      " [5.  3.4 1.6 0.4]\n",
      " [5.2 3.5 1.5 0.2]\n",
      " [5.2 3.4 1.4 0.2]\n",
      " [4.7 3.2 1.6 0.2]\n",
      " [4.8 3.1 1.6 0.2]\n",
      " [5.4 3.4 1.5 0.4]\n",
      " [5.2 4.1 1.5 0.1]\n",
      " [5.5 4.2 1.4 0.2]\n",
      " [4.9 3.1 1.5 0.2]\n",
      " [5.  3.2 1.2 0.2]\n",
      " [5.5 3.5 1.3 0.2]\n",
      " [4.9 3.6 1.4 0.1]\n",
      " [4.4 3.  1.3 0.2]\n",
      " [5.1 3.4 1.5 0.2]\n",
      " [5.  3.5 1.3 0.3]\n",
      " [4.5 2.3 1.3 0.3]\n",
      " [4.4 3.2 1.3 0.2]\n",
      " [5.  3.5 1.6 0.6]\n",
      " [5.1 3.8 1.9 0.4]\n",
      " [4.8 3.  1.4 0.3]\n",
      " [5.1 3.8 1.6 0.2]\n",
      " [4.6 3.2 1.4 0.2]\n",
      " [5.3 3.7 1.5 0.2]\n",
      " [5.  3.3 1.4 0.2]\n",
      " [7.  3.2 4.7 1.4]\n",
      " [6.4 3.2 4.5 1.5]\n",
      " [6.9 3.1 4.9 1.5]\n",
      " [5.5 2.3 4.  1.3]\n",
      " [6.5 2.8 4.6 1.5]\n",
      " [5.7 2.8 4.5 1.3]\n",
      " [6.3 3.3 4.7 1.6]\n",
      " [4.9 2.4 3.3 1. ]\n",
      " [6.6 2.9 4.6 1.3]\n",
      " [5.2 2.7 3.9 1.4]\n",
      " [5.  2.  3.5 1. ]\n",
      " [5.9 3.  4.2 1.5]\n",
      " [6.  2.2 4.  1. ]\n",
      " [6.1 2.9 4.7 1.4]\n",
      " [5.6 2.9 3.6 1.3]\n",
      " [6.7 3.1 4.4 1.4]\n",
      " [5.6 3.  4.5 1.5]\n",
      " [5.8 2.7 4.1 1. ]\n",
      " [6.2 2.2 4.5 1.5]\n",
      " [5.6 2.5 3.9 1.1]\n",
      " [5.9 3.2 4.8 1.8]\n",
      " [6.1 2.8 4.  1.3]\n",
      " [6.3 2.5 4.9 1.5]\n",
      " [6.1 2.8 4.7 1.2]\n",
      " [6.4 2.9 4.3 1.3]\n",
      " [6.6 3.  4.4 1.4]\n",
      " [6.8 2.8 4.8 1.4]\n",
      " [6.7 3.  5.  1.7]\n",
      " [6.  2.9 4.5 1.5]\n",
      " [5.7 2.6 3.5 1. ]\n",
      " [5.5 2.4 3.8 1.1]\n",
      " [5.5 2.4 3.7 1. ]\n",
      " [5.8 2.7 3.9 1.2]\n",
      " [6.  2.7 5.1 1.6]\n",
      " [5.4 3.  4.5 1.5]\n",
      " [6.  3.4 4.5 1.6]\n",
      " [6.7 3.1 4.7 1.5]\n",
      " [6.3 2.3 4.4 1.3]\n",
      " [5.6 3.  4.1 1.3]\n",
      " [5.5 2.5 4.  1.3]\n",
      " [5.5 2.6 4.4 1.2]\n",
      " [6.1 3.  4.6 1.4]\n",
      " [5.8 2.6 4.  1.2]\n",
      " [5.  2.3 3.3 1. ]\n",
      " [5.6 2.7 4.2 1.3]\n",
      " [5.7 3.  4.2 1.2]\n",
      " [5.7 2.9 4.2 1.3]\n",
      " [6.2 2.9 4.3 1.3]\n",
      " [5.1 2.5 3.  1.1]\n",
      " [5.7 2.8 4.1 1.3]\n",
      " [6.3 3.3 6.  2.5]\n",
      " [5.8 2.7 5.1 1.9]\n",
      " [7.1 3.  5.9 2.1]\n",
      " [6.3 2.9 5.6 1.8]\n",
      " [6.5 3.  5.8 2.2]\n",
      " [7.6 3.  6.6 2.1]\n",
      " [4.9 2.5 4.5 1.7]\n",
      " [7.3 2.9 6.3 1.8]\n",
      " [6.7 2.5 5.8 1.8]\n",
      " [7.2 3.6 6.1 2.5]\n",
      " [6.5 3.2 5.1 2. ]\n",
      " [6.4 2.7 5.3 1.9]\n",
      " [6.8 3.  5.5 2.1]\n",
      " [5.7 2.5 5.  2. ]\n",
      " [5.8 2.8 5.1 2.4]\n",
      " [6.4 3.2 5.3 2.3]\n",
      " [6.5 3.  5.5 1.8]\n",
      " [7.7 3.8 6.7 2.2]\n",
      " [7.7 2.6 6.9 2.3]\n",
      " [6.  2.2 5.  1.5]\n",
      " [6.9 3.2 5.7 2.3]\n",
      " [5.6 2.8 4.9 2. ]\n",
      " [7.7 2.8 6.7 2. ]\n",
      " [6.3 2.7 4.9 1.8]\n",
      " [6.7 3.3 5.7 2.1]\n",
      " [7.2 3.2 6.  1.8]\n",
      " [6.2 2.8 4.8 1.8]\n",
      " [6.1 3.  4.9 1.8]\n",
      " [6.4 2.8 5.6 2.1]\n",
      " [7.2 3.  5.8 1.6]\n",
      " [7.4 2.8 6.1 1.9]\n",
      " [7.9 3.8 6.4 2. ]\n",
      " [6.4 2.8 5.6 2.2]\n",
      " [6.3 2.8 5.1 1.5]\n",
      " [6.1 2.6 5.6 1.4]\n",
      " [7.7 3.  6.1 2.3]\n",
      " [6.3 3.4 5.6 2.4]\n",
      " [6.4 3.1 5.5 1.8]\n",
      " [6.  3.  4.8 1.8]\n",
      " [6.9 3.1 5.4 2.1]\n",
      " [6.7 3.1 5.6 2.4]\n",
      " [6.9 3.1 5.1 2.3]\n",
      " [5.8 2.7 5.1 1.9]\n",
      " [6.8 3.2 5.9 2.3]\n",
      " [6.7 3.3 5.7 2.5]\n",
      " [6.7 3.  5.2 2.3]\n",
      " [6.3 2.5 5.  1.9]\n",
      " [6.5 3.  5.2 2. ]\n",
      " [6.2 3.4 5.4 2.3]\n",
      " [5.9 3.  5.1 1.8]]\n"
     ]
    },
    {
     "data": {
      "image/png": "[encoded data removed]",
      "text/plain": [
       "<Figure size 1152x432 with 2 Axes>"
      ]
     },
     "metadata": {
      "tags": []
     },
     "output_type": "display_data"
    }
   ],
   "source": [
    "import numpy as np\n",
    "import matplotlib.pyplot as plt\n",
    "plt.style.use('ggplot')\n",
    "\n",
    "from sklearn.datasets import load_iris\n",
    "\n",
    "iris = load_iris()\n",
    "X = iris['data']\n",
    "#print(X)\n",
    "y = iris['target']\n",
    "names = iris['target_names']\n",
    "feature_names = iris['feature_names']\n",
    "\n",
    "# Visualize the data sets\n",
    "plt.figure(figsize=(16, 6))\n",
    "plt.subplot(1, 2, 1)\n",
    "for target, target_name in enumerate(names):\n",
    "    X_plot = X[y == target]\n",
    "    plt.plot(X_plot[:, 0], X_plot[:, 1], linestyle='none', marker='o', label=target_name)\n",
    "plt.xlabel(feature_names[0])\n",
    "plt.ylabel(feature_names[1])\n",
    "plt.axis('equal')\n",
    "plt.legend();\n",
    "\n",
    "plt.subplot(1, 2, 2)\n",
    "for target, target_name in enumerate(names):\n",
    "    X_plot = X[y == target]\n",
    "    plt.plot(X_plot[:, 2], X_plot[:, 3], linestyle='none', marker='o', label=target_name)\n",
    "plt.xlabel(feature_names[2])\n",
    "plt.ylabel(feature_names[3])\n",
    "plt.axis('equal')\n",
    "plt.legend();"
   ]
  },
  {
   "cell_type": "markdown",
   "metadata": {
    "id": "kgvyBzR6WZ1i"
   },
   "source": [
    "#Première Régression Logistique\n",
    "\n",
    "Nous allons maintenant entrer dans le vif du sujet en essayant de faire une régression logistique sur cette base de donnée 'iris`. La regression logistique (appelée parfois Logit Regression) permet de classer des données ou plutôt de fournir une probabilité d'appartenance d'une donnée à une classe (si la probabilité est supérieure à 0.5 on l'affecte à une classe et si elle est inférieure à 0.5, on ne l'affecte pas à cette classe).\n",
    "\n",
    "Cette probabilité est $$\\widehat p = h_\\Theta(x) = \\sigma(\\Theta^T . x) $$ où $\\Theta$ est le vecteur des poids à calculer et sigma est la fonction logistique : $$\\sigma(t)= {1 \\over (1 + exp(-t))}$$\n",
    "\n",
    "De façon plus explicite, on calcul une fonction linéaire $\\theta_1*x_1 + \\theta_2*x_2 + ...\\theta_n*x_n$ que l'on fait passer dans une fonction sigmoïde $\\sigma()$ (qui permet de renvoyer une valeur comprise entre 0 et 1) qui est alors la probabilité d'appartenance de la donnée d'entrée à la classe concernée.\n",
    "\n",
    "Il n'y a pas de solution analytique à la recherche du vecteur des poids $\\Theta$ et comme expliqué ci-dessous, si il y en avait une, le nombre de données la rendrait sans doute inapplicable du point de vu de la mémoire utilisée. Par contre, la fonction de cout ([log loss](https://towardsdatascience.com/understanding-binary-cross-entropy-log-loss-a-visual-explanation-a3ac6025181a)), qui est la moyenne des couts sur un ensemble de données d'apprentissage, est convexe (Il n'y a pas de minimums locaux) et donc on peut calculer les poids avec une simple descente de gradient et être sûr que l'on obtient un apprentissage optimal. Pour cela, `Scikit-learn` fournit une classe `LogisticRegression` qui possède une méthode `fit()` calculant les poids $\\Theta $ par descente de gradient. Ceci permettant donc de fournir une probabilité d'appartenance à une classe (en prenant les `features` d'un exemple en entrée). Le code ci-dessous illustre ce processus.\n",
    "Sur la figure finale sont représentées :\n",
    "* en bleu, l'appartenance ou non à la classe *iris virginica* de chaque exemple en fonction de la largeur des pétales.\n",
    "* en vert la sortie de la fonction sigmoïde ($\\sigma()$, donc la probabilité d'appartenir à la classe *iris virginica*) en fonction d'une valeur de largeur de pétales.\n",
    "* en rouge, le complément : la probabilité de ne pas appartenir à cette classe."
   ]
  },
  {
   "cell_type": "code",
   "execution_count": null,
   "metadata": {
    "colab": {
     "base_uri": "https://localhost:8080/",
     "height": 300
    },
    "id": "c-lj1SORY2JD",
    "outputId": "a842d1fc-31a6-4a78-9351-22894454fb93"
   },
   "outputs": [
    {
     "data": {
      "image/png": "[encoded data removed]",
      "text/plain": [
       "<Figure size 432x288 with 1 Axes>"
      ]
     },
     "metadata": {
      "needs_background": "light",
      "tags": []
     },
     "output_type": "display_data"
    },
    {
     "name": "stdout",
     "output_type": "stream",
     "text": [
      "Accuracy: 0.960000\n"
     ]
    }
   ],
   "source": [
    "from sklearn import datasets,  metrics\n",
    "from sklearn.linear_model import LogisticRegression\n",
    "import numpy as np\n",
    "import matplotlib.pyplot as plt\n",
    "iris = datasets.load_iris()\n",
    "#print(list(iris.keys()))\n",
    "# ['target_names', 'data', 'DESCR', 'target', 'feature_names']\n",
    "# Chaque fleur possède 4 features (de 0 à 3), la 3 étant la largeur les pétales\n",
    "Largeur = iris[\"data\"][:, 3:]\n",
    "# La \"target\" étant un type de fleur compris entre 0 et 2\n",
    "Type = (iris[\"target\"] == 2).astype(np.int) # On créé une liste qui contient 1 lorsque la fleur est de type 2 et 0 sinon pour faire une classification\n",
    "log_reg = LogisticRegression() # On créé un modèle de régression logistique (qui définit ce qu'est la fonction cout et qui sait calculer la régression)\n",
    "log_reg.fit(Largeur,Type)\n",
    "# On va créer une représentation de ce que rend le modèle (Type en fonction de largeur)\n",
    "Largeur_new = np.linspace(0,3,100).reshape(-1,1) # linspace renvoie 100 valeurs permettant d'aller de 0 à 3, reshape() les repositionne dans un tableau à 1 colonne pour pouvoir les envoyer à \"predict_proba\"\n",
    "#print(\"Largeur_new\")\n",
    "#print(Largeur_new)\n",
    "Type_proba = log_reg.predict_proba(Largeur_new) # predict proba renvoie un tableau de 2 colonnes : proba classe False / proba classe True\n",
    "#print(\"Typeproba\")\n",
    "#print(Type_proba)\n",
    "plt.plot(Largeur_new, Type_proba[:,1], \"g-\", label = \"Iris-Virginica\") #en vert ligne continue\n",
    "plt.xlabel(\"largeur pétale\")\n",
    "plt.ylabel(\"Probabilité d'être une Iris Virginica\")\n",
    "plt.plot(Largeur_new, Type_proba[:,0], \"r--\", label = \"Pas une Iris-Virginica\") #en rouge ligne pointillés\n",
    "plt.plot(Largeur,Type, \"bo\") # Dessine les données initiales avec un rond bleu\n",
    "plt.show()\n",
    "# Le code suivant recalcul les valeurs que donne le modèle à partir des données d'entrée pour calculer l'accuracy (la précision)\n",
    "Type_proba = log_reg.predict_proba(Largeur) \n",
    "prediction = (Type_proba[:, 1:]>0.5).astype(np.int)\n",
    "#print(\"Type Proba : \", Type_proba)\n",
    "#print(\"Prediction : \", prediction)\n",
    "score = metrics.accuracy_score(Type, prediction)\n",
    "print (\"Accuracy: %f\" % score)"
   ]
  },
  {
   "cell_type": "markdown",
   "metadata": {
    "id": "aSi7W4YPZYYc"
   },
   "source": [
    "## Question 4 :\n",
    "\n",
    "Exécutez le code précédent. Calculez la MSE sur la base des exemples. Ajoutez une `feature` (longueur des pétales) aux données, refaite un apprentissage et comparez à nouveau la MSE. Faites la même chose en intégrant toutes les `features` (largeur et longueur des sépales)\n",
    "\n",
    "Conclusion ?"
   ]
  },
  {
   "cell_type": "markdown",
   "metadata": {
    "id": "AyYxkZqYaXWV"
   },
   "source": [
    "# Keras :\n",
    "Lorsque nous utilisions `Tensor Flow 1.X`, nous avions une encapsulation de Tensor flow dans Scikit-learn appelée `Scikit-flow`. Cette libraire a été abandonnée au profit de `keras` lors du passage à `Tensor Flow 2.X` qui a l'avantage de pouvoir encapsuler non seulement `tensor flow` mais d'autres librairies de machine learning.\n",
    "\n",
    "C'est une façon simple et rapide d'utiliser `TensorFlow`. Ci-dessous, la classe `LinearClassifier` est tout simplement un classifier basé sur une fonction logistique (pour 2 classes) et softmax (pour plus de 2 classes). Elle réalise donc a peu près le même travail que la régression logistique précédente. Néanmoins, il y a des nuances à observer :\n",
    "* Keras (et tensor flow) étant spécifiquement dédiés à de l'apprentissage artificiel, un ensemble séparé de données d'entrainement et de tests est attendu\n",
    "* L'algorithme d'apprentissage peut être plus finement paramétré. Par défaut une descente de gradient consiste à calculer l'erreur cumulée sur toutes les données et à rétropropager celle-ci sur les différents paramètre du modèle. Ceci est très lent alors qu'en prenant des petits paquets de données et en calculant une erreur cumulée sur ces petits paquets, on peut remettre à jour les paramètres du modèle beaucoup plus osuvent. On utilise pour cela la notion  de *mini-batch* et d'*epoch*.  Une *epoch* correspond au nombre de fois que l'on fait passer l'ensemble des données dans l'algorithme. Un *mini-batch* est un paquet de données que l'on fait passer dans le modèle avant de mettre à jour les paramètres du modèle via la rétropropagation du gradient. Dans ce cas, il faut fixer la taille des *mini-batch*. Enfin, il existe différentes catégorie d'algorithmes (certains recalculant les mini-batch aléatoirement par exemple) qui font que plusieurs heures seraient nécessaires pour tous les énumérer. Pour les curieux, il est possible de consulter cette [page](https://ruder.io/optimizing-gradient-descent/index.html#gradientdescentvariants) . \n",
    "* Ici, on construit un modèle qui est un empilement de couches. Ici étant donné que l'on reproduit une régression logistique, il y a une seule couche *Dense* (toutes les entrées sont reliées à tous les neurosnes) qui contient un seul \"neurone\" avec une fonction de transfert *sigmoid*. \n"
   ]
  },
  {
   "cell_type": "code",
   "execution_count": null,
   "metadata": {
    "colab": {
     "base_uri": "https://localhost:8080/"
    },
    "id": "NidNrpyhtYvm",
    "outputId": "a52d9873-b166-4b90-a6be-ce8cd077ec4b"
   },
   "outputs": [
    {
     "name": "stdout",
     "output_type": "stream",
     "text": [
      "Epoch 1/50\n",
      "15/15 [==============================] - 0s 11ms/step - loss: 2.1801 - binary_accuracy: 0.3333 - val_loss: 0.8139 - val_binary_accuracy: 0.5467\n",
      "Epoch 2/50\n",
      "15/15 [==============================] - 0s 2ms/step - loss: 0.5826 - binary_accuracy: 0.7600 - val_loss: 0.4498 - val_binary_accuracy: 0.9467\n",
      "Epoch 3/50\n",
      "15/15 [==============================] - 0s 2ms/step - loss: 0.4693 - binary_accuracy: 0.8800 - val_loss: 0.4353 - val_binary_accuracy: 0.9200\n",
      "Epoch 4/50\n",
      "15/15 [==============================] - 0s 2ms/step - loss: 0.4486 - binary_accuracy: 0.8267 - val_loss: 0.4262 - val_binary_accuracy: 0.9600\n",
      "Epoch 5/50\n",
      "15/15 [==============================] - 0s 2ms/step - loss: 0.4431 - binary_accuracy: 0.9200 - val_loss: 0.4263 - val_binary_accuracy: 0.8400\n",
      "Epoch 6/50\n",
      "15/15 [==============================] - 0s 2ms/step - loss: 0.4339 - binary_accuracy: 0.8133 - val_loss: 0.4095 - val_binary_accuracy: 0.9600\n",
      "Epoch 7/50\n",
      "15/15 [==============================] - 0s 3ms/step - loss: 0.4368 - binary_accuracy: 0.9467 - val_loss: 0.4069 - val_binary_accuracy: 0.8800\n",
      "Epoch 8/50\n",
      "15/15 [==============================] - 0s 3ms/step - loss: 0.4297 - binary_accuracy: 0.8933 - val_loss: 0.3955 - val_binary_accuracy: 0.9600\n",
      "Epoch 9/50\n",
      "15/15 [==============================] - 0s 2ms/step - loss: 0.4193 - binary_accuracy: 0.9200 - val_loss: 0.3972 - val_binary_accuracy: 0.8800\n",
      "Epoch 10/50\n",
      "15/15 [==============================] - 0s 2ms/step - loss: 0.4154 - binary_accuracy: 0.8933 - val_loss: 0.3872 - val_binary_accuracy: 0.9067\n",
      "Epoch 11/50\n",
      "15/15 [==============================] - 0s 2ms/step - loss: 0.4114 - binary_accuracy: 0.9333 - val_loss: 0.3777 - val_binary_accuracy: 0.9733\n",
      "Epoch 12/50\n",
      "15/15 [==============================] - 0s 2ms/step - loss: 0.4031 - binary_accuracy: 0.9333 - val_loss: 0.3723 - val_binary_accuracy: 0.9733\n",
      "Epoch 13/50\n",
      "15/15 [==============================] - 0s 3ms/step - loss: 0.4026 - binary_accuracy: 0.9200 - val_loss: 0.3699 - val_binary_accuracy: 0.9467\n",
      "Epoch 14/50\n",
      "15/15 [==============================] - 0s 2ms/step - loss: 0.3978 - binary_accuracy: 0.9333 - val_loss: 0.3634 - val_binary_accuracy: 0.9733\n",
      "Epoch 15/50\n",
      "15/15 [==============================] - 0s 2ms/step - loss: 0.3936 - binary_accuracy: 0.9333 - val_loss: 0.3611 - val_binary_accuracy: 0.9333\n",
      "Epoch 16/50\n",
      "15/15 [==============================] - 0s 2ms/step - loss: 0.3863 - binary_accuracy: 0.9467 - val_loss: 0.3559 - val_binary_accuracy: 0.9600\n",
      "Epoch 17/50\n",
      "15/15 [==============================] - 0s 2ms/step - loss: 0.3794 - binary_accuracy: 0.9333 - val_loss: 0.3572 - val_binary_accuracy: 0.9067\n",
      "Epoch 18/50\n",
      "15/15 [==============================] - 0s 3ms/step - loss: 0.3821 - binary_accuracy: 0.8933 - val_loss: 0.3484 - val_binary_accuracy: 0.9600\n",
      "Epoch 19/50\n",
      "15/15 [==============================] - 0s 3ms/step - loss: 0.3762 - binary_accuracy: 0.9067 - val_loss: 0.3430 - val_binary_accuracy: 0.9733\n",
      "Epoch 20/50\n",
      "15/15 [==============================] - 0s 3ms/step - loss: 0.3737 - binary_accuracy: 0.9333 - val_loss: 0.3423 - val_binary_accuracy: 0.9600\n",
      "Epoch 21/50\n",
      "15/15 [==============================] - 0s 2ms/step - loss: 0.3767 - binary_accuracy: 0.9600 - val_loss: 0.3379 - val_binary_accuracy: 0.9733\n",
      "Epoch 22/50\n",
      "15/15 [==============================] - 0s 2ms/step - loss: 0.3668 - binary_accuracy: 0.9200 - val_loss: 0.3332 - val_binary_accuracy: 0.9867\n",
      "Epoch 23/50\n",
      "15/15 [==============================] - 0s 3ms/step - loss: 0.3624 - binary_accuracy: 0.9600 - val_loss: 0.3311 - val_binary_accuracy: 0.9733\n",
      "Epoch 24/50\n",
      "15/15 [==============================] - 0s 2ms/step - loss: 0.3632 - binary_accuracy: 0.9200 - val_loss: 0.3331 - val_binary_accuracy: 0.9467\n",
      "Epoch 25/50\n",
      "15/15 [==============================] - 0s 2ms/step - loss: 0.3588 - binary_accuracy: 0.9200 - val_loss: 0.3246 - val_binary_accuracy: 0.9867\n",
      "Epoch 26/50\n",
      "15/15 [==============================] - 0s 2ms/step - loss: 0.3537 - binary_accuracy: 0.9333 - val_loss: 0.3223 - val_binary_accuracy: 0.9733\n",
      "Epoch 27/50\n",
      "15/15 [==============================] - 0s 2ms/step - loss: 0.3514 - binary_accuracy: 0.9333 - val_loss: 0.3201 - val_binary_accuracy: 0.9733\n",
      "Epoch 28/50\n",
      "15/15 [==============================] - 0s 2ms/step - loss: 0.3510 - binary_accuracy: 0.9467 - val_loss: 0.3170 - val_binary_accuracy: 0.9867\n",
      "Epoch 29/50\n",
      "15/15 [==============================] - 0s 3ms/step - loss: 0.3531 - binary_accuracy: 0.9200 - val_loss: 0.3144 - val_binary_accuracy: 1.0000\n",
      "Epoch 30/50\n",
      "15/15 [==============================] - 0s 3ms/step - loss: 0.3446 - binary_accuracy: 0.9600 - val_loss: 0.3136 - val_binary_accuracy: 0.9733\n",
      "Epoch 31/50\n",
      "15/15 [==============================] - 0s 2ms/step - loss: 0.3479 - binary_accuracy: 0.9200 - val_loss: 0.3097 - val_binary_accuracy: 1.0000\n",
      "Epoch 32/50\n",
      "15/15 [==============================] - 0s 2ms/step - loss: 0.3427 - binary_accuracy: 0.9467 - val_loss: 0.3125 - val_binary_accuracy: 0.9467\n",
      "Epoch 33/50\n",
      "15/15 [==============================] - 0s 3ms/step - loss: 0.3441 - binary_accuracy: 0.9200 - val_loss: 0.3083 - val_binary_accuracy: 0.9733\n",
      "Epoch 34/50\n",
      "15/15 [==============================] - 0s 3ms/step - loss: 0.3363 - binary_accuracy: 0.9600 - val_loss: 0.3039 - val_binary_accuracy: 0.9733\n",
      "Epoch 35/50\n",
      "15/15 [==============================] - 0s 3ms/step - loss: 0.3398 - binary_accuracy: 0.9467 - val_loss: 0.3041 - val_binary_accuracy: 0.9733\n",
      "Epoch 36/50\n",
      "15/15 [==============================] - 0s 2ms/step - loss: 0.3323 - binary_accuracy: 0.9600 - val_loss: 0.3040 - val_binary_accuracy: 0.9733\n",
      "Epoch 37/50\n",
      "15/15 [==============================] - 0s 2ms/step - loss: 0.3354 - binary_accuracy: 0.9333 - val_loss: 0.2999 - val_binary_accuracy: 0.9733\n",
      "Epoch 38/50\n",
      "15/15 [==============================] - 0s 3ms/step - loss: 0.3290 - binary_accuracy: 0.9467 - val_loss: 0.2957 - val_binary_accuracy: 0.9867\n",
      "Epoch 39/50\n",
      "15/15 [==============================] - 0s 3ms/step - loss: 0.3273 - binary_accuracy: 0.9467 - val_loss: 0.2954 - val_binary_accuracy: 0.9733\n",
      "Epoch 40/50\n",
      "15/15 [==============================] - 0s 3ms/step - loss: 0.3242 - binary_accuracy: 0.9467 - val_loss: 0.2949 - val_binary_accuracy: 0.9733\n",
      "Epoch 41/50\n",
      "15/15 [==============================] - 0s 2ms/step - loss: 0.3219 - binary_accuracy: 0.9333 - val_loss: 0.2926 - val_binary_accuracy: 0.9733\n",
      "Epoch 42/50\n",
      "15/15 [==============================] - 0s 3ms/step - loss: 0.3258 - binary_accuracy: 0.9333 - val_loss: 0.2907 - val_binary_accuracy: 0.9733\n",
      "Epoch 43/50\n",
      "15/15 [==============================] - 0s 2ms/step - loss: 0.3223 - binary_accuracy: 0.9333 - val_loss: 0.2910 - val_binary_accuracy: 0.9733\n",
      "Epoch 44/50\n",
      "15/15 [==============================] - 0s 3ms/step - loss: 0.3211 - binary_accuracy: 0.9467 - val_loss: 0.2905 - val_binary_accuracy: 0.9733\n",
      "Epoch 45/50\n",
      "15/15 [==============================] - 0s 3ms/step - loss: 0.3121 - binary_accuracy: 0.9333 - val_loss: 0.2842 - val_binary_accuracy: 0.9867\n",
      "Epoch 46/50\n",
      "15/15 [==============================] - 0s 3ms/step - loss: 0.3174 - binary_accuracy: 0.9467 - val_loss: 0.2824 - val_binary_accuracy: 1.0000\n",
      "Epoch 47/50\n",
      "15/15 [==============================] - 0s 2ms/step - loss: 0.3202 - binary_accuracy: 0.9467 - val_loss: 0.2842 - val_binary_accuracy: 0.9733\n",
      "Epoch 48/50\n",
      "15/15 [==============================] - 0s 3ms/step - loss: 0.3154 - binary_accuracy: 0.9200 - val_loss: 0.2795 - val_binary_accuracy: 1.0000\n",
      "Epoch 49/50\n",
      "15/15 [==============================] - 0s 3ms/step - loss: 0.3151 - binary_accuracy: 0.9467 - val_loss: 0.2790 - val_binary_accuracy: 0.9733\n",
      "Epoch 50/50\n",
      "15/15 [==============================] - 0s 3ms/step - loss: 0.3082 - binary_accuracy: 0.9467 - val_loss: 0.2767 - val_binary_accuracy: 1.0000\n"
     ]
    },
    {
     "data": {
      "text/plain": [
       "<tensorflow.python.keras.callbacks.History at 0x7f98615c1208>"
      ]
     },
     "execution_count": 6,
     "metadata": {
      "tags": []
     },
     "output_type": "execute_result"
    }
   ],
   "source": [
    "import numpy as np\n",
    "import pandas as pd\n",
    "import matplotlib.pyplot as plt\n",
    "from tensorflow import keras\n",
    "from keras.layers import Dense\n",
    "from keras.models import Sequential\n",
    "from sklearn.datasets import load_iris\n",
    "from sklearn.model_selection import train_test_split\n",
    "\n",
    "# Préparation des données :\n",
    "\n",
    "iris = load_iris()\n",
    "X = iris['data']\n",
    "Y = (iris[\"target\"] == 2).astype(np.int) # On créé une liste qui contient 1 lorsque la fleur est de type 2 et 0 sinon pour faire une classification\n",
    "X_train, X_test, Y_train, Y_test = train_test_split(X, Y, test_size=0.5, random_state=2)\n",
    "n_features = 4\n",
    "model = keras.Sequential()\n",
    "model.add(keras.layers.Dense(1, input_shape=(n_features,), activation='sigmoid'))\n",
    "model.compile(optimizer='sgd', loss='binary_crossentropy', metrics=['binary_accuracy'])\n",
    "\n",
    "\n",
    "model.fit(X_train, Y_train,\n",
    "                                 batch_size=5,\n",
    "                                 epochs=50,\n",
    "                                 verbose=1,\n",
    "                                 validation_data=(X_test, Y_test)\n",
    "                        )\n",
    "\n",
    "\n"
   ]
  },
  {
   "cell_type": "markdown",
   "metadata": {
    "id": "6-RrmRB6msPu"
   },
   "source": [
    "`keras` (et `tensorflow`) sont destinés à faire des modèles profonds et à traiter des très gros ensembles de données. Il est alors très facile de prendre le code précédent et d'ajouter de couches et des neurones. Ci-dessous, je mets d'abord une couche dense de 10 neurones suivi de la couche d'un neurone permettant de définir la classe de l'entrée.\n"
   ]
  },
  {
   "cell_type": "code",
   "execution_count": null,
   "metadata": {
    "colab": {
     "base_uri": "https://localhost:8080/"
    },
    "id": "OUpoj9lfnZEk",
    "outputId": "7a696bc0-e063-4112-a09c-95598dc2bfa4"
   },
   "outputs": [
    {
     "name": "stdout",
     "output_type": "stream",
     "text": [
      "Epoch 1/200\n",
      "8/8 [==============================] - 0s 16ms/step - loss: 0.7163 - binary_accuracy: 0.6667 - val_loss: 0.7039 - val_binary_accuracy: 0.6667\n",
      "Epoch 2/200\n",
      "8/8 [==============================] - 0s 3ms/step - loss: 0.6971 - binary_accuracy: 0.6667 - val_loss: 0.6914 - val_binary_accuracy: 0.6667\n",
      "Epoch 3/200\n",
      "8/8 [==============================] - 0s 3ms/step - loss: 0.6856 - binary_accuracy: 0.6667 - val_loss: 0.6787 - val_binary_accuracy: 0.6667\n",
      "Epoch 4/200\n",
      "8/8 [==============================] - 0s 3ms/step - loss: 0.6735 - binary_accuracy: 0.6667 - val_loss: 0.6681 - val_binary_accuracy: 0.6667\n",
      "Epoch 5/200\n",
      "8/8 [==============================] - 0s 3ms/step - loss: 0.6644 - binary_accuracy: 0.6667 - val_loss: 0.6612 - val_binary_accuracy: 0.6667\n",
      "Epoch 6/200\n",
      "8/8 [==============================] - 0s 3ms/step - loss: 0.6581 - binary_accuracy: 0.6667 - val_loss: 0.6544 - val_binary_accuracy: 0.6667\n",
      "Epoch 7/200\n",
      "8/8 [==============================] - 0s 3ms/step - loss: 0.6526 - binary_accuracy: 0.6667 - val_loss: 0.6478 - val_binary_accuracy: 0.6667\n",
      "Epoch 8/200\n",
      "8/8 [==============================] - 0s 3ms/step - loss: 0.6456 - binary_accuracy: 0.6667 - val_loss: 0.6423 - val_binary_accuracy: 0.6667\n",
      "Epoch 9/200\n",
      "8/8 [==============================] - 0s 3ms/step - loss: 0.6409 - binary_accuracy: 0.6667 - val_loss: 0.6369 - val_binary_accuracy: 0.6667\n",
      "Epoch 10/200\n",
      "8/8 [==============================] - 0s 4ms/step - loss: 0.6362 - binary_accuracy: 0.6667 - val_loss: 0.6334 - val_binary_accuracy: 0.6667\n",
      "Epoch 11/200\n",
      "8/8 [==============================] - 0s 3ms/step - loss: 0.6332 - binary_accuracy: 0.6667 - val_loss: 0.6303 - val_binary_accuracy: 0.6667\n",
      "Epoch 12/200\n",
      "8/8 [==============================] - 0s 4ms/step - loss: 0.6305 - binary_accuracy: 0.6667 - val_loss: 0.6259 - val_binary_accuracy: 0.6667\n",
      "Epoch 13/200\n",
      "8/8 [==============================] - 0s 3ms/step - loss: 0.6261 - binary_accuracy: 0.6667 - val_loss: 0.6236 - val_binary_accuracy: 0.6667\n",
      "Epoch 14/200\n",
      "8/8 [==============================] - 0s 3ms/step - loss: 0.6242 - binary_accuracy: 0.6667 - val_loss: 0.6216 - val_binary_accuracy: 0.6667\n",
      "Epoch 15/200\n",
      "8/8 [==============================] - 0s 4ms/step - loss: 0.6228 - binary_accuracy: 0.6667 - val_loss: 0.6191 - val_binary_accuracy: 0.6667\n",
      "Epoch 16/200\n",
      "8/8 [==============================] - 0s 4ms/step - loss: 0.6198 - binary_accuracy: 0.6667 - val_loss: 0.6169 - val_binary_accuracy: 0.6667\n",
      "Epoch 17/200\n",
      "8/8 [==============================] - 0s 5ms/step - loss: 0.6184 - binary_accuracy: 0.6667 - val_loss: 0.6151 - val_binary_accuracy: 0.6667\n",
      "Epoch 18/200\n",
      "8/8 [==============================] - 0s 3ms/step - loss: 0.6163 - binary_accuracy: 0.6667 - val_loss: 0.6133 - val_binary_accuracy: 0.6667\n",
      "Epoch 19/200\n",
      "8/8 [==============================] - 0s 4ms/step - loss: 0.6154 - binary_accuracy: 0.6667 - val_loss: 0.6107 - val_binary_accuracy: 0.6667\n",
      "Epoch 20/200\n",
      "8/8 [==============================] - 0s 4ms/step - loss: 0.6127 - binary_accuracy: 0.6667 - val_loss: 0.6083 - val_binary_accuracy: 0.6667\n",
      "Epoch 21/200\n",
      "8/8 [==============================] - 0s 4ms/step - loss: 0.6105 - binary_accuracy: 0.6667 - val_loss: 0.6061 - val_binary_accuracy: 0.6667\n",
      "Epoch 22/200\n",
      "8/8 [==============================] - 0s 3ms/step - loss: 0.6088 - binary_accuracy: 0.6667 - val_loss: 0.6039 - val_binary_accuracy: 0.6667\n",
      "Epoch 23/200\n",
      "8/8 [==============================] - 0s 4ms/step - loss: 0.6068 - binary_accuracy: 0.6667 - val_loss: 0.6021 - val_binary_accuracy: 0.6667\n",
      "Epoch 24/200\n",
      "8/8 [==============================] - 0s 3ms/step - loss: 0.6053 - binary_accuracy: 0.6667 - val_loss: 0.6003 - val_binary_accuracy: 0.6667\n",
      "Epoch 25/200\n",
      "8/8 [==============================] - 0s 4ms/step - loss: 0.6031 - binary_accuracy: 0.6667 - val_loss: 0.5981 - val_binary_accuracy: 0.6667\n",
      "Epoch 26/200\n",
      "8/8 [==============================] - 0s 4ms/step - loss: 0.6016 - binary_accuracy: 0.6667 - val_loss: 0.5962 - val_binary_accuracy: 0.6667\n",
      "Epoch 27/200\n",
      "8/8 [==============================] - 0s 4ms/step - loss: 0.5997 - binary_accuracy: 0.6667 - val_loss: 0.5944 - val_binary_accuracy: 0.6667\n",
      "Epoch 28/200\n",
      "8/8 [==============================] - 0s 4ms/step - loss: 0.5983 - binary_accuracy: 0.6667 - val_loss: 0.5925 - val_binary_accuracy: 0.6667\n",
      "Epoch 29/200\n",
      "8/8 [==============================] - 0s 4ms/step - loss: 0.5968 - binary_accuracy: 0.6667 - val_loss: 0.5903 - val_binary_accuracy: 0.6667\n",
      "Epoch 30/200\n",
      "8/8 [==============================] - 0s 4ms/step - loss: 0.5942 - binary_accuracy: 0.6667 - val_loss: 0.5885 - val_binary_accuracy: 0.6667\n",
      "Epoch 31/200\n",
      "8/8 [==============================] - 0s 4ms/step - loss: 0.5931 - binary_accuracy: 0.6667 - val_loss: 0.5865 - val_binary_accuracy: 0.6667\n",
      "Epoch 32/200\n",
      "8/8 [==============================] - 0s 4ms/step - loss: 0.5911 - binary_accuracy: 0.6667 - val_loss: 0.5845 - val_binary_accuracy: 0.6667\n",
      "Epoch 33/200\n",
      "8/8 [==============================] - 0s 4ms/step - loss: 0.5890 - binary_accuracy: 0.6667 - val_loss: 0.5827 - val_binary_accuracy: 0.6667\n",
      "Epoch 34/200\n",
      "8/8 [==============================] - 0s 4ms/step - loss: 0.5875 - binary_accuracy: 0.6667 - val_loss: 0.5808 - val_binary_accuracy: 0.6667\n",
      "Epoch 35/200\n",
      "8/8 [==============================] - 0s 4ms/step - loss: 0.5856 - binary_accuracy: 0.6667 - val_loss: 0.5789 - val_binary_accuracy: 0.6667\n",
      "Epoch 36/200\n",
      "8/8 [==============================] - 0s 4ms/step - loss: 0.5858 - binary_accuracy: 0.6667 - val_loss: 0.5772 - val_binary_accuracy: 0.6667\n",
      "Epoch 37/200\n",
      "8/8 [==============================] - 0s 4ms/step - loss: 0.5828 - binary_accuracy: 0.6667 - val_loss: 0.5754 - val_binary_accuracy: 0.6667\n",
      "Epoch 38/200\n",
      "8/8 [==============================] - 0s 4ms/step - loss: 0.5808 - binary_accuracy: 0.6667 - val_loss: 0.5734 - val_binary_accuracy: 0.6667\n",
      "Epoch 39/200\n",
      "8/8 [==============================] - 0s 4ms/step - loss: 0.5794 - binary_accuracy: 0.6667 - val_loss: 0.5716 - val_binary_accuracy: 0.6667\n",
      "Epoch 40/200\n",
      "8/8 [==============================] - 0s 4ms/step - loss: 0.5774 - binary_accuracy: 0.6667 - val_loss: 0.5697 - val_binary_accuracy: 0.6667\n",
      "Epoch 41/200\n",
      "8/8 [==============================] - 0s 4ms/step - loss: 0.5767 - binary_accuracy: 0.6667 - val_loss: 0.5681 - val_binary_accuracy: 0.6667\n",
      "Epoch 42/200\n",
      "8/8 [==============================] - 0s 3ms/step - loss: 0.5748 - binary_accuracy: 0.6667 - val_loss: 0.5663 - val_binary_accuracy: 0.6667\n",
      "Epoch 43/200\n",
      "8/8 [==============================] - 0s 4ms/step - loss: 0.5740 - binary_accuracy: 0.6667 - val_loss: 0.5646 - val_binary_accuracy: 0.6667\n",
      "Epoch 44/200\n",
      "8/8 [==============================] - 0s 4ms/step - loss: 0.5726 - binary_accuracy: 0.6667 - val_loss: 0.5629 - val_binary_accuracy: 0.6667\n",
      "Epoch 45/200\n",
      "8/8 [==============================] - 0s 4ms/step - loss: 0.5701 - binary_accuracy: 0.6667 - val_loss: 0.5610 - val_binary_accuracy: 0.6667\n",
      "Epoch 46/200\n",
      "8/8 [==============================] - 0s 4ms/step - loss: 0.5689 - binary_accuracy: 0.6667 - val_loss: 0.5592 - val_binary_accuracy: 0.6667\n",
      "Epoch 47/200\n",
      "8/8 [==============================] - 0s 4ms/step - loss: 0.5669 - binary_accuracy: 0.6667 - val_loss: 0.5576 - val_binary_accuracy: 0.6667\n",
      "Epoch 48/200\n",
      "8/8 [==============================] - 0s 4ms/step - loss: 0.5659 - binary_accuracy: 0.6667 - val_loss: 0.5560 - val_binary_accuracy: 0.6667\n",
      "Epoch 49/200\n",
      "8/8 [==============================] - 0s 4ms/step - loss: 0.5639 - binary_accuracy: 0.6667 - val_loss: 0.5544 - val_binary_accuracy: 0.6667\n",
      "Epoch 50/200\n",
      "8/8 [==============================] - 0s 4ms/step - loss: 0.5624 - binary_accuracy: 0.6667 - val_loss: 0.5527 - val_binary_accuracy: 0.6667\n",
      "Epoch 51/200\n",
      "8/8 [==============================] - 0s 4ms/step - loss: 0.5619 - binary_accuracy: 0.6667 - val_loss: 0.5511 - val_binary_accuracy: 0.6667\n",
      "Epoch 52/200\n",
      "8/8 [==============================] - 0s 4ms/step - loss: 0.5600 - binary_accuracy: 0.6667 - val_loss: 0.5495 - val_binary_accuracy: 0.6667\n",
      "Epoch 53/200\n",
      "8/8 [==============================] - 0s 4ms/step - loss: 0.5583 - binary_accuracy: 0.6667 - val_loss: 0.5479 - val_binary_accuracy: 0.6667\n",
      "Epoch 54/200\n",
      "8/8 [==============================] - 0s 4ms/step - loss: 0.5573 - binary_accuracy: 0.6667 - val_loss: 0.5463 - val_binary_accuracy: 0.6667\n",
      "Epoch 55/200\n",
      "8/8 [==============================] - 0s 4ms/step - loss: 0.5558 - binary_accuracy: 0.6667 - val_loss: 0.5449 - val_binary_accuracy: 0.6667\n",
      "Epoch 56/200\n",
      "8/8 [==============================] - 0s 5ms/step - loss: 0.5540 - binary_accuracy: 0.6667 - val_loss: 0.5433 - val_binary_accuracy: 0.6667\n",
      "Epoch 57/200\n",
      "8/8 [==============================] - 0s 4ms/step - loss: 0.5540 - binary_accuracy: 0.6667 - val_loss: 0.5418 - val_binary_accuracy: 0.6667\n",
      "Epoch 58/200\n",
      "8/8 [==============================] - 0s 4ms/step - loss: 0.5512 - binary_accuracy: 0.6667 - val_loss: 0.5403 - val_binary_accuracy: 0.6667\n",
      "Epoch 59/200\n",
      "8/8 [==============================] - 0s 4ms/step - loss: 0.5503 - binary_accuracy: 0.6667 - val_loss: 0.5386 - val_binary_accuracy: 0.6667\n",
      "Epoch 60/200\n",
      "8/8 [==============================] - 0s 4ms/step - loss: 0.5494 - binary_accuracy: 0.6667 - val_loss: 0.5372 - val_binary_accuracy: 0.6667\n",
      "Epoch 61/200\n",
      "8/8 [==============================] - 0s 5ms/step - loss: 0.5481 - binary_accuracy: 0.6667 - val_loss: 0.5356 - val_binary_accuracy: 0.6667\n",
      "Epoch 62/200\n",
      "8/8 [==============================] - 0s 4ms/step - loss: 0.5473 - binary_accuracy: 0.6667 - val_loss: 0.5341 - val_binary_accuracy: 0.6667\n",
      "Epoch 63/200\n",
      "8/8 [==============================] - 0s 4ms/step - loss: 0.5452 - binary_accuracy: 0.6667 - val_loss: 0.5328 - val_binary_accuracy: 0.6667\n",
      "Epoch 64/200\n",
      "8/8 [==============================] - 0s 4ms/step - loss: 0.5440 - binary_accuracy: 0.6667 - val_loss: 0.5314 - val_binary_accuracy: 0.6667\n",
      "Epoch 65/200\n",
      "8/8 [==============================] - 0s 4ms/step - loss: 0.5425 - binary_accuracy: 0.6667 - val_loss: 0.5299 - val_binary_accuracy: 0.6667\n",
      "Epoch 66/200\n",
      "8/8 [==============================] - 0s 4ms/step - loss: 0.5412 - binary_accuracy: 0.6667 - val_loss: 0.5284 - val_binary_accuracy: 0.6667\n",
      "Epoch 67/200\n",
      "8/8 [==============================] - 0s 4ms/step - loss: 0.5401 - binary_accuracy: 0.6667 - val_loss: 0.5271 - val_binary_accuracy: 0.6667\n",
      "Epoch 68/200\n",
      "8/8 [==============================] - 0s 3ms/step - loss: 0.5393 - binary_accuracy: 0.6667 - val_loss: 0.5256 - val_binary_accuracy: 0.6667\n",
      "Epoch 69/200\n",
      "8/8 [==============================] - 0s 4ms/step - loss: 0.5382 - binary_accuracy: 0.6667 - val_loss: 0.5243 - val_binary_accuracy: 0.6667\n",
      "Epoch 70/200\n",
      "8/8 [==============================] - 0s 4ms/step - loss: 0.5365 - binary_accuracy: 0.6667 - val_loss: 0.5232 - val_binary_accuracy: 0.6667\n",
      "Epoch 71/200\n",
      "8/8 [==============================] - 0s 4ms/step - loss: 0.5347 - binary_accuracy: 0.6667 - val_loss: 0.5219 - val_binary_accuracy: 0.6667\n",
      "Epoch 72/200\n",
      "8/8 [==============================] - 0s 4ms/step - loss: 0.5342 - binary_accuracy: 0.6667 - val_loss: 0.5204 - val_binary_accuracy: 0.6667\n",
      "Epoch 73/200\n",
      "8/8 [==============================] - 0s 4ms/step - loss: 0.5324 - binary_accuracy: 0.6667 - val_loss: 0.5193 - val_binary_accuracy: 0.6667\n",
      "Epoch 74/200\n",
      "8/8 [==============================] - 0s 4ms/step - loss: 0.5316 - binary_accuracy: 0.6667 - val_loss: 0.5180 - val_binary_accuracy: 0.6667\n",
      "Epoch 75/200\n",
      "8/8 [==============================] - 0s 4ms/step - loss: 0.5307 - binary_accuracy: 0.6667 - val_loss: 0.5164 - val_binary_accuracy: 0.6667\n",
      "Epoch 76/200\n",
      "8/8 [==============================] - 0s 4ms/step - loss: 0.5292 - binary_accuracy: 0.6667 - val_loss: 0.5151 - val_binary_accuracy: 0.6667\n",
      "Epoch 77/200\n",
      "8/8 [==============================] - 0s 4ms/step - loss: 0.5280 - binary_accuracy: 0.6667 - val_loss: 0.5137 - val_binary_accuracy: 0.6667\n",
      "Epoch 78/200\n",
      "8/8 [==============================] - 0s 4ms/step - loss: 0.5268 - binary_accuracy: 0.6667 - val_loss: 0.5125 - val_binary_accuracy: 0.6667\n",
      "Epoch 79/200\n",
      "8/8 [==============================] - 0s 3ms/step - loss: 0.5253 - binary_accuracy: 0.6667 - val_loss: 0.5111 - val_binary_accuracy: 0.6667\n",
      "Epoch 80/200\n",
      "8/8 [==============================] - 0s 4ms/step - loss: 0.5246 - binary_accuracy: 0.6667 - val_loss: 0.5094 - val_binary_accuracy: 0.6667\n",
      "Epoch 81/200\n",
      "8/8 [==============================] - 0s 4ms/step - loss: 0.5234 - binary_accuracy: 0.6667 - val_loss: 0.5082 - val_binary_accuracy: 0.6667\n",
      "Epoch 82/200\n",
      "8/8 [==============================] - 0s 4ms/step - loss: 0.5225 - binary_accuracy: 0.6667 - val_loss: 0.5071 - val_binary_accuracy: 0.6667\n",
      "Epoch 83/200\n",
      "8/8 [==============================] - 0s 4ms/step - loss: 0.5217 - binary_accuracy: 0.6667 - val_loss: 0.5058 - val_binary_accuracy: 0.6667\n",
      "Epoch 84/200\n",
      "8/8 [==============================] - 0s 4ms/step - loss: 0.5202 - binary_accuracy: 0.6667 - val_loss: 0.5047 - val_binary_accuracy: 0.6667\n",
      "Epoch 85/200\n",
      "8/8 [==============================] - 0s 4ms/step - loss: 0.5184 - binary_accuracy: 0.6667 - val_loss: 0.5033 - val_binary_accuracy: 0.6667\n",
      "Epoch 86/200\n",
      "8/8 [==============================] - 0s 3ms/step - loss: 0.5172 - binary_accuracy: 0.6667 - val_loss: 0.5021 - val_binary_accuracy: 0.6667\n",
      "Epoch 87/200\n",
      "8/8 [==============================] - 0s 4ms/step - loss: 0.5163 - binary_accuracy: 0.6667 - val_loss: 0.5007 - val_binary_accuracy: 0.6667\n",
      "Epoch 88/200\n",
      "8/8 [==============================] - 0s 3ms/step - loss: 0.5153 - binary_accuracy: 0.6667 - val_loss: 0.4994 - val_binary_accuracy: 0.6667\n",
      "Epoch 89/200\n",
      "8/8 [==============================] - 0s 4ms/step - loss: 0.5147 - binary_accuracy: 0.6667 - val_loss: 0.4979 - val_binary_accuracy: 0.6667\n",
      "Epoch 90/200\n",
      "8/8 [==============================] - 0s 4ms/step - loss: 0.5133 - binary_accuracy: 0.6667 - val_loss: 0.4963 - val_binary_accuracy: 0.6667\n",
      "Epoch 91/200\n",
      "8/8 [==============================] - 0s 4ms/step - loss: 0.5115 - binary_accuracy: 0.6800 - val_loss: 0.4951 - val_binary_accuracy: 0.6667\n",
      "Epoch 92/200\n",
      "8/8 [==============================] - 0s 4ms/step - loss: 0.5103 - binary_accuracy: 0.6800 - val_loss: 0.4940 - val_binary_accuracy: 0.6667\n",
      "Epoch 93/200\n",
      "8/8 [==============================] - 0s 4ms/step - loss: 0.5097 - binary_accuracy: 0.6800 - val_loss: 0.4929 - val_binary_accuracy: 0.6667\n",
      "Epoch 94/200\n",
      "8/8 [==============================] - 0s 4ms/step - loss: 0.5106 - binary_accuracy: 0.6933 - val_loss: 0.4920 - val_binary_accuracy: 0.6667\n",
      "Epoch 95/200\n",
      "8/8 [==============================] - 0s 4ms/step - loss: 0.5072 - binary_accuracy: 0.6800 - val_loss: 0.4909 - val_binary_accuracy: 0.6667\n",
      "Epoch 96/200\n",
      "8/8 [==============================] - 0s 3ms/step - loss: 0.5064 - binary_accuracy: 0.6667 - val_loss: 0.4895 - val_binary_accuracy: 0.6667\n",
      "Epoch 97/200\n",
      "8/8 [==============================] - 0s 3ms/step - loss: 0.5050 - binary_accuracy: 0.6800 - val_loss: 0.4882 - val_binary_accuracy: 0.6667\n",
      "Epoch 98/200\n",
      "8/8 [==============================] - 0s 4ms/step - loss: 0.5038 - binary_accuracy: 0.6800 - val_loss: 0.4867 - val_binary_accuracy: 0.6667\n",
      "Epoch 99/200\n",
      "8/8 [==============================] - 0s 4ms/step - loss: 0.5034 - binary_accuracy: 0.6933 - val_loss: 0.4856 - val_binary_accuracy: 0.6667\n",
      "Epoch 100/200\n",
      "8/8 [==============================] - 0s 3ms/step - loss: 0.5022 - binary_accuracy: 0.6933 - val_loss: 0.4846 - val_binary_accuracy: 0.6667\n",
      "Epoch 101/200\n",
      "8/8 [==============================] - 0s 4ms/step - loss: 0.5007 - binary_accuracy: 0.6800 - val_loss: 0.4833 - val_binary_accuracy: 0.6667\n",
      "Epoch 102/200\n",
      "8/8 [==============================] - 0s 3ms/step - loss: 0.5006 - binary_accuracy: 0.6800 - val_loss: 0.4820 - val_binary_accuracy: 0.6667\n",
      "Epoch 103/200\n",
      "8/8 [==============================] - 0s 4ms/step - loss: 0.4989 - binary_accuracy: 0.6933 - val_loss: 0.4813 - val_binary_accuracy: 0.6667\n",
      "Epoch 104/200\n",
      "8/8 [==============================] - 0s 3ms/step - loss: 0.4978 - binary_accuracy: 0.6800 - val_loss: 0.4799 - val_binary_accuracy: 0.6667\n",
      "Epoch 105/200\n",
      "8/8 [==============================] - 0s 4ms/step - loss: 0.4968 - binary_accuracy: 0.6800 - val_loss: 0.4784 - val_binary_accuracy: 0.6667\n",
      "Epoch 106/200\n",
      "8/8 [==============================] - 0s 5ms/step - loss: 0.4962 - binary_accuracy: 0.6933 - val_loss: 0.4776 - val_binary_accuracy: 0.6667\n",
      "Epoch 107/200\n",
      "8/8 [==============================] - 0s 4ms/step - loss: 0.4952 - binary_accuracy: 0.6800 - val_loss: 0.4767 - val_binary_accuracy: 0.6667\n",
      "Epoch 108/200\n",
      "8/8 [==============================] - 0s 4ms/step - loss: 0.4934 - binary_accuracy: 0.6933 - val_loss: 0.4753 - val_binary_accuracy: 0.6667\n",
      "Epoch 109/200\n",
      "8/8 [==============================] - 0s 4ms/step - loss: 0.4928 - binary_accuracy: 0.6933 - val_loss: 0.4742 - val_binary_accuracy: 0.6667\n",
      "Epoch 110/200\n",
      "8/8 [==============================] - 0s 4ms/step - loss: 0.4914 - binary_accuracy: 0.6933 - val_loss: 0.4728 - val_binary_accuracy: 0.6667\n",
      "Epoch 111/200\n",
      "8/8 [==============================] - 0s 5ms/step - loss: 0.4902 - binary_accuracy: 0.6933 - val_loss: 0.4716 - val_binary_accuracy: 0.6667\n",
      "Epoch 112/200\n",
      "8/8 [==============================] - 0s 5ms/step - loss: 0.4901 - binary_accuracy: 0.6933 - val_loss: 0.4704 - val_binary_accuracy: 0.6800\n",
      "Epoch 113/200\n",
      "8/8 [==============================] - 0s 4ms/step - loss: 0.4883 - binary_accuracy: 0.6933 - val_loss: 0.4694 - val_binary_accuracy: 0.6800\n",
      "Epoch 114/200\n",
      "8/8 [==============================] - 0s 4ms/step - loss: 0.4876 - binary_accuracy: 0.6933 - val_loss: 0.4681 - val_binary_accuracy: 0.6800\n",
      "Epoch 115/200\n",
      "8/8 [==============================] - 0s 4ms/step - loss: 0.4870 - binary_accuracy: 0.6933 - val_loss: 0.4663 - val_binary_accuracy: 0.6800\n",
      "Epoch 116/200\n",
      "8/8 [==============================] - 0s 4ms/step - loss: 0.4857 - binary_accuracy: 0.7067 - val_loss: 0.4652 - val_binary_accuracy: 0.6800\n",
      "Epoch 117/200\n",
      "8/8 [==============================] - 0s 5ms/step - loss: 0.4847 - binary_accuracy: 0.6933 - val_loss: 0.4644 - val_binary_accuracy: 0.6800\n",
      "Epoch 118/200\n",
      "8/8 [==============================] - 0s 4ms/step - loss: 0.4834 - binary_accuracy: 0.6933 - val_loss: 0.4629 - val_binary_accuracy: 0.6800\n",
      "Epoch 119/200\n",
      "8/8 [==============================] - 0s 4ms/step - loss: 0.4827 - binary_accuracy: 0.7067 - val_loss: 0.4617 - val_binary_accuracy: 0.6933\n",
      "Epoch 120/200\n",
      "8/8 [==============================] - 0s 5ms/step - loss: 0.4818 - binary_accuracy: 0.6933 - val_loss: 0.4605 - val_binary_accuracy: 0.7067\n",
      "Epoch 121/200\n",
      "8/8 [==============================] - 0s 5ms/step - loss: 0.4807 - binary_accuracy: 0.7200 - val_loss: 0.4594 - val_binary_accuracy: 0.7067\n",
      "Epoch 122/200\n",
      "8/8 [==============================] - 0s 4ms/step - loss: 0.4791 - binary_accuracy: 0.7200 - val_loss: 0.4586 - val_binary_accuracy: 0.6933\n",
      "Epoch 123/200\n",
      "8/8 [==============================] - 0s 4ms/step - loss: 0.4781 - binary_accuracy: 0.7200 - val_loss: 0.4579 - val_binary_accuracy: 0.6800\n",
      "Epoch 124/200\n",
      "8/8 [==============================] - 0s 4ms/step - loss: 0.4772 - binary_accuracy: 0.7067 - val_loss: 0.4569 - val_binary_accuracy: 0.6800\n",
      "Epoch 125/200\n",
      "8/8 [==============================] - 0s 5ms/step - loss: 0.4768 - binary_accuracy: 0.7067 - val_loss: 0.4563 - val_binary_accuracy: 0.6800\n",
      "Epoch 126/200\n",
      "8/8 [==============================] - 0s 5ms/step - loss: 0.4762 - binary_accuracy: 0.6933 - val_loss: 0.4551 - val_binary_accuracy: 0.6800\n",
      "Epoch 127/200\n",
      "8/8 [==============================] - 0s 4ms/step - loss: 0.4744 - binary_accuracy: 0.6933 - val_loss: 0.4535 - val_binary_accuracy: 0.7067\n",
      "Epoch 128/200\n",
      "8/8 [==============================] - 0s 4ms/step - loss: 0.4739 - binary_accuracy: 0.7200 - val_loss: 0.4524 - val_binary_accuracy: 0.7067\n",
      "Epoch 129/200\n",
      "8/8 [==============================] - 0s 4ms/step - loss: 0.4726 - binary_accuracy: 0.7200 - val_loss: 0.4512 - val_binary_accuracy: 0.7067\n",
      "Epoch 130/200\n",
      "8/8 [==============================] - 0s 4ms/step - loss: 0.4711 - binary_accuracy: 0.7200 - val_loss: 0.4500 - val_binary_accuracy: 0.7067\n",
      "Epoch 131/200\n",
      "8/8 [==============================] - 0s 5ms/step - loss: 0.4705 - binary_accuracy: 0.7200 - val_loss: 0.4487 - val_binary_accuracy: 0.7067\n",
      "Epoch 132/200\n",
      "8/8 [==============================] - 0s 4ms/step - loss: 0.4699 - binary_accuracy: 0.7200 - val_loss: 0.4477 - val_binary_accuracy: 0.7067\n",
      "Epoch 133/200\n",
      "8/8 [==============================] - 0s 4ms/step - loss: 0.4691 - binary_accuracy: 0.7200 - val_loss: 0.4466 - val_binary_accuracy: 0.7067\n",
      "Epoch 134/200\n",
      "8/8 [==============================] - 0s 4ms/step - loss: 0.4680 - binary_accuracy: 0.7200 - val_loss: 0.4453 - val_binary_accuracy: 0.7333\n",
      "Epoch 135/200\n",
      "8/8 [==============================] - 0s 5ms/step - loss: 0.4671 - binary_accuracy: 0.7333 - val_loss: 0.4441 - val_binary_accuracy: 0.7467\n",
      "Epoch 136/200\n",
      "8/8 [==============================] - 0s 4ms/step - loss: 0.4660 - binary_accuracy: 0.7333 - val_loss: 0.4431 - val_binary_accuracy: 0.7467\n",
      "Epoch 137/200\n",
      "8/8 [==============================] - 0s 5ms/step - loss: 0.4648 - binary_accuracy: 0.7467 - val_loss: 0.4419 - val_binary_accuracy: 0.7600\n",
      "Epoch 138/200\n",
      "8/8 [==============================] - 0s 4ms/step - loss: 0.4636 - binary_accuracy: 0.7600 - val_loss: 0.4410 - val_binary_accuracy: 0.7467\n",
      "Epoch 139/200\n",
      "8/8 [==============================] - 0s 4ms/step - loss: 0.4629 - binary_accuracy: 0.7467 - val_loss: 0.4401 - val_binary_accuracy: 0.7467\n",
      "Epoch 140/200\n",
      "8/8 [==============================] - 0s 5ms/step - loss: 0.4621 - binary_accuracy: 0.7600 - val_loss: 0.4389 - val_binary_accuracy: 0.7600\n",
      "Epoch 141/200\n",
      "8/8 [==============================] - 0s 5ms/step - loss: 0.4613 - binary_accuracy: 0.7600 - val_loss: 0.4380 - val_binary_accuracy: 0.7600\n",
      "Epoch 142/200\n",
      "8/8 [==============================] - 0s 4ms/step - loss: 0.4608 - binary_accuracy: 0.7600 - val_loss: 0.4372 - val_binary_accuracy: 0.7467\n",
      "Epoch 143/200\n",
      "8/8 [==============================] - 0s 4ms/step - loss: 0.4603 - binary_accuracy: 0.7600 - val_loss: 0.4361 - val_binary_accuracy: 0.7600\n",
      "Epoch 144/200\n",
      "8/8 [==============================] - 0s 4ms/step - loss: 0.4590 - binary_accuracy: 0.7600 - val_loss: 0.4352 - val_binary_accuracy: 0.7467\n",
      "Epoch 145/200\n",
      "8/8 [==============================] - 0s 5ms/step - loss: 0.4573 - binary_accuracy: 0.7333 - val_loss: 0.4341 - val_binary_accuracy: 0.7600\n",
      "Epoch 146/200\n",
      "8/8 [==============================] - 0s 4ms/step - loss: 0.4567 - binary_accuracy: 0.7600 - val_loss: 0.4334 - val_binary_accuracy: 0.7467\n",
      "Epoch 147/200\n",
      "8/8 [==============================] - 0s 4ms/step - loss: 0.4560 - binary_accuracy: 0.7600 - val_loss: 0.4326 - val_binary_accuracy: 0.7467\n",
      "Epoch 148/200\n",
      "8/8 [==============================] - 0s 4ms/step - loss: 0.4560 - binary_accuracy: 0.7467 - val_loss: 0.4319 - val_binary_accuracy: 0.7333\n",
      "Epoch 149/200\n",
      "8/8 [==============================] - 0s 4ms/step - loss: 0.4548 - binary_accuracy: 0.7467 - val_loss: 0.4306 - val_binary_accuracy: 0.7600\n",
      "Epoch 150/200\n",
      "8/8 [==============================] - 0s 4ms/step - loss: 0.4535 - binary_accuracy: 0.7600 - val_loss: 0.4297 - val_binary_accuracy: 0.7600\n",
      "Epoch 151/200\n",
      "8/8 [==============================] - 0s 4ms/step - loss: 0.4526 - binary_accuracy: 0.7600 - val_loss: 0.4286 - val_binary_accuracy: 0.7600\n",
      "Epoch 152/200\n",
      "8/8 [==============================] - 0s 5ms/step - loss: 0.4520 - binary_accuracy: 0.7600 - val_loss: 0.4271 - val_binary_accuracy: 0.7733\n",
      "Epoch 153/200\n",
      "8/8 [==============================] - 0s 4ms/step - loss: 0.4504 - binary_accuracy: 0.7733 - val_loss: 0.4265 - val_binary_accuracy: 0.7733\n",
      "Epoch 154/200\n",
      "8/8 [==============================] - 0s 4ms/step - loss: 0.4494 - binary_accuracy: 0.7600 - val_loss: 0.4253 - val_binary_accuracy: 0.7733\n",
      "Epoch 155/200\n",
      "8/8 [==============================] - 0s 4ms/step - loss: 0.4488 - binary_accuracy: 0.8000 - val_loss: 0.4249 - val_binary_accuracy: 0.7600\n",
      "Epoch 156/200\n",
      "8/8 [==============================] - 0s 5ms/step - loss: 0.4483 - binary_accuracy: 0.7600 - val_loss: 0.4236 - val_binary_accuracy: 0.7733\n",
      "Epoch 157/200\n",
      "8/8 [==============================] - 0s 4ms/step - loss: 0.4472 - binary_accuracy: 0.7600 - val_loss: 0.4225 - val_binary_accuracy: 0.7867\n",
      "Epoch 158/200\n",
      "8/8 [==============================] - 0s 4ms/step - loss: 0.4462 - binary_accuracy: 0.7600 - val_loss: 0.4215 - val_binary_accuracy: 0.7867\n",
      "Epoch 159/200\n",
      "8/8 [==============================] - 0s 4ms/step - loss: 0.4461 - binary_accuracy: 0.7600 - val_loss: 0.4200 - val_binary_accuracy: 0.8533\n",
      "Epoch 160/200\n",
      "8/8 [==============================] - 0s 4ms/step - loss: 0.4443 - binary_accuracy: 0.8000 - val_loss: 0.4191 - val_binary_accuracy: 0.8533\n",
      "Epoch 161/200\n",
      "8/8 [==============================] - 0s 5ms/step - loss: 0.4436 - binary_accuracy: 0.8133 - val_loss: 0.4187 - val_binary_accuracy: 0.8133\n",
      "Epoch 162/200\n",
      "8/8 [==============================] - 0s 5ms/step - loss: 0.4426 - binary_accuracy: 0.8000 - val_loss: 0.4183 - val_binary_accuracy: 0.7733\n",
      "Epoch 163/200\n",
      "8/8 [==============================] - 0s 5ms/step - loss: 0.4428 - binary_accuracy: 0.7600 - val_loss: 0.4178 - val_binary_accuracy: 0.7733\n",
      "Epoch 164/200\n",
      "8/8 [==============================] - 0s 4ms/step - loss: 0.4415 - binary_accuracy: 0.7600 - val_loss: 0.4164 - val_binary_accuracy: 0.7867\n",
      "Epoch 165/200\n",
      "8/8 [==============================] - 0s 4ms/step - loss: 0.4403 - binary_accuracy: 0.7600 - val_loss: 0.4155 - val_binary_accuracy: 0.7867\n",
      "Epoch 166/200\n",
      "8/8 [==============================] - 0s 4ms/step - loss: 0.4396 - binary_accuracy: 0.7733 - val_loss: 0.4144 - val_binary_accuracy: 0.8133\n",
      "Epoch 167/200\n",
      "8/8 [==============================] - 0s 4ms/step - loss: 0.4394 - binary_accuracy: 0.7733 - val_loss: 0.4131 - val_binary_accuracy: 0.8533\n",
      "Epoch 168/200\n",
      "8/8 [==============================] - 0s 4ms/step - loss: 0.4376 - binary_accuracy: 0.8267 - val_loss: 0.4125 - val_binary_accuracy: 0.8267\n",
      "Epoch 169/200\n",
      "8/8 [==============================] - 0s 4ms/step - loss: 0.4375 - binary_accuracy: 0.7733 - val_loss: 0.4119 - val_binary_accuracy: 0.8133\n",
      "Epoch 170/200\n",
      "8/8 [==============================] - 0s 4ms/step - loss: 0.4360 - binary_accuracy: 0.8000 - val_loss: 0.4109 - val_binary_accuracy: 0.8267\n",
      "Epoch 171/200\n",
      "8/8 [==============================] - 0s 5ms/step - loss: 0.4364 - binary_accuracy: 0.7733 - val_loss: 0.4097 - val_binary_accuracy: 0.8533\n",
      "Epoch 172/200\n",
      "8/8 [==============================] - 0s 4ms/step - loss: 0.4345 - binary_accuracy: 0.7867 - val_loss: 0.4089 - val_binary_accuracy: 0.8533\n",
      "Epoch 173/200\n",
      "8/8 [==============================] - 0s 4ms/step - loss: 0.4343 - binary_accuracy: 0.8000 - val_loss: 0.4078 - val_binary_accuracy: 0.8533\n",
      "Epoch 174/200\n",
      "8/8 [==============================] - 0s 4ms/step - loss: 0.4332 - binary_accuracy: 0.8133 - val_loss: 0.4068 - val_binary_accuracy: 0.8533\n",
      "Epoch 175/200\n",
      "8/8 [==============================] - 0s 4ms/step - loss: 0.4323 - binary_accuracy: 0.8133 - val_loss: 0.4060 - val_binary_accuracy: 0.8533\n",
      "Epoch 176/200\n",
      "8/8 [==============================] - 0s 5ms/step - loss: 0.4319 - binary_accuracy: 0.8000 - val_loss: 0.4048 - val_binary_accuracy: 0.8667\n",
      "Epoch 177/200\n",
      "8/8 [==============================] - 0s 4ms/step - loss: 0.4302 - binary_accuracy: 0.8267 - val_loss: 0.4036 - val_binary_accuracy: 0.9067\n",
      "Epoch 178/200\n",
      "8/8 [==============================] - 0s 4ms/step - loss: 0.4294 - binary_accuracy: 0.8667 - val_loss: 0.4026 - val_binary_accuracy: 0.9067\n",
      "Epoch 179/200\n",
      "8/8 [==============================] - 0s 5ms/step - loss: 0.4283 - binary_accuracy: 0.8800 - val_loss: 0.4020 - val_binary_accuracy: 0.9067\n",
      "Epoch 180/200\n",
      "8/8 [==============================] - 0s 4ms/step - loss: 0.4276 - binary_accuracy: 0.8667 - val_loss: 0.4013 - val_binary_accuracy: 0.8933\n",
      "Epoch 181/200\n",
      "8/8 [==============================] - 0s 4ms/step - loss: 0.4270 - binary_accuracy: 0.8400 - val_loss: 0.4005 - val_binary_accuracy: 0.8800\n",
      "Epoch 182/200\n",
      "8/8 [==============================] - 0s 4ms/step - loss: 0.4267 - binary_accuracy: 0.8400 - val_loss: 0.3998 - val_binary_accuracy: 0.8800\n",
      "Epoch 183/200\n",
      "8/8 [==============================] - 0s 4ms/step - loss: 0.4254 - binary_accuracy: 0.8667 - val_loss: 0.3993 - val_binary_accuracy: 0.8533\n",
      "Epoch 184/200\n",
      "8/8 [==============================] - 0s 4ms/step - loss: 0.4251 - binary_accuracy: 0.8000 - val_loss: 0.3985 - val_binary_accuracy: 0.8533\n",
      "Epoch 185/200\n",
      "8/8 [==============================] - 0s 4ms/step - loss: 0.4257 - binary_accuracy: 0.8400 - val_loss: 0.3972 - val_binary_accuracy: 0.8933\n",
      "Epoch 186/200\n",
      "8/8 [==============================] - 0s 5ms/step - loss: 0.4248 - binary_accuracy: 0.8267 - val_loss: 0.3963 - val_binary_accuracy: 0.8933\n",
      "Epoch 187/200\n",
      "8/8 [==============================] - 0s 4ms/step - loss: 0.4239 - binary_accuracy: 0.8267 - val_loss: 0.3952 - val_binary_accuracy: 0.9067\n",
      "Epoch 188/200\n",
      "8/8 [==============================] - 0s 4ms/step - loss: 0.4219 - binary_accuracy: 0.9067 - val_loss: 0.3947 - val_binary_accuracy: 0.8933\n",
      "Epoch 189/200\n",
      "8/8 [==============================] - 0s 4ms/step - loss: 0.4215 - binary_accuracy: 0.8933 - val_loss: 0.3940 - val_binary_accuracy: 0.8933\n",
      "Epoch 190/200\n",
      "8/8 [==============================] - 0s 4ms/step - loss: 0.4216 - binary_accuracy: 0.8933 - val_loss: 0.3934 - val_binary_accuracy: 0.8933\n",
      "Epoch 191/200\n",
      "8/8 [==============================] - 0s 4ms/step - loss: 0.4200 - binary_accuracy: 0.8667 - val_loss: 0.3928 - val_binary_accuracy: 0.8800\n",
      "Epoch 192/200\n",
      "8/8 [==============================] - 0s 4ms/step - loss: 0.4189 - binary_accuracy: 0.8667 - val_loss: 0.3920 - val_binary_accuracy: 0.8933\n",
      "Epoch 193/200\n",
      "8/8 [==============================] - 0s 5ms/step - loss: 0.4181 - binary_accuracy: 0.8533 - val_loss: 0.3912 - val_binary_accuracy: 0.8933\n",
      "Epoch 194/200\n",
      "8/8 [==============================] - 0s 4ms/step - loss: 0.4173 - binary_accuracy: 0.8667 - val_loss: 0.3911 - val_binary_accuracy: 0.8533\n",
      "Epoch 195/200\n",
      "8/8 [==============================] - 0s 4ms/step - loss: 0.4164 - binary_accuracy: 0.8267 - val_loss: 0.3893 - val_binary_accuracy: 0.8933\n",
      "Epoch 196/200\n",
      "8/8 [==============================] - 0s 4ms/step - loss: 0.4164 - binary_accuracy: 0.8533 - val_loss: 0.3888 - val_binary_accuracy: 0.8933\n",
      "Epoch 197/200\n",
      "8/8 [==============================] - 0s 5ms/step - loss: 0.4153 - binary_accuracy: 0.8800 - val_loss: 0.3880 - val_binary_accuracy: 0.8933\n",
      "Epoch 198/200\n",
      "8/8 [==============================] - 0s 4ms/step - loss: 0.4147 - binary_accuracy: 0.8800 - val_loss: 0.3878 - val_binary_accuracy: 0.8667\n",
      "Epoch 199/200\n",
      "8/8 [==============================] - 0s 4ms/step - loss: 0.4161 - binary_accuracy: 0.8267 - val_loss: 0.3864 - val_binary_accuracy: 0.8933\n",
      "Epoch 200/200\n",
      "8/8 [==============================] - 0s 5ms/step - loss: 0.4131 - binary_accuracy: 0.8667 - val_loss: 0.3851 - val_binary_accuracy: 0.8933\n"
     ]
    },
    {
     "data": {
      "text/plain": [
       "<tensorflow.python.keras.callbacks.History at 0x7f9859936a90>"
      ]
     },
     "execution_count": 15,
     "metadata": {
      "tags": []
     },
     "output_type": "execute_result"
    }
   ],
   "source": [
    "model = keras.Sequential()\n",
    "model.add(keras.layers.Dense(10, input_shape=(n_features,), activation='sigmoid'))\n",
    "model.add(keras.layers.Dense(1, activation='sigmoid'))\n",
    "model.compile(optimizer='sgd', loss='binary_crossentropy', metrics=['binary_accuracy'])\n",
    "\n",
    "\n",
    "model.fit(X_train, Y_train,\n",
    "                                 batch_size=5,\n",
    "                                 epochs=50,\n",
    "                                 verbose=1,\n",
    "                                 validation_data=(X_test, Y_test)\n",
    "                        )"
   ]
  },
  {
   "cell_type": "markdown",
   "metadata": {
    "id": "mNEVxasCoVB7"
   },
   "source": [
    "# Question 5\n",
    "Comparez les performances du modèle simple de régression logistique (celui avec un seul neurone) et ce réseau de neurones. Faite varier le nombre d'époch (20, 50, 100) et dressez un tableau montrant la meilleure *accuracy* pour chacun des modèles et expliquez le résultat. "
   ]
  },
  {
   "cell_type": "markdown",
   "metadata": {
    "id": "2Dw7gvmnqh20"
   },
   "source": [
    "# Utilisation d'un softmax pour une classification multiple\n",
    "La base de donnée `iris` représente 3 classes et pour l'instant, nous n'avons fait que classer les exemples comme étant dans une seule classe ou pas. Il est possible de créer un réseau avec 3 neurones de sorties qui vont calculer les 3 probabilités d'appartenance à chacune des classes. Il faut remettre en forme les labels des données dans un vecteur de 3 bits (un bit à 1 pour la classe à laquelle appartient l'entrée). Ceci correspond à ce que l'on appelle le \"One Hot Endoding\". Une classe est dédiée à cela dans sklearn. "
   ]
  },
  {
   "cell_type": "code",
   "execution_count": null,
   "metadata": {
    "colab": {
     "base_uri": "https://localhost:8080/"
    },
    "id": "f8i_xCxMFWyM",
    "outputId": "2af9ece7-cec3-4a1d-c223-a48b48d33c5c"
   },
   "outputs": [
    {
     "name": "stdout",
     "output_type": "stream",
     "text": [
      "Nombre de features :  4\n",
      "Nombre de classes  3\n",
      " Exemple d'encodage de la donnée numéro 5 et 12 : \n",
      "features :  [5.4 3.9 1.7 0.4]  sortie :  [1. 0. 0.]\n",
      "features :  [4.8 3.  1.4 0.1]  sortie :  [1. 0. 0.]\n"
     ]
    }
   ],
   "source": [
    "import numpy as np\n",
    "import pandas as pd\n",
    "from sklearn.datasets import load_iris\n",
    "from sklearn.model_selection import train_test_split\n",
    "from sklearn.preprocessing import OneHotEncoder, StandardScaler\n",
    "\n",
    "iris = load_iris()\n",
    "X = iris['data']\n",
    "y = iris['target']\n",
    "names = iris['target_names']\n",
    "feature_names = iris['feature_names']\n",
    "\n",
    "# One hot encoding\n",
    "enc = OneHotEncoder()\n",
    "Y = enc.fit_transform(y[:, np.newaxis]).toarray()\n",
    "\n",
    "\n",
    "n_features = X.shape[1]\n",
    "n_classes = Y.shape[1]\n",
    "print(\"Nombre de features : \", n_features)\n",
    "print(\"Nombre de classes \", n_classes)\n",
    "print(\" Exemple d'encodage de la donnée numéro 5 et 12 : \")\n",
    "print(\"features : \", X[5], \" sortie : \", Y[5])\n",
    "print(\"features : \", X[12], \" sortie : \", Y[12])\n",
    "\n"
   ]
  },
  {
   "cell_type": "markdown",
   "metadata": {
    "id": "Gz4Pgp7QHFrj"
   },
   "source": [
    "Pour améliorer les convergences des algorithmes, il est conseillé de 'normaliser' les données. Pour cela les valeurs sont 're-calculées' de sorte que leur ordre soit respecté tout en rendant leur distribution normale (centrée sur 0 avec une variance de 1), c'est le rôle des `Scaler`. "
   ]
  },
  {
   "cell_type": "code",
   "execution_count": null,
   "metadata": {
    "colab": {
     "base_uri": "https://localhost:8080/"
    },
    "id": "sqKfdEF5HE4D",
    "outputId": "f5dc1bf2-594e-4bee-ca26-65fe6bf766eb"
   },
   "outputs": [
    {
     "name": "stdout",
     "output_type": "stream",
     "text": [
      " Exemple d'encodage de la donnée numéro 5 et 12 : \n",
      "features :  [-0.53717756  1.93979142 -1.16971425 -1.05217993]  sortie :  [1. 0. 0.]\n",
      "features :  [-1.26418478 -0.13197948 -1.34022653 -1.44707648]  sortie :  [1. 0. 0.]\n"
     ]
    }
   ],
   "source": [
    "\n",
    "# Scale data to have mean 0 and variance 1 \n",
    "# which is importance for convergence of the neural network\n",
    "scaler = StandardScaler()\n",
    "X_scaled = scaler.fit_transform(X)\n",
    "\n",
    "print(\" Exemple d'encodage de la donnée numéro 5 et 12 : \")\n",
    "print(\"features : \", X_scaled[5], \" sortie : \", Y[5])\n",
    "print(\"features : \", X_scaled[12], \" sortie : \", Y[12])\n",
    "\n",
    "\n",
    "\n"
   ]
  },
  {
   "cell_type": "markdown",
   "metadata": {
    "id": "K5aX5FWnINyd"
   },
   "source": [
    "On redéfinie les données d'entrainement avec ces valeurs normalisées."
   ]
  },
  {
   "cell_type": "code",
   "execution_count": null,
   "metadata": {
    "id": "laAastQHH4IL"
   },
   "outputs": [],
   "source": [
    "\n",
    "\n",
    "# Split the data set into training and testing\n",
    "X_train, X_test, Y_train, Y_test = train_test_split(\n",
    "    X_scaled, Y, test_size=0.5, random_state=2)"
   ]
  },
  {
   "cell_type": "markdown",
   "metadata": {
    "id": "9ptvekiLJvPb"
   },
   "source": [
    "Et on créé un réseau dont les 3 sorties sont désormais passées au travers d'un softmax."
   ]
  },
  {
   "cell_type": "code",
   "execution_count": null,
   "metadata": {
    "id": "KSMv86ykbIkC"
   },
   "outputs": [],
   "source": [
    "\n",
    "model = keras.Sequential()\n",
    "model.add(keras.layers.Dense(10, input_shape=(n_features,), activation='sigmoid'))\n",
    "model.add(keras.layers.Dense(3, activation='softmax'))\n",
    "model.compile(loss='categorical_crossentropy', optimizer='adam', metrics=['accuracy'])\n"
   ]
  },
  {
   "cell_type": "markdown",
   "metadata": {
    "id": "ekbVmJ4BL5vy"
   },
   "source": [
    "Et on lance l'apprentissage :"
   ]
  },
  {
   "cell_type": "code",
   "execution_count": null,
   "metadata": {
    "colab": {
     "base_uri": "https://localhost:8080/"
    },
    "id": "xinPIHFhL8Jf",
    "outputId": "f10e6d5f-cd71-4ecd-ad11-27cbd4add628"
   },
   "outputs": [
    {
     "name": "stdout",
     "output_type": "stream",
     "text": [
      "Epoch 1/50\n",
      "15/15 [==============================] - 0s 10ms/step - loss: 1.0462 - accuracy: 0.3333 - val_loss: 1.0441 - val_accuracy: 0.3333\n",
      "Epoch 2/50\n",
      "15/15 [==============================] - 0s 2ms/step - loss: 1.0164 - accuracy: 0.3467 - val_loss: 1.0186 - val_accuracy: 0.3333\n",
      "Epoch 3/50\n",
      "15/15 [==============================] - 0s 2ms/step - loss: 0.9928 - accuracy: 0.3733 - val_loss: 0.9973 - val_accuracy: 0.3600\n",
      "Epoch 4/50\n",
      "15/15 [==============================] - 0s 2ms/step - loss: 0.9733 - accuracy: 0.4000 - val_loss: 0.9788 - val_accuracy: 0.3733\n",
      "Epoch 5/50\n",
      "15/15 [==============================] - 0s 2ms/step - loss: 0.9554 - accuracy: 0.4133 - val_loss: 0.9621 - val_accuracy: 0.3600\n",
      "Epoch 6/50\n",
      "15/15 [==============================] - 0s 3ms/step - loss: 0.9398 - accuracy: 0.4400 - val_loss: 0.9468 - val_accuracy: 0.4133\n",
      "Epoch 7/50\n",
      "15/15 [==============================] - 0s 3ms/step - loss: 0.9252 - accuracy: 0.4933 - val_loss: 0.9322 - val_accuracy: 0.4667\n",
      "Epoch 8/50\n",
      "15/15 [==============================] - 0s 3ms/step - loss: 0.9115 - accuracy: 0.5067 - val_loss: 0.9185 - val_accuracy: 0.4667\n",
      "Epoch 9/50\n",
      "15/15 [==============================] - 0s 3ms/step - loss: 0.8982 - accuracy: 0.5067 - val_loss: 0.9052 - val_accuracy: 0.5200\n",
      "Epoch 10/50\n",
      "15/15 [==============================] - 0s 2ms/step - loss: 0.8852 - accuracy: 0.5733 - val_loss: 0.8923 - val_accuracy: 0.5333\n",
      "Epoch 11/50\n",
      "15/15 [==============================] - 0s 2ms/step - loss: 0.8735 - accuracy: 0.5600 - val_loss: 0.8799 - val_accuracy: 0.6000\n",
      "Epoch 12/50\n",
      "15/15 [==============================] - 0s 3ms/step - loss: 0.8619 - accuracy: 0.5600 - val_loss: 0.8676 - val_accuracy: 0.6133\n",
      "Epoch 13/50\n",
      "15/15 [==============================] - 0s 2ms/step - loss: 0.8512 - accuracy: 0.6133 - val_loss: 0.8557 - val_accuracy: 0.6133\n",
      "Epoch 14/50\n",
      "15/15 [==============================] - 0s 2ms/step - loss: 0.8398 - accuracy: 0.6267 - val_loss: 0.8441 - val_accuracy: 0.6133\n",
      "Epoch 15/50\n",
      "15/15 [==============================] - 0s 2ms/step - loss: 0.8299 - accuracy: 0.6000 - val_loss: 0.8329 - val_accuracy: 0.6267\n",
      "Epoch 16/50\n",
      "15/15 [==============================] - 0s 3ms/step - loss: 0.8189 - accuracy: 0.6400 - val_loss: 0.8218 - val_accuracy: 0.6400\n",
      "Epoch 17/50\n",
      "15/15 [==============================] - 0s 2ms/step - loss: 0.8086 - accuracy: 0.6800 - val_loss: 0.8112 - val_accuracy: 0.6400\n",
      "Epoch 18/50\n",
      "15/15 [==============================] - 0s 2ms/step - loss: 0.7988 - accuracy: 0.7067 - val_loss: 0.8008 - val_accuracy: 0.6400\n",
      "Epoch 19/50\n",
      "15/15 [==============================] - 0s 2ms/step - loss: 0.7899 - accuracy: 0.6933 - val_loss: 0.7906 - val_accuracy: 0.6533\n",
      "Epoch 20/50\n",
      "15/15 [==============================] - 0s 2ms/step - loss: 0.7802 - accuracy: 0.7200 - val_loss: 0.7807 - val_accuracy: 0.6533\n",
      "Epoch 21/50\n",
      "15/15 [==============================] - 0s 2ms/step - loss: 0.7730 - accuracy: 0.7067 - val_loss: 0.7710 - val_accuracy: 0.6667\n",
      "Epoch 22/50\n",
      "15/15 [==============================] - 0s 3ms/step - loss: 0.7630 - accuracy: 0.7200 - val_loss: 0.7614 - val_accuracy: 0.6667\n",
      "Epoch 23/50\n",
      "15/15 [==============================] - 0s 2ms/step - loss: 0.7536 - accuracy: 0.7333 - val_loss: 0.7521 - val_accuracy: 0.6800\n",
      "Epoch 24/50\n",
      "15/15 [==============================] - 0s 2ms/step - loss: 0.7452 - accuracy: 0.7467 - val_loss: 0.7432 - val_accuracy: 0.6800\n",
      "Epoch 25/50\n",
      "15/15 [==============================] - 0s 2ms/step - loss: 0.7368 - accuracy: 0.7333 - val_loss: 0.7343 - val_accuracy: 0.6933\n",
      "Epoch 26/50\n",
      "15/15 [==============================] - 0s 3ms/step - loss: 0.7289 - accuracy: 0.7600 - val_loss: 0.7258 - val_accuracy: 0.6933\n",
      "Epoch 27/50\n",
      "15/15 [==============================] - 0s 3ms/step - loss: 0.7208 - accuracy: 0.7333 - val_loss: 0.7175 - val_accuracy: 0.7067\n",
      "Epoch 28/50\n",
      "15/15 [==============================] - 0s 2ms/step - loss: 0.7144 - accuracy: 0.7733 - val_loss: 0.7093 - val_accuracy: 0.7067\n",
      "Epoch 29/50\n",
      "15/15 [==============================] - 0s 2ms/step - loss: 0.7069 - accuracy: 0.7733 - val_loss: 0.7014 - val_accuracy: 0.7067\n",
      "Epoch 30/50\n",
      "15/15 [==============================] - 0s 2ms/step - loss: 0.6992 - accuracy: 0.7733 - val_loss: 0.6937 - val_accuracy: 0.7333\n",
      "Epoch 31/50\n",
      "15/15 [==============================] - 0s 2ms/step - loss: 0.6925 - accuracy: 0.7867 - val_loss: 0.6864 - val_accuracy: 0.7333\n",
      "Epoch 32/50\n",
      "15/15 [==============================] - 0s 3ms/step - loss: 0.6855 - accuracy: 0.7733 - val_loss: 0.6792 - val_accuracy: 0.7333\n",
      "Epoch 33/50\n",
      "15/15 [==============================] - 0s 2ms/step - loss: 0.6786 - accuracy: 0.8000 - val_loss: 0.6721 - val_accuracy: 0.7600\n",
      "Epoch 34/50\n",
      "15/15 [==============================] - 0s 2ms/step - loss: 0.6717 - accuracy: 0.8000 - val_loss: 0.6650 - val_accuracy: 0.7600\n",
      "Epoch 35/50\n",
      "15/15 [==============================] - 0s 3ms/step - loss: 0.6660 - accuracy: 0.8133 - val_loss: 0.6584 - val_accuracy: 0.7600\n",
      "Epoch 36/50\n",
      "15/15 [==============================] - 0s 2ms/step - loss: 0.6608 - accuracy: 0.7867 - val_loss: 0.6520 - val_accuracy: 0.7600\n",
      "Epoch 37/50\n",
      "15/15 [==============================] - 0s 3ms/step - loss: 0.6537 - accuracy: 0.8133 - val_loss: 0.6457 - val_accuracy: 0.7600\n",
      "Epoch 38/50\n",
      "15/15 [==============================] - 0s 2ms/step - loss: 0.6483 - accuracy: 0.8000 - val_loss: 0.6395 - val_accuracy: 0.7733\n",
      "Epoch 39/50\n",
      "15/15 [==============================] - 0s 2ms/step - loss: 0.6428 - accuracy: 0.8000 - val_loss: 0.6333 - val_accuracy: 0.7867\n",
      "Epoch 40/50\n",
      "15/15 [==============================] - 0s 3ms/step - loss: 0.6373 - accuracy: 0.8000 - val_loss: 0.6275 - val_accuracy: 0.7867\n",
      "Epoch 41/50\n",
      "15/15 [==============================] - 0s 2ms/step - loss: 0.6324 - accuracy: 0.8133 - val_loss: 0.6218 - val_accuracy: 0.7867\n",
      "Epoch 42/50\n",
      "15/15 [==============================] - 0s 3ms/step - loss: 0.6269 - accuracy: 0.8133 - val_loss: 0.6164 - val_accuracy: 0.7867\n",
      "Epoch 43/50\n",
      "15/15 [==============================] - 0s 3ms/step - loss: 0.6222 - accuracy: 0.8000 - val_loss: 0.6109 - val_accuracy: 0.7867\n",
      "Epoch 44/50\n",
      "15/15 [==============================] - 0s 3ms/step - loss: 0.6166 - accuracy: 0.8000 - val_loss: 0.6054 - val_accuracy: 0.7867\n",
      "Epoch 45/50\n",
      "15/15 [==============================] - 0s 2ms/step - loss: 0.6122 - accuracy: 0.8133 - val_loss: 0.6001 - val_accuracy: 0.7867\n",
      "Epoch 46/50\n",
      "15/15 [==============================] - 0s 2ms/step - loss: 0.6071 - accuracy: 0.8133 - val_loss: 0.5950 - val_accuracy: 0.7867\n",
      "Epoch 47/50\n",
      "15/15 [==============================] - 0s 3ms/step - loss: 0.6027 - accuracy: 0.8000 - val_loss: 0.5903 - val_accuracy: 0.7867\n",
      "Epoch 48/50\n",
      "15/15 [==============================] - 0s 3ms/step - loss: 0.5983 - accuracy: 0.8133 - val_loss: 0.5856 - val_accuracy: 0.8000\n",
      "Epoch 49/50\n",
      "15/15 [==============================] - 0s 2ms/step - loss: 0.5937 - accuracy: 0.8267 - val_loss: 0.5810 - val_accuracy: 0.8000\n",
      "Epoch 50/50\n",
      "15/15 [==============================] - 0s 3ms/step - loss: 0.5900 - accuracy: 0.8133 - val_loss: 0.5764 - val_accuracy: 0.8000\n"
     ]
    },
    {
     "data": {
      "text/plain": [
       "<tensorflow.python.keras.callbacks.History at 0x7f125911a710>"
      ]
     },
     "execution_count": 88,
     "metadata": {
      "tags": []
     },
     "output_type": "execute_result"
    }
   ],
   "source": [
    "model.fit(X_train, Y_train,\n",
    "                                 batch_size=5,\n",
    "                                 epochs=50,\n",
    "                                 verbose=1,\n",
    "                                 validation_data=(X_test, Y_test)\n",
    "                        )"
   ]
  },
  {
   "cell_type": "markdown",
   "metadata": {
    "id": "NmiCNOdiOADb"
   },
   "source": [
    "Le code suivant a simplement pour but de vous montrer comment voir la prédiction du modèle pour des valeurs d'entrées particulières."
   ]
  },
  {
   "cell_type": "code",
   "execution_count": null,
   "metadata": {
    "colab": {
     "base_uri": "https://localhost:8080/"
    },
    "id": "ZBfnGntpMUn7",
    "outputId": "519129f7-8e46-457a-a718-940a56ea0e88"
   },
   "outputs": [
    {
     "name": "stdout",
     "output_type": "stream",
     "text": [
      "sortie prédite par le modèle pour une entrée particulière : \n",
      "[[0.74760944 0.13895483 0.11343574]]\n",
      "Elle appartient donc à la classe : \n",
      "[0]\n",
      "sortie prédite par le modèle pour une autre entrée particulière : \n",
      "[[0.12136138 0.31047186 0.5681668 ]]\n",
      "Elle appartient donc à la classe : \n",
      "[2]\n"
     ]
    }
   ],
   "source": [
    "print(\"sortie prédite par le modèle pour une entrée particulière : \")\n",
    "print(model.predict([[-0.53717756,  1.93979142, -1.16971425, -1.05217993]]))\n",
    "print(\"Elle appartient donc à la classe : \")\n",
    "print(np.argmax(model.predict([[-0.53717756,  1.93979142, -1.16971425, -1.05217993]]), axis=-1))\n",
    "\n",
    "print(\"sortie prédite par le modèle pour une autre entrée particulière : \")\n",
    "print(model.predict([[1.2,  0.82, 1, 0.2]]))\n",
    "print(\"Elle appartient donc à la classe : \")\n",
    "print(np.argmax(model.predict([[1,  1, 1, 1]]), axis=-1))"
   ]
  },
  {
   "cell_type": "markdown",
   "metadata": {
    "id": "uST1miSMOVQV"
   },
   "source": [
    "## Question 6 \n",
    "Comme expliqué plus haut, il existe plusieurs algorithmes de descente de gradient. Ici nous sommes partie sur un ADAM avec une couche dense composée de neurones avec une fonction de transfert sigmoïde. Pouvez vous dresser un tableau comparatif des résultats obtenus en utilisant un un algorithme de descente de gradient stochastique ('sgd') et des fonctions de transfert ('relu') et en conclure sur l'interêt de chacun de ces choix pour la classification de la base `iris` "
   ]
  },
  {
   "cell_type": "code",
   "execution_count": null,
   "metadata": {
    "id": "RIajXhYKOUQU"
   },
   "outputs": [],
   "source": []
  },
  {
   "cell_type": "markdown",
   "metadata": {
    "id": "RY2F9paoPWNT"
   },
   "source": [
    "#Comparaison automatique de modèles"
   ]
  },
  {
   "cell_type": "markdown",
   "metadata": {
    "id": "5R0Fa9ZwPtAB"
   },
   "source": [
    "Le code suivant permet de créer plusieurs modèles. "
   ]
  },
  {
   "cell_type": "markdown",
   "metadata": {
    "id": "JoYEhB1LLlAN"
   },
   "source": []
  },
  {
   "cell_type": "code",
   "execution_count": null,
   "metadata": {
    "colab": {
     "base_uri": "https://localhost:8080/"
    },
    "id": "qJlz9behJS_j",
    "outputId": "7f8184ce-7634-4b9e-fdf1-5c46429365ad"
   },
   "outputs": [
    {
     "name": "stdout",
     "output_type": "stream",
     "text": [
      "Model: \"model_1\"\n",
      "_________________________________________________________________\n",
      "Layer (type)                 Output Shape              Param #   \n",
      "=================================================================\n",
      "dense_78 (Dense)             (None, 8)                 40        \n",
      "_________________________________________________________________\n",
      "dense_79 (Dense)             (None, 3)                 27        \n",
      "=================================================================\n",
      "Total params: 67\n",
      "Trainable params: 67\n",
      "Non-trainable params: 0\n",
      "_________________________________________________________________\n",
      "Model: \"model_2\"\n",
      "_________________________________________________________________\n",
      "Layer (type)                 Output Shape              Param #   \n",
      "=================================================================\n",
      "dense_80 (Dense)             (None, 8)                 40        \n",
      "_________________________________________________________________\n",
      "dense_81 (Dense)             (None, 8)                 72        \n",
      "_________________________________________________________________\n",
      "dense_82 (Dense)             (None, 3)                 27        \n",
      "=================================================================\n",
      "Total params: 139\n",
      "Trainable params: 139\n",
      "Non-trainable params: 0\n",
      "_________________________________________________________________\n",
      "Model: \"model_3\"\n",
      "_________________________________________________________________\n",
      "Layer (type)                 Output Shape              Param #   \n",
      "=================================================================\n",
      "dense_83 (Dense)             (None, 8)                 40        \n",
      "_________________________________________________________________\n",
      "dense_84 (Dense)             (None, 8)                 72        \n",
      "_________________________________________________________________\n",
      "dense_85 (Dense)             (None, 8)                 72        \n",
      "_________________________________________________________________\n",
      "dense_86 (Dense)             (None, 3)                 27        \n",
      "=================================================================\n",
      "Total params: 211\n",
      "Trainable params: 211\n",
      "Non-trainable params: 0\n",
      "_________________________________________________________________\n"
     ]
    }
   ],
   "source": [
    "from keras.models import Sequential\n",
    "from keras.layers import Dense\n",
    "\n",
    "def create_custom_model(input_dim, output_dim, nodes, n=1, name='model'):\n",
    "    def create_model():\n",
    "        # Create model\n",
    "        model = Sequential(name=name)\n",
    "        for i in range(n):\n",
    "            model.add(Dense(nodes, input_dim=input_dim, activation='relu'))\n",
    "        model.add(Dense(output_dim, activation='softmax'))\n",
    "\n",
    "        # Compile model\n",
    "        model.compile(loss='categorical_crossentropy', \n",
    "                      optimizer='adam', \n",
    "                      metrics=['accuracy'])\n",
    "        return model\n",
    "    return create_model\n",
    "\n",
    "models = [create_custom_model(n_features, n_classes, 8, i, 'model_{}'.format(i)) \n",
    "          for i in range(1, 4)]\n",
    "\n",
    "for create_model in models:\n",
    "    create_model().summary()\n"
   ]
  },
  {
   "cell_type": "markdown",
   "metadata": {
    "id": "G6Cq_U1cP5Fi"
   },
   "source": [
    "##Question 7\n",
    "Quelle est la différence entre ces 3 modèles ?"
   ]
  },
  {
   "cell_type": "markdown",
   "metadata": {
    "id": "fGMCMdzfRB67"
   },
   "source": [
    "Le code suivant permet de les exécuter en parallèle et de stocker les résultats dans le dictionnaire `history_dict`. Nous n'entrerons pas ici dans les mécanismes de `callback` qui sont gérés via `TensorBoard`. Il faut simplement savoir que `Tensor Flow` est associé à une libraire `TensorBoard` qui permet la gestion et la supervision de tensor flow. En particulier, elle permet d'utiliser un serveur html pour afficher la progression des algorithmes en temps réel sur une page web via un mécanismes de callback."
   ]
  },
  {
   "cell_type": "code",
   "execution_count": null,
   "metadata": {
    "colab": {
     "base_uri": "https://localhost:8080/"
    },
    "id": "dhTGVIzTJf6y",
    "outputId": "658c82b6-7edd-45a1-acd4-3f838882b6a9"
   },
   "outputs": [
    {
     "name": "stdout",
     "output_type": "stream",
     "text": [
      "Model name: model_1\n",
      "WARNING:tensorflow:Callbacks method `on_train_batch_end` is slow compared to the batch time (batch time: 0.0015s vs `on_train_batch_end` time: 0.0395s). Check your callbacks.\n",
      "Test loss: 0.3476335108280182\n",
      "Test accuracy: 0.8799999952316284\n",
      "Model name: model_2\n",
      "WARNING:tensorflow:Callbacks method `on_train_batch_end` is slow compared to the batch time (batch time: 0.0015s vs `on_train_batch_end` time: 0.0387s). Check your callbacks.\n",
      "Test loss: 0.20882342755794525\n",
      "Test accuracy: 0.9333333373069763\n",
      "Model name: model_3\n",
      "WARNING:tensorflow:Callbacks method `on_train_batch_end` is slow compared to the batch time (batch time: 0.0017s vs `on_train_batch_end` time: 0.0383s). Check your callbacks.\n",
      "Test loss: 0.2347790002822876\n",
      "Test accuracy: 0.9333333373069763\n"
     ]
    }
   ],
   "source": [
    "from keras.callbacks import TensorBoard\n",
    "\n",
    "history_dict = {}\n",
    "\n",
    "# TensorBoard Callback\n",
    "cb = TensorBoard()\n",
    "\n",
    "for create_model in models:\n",
    "    model = create_model()\n",
    "    print('Model name:', model.name)\n",
    "    history_callback = model.fit(X_train, Y_train,\n",
    "                                 batch_size=5,\n",
    "                                 epochs=50,\n",
    "                                 verbose=0,\n",
    "                                 validation_data=(X_test, Y_test),\n",
    "                                 callbacks=[cb])\n",
    "    score = model.evaluate(X_test, Y_test, verbose=0)\n",
    "    print('Test loss:', score[0])\n",
    "    print('Test accuracy:', score[1])\n",
    "    \n",
    "    history_dict[model.name] = [history_callback, model]\n"
   ]
  },
  {
   "cell_type": "markdown",
   "metadata": {
    "id": "agRhnLjJRTaD"
   },
   "source": [
    "Ce dictionnaire est utilisé pour tracer des courbes de comparaison de performance :"
   ]
  },
  {
   "cell_type": "code",
   "execution_count": null,
   "metadata": {
    "colab": {
     "base_uri": "https://localhost:8080/",
     "height": 391
    },
    "id": "Hb549OR9JmgS",
    "outputId": "65630616-e0b4-410b-f6b9-e0348d1a1628"
   },
   "outputs": [
    {
     "data": {
      "image/png": "[encoded data removed]",
      "text/plain": [
       "<Figure size 576x432 with 2 Axes>"
      ]
     },
     "metadata": {
      "tags": []
     },
     "output_type": "display_data"
    }
   ],
   "source": [
    "fig, (ax1, ax2) = plt.subplots(2, figsize=(8, 6))\n",
    "\n",
    "for model_name in history_dict:\n",
    "    val_accurady = history_dict[model_name][0].history['val_accuracy']\n",
    "    val_loss = history_dict[model_name][0].history['val_loss']\n",
    "    ax1.plot(val_accurady, label=model_name)\n",
    "    ax2.plot(val_loss, label=model_name)\n",
    "    \n",
    "ax1.set_ylabel('validation accuracy')\n",
    "ax2.set_ylabel('validation loss')\n",
    "ax2.set_xlabel('epochs')\n",
    "ax1.legend()\n",
    "ax2.legend();\n"
   ]
  },
  {
   "cell_type": "markdown",
   "metadata": {
    "id": "ogD97lNeU1Mj"
   },
   "source": [
    "##Obtention de la courbe ROC \n",
    "La courbe ROC est un moyen d'évaluer la qualité d'un classifieur. Elle indique le taux de faux positifs et de faux négatifs selon le seuil que l'on fixe pour séparer le fait que les données appartiennent ou non à une classe. Ici, on prend la sortie du classifieur softmax, on fixe un seuil d'acceptation pour une classe donnée, on observe le classement issue du classifieur associé à ce seuil pour chaque donnée de test. Si le seuil est très bas, les données vont toutes être dans la classe. Si on compare à la classe réelle, on vera qu'il y a des données mal classées, ce seront les faux positifs. Plus le seuil est faible plus le nombre de faux positifs s'approche des 100%. A l'inverse si le seuil est très haut, des données seront classées hors de la classe alors qu'elles en font partie. Ce sont des faux négatifs. Plus le seuil est haut plus le taux de faux négatifs s'approche de 100%. On obtient donc des points extrèmes en haut à droites et en bas à gauche d'une courbe ROC. Les points intermédiaires vont permettre de délimiter une *aire sous la courbe*. Un classifieur parfait possède une aire sous la courbe de 1. Un classifieur *aléatoire* possède une aire sous la courbe de 0.5. Le code suivant montre l'air sous la courbe de vos modèles. \n"
   ]
  },
  {
   "cell_type": "code",
   "execution_count": null,
   "metadata": {
    "colab": {
     "base_uri": "https://localhost:8080/",
     "height": 626
    },
    "id": "Qyt3zO80V__b",
    "outputId": "880d332b-c615-4c51-9f27-e9a9e32397a8"
   },
   "outputs": [
    {
     "data": {
      "image/png": "[encoded data removed]",
      "text/plain": [
       "<Figure size 720x720 with 1 Axes>"
      ]
     },
     "metadata": {
      "tags": []
     },
     "output_type": "display_data"
    }
   ],
   "source": [
    "from sklearn.metrics import roc_curve, auc\n",
    "\n",
    "plt.figure(figsize=(10, 10))\n",
    "plt.plot([0, 1], [0, 1], 'k--')\n",
    "\n",
    "for model_name in history_dict:\n",
    "    model = history_dict[model_name][1]\n",
    "    \n",
    "    Y_pred = model.predict(X_test)\n",
    "    fpr, tpr, threshold = roc_curve(Y_test.ravel(), Y_pred.ravel())\n",
    "    \n",
    "    plt.plot(fpr, tpr, label='{}, AUC = {:.3f}'.format(model_name, auc(fpr, tpr)))\n",
    "plt.xlabel('False positive rate')\n",
    "plt.ylabel('True positive rate')\n",
    "plt.title('ROC curve')\n",
    "plt.legend();\n"
   ]
  },
  {
   "cell_type": "code",
   "execution_count": null,
   "metadata": {
    "id": "kl3uBfXzTfgr"
   },
   "outputs": [],
   "source": []
  },
  {
   "cell_type": "markdown",
   "metadata": {
    "id": "mhyzuqp7Rjc7"
   },
   "source": [
    "##Question 8\n",
    "En modifiant les modèles en termes de fonction de transfert des neurones, nombre de couches par modèle, nombre de neurones ou encore fonction de transfert des neurones, essayez de déterminer une configuration qui *bat* le modèle 2.\n",
    "Montrez ses différentes courves de performances."
   ]
  },
  {
   "cell_type": "markdown",
   "metadata": {
    "id": "RhUDpQXumXhy"
   },
   "source": [
    "# Plus loin sur Tensor Flow\n",
    "\n",
    "Nous allons présenter la programmation plus bas niveau de tensorFlow. En tensorFlow, il faut définir un modèle avant tout calcul. Ce modèle est traduit en un graphe qui peut être distribué (sur GPU, sur grappes de machines ...)."
   ]
  },
  {
   "cell_type": "code",
   "execution_count": null,
   "metadata": {
    "id": "5WOY5V61mr7X"
   },
   "outputs": [],
   "source": [
    "import tensorflow as tf\n",
    "x = tf.Variable(3, name=\"x\")\n",
    "y= tf.Variable(4, name=\"y\")\n",
    "f = x*x*y + y +2  "
   ]
  },
  {
   "cell_type": "markdown",
   "metadata": {
    "id": "jHBZO1xpm5CG"
   },
   "source": [
    "L'argument 'name' est facultatif mais utile pour les affichages et en particulier le 'tensorBoard' (abordé un peu plus loin dans ce TP). Pour exécuter le calcul, et par exemple obtenir la valeur de f, il faut créer une 'session'. Dans une session, on peut calculer les valeurs d'un noeud avec la méthode 'run()' de la session. Avant cela, il faut initialiser les valeurs des variables qui ont des valeurs initiales grâce à 'initializer'. "
   ]
  },
  {
   "cell_type": "code",
   "execution_count": null,
   "metadata": {
    "colab": {
     "base_uri": "https://localhost:8080/"
    },
    "id": "H_hzBfppm6M3",
    "outputId": "000b6f8b-7a20-40bb-93c3-da0392a9aed7"
   },
   "outputs": [
    {
     "name": "stdout",
     "output_type": "stream",
     "text": [
      "tf.Tensor(42, shape=(), dtype=int32)\n"
     ]
    }
   ],
   "source": [
    "print(f)"
   ]
  }
 ],
 "metadata": {
  "colab": {
   "collapsed_sections": [],
   "name": "MasterSIIATensorFlow.ipynb",
   "provenance": []
  },
  "kernelspec": {
   "display_name": "Python 3 (ipykernel)",
   "language": "python",
   "name": "python3"
  },
  "language_info": {
   "codemirror_mode": {
    "name": "ipython",
    "version": 3
   },
   "file_extension": ".py",
   "mimetype": "text/x-python",
   "name": "python",
   "nbconvert_exporter": "python",
   "pygments_lexer": "ipython3",
   "version": "3.8.12"
  }
 },
 "nbformat": 4,
 "nbformat_minor": 1
}
