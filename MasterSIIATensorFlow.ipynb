{
 "cells": [
  {
   "cell_type": "markdown",
   "metadata": {
    "id": "TrkXPt60RQZk"
   },
   "source": [
    "# TP d'appropriation de l'apprentissage artificiel et du \"Deep Learning\" avec Numpy, SKLearn et Keras\n",
    "### MASTER SIIA \n"
   ]
  },
  {
   "cell_type": "markdown",
   "metadata": {
    "id": "GqlQvQrhRTVM"
   },
   "source": [
    "#Introduction\n",
    "\n",
    "**TensorFlow** est un outil qui permet d'implémenter et de tester rapidement des algorithmes d'apprentissage artificiel profonds. Une de ses caractéristiques est d'être adapté à des architectures matérielles dédiées au calcul (GPU) et de permettre une distribution de ce calcul sur des grappes de machines très simplement. Il permet d'utiliser de nombreux algorithmes prets à l'usage mais également de définir soi même tous les composants d'une architecture profonde de façon très détaillée. Il est également doté d'un outil de visualisation de l'architecture en cours de construction grâce à **tensor board.**\n",
    "\n",
    "Sa prise en main nécessite de connaitre les principaux algorithmes et principes d'apprentissage ainsi que la manipulation de données avec **Numpy**. Durant ce TP nous allons commencer par une présentation rapide de quelques fonctions de **Numpy** qui est une librairie python dédiée au calcul numérique. Nous aborderons également **matplotlib** qui vous permettra de tracer des courbes facilement. Nous verrons leur usage à travers l'utilisation de quelques fonctions de **Scikit-learn** également dédiée à l'apprentissage artificiel. **Scikit-Learn (Ou SKlearn)** avait été regroupé avec **Tensor Flow 1** pour donner naissance a **skFlow**. Néanmoins, cette librairie fut progressivement remplacer par **Keras** conjointement avec l'arrivée de **Tensor Flow 2**. Tout ceci a pour but de vous expliquer pourquoi, il y a parfois des confusion entre les versions, les codes, les noms des librairies. **Keras** a l'ambition d'être uns sur-couche à plusieurs librairies dont **Tensor flow**. Cependant pour entrer dans le détail des modèles, il est nécessaire de descendre un cran en dessous (chose que nous n'aurons sans doute pas le temps de faire). \n",
    "\n",
    "### Evolution 2020 :\n",
    "La crise sanitaire m'a incité à passer ce TP sous notebook google collab mais il est toujours possible d'exécuter le code en local sur vos machines. La principale difficulté étant celle de l'installation des bonnes versions des libraires. Il existe donc deux versions du TP, la version présente contient du code *Tensor Flow 2* exécutable sous Google Collab. Vous trouverez sur ma page web une version compatible avec **Tensor flow 1 et skLearn**.\n",
    "\n",
    "# Numpy\n",
    "\n",
    "**Numpy** permet une manipulation rapide de structures de données telles que les matrices (classe `array`). Il implémente également de façon rigoureuse des opérations sur les données grâce à la classe `linalg`. Le code suivant montre comment générer des données de test. Ici une entrée est une valeur choisie aléatoirement (et rangée dans le tableau X) et une sortie est calculée comme une fonction linéaire de l'entrée auquel on a ajouté un bruit (rangée dans le tableau y)."
   ]
  },
  {
   "cell_type": "code",
   "execution_count": 1,
   "metadata": {
    "id": "39tdZRRASg_0"
   },
   "outputs": [],
   "source": [
    "import numpy as np\n",
    "nbDonnee = 100\n",
    "X = 3*np.random.rand(nbDonnee,1) # Génération de 100 valeurs aléatoires représentant 100 exemples d'entrées.\n",
    "y = 2 + 4*X + np.random.randn(nbDonnee,1) # Génération des données de sorties qui sont une fonction des entrées plus un bruit."
   ]
  },
  {
   "cell_type": "markdown",
   "metadata": {
    "id": "lDgRpSHbSmGd"
   },
   "source": [
    "Vous pouvez afficher les points correspondants grâce à `matplotlib`"
   ]
  },
  {
   "cell_type": "code",
   "execution_count": 2,
   "metadata": {
    "id": "JNqUGVvHSpIT"
   },
   "outputs": [
    {
     "data": {
      "image/png": "[encoded data removed]",
      "text/plain": [
       "<Figure size 432x288 with 1 Axes>"
      ]
     },
     "metadata": {
      "needs_background": "light"
     },
     "output_type": "display_data"
    }
   ],
   "source": [
    "import matplotlib\n",
    "import matplotlib.pyplot as plt\n",
    "plt.plot(X,y, \"b.\") # On trace un point bleu pour chaque point des données\n",
    "plt.axis([0,3,0,15]) # On fixe les bornes de l'abscisse et de l'ordonnée du graphique\n",
    "plt.show() # On affiche le tout"
   ]
  },
  {
   "cell_type": "markdown",
   "metadata": {
    "id": "NEAAAZqnSyxU"
   },
   "source": [
    "Rappelons qu'une régression linéaire consiste à calculer le vecteur \\($\\Theta\\$) tel que l'estimation de \\(y\\) connaissant une entrée \\(x\\), est :\n",
    "\n",
    "$$ \\widehat y = h_{\\Theta}(x) = \\Theta^{T}.x $$\n",
    "\n",
    "\\($h_{\\Theta}$\\) étant une fonction hypothèse (linéaire), dépendant des paramètres \\($\\Theta$\\).\n",
    "\n",
    "Rappelons également qu'il existe une solution analytique du calcul de \\($\\Theta$\\) minimisant la moyenne du carré des erreurs de prédiction, cette solution est :\n",
    "\n",
    "$$ \\widehat \\Theta = (X^T.X)^{-1}.X^T.Y $$\n",
    "\n",
    "Où \\($X$\\) est l'ensemble des données d'entrée et Y l'ensemble des données de sorties.\n",
    "\n",
    "Numpy permet de transposer des matrices (operateur `T`) d'en faire le produit (fonction `dot()`) ou de les inverser (fonction `inv()`) de la classe `linalg`).\n",
    "\n",
    "Rappelons également qu'une combinaison linéaire lorsque les entrées ne sont composées que d'une valeur \\($x_1$\\), se calcule de la façon suivante :\n",
    "\n",
    "$$ \\widehat y = \\theta_0 + \\theta_1 * x_1 $$.\n",
    "\n",
    "Par conséquent, pour faire le calcul de \\($\\Theta$\\), il faut ajouter une colonne de 1 aux entrées X pour introduire \\($\\Theta_0$\\) dans la solution.\n",
    "\n",
    "Ceci se fait avec l'opérateur `c_` qui permet de concaténer des colonnes. On peut ainsi calculer la régression linéaire et l'afficher :"
   ]
  },
  {
   "cell_type": "code",
   "execution_count": 3,
   "metadata": {
    "colab": {
     "base_uri": "https://localhost:8080/",
     "height": 301
    },
    "id": "IadXt-ifTOKD",
    "outputId": "90295088-49e3-41ad-8dd6-f24ed802d14c"
   },
   "outputs": [
    {
     "name": "stdout",
     "output_type": "stream",
     "text": [
      "Theta :  [[1.61790949]\n",
      " [4.1512468 ]]\n"
     ]
    },
    {
     "data": {
      "image/png": "[encoded data removed]",
      "text/plain": [
       "<Figure size 432x288 with 1 Axes>"
      ]
     },
     "metadata": {
      "needs_background": "light"
     },
     "output_type": "display_data"
    }
   ],
   "source": [
    "import time\n",
    "X_b = np.c_[np.ones((nbDonnee,1)),X] # Ajout de la constante '1' à chaque donnée pour calculer le biais theta0 (rappelons que l'équation d'une regression linéaire est y = theta0 + theta1*x1 + theta2*x2 + ... Ici on a juste une valeur par exemple (donc x1) et on ajoute le 1 pour calculer le theta0 \n",
    "before = time.time() #permettra d'obtenir le temps de calcul de l'algorithme\n",
    "theta_best=np.linalg.inv(X_b.T.dot(X_b)).dot(X_b.T).dot(y) #  Numpy est doté de nombreux algorithmes d'algèbre linéaire. Ici, il permet de calculer l'inverse d'une matrice. (rappelons qu'il existe une solution analytique permettant de calculer le theta qui minimise la MSE et qui est [1/(Xt.X)].Xt.y\n",
    "print(\"Theta : \", theta_best)\n",
    "# Nous allons maintenant tracer la droite représentant le theta_best ainsi que les points utilisés pour l'apprendre\n",
    "X_new= np.array([[0],[3]]) # Choix de 2 valeurs de X\n",
    "X_new_b = np.c_[np.ones((2,1)),X_new] # On ajoute le '1' à chaque donnée\n",
    "y_predict = X_new_b.dot(theta_best) # on calcul le y à partir de theta_best\n",
    "plt.plot(X_new, y_predict, \"r-\") # On trace une droite rouge entre les 2 points prédits\n",
    "plt.plot(X,y, \"b.\") #On trace un point bleu pour chaque point des données utilisées pour apprendre theta\n",
    "plt.axis([0,3,0,15]) # On fixe les bornes de l'abscisse et de l'ordonnée du graphique\n",
    "plt.show() # On affiche la courbe"
   ]
  },
  {
   "cell_type": "code",
   "execution_count": 4,
   "metadata": {},
   "outputs": [],
   "source": [
    "import math\n",
    "\n",
    "X = 3*np.random.rand(100,1)\n",
    "y = np.sin(X) + 0.1*np.random.randn(100,1)\n",
    "\n"
   ]
  },
  {
   "cell_type": "code",
   "execution_count": 5,
   "metadata": {},
   "outputs": [
    {
     "data": {
      "image/png": "[encoded data removed]",
      "text/plain": [
       "<Figure size 432x288 with 1 Axes>"
      ]
     },
     "metadata": {
      "needs_background": "light"
     },
     "output_type": "display_data"
    }
   ],
   "source": [
    "plt.plot(X,y, \"b.\") # On trace un point bleu pour chaque point des données\n",
    "plt.axis([-1,4,0,1.5]) # On fixe les bornes de l'abscisse et de l'ordonnée du graphique\n",
    "plt.show() # On affiche le tout"
   ]
  },
  {
   "cell_type": "code",
   "execution_count": 6,
   "metadata": {},
   "outputs": [
    {
     "name": "stdout",
     "output_type": "stream",
     "text": [
      "Theta :  [[0.63034634]\n",
      " [0.00379349]]\n"
     ]
    },
    {
     "data": {
      "image/png": "[encoded data removed]",
      "text/plain": [
       "<Figure size 432x288 with 1 Axes>"
      ]
     },
     "metadata": {
      "needs_background": "light"
     },
     "output_type": "display_data"
    }
   ],
   "source": [
    "X_b = np.c_[np.ones((nbDonnee,1)),X] # Ajout de la constante '1' à chaque donnée pour calculer le biais theta0 (rappelons que l'équation d'une regression linéaire est y = theta0 + theta1*x1 + theta2*x2 + ... Ici on a juste une valeur par exemple (donc x1) et on ajoute le 1 pour calculer le theta0 \n",
    "before = time.time() #permettra d'obtenir le temps de calcul de l'algorithme\n",
    "theta_best=np.linalg.inv(X_b.T.dot(X_b)).dot(X_b.T).dot(y) #  Numpy est doté de nombreux algorithmes d'algèbre linéaire. Ici, il permet de calculer l'inverse d'une matrice. (rappelons qu'il existe une solution analytique permettant de calculer le theta qui minimise la MSE et qui est [1/(Xt.X)].Xt.y\n",
    "print(\"Theta : \", theta_best)\n",
    "# Nous allons maintenant tracer la droite représentant le theta_best ainsi que les points utilisés pour l'apprendre\n",
    "X_new= np.array([[0],[3]]) # Choix de 2 valeurs de X\n",
    "X_new_b = np.c_[np.ones((2,1)),X_new] # On ajoute le '1' à chaque donnée\n",
    "y_predict = X_new_b.dot(theta_best) # on calcul le y à partir de theta_best\n",
    "plt.plot(X_new, y_predict, \"r-\") # On trace une droite rouge entre les 2 points prédits\n",
    "plt.plot(X,y, \"b.\") #On trace un point bleu pour chaque point des données utilisées pour apprendre theta\n",
    "plt.axis([-1,4,0,1.5]) # On fixe les bornes de l'abscisse et de l'ordonnée du graphique\n",
    "plt.show() # On affiche la courbe"
   ]
  },
  {
   "cell_type": "markdown",
   "metadata": {
    "id": "kFKj6ctrTXx8"
   },
   "source": [
    "## Question 1 :\n",
    "\n",
    "Tester le code précédent et observer les courbes correspondantes. Générez des données ne se rapprochant pas d'une droite (par exemple à l'aide d'une fonction sinusoïdale, une puissance ou toute autre fonction non linéaire) et faites une regression linéaire. Affichez le résultat. Quelle conclusion ?\n",
    "\n",
    "    Une régression linéeaire n'est pas très efficace sur une courbe non linéaire.\n",
    "\n",
    "## Question 2 :\n",
    "\n",
    "Ajoutez une colonne aux entrées qui représentent les valeurs de ces entrées mises au carré. Faite une régression linéaire sur cette représentation des entrées par 2 valeurs.\n",
    "\n",
    "Une exemple de code permettant de construire un tableau `X2` du carré des éléments d'un tableau `X` à l'aide d'une lambda fonction est:"
   ]
  },
  {
   "cell_type": "code",
   "execution_count": 93,
   "metadata": {
    "id": "j_GEUqKJTpa1"
   },
   "outputs": [],
   "source": [
    "X = 3*np.random.rand(100,1)\n",
    "X2 = np.apply_along_axis(lambda x: (x*x), 0, X)\n",
    "\n",
    "\n",
    "y = np.sin(X2) + 0.1*np.random.randn(100,1)"
   ]
  },
  {
   "cell_type": "code",
   "execution_count": 97,
   "metadata": {},
   "outputs": [
    {
     "name": "stdout",
     "output_type": "stream",
     "text": [
      "Theta :  [[ 0.35063067]\n",
      " [ 0.20302955]\n",
      " [-0.13919629]]\n"
     ]
    },
    {
     "data": {
      "image/png": "[encoded data removed]",
      "text/plain": [
       "<Figure size 432x288 with 1 Axes>"
      ]
     },
     "metadata": {},
     "output_type": "display_data"
    }
   ],
   "source": [
    "X_b = np.c_[np.ones((nbDonnee,1)),X] # Ajout de la constante '1' à chaque donnée pour calculer le biais theta0 (rappelons que l'équation d'une regression linéaire est y = theta0 + theta1*x1 + theta2*x2 + ... Ici on a juste une valeur par exemple (donc x1) et on ajoute le 1 pour calculer le theta0 \n",
    "X_b = np.c_[X_b,X2]\n",
    "\n",
    "before = time.time() #permettra d'obtenir le temps de calcul de l'algorithme\n",
    "theta_best=np.linalg.inv(X_b.T.dot(X_b)).dot(X_b.T).dot(y) #  Numpy est doté de nombreux algorithmes d'algèbre linéaire. Ici, il permet de calculer l'inverse d'une matrice. (rappelons qu'il existe une solution analytique permettant de calculer le theta qui minimise la MSE et qui est [1/(Xt.X)].Xt.y\n",
    "print(\"Theta : \", theta_best)\n",
    "\n",
    "y_predict = X_b.dot(theta_best) # on calcul le y à partir de theta_best\n",
    "plt.plot(X_b, y_predict, \"r.\") # On trace une droite rouge entre les 2 points prédits\n",
    "plt.plot(X,y, \"b.\") #On trace un point bleu pour chaque point des données utilisées pour apprendre theta\n",
    "plt.axis([-1,4,-1,3]) # On fixe les bornes de l'abscisse et de l'ordonnée du graphique\n",
    "plt.show() # On affiche la courbe"
   ]
  },
  {
   "cell_type": "markdown",
   "metadata": {
    "id": "MGfAvvhTTsgT"
   },
   "source": [
    "Attention, il n'est plus possible de tracer une droite pour représenter les sorties calculées par le modèle puisqu'elles ne suivent plus l'équation d'une droite.\n",
    "\n",
    "Quelle Conclusion ?"
   ]
  },
  {
   "cell_type": "markdown",
   "metadata": {},
   "source": [
    "On a ajouter une dimension $x^2$, il faudrait avoir une vision de l'hyperplan pour observer la nouvelle prédiction."
   ]
  },
  {
   "cell_type": "markdown",
   "metadata": {
    "id": "xZZsRrptT4jz"
   },
   "source": [
    "# Scikit-Learn\n",
    "\n",
    "`Scikit-Learn` permet d'utiliser des algorithmes d'apprentissage artificiel 'tout prêts' et apporte également des fonctions supplémentaires bien utiles. Nous allons d'ailleurs commencer par une généralisation de ce qui a été fait précédemment grâce à lui. On parle de **polynomialisation**. Il s'agit d'ajouter aux *features* leur valeur au carré, à la puissance 3, à la puissance n, ainsi que la valeur de leurs produits respectifs (par exemple x1 * x2) et de leur produit au carré, à la puissance n ... Ceci devrait améliorer la précision du prédicteur (au risque de lui faire faire du sur-apprentissage).\n",
    "\n",
    "Dans `Scikit-learn`, il existe un moyen rapide de polynomiser un vecteur de features : la classe `PolynomialFeatures` :\n",
    "\n"
   ]
  },
  {
   "cell_type": "code",
   "execution_count": 9,
   "metadata": {
    "colab": {
     "base_uri": "https://localhost:8080/"
    },
    "id": "U-SigosZUb6k",
    "outputId": "fad03be4-d8fd-4645-d5a4-5ea3a4b898e2"
   },
   "outputs": [
    {
     "name": "stdout",
     "output_type": "stream",
     "text": [
      "[1.         2.04987225 4.20197625 8.61351451]\n",
      "[9.42831492]\n"
     ]
    }
   ],
   "source": [
    "import numpy as np\n",
    "from sklearn.preprocessing import PolynomialFeatures\n",
    "from sklearn.linear_model import LinearRegression\n",
    "\n",
    "# on va pousser jusque la puissance 3 et on ajoute la colonne de 1 pour le Theta0\n",
    "poly_features = PolynomialFeatures(degree=3, include_bias=True) \n",
    "X = 3*np.random.rand(100,1) # Generation de trois valeurs pouvant représenter 100 exemples d'entrées\n",
    "X_poly=poly_features.fit_transform(X) # Cette fonction fait la polynomialisation pour nous ;-)\n",
    "y = 2 + 4*X + np.random.randn(100,1)\n",
    "\n",
    "print(X_poly[0])\n",
    "print(y[0])"
   ]
  },
  {
   "cell_type": "markdown",
   "metadata": {
    "id": "0tfse6xZUf9z"
   },
   "source": [
    "## Question 3:\n",
    "\n",
    "*   Testez une fonction à apprendre assez complexe avec différents degrès de polynomialisation.\n",
    "*   Découpez ce jeu en 2/3 dédié à l'apprentissage et 1/3 dédié à la vérification (jeu de test). On découpe un tableau en deux de cette façon:"
   ]
  },
  {
   "cell_type": "code",
   "execution_count": 10,
   "metadata": {
    "colab": {
     "base_uri": "https://localhost:8080/"
    },
    "id": "0R3isD0DU3H7",
    "outputId": "fbf34ac4-4120-4dcc-844b-cfc83ddfea5e"
   },
   "outputs": [
    {
     "data": {
      "text/plain": [
       "0.9370725224306264"
      ]
     },
     "execution_count": 10,
     "metadata": {},
     "output_type": "execute_result"
    }
   ],
   "source": [
    "from sklearn.model_selection import train_test_split\n",
    "\n",
    "X_train, X_test, y_train, y_test = train_test_split(X_poly, y, test_size=0.33, random_state=42)\n",
    "\n",
    "reg = LinearRegression().fit(X_train, y_train)\n",
    "\n",
    "reg.score(X_train, y_train)"
   ]
  },
  {
   "cell_type": "markdown",
   "metadata": {
    "id": "nyRiKF8eV0fT"
   },
   "source": [
    "## Question 4\n",
    "\n",
    "Calculez la MSE (moyenne des erreurs au carré) des données apprises et la MSE de données de test. Observez le sur-apprentissage. Avec scikit-learn, le calcul de la MSE se fait ainsi :"
   ]
  },
  {
   "cell_type": "code",
   "execution_count": 11,
   "metadata": {
    "colab": {
     "base_uri": "https://localhost:8080/"
    },
    "id": "X1c3JxT-V6uD",
    "outputId": "691eed0f-1d66-457d-f737-af5fc3cb6d09"
   },
   "outputs": [
    {
     "name": "stdout",
     "output_type": "stream",
     "text": [
      "1.0471303495134345\n"
     ]
    },
    {
     "data": {
      "image/png": "[encoded data removed]",
      "text/plain": [
       "<Figure size 432x288 with 1 Axes>"
      ]
     },
     "metadata": {
      "needs_background": "light"
     },
     "output_type": "display_data"
    }
   ],
   "source": [
    "from sklearn.metrics import mean_squared_error\n",
    "\n",
    "y = y_test # y sont les valeurs des sorties réelles qu'il faudrait retrouver\n",
    "yp = reg.predict(X_test) # yp sont les valeurs estimées par l'algorithme d'apprentissage\n",
    "MSE = mean_squared_error(y,yp)\n",
    "print(MSE)\n",
    "\n",
    "plt.plot(X_test, yp, \"r.\")\n",
    "plt.plot(X_test,y, \"b.\")\n",
    "plt.axis([-1,4,0,20])\n",
    "plt.show()"
   ]
  },
  {
   "cell_type": "markdown",
   "metadata": {
    "id": "5ODhDR-NWEkq"
   },
   "source": [
    "## Notion de régularisation\n",
    "\n",
    "Trouver la polynomialisation qui permet d'éviter le sur-apprentissage tout en garantissant un apprentissage s'appelle la \"régularisation\" d'un modèle. Il existe différentes façons de régulariser une regression. Parmi elles, il y a la \"Ridge Regression\" encore nommée la Regularisation de Tikhonov, la Regression en lasso (Least Absolute Shrinkage and Selection Operator Regression), l'Elastic Net ou le Early Stopping. Je vous invite à consulter la litterature pour avoir des détails sur ces différentes méthodes ([par exemple ici](https://towardsdatascience.com/regularization-in-machine-learning-76441ddcf99a))."
   ]
  },
  {
   "cell_type": "markdown",
   "metadata": {
    "id": "cxB88zVh4Yad"
   },
   "source": [
    "# Et la descente de grandient dans tout ça ?"
   ]
  },
  {
   "cell_type": "markdown",
   "metadata": {
    "id": "QeUsyUxa4U8m"
   },
   "source": [
    "Le calcul Analytique de la solution, qui se traduit par l'utilisation d'un calcul matriciel :\n",
    "`np.linalg.inv(X_b.T.dot(X_b)).dot(X_b.T).dot(y)`\n",
    "Pose des problèmes lorsque le nombre de données est très grand (ce qui est le cas des bases de données actuelles). C'est une des raisons pour laquelle on s'est rapidement penché vers des méthodes itératives du type *descente de gradient* qui évitent l'utilisation d'une matrice de taille NxN (pour N données).\n",
    "L'autre interêt de la *descente de gradient* est qu'elle peut se faire paramétrer des modèles non linéaires (réseaux de neurones par exemple).\n"
   ]
  },
  {
   "cell_type": "markdown",
   "metadata": {
    "id": "D2mLDN8x0rKL"
   },
   "source": [
    "# Utiliser des bases de données\n",
    "\n",
    "Nous allons donc passer à des quantités de données plus importantes présentant également un nombre de *features* plus important et surtout, représentant des informations *réelles* extraites d'observations. Il existe de très nombreuses bases de données disponibles (par exemple le [data set du CMU](http://lib.stat.cmu.edu/datasets/), voir la [liste Wikipedia à ce sujet](https://en.wikipedia.org/wiki/List_of_datasets_for_machine-learning_research)). `Scikit-Learn` possède un package `datasets` qui permet d'accéder à différents exemples de données. Il existe une fonction `load` pour chaque base : `load_boston()`, `load_iris()`, `load_diabetes()`, `load_digits()` ... `Scikit-learn` fournit également des images (`load_sample_image()`) et des générateurs de données permettant de fabriquer des valeurs controlées et des bases de toute taille. Nous allons utiliser une base très classique `iris` qui contient des fleurs réparties selon trois classes. Le fait d'appartenir à une classe dépendant de différentes propriétés de la fleur ([voir ici les détails sur iris](https://archive.ics.uci.edu/ml/datasets/iris)). Le code ci-dessous vous permet de visualiser la classe de chaque fleur en fonction de ces propriétés (longueur des pétales, longueur des sépales, largeurs des sépales, largeurs des pétales).\n"
   ]
  },
  {
   "cell_type": "markdown",
   "metadata": {
    "id": "WwV6qhA0YuY3"
   },
   "source": []
  },
  {
   "cell_type": "code",
   "execution_count": 12,
   "metadata": {
    "colab": {
     "base_uri": "https://localhost:8080/",
     "height": 1000
    },
    "id": "tJ5469Zs0mkv",
    "outputId": "0c929a99-ef47-4b0c-d4f7-0bbcee8c4d6d"
   },
   "outputs": [
    {
     "data": {
      "image/png": "[encoded data removed]",
      "text/plain": [
       "<Figure size 504x720 with 2 Axes>"
      ]
     },
     "metadata": {},
     "output_type": "display_data"
    }
   ],
   "source": [
    "import numpy as np\n",
    "import matplotlib.pyplot as plt\n",
    "plt.style.use('ggplot')\n",
    "\n",
    "from sklearn.datasets import load_iris\n",
    "\n",
    "iris = load_iris()\n",
    "X = iris['data']\n",
    "#print(X)\n",
    "y = iris['target']\n",
    "names = iris['target_names']\n",
    "feature_names = iris['feature_names']\n",
    "\n",
    "# Visualize the data sets\n",
    "plt.figure(figsize=(7, 10))\n",
    "\n",
    "plt.subplot(211)\n",
    "for target, target_name in enumerate(names):\n",
    "    X_plot = X[y == target]\n",
    "    plt.plot(X_plot[:, 0], X_plot[:, 1], linestyle='none', marker='o', label=target_name)\n",
    "plt.xlabel(feature_names[0])\n",
    "plt.ylabel(feature_names[1])\n",
    "plt.axis('equal')\n",
    "plt.legend();\n",
    "\n",
    "plt.subplot(212)\n",
    "for target, target_name in enumerate(names):\n",
    "    X_plot = X[y == target]\n",
    "    plt.plot(X_plot[:, 2], X_plot[:, 3], linestyle='none', marker='o', label=target_name)\n",
    "plt.xlabel(feature_names[2])\n",
    "plt.ylabel(feature_names[3])\n",
    "plt.axis('equal')\n",
    "plt.legend();"
   ]
  },
  {
   "cell_type": "markdown",
   "metadata": {
    "id": "kgvyBzR6WZ1i"
   },
   "source": [
    "# Première Régression Logistique\n",
    "\n",
    "Nous allons maintenant entrer dans le vif du sujet en essayant de faire une régression logistique sur cette base de donnée 'iris`. La regression logistique (appelée parfois Logit Regression) permet de classer des données ou plutôt de fournir une probabilité d'appartenance d'une donnée à une classe (si la probabilité est supérieure à 0.5 on l'affecte à une classe et si elle est inférieure à 0.5, on ne l'affecte pas à cette classe).\n",
    "\n",
    "Cette probabilité est $$\\widehat p = h_\\Theta(x) = \\sigma(\\Theta^T . x) $$ où $\\Theta$ est le vecteur des poids à calculer et sigma est la fonction logistique : $$\\sigma(t)= {1 \\over (1 + exp(-t))}$$\n",
    "\n",
    "De façon plus explicite, on calcul une fonction linéaire $\\theta_1*x_1 + \\theta_2*x_2 + ...\\theta_n*x_n$ que l'on fait passer dans une fonction sigmoïde $\\sigma()$ (qui permet de renvoyer une valeur comprise entre 0 et 1) qui est alors la probabilité d'appartenance de la donnée d'entrée à la classe concernée.\n",
    "\n",
    "Il n'y a pas de solution analytique à la recherche du vecteur des poids $\\Theta$ et comme expliqué ci-dessous, si il y en avait une, le nombre de données la rendrait sans doute inapplicable du point de vu de la mémoire utilisée. Par contre, la fonction de cout ([log loss](https://towardsdatascience.com/understanding-binary-cross-entropy-log-loss-a-visual-explanation-a3ac6025181a)), qui est la moyenne des couts sur un ensemble de données d'apprentissage, est convexe (Il n'y a pas de minimums locaux) et donc on peut calculer les poids avec une simple descente de gradient et être sûr que l'on obtient un apprentissage optimal. Pour cela, `Scikit-learn` fournit une classe `LogisticRegression` qui possède une méthode `fit()` calculant les poids $\\Theta $ par descente de gradient. Ceci permettant donc de fournir une probabilité d'appartenance à une classe (en prenant les `features` d'un exemple en entrée). Le code ci-dessous illustre ce processus.\n",
    "Sur la figure finale sont représentées :\n",
    "* en bleu, l'appartenance ou non à la classe *iris virginica* de chaque exemple en fonction de la largeur des pétales.\n",
    "* en vert la sortie de la fonction sigmoïde ($\\sigma()$, donc la probabilité d'appartenir à la classe *iris virginica*) en fonction d'une valeur de largeur de pétales.\n",
    "* en rouge, le complément : la probabilité de ne pas appartenir à cette classe."
   ]
  },
  {
   "cell_type": "code",
   "execution_count": 13,
   "metadata": {
    "colab": {
     "base_uri": "https://localhost:8080/",
     "height": 300
    },
    "id": "c-lj1SORY2JD",
    "outputId": "a842d1fc-31a6-4a78-9351-22894454fb93"
   },
   "outputs": [
    {
     "name": "stdout",
     "output_type": "stream",
     "text": [
      "Largeur 0\n",
      "[0.2]\n",
      "Largeur_new 0\n",
      "[0.]\n",
      "Typeproba 0\n",
      "[9.99250016e-01 7.49984089e-04]\n"
     ]
    },
    {
     "data": {
      "image/png": "[encoded data removed]",
      "text/plain": [
       "<Figure size 432x288 with 1 Axes>"
      ]
     },
     "metadata": {},
     "output_type": "display_data"
    },
    {
     "name": "stdout",
     "output_type": "stream",
     "text": [
      "Accuracy: 0.960000\n"
     ]
    }
   ],
   "source": [
    "from sklearn import datasets,  metrics\n",
    "from sklearn.linear_model import LogisticRegression\n",
    "import numpy as np\n",
    "import matplotlib.pyplot as plt\n",
    "iris = datasets.load_iris()\n",
    "#print(list(iris.keys()))\n",
    "# ['target_names', 'data', 'DESCR', 'target', 'feature_names']\n",
    "# Chaque fleur possède 4 features (de 0 à 3), la 3 étant la largeur les pétales\n",
    "Largeur = iris[\"data\"][:, 3:]\n",
    "print(\"Largeur 0\")\n",
    "print(Largeur[0])\n",
    "\n",
    "# La \"target\" étant un type de fleur compris entre 0 et 2\n",
    "Type = (iris[\"target\"] == 2).astype(np.int) # On créé une liste qui contient 1 lorsque la fleur est de type 2 et 0 sinon pour faire une classification\n",
    "log_reg = LogisticRegression() # On créé un modèle de régression logistique (qui définit ce qu'est la fonction cout et qui sait calculer la régression)\n",
    "log_reg.fit(Largeur,Type)\n",
    "\n",
    "# On va créer une représentation de ce que rend le modèle (Type en fonction de largeur)\n",
    "Largeur_new = np.linspace(0,3,100).reshape(-1,1) # linspace renvoie 100 valeurs permettant d'aller de 0 à 3, reshape() les repositionne dans un tableau à 1 colonne pour pouvoir les envoyer à \"predict_proba\"\n",
    "print(\"Largeur_new 0\")\n",
    "print(Largeur_new[0])\n",
    "\n",
    "Type_proba = log_reg.predict_proba(Largeur_new) # predict proba renvoie un tableau de 2 colonnes : proba classe False / proba classe True\n",
    "print(\"Typeproba 0\")\n",
    "print(Type_proba[0])\n",
    "\n",
    "plt.plot(Largeur_new, Type_proba[:,1], \"g-\", label = \"Iris-Virginica\") #en vert ligne continue\n",
    "plt.xlabel(\"largeur pétale\")\n",
    "plt.ylabel(\"Probabilité d'être une Iris Virginica\")\n",
    "plt.plot(Largeur_new, Type_proba[:,0], \"r--\", label = \"Pas une Iris-Virginica\") #en rouge ligne pointillés\n",
    "plt.plot(Largeur,Type, \"bo\") # Dessine les données initiales avec un rond bleu\n",
    "plt.show()\n",
    "# Le code suivant recalcul les valeurs que donne le modèle à partir des données d'entrée pour calculer l'accuracy (la précision)\n",
    "Type_proba = log_reg.predict_proba(Largeur) \n",
    "prediction = (Type_proba[:, 1:]>0.5).astype(np.int)\n",
    "#print(\"Type Proba : \", Type_proba)\n",
    "#print(\"Prediction : \", prediction)\n",
    "score = metrics.accuracy_score(Type, prediction)\n",
    "print (\"Accuracy: %f\" % score)"
   ]
  },
  {
   "cell_type": "markdown",
   "metadata": {
    "id": "aSi7W4YPZYYc"
   },
   "source": [
    "## Question 4 :\n",
    "\n",
    "Exécutez le code précédent. Calculez la MSE sur la base des exemples. Ajoutez une `feature` (longueur des pétales) aux données, refaite un apprentissage et comparez à nouveau la MSE. Faites la même chose en intégrant toutes les `features` (largeur et longueur des sépales)\n",
    "\n",
    "Conclusion ?"
   ]
  },
  {
   "cell_type": "code",
   "execution_count": 14,
   "metadata": {},
   "outputs": [
    {
     "name": "stdout",
     "output_type": "stream",
     "text": [
      "0.04\n"
     ]
    }
   ],
   "source": [
    "MSE = mean_squared_error(Type,prediction)\n",
    "print(MSE)"
   ]
  },
  {
   "cell_type": "code",
   "execution_count": 15,
   "metadata": {},
   "outputs": [
    {
     "name": "stdout",
     "output_type": "stream",
     "text": [
      "Features 0\n",
      "[0.2 1.4 0.2]\n",
      "Features_new 0\n",
      "[0.  1.5 3. ]\n",
      "Typeproba 0\n",
      "[9.99876609e-01 1.23390980e-04]\n"
     ]
    }
   ],
   "source": [
    "Longueur = iris[\"data\"][:, 2:]\n",
    "\n",
    "Features = np.concatenate((Largeur, Longueur), axis=1)\n",
    "\n",
    "print(\"Features 0\")\n",
    "print(Features[0])\n",
    "\n",
    "log_reg = LogisticRegression()\n",
    "\n",
    "log_reg.fit(Features,Type)\n",
    "\n",
    "Features_new = []\n",
    "\n",
    "for i in range(150) :\n",
    "    values = np.linspace(0, 3, num=3)\n",
    "    Features_new.append(values)\n",
    "\n",
    "print(\"Features_new 0\")\n",
    "print(Features_new[0])\n",
    "\n",
    "Type_proba = log_reg.predict_proba(Features_new) # predict proba renvoie un tableau de 2 colonnes : proba classe False / proba classe True\n",
    "print(\"Typeproba 0\")\n",
    "print(Type_proba[0])\n",
    "\n",
    "Type_proba = log_reg.predict_proba(Features_new) \n",
    "prediction = (Type_proba[:, 1:]>0.5).astype(np.int)"
   ]
  },
  {
   "cell_type": "code",
   "execution_count": 16,
   "metadata": {},
   "outputs": [
    {
     "name": "stdout",
     "output_type": "stream",
     "text": [
      "0.3333333333333333\n"
     ]
    }
   ],
   "source": [
    "MSE = mean_squared_error(Type,prediction)\n",
    "print(MSE)"
   ]
  },
  {
   "cell_type": "markdown",
   "metadata": {
    "id": "AyYxkZqYaXWV"
   },
   "source": [
    "# Keras :\n",
    "Lorsque nous utilisions `Tensor Flow 1.X`, nous avions une encapsulation de Tensor flow dans Scikit-learn appelée `Scikit-flow`. Cette libraire a été abandonnée au profit de `keras` lors du passage à `Tensor Flow 2.X` qui a l'avantage de pouvoir encapsuler non seulement `tensor flow` mais d'autres librairies de machine learning.\n",
    "\n",
    "C'est une façon simple et rapide d'utiliser `TensorFlow`. Ci-dessous, la classe `LinearClassifier` est tout simplement un classifier basé sur une fonction logistique (pour 2 classes) et softmax (pour plus de 2 classes). Elle réalise donc a peu près le même travail que la régression logistique précédente. Néanmoins, il y a des nuances à observer :\n",
    "* Keras (et tensor flow) étant spécifiquement dédiés à de l'apprentissage artificiel, un ensemble séparé de données d'entrainement et de tests est attendu\n",
    "* L'algorithme d'apprentissage peut être plus finement paramétré. Par défaut une descente de gradient consiste à calculer l'erreur cumulée sur toutes les données et à rétropropager celle-ci sur les différents paramètre du modèle. Ceci est très lent alors qu'en prenant des petits paquets de données et en calculant une erreur cumulée sur ces petits paquets, on peut remettre à jour les paramètres du modèle beaucoup plus osuvent. On utilise pour cela la notion  de *mini-batch* et d'*epoch*.  Une *epoch* correspond au nombre de fois que l'on fait passer l'ensemble des données dans l'algorithme. Un *mini-batch* est un paquet de données que l'on fait passer dans le modèle avant de mettre à jour les paramètres du modèle via la rétropropagation du gradient. Dans ce cas, il faut fixer la taille des *mini-batch*. Enfin, il existe différentes catégorie d'algorithmes (certains recalculant les mini-batch aléatoirement par exemple) qui font que plusieurs heures seraient nécessaires pour tous les énumérer. Pour les curieux, il est possible de consulter cette [page](https://ruder.io/optimizing-gradient-descent/index.html#gradientdescentvariants) . \n",
    "* Ici, on construit un modèle qui est un empilement de couches. Ici étant donné que l'on reproduit une régression logistique, il y a une seule couche *Dense* (toutes les entrées sont reliées à tous les neurosnes) qui contient un seul \"neurone\" avec une fonction de transfert *sigmoid*. \n"
   ]
  },
  {
   "cell_type": "code",
   "execution_count": 17,
   "metadata": {
    "colab": {
     "base_uri": "https://localhost:8080/"
    },
    "id": "NidNrpyhtYvm",
    "outputId": "a52d9873-b166-4b90-a6be-ce8cd077ec4b"
   },
   "outputs": [
    {
     "name": "stdout",
     "output_type": "stream",
     "text": [
      "Epoch 1/20\n",
      "15/15 [==============================] - 1s 21ms/step - loss: 2.5100 - binary_accuracy: 0.6667 - val_loss: 1.6984 - val_binary_accuracy: 0.6667\n",
      "Epoch 2/20\n",
      "15/15 [==============================] - 0s 5ms/step - loss: 1.1804 - binary_accuracy: 0.6667 - val_loss: 0.6757 - val_binary_accuracy: 0.6667\n",
      "Epoch 3/20\n",
      "15/15 [==============================] - 0s 4ms/step - loss: 0.6177 - binary_accuracy: 0.6667 - val_loss: 0.5636 - val_binary_accuracy: 0.6667\n",
      "Epoch 4/20\n",
      "15/15 [==============================] - 0s 5ms/step - loss: 0.5643 - binary_accuracy: 0.7067 - val_loss: 0.5338 - val_binary_accuracy: 0.7733\n",
      "Epoch 5/20\n",
      "15/15 [==============================] - 0s 5ms/step - loss: 0.5403 - binary_accuracy: 0.7200 - val_loss: 0.5146 - val_binary_accuracy: 0.7733\n",
      "Epoch 6/20\n",
      "15/15 [==============================] - 0s 5ms/step - loss: 0.5219 - binary_accuracy: 0.8133 - val_loss: 0.5007 - val_binary_accuracy: 0.7200\n",
      "Epoch 7/20\n",
      "15/15 [==============================] - 0s 5ms/step - loss: 0.5123 - binary_accuracy: 0.7067 - val_loss: 0.4822 - val_binary_accuracy: 0.9467\n",
      "Epoch 8/20\n",
      "15/15 [==============================] - 0s 4ms/step - loss: 0.4999 - binary_accuracy: 0.8533 - val_loss: 0.4674 - val_binary_accuracy: 0.8800\n",
      "Epoch 9/20\n",
      "15/15 [==============================] - 0s 6ms/step - loss: 0.4877 - binary_accuracy: 0.8400 - val_loss: 0.4544 - val_binary_accuracy: 0.9200\n",
      "Epoch 10/20\n",
      "15/15 [==============================] - 0s 4ms/step - loss: 0.4772 - binary_accuracy: 0.8667 - val_loss: 0.4440 - val_binary_accuracy: 0.8800\n",
      "Epoch 11/20\n",
      "15/15 [==============================] - 0s 4ms/step - loss: 0.4662 - binary_accuracy: 0.8267 - val_loss: 0.4336 - val_binary_accuracy: 0.8800\n",
      "Epoch 12/20\n",
      "15/15 [==============================] - 0s 5ms/step - loss: 0.4532 - binary_accuracy: 0.8667 - val_loss: 0.4242 - val_binary_accuracy: 0.9067\n",
      "Epoch 13/20\n",
      "15/15 [==============================] - 0s 5ms/step - loss: 0.4446 - binary_accuracy: 0.9467 - val_loss: 0.4179 - val_binary_accuracy: 0.8800\n",
      "Epoch 14/20\n",
      "15/15 [==============================] - 0s 5ms/step - loss: 0.4407 - binary_accuracy: 0.9067 - val_loss: 0.4130 - val_binary_accuracy: 0.8800\n",
      "Epoch 15/20\n",
      "15/15 [==============================] - 0s 4ms/step - loss: 0.4335 - binary_accuracy: 0.8667 - val_loss: 0.4003 - val_binary_accuracy: 0.9600\n",
      "Epoch 16/20\n",
      "15/15 [==============================] - 0s 5ms/step - loss: 0.4234 - binary_accuracy: 0.9467 - val_loss: 0.3964 - val_binary_accuracy: 0.8933\n",
      "Epoch 17/20\n",
      "15/15 [==============================] - 0s 5ms/step - loss: 0.4236 - binary_accuracy: 0.8800 - val_loss: 0.3868 - val_binary_accuracy: 0.9733\n",
      "Epoch 18/20\n",
      "15/15 [==============================] - 0s 4ms/step - loss: 0.4125 - binary_accuracy: 0.9333 - val_loss: 0.3813 - val_binary_accuracy: 0.9733\n",
      "Epoch 19/20\n",
      "15/15 [==============================] - 0s 4ms/step - loss: 0.4107 - binary_accuracy: 0.9200 - val_loss: 0.3765 - val_binary_accuracy: 0.9600\n",
      "Epoch 20/20\n",
      "15/15 [==============================] - 0s 5ms/step - loss: 0.4024 - binary_accuracy: 0.9333 - val_loss: 0.3740 - val_binary_accuracy: 0.9333\n",
      "Epoch 1/50\n",
      "15/15 [==============================] - 1s 18ms/step - loss: 0.5538 - binary_accuracy: 0.6667 - val_loss: 0.4015 - val_binary_accuracy: 0.7733\n",
      "Epoch 2/50\n",
      "15/15 [==============================] - 0s 4ms/step - loss: 0.4234 - binary_accuracy: 0.8400 - val_loss: 0.3808 - val_binary_accuracy: 0.9067\n",
      "Epoch 3/50\n",
      "15/15 [==============================] - 0s 5ms/step - loss: 0.4091 - binary_accuracy: 0.8667 - val_loss: 0.3718 - val_binary_accuracy: 0.9733\n",
      "Epoch 4/50\n",
      "15/15 [==============================] - 0s 4ms/step - loss: 0.4037 - binary_accuracy: 0.9067 - val_loss: 0.3668 - val_binary_accuracy: 0.9867\n",
      "Epoch 5/50\n",
      "15/15 [==============================] - 0s 4ms/step - loss: 0.4082 - binary_accuracy: 0.9333 - val_loss: 0.3687 - val_binary_accuracy: 0.9333\n",
      "Epoch 6/50\n",
      "15/15 [==============================] - 0s 4ms/step - loss: 0.4027 - binary_accuracy: 0.8667 - val_loss: 0.3594 - val_binary_accuracy: 1.0000\n",
      "Epoch 7/50\n",
      "15/15 [==============================] - 0s 4ms/step - loss: 0.3942 - binary_accuracy: 0.9200 - val_loss: 0.3574 - val_binary_accuracy: 0.9733\n",
      "Epoch 8/50\n",
      "15/15 [==============================] - 0s 4ms/step - loss: 0.3981 - binary_accuracy: 0.8533 - val_loss: 0.3557 - val_binary_accuracy: 0.9467\n",
      "Epoch 9/50\n",
      "15/15 [==============================] - 0s 4ms/step - loss: 0.3852 - binary_accuracy: 0.8933 - val_loss: 0.3593 - val_binary_accuracy: 0.8933\n",
      "Epoch 10/50\n",
      "15/15 [==============================] - 0s 4ms/step - loss: 0.3855 - binary_accuracy: 0.8533 - val_loss: 0.3465 - val_binary_accuracy: 0.9333\n",
      "Epoch 11/50\n",
      "15/15 [==============================] - 0s 4ms/step - loss: 0.3805 - binary_accuracy: 0.8933 - val_loss: 0.3489 - val_binary_accuracy: 0.9467\n",
      "Epoch 12/50\n",
      "15/15 [==============================] - 0s 5ms/step - loss: 0.3845 - binary_accuracy: 0.9067 - val_loss: 0.3448 - val_binary_accuracy: 0.9467\n",
      "Epoch 13/50\n",
      "15/15 [==============================] - 0s 4ms/step - loss: 0.3754 - binary_accuracy: 0.9067 - val_loss: 0.3368 - val_binary_accuracy: 1.0000\n",
      "Epoch 14/50\n",
      "15/15 [==============================] - 0s 4ms/step - loss: 0.3838 - binary_accuracy: 0.9200 - val_loss: 0.3355 - val_binary_accuracy: 0.9867\n",
      "Epoch 15/50\n",
      "15/15 [==============================] - 0s 5ms/step - loss: 0.3704 - binary_accuracy: 0.9467 - val_loss: 0.3347 - val_binary_accuracy: 0.9600\n",
      "Epoch 16/50\n",
      "15/15 [==============================] - 0s 5ms/step - loss: 0.3663 - binary_accuracy: 0.8933 - val_loss: 0.3290 - val_binary_accuracy: 0.9467\n",
      "Epoch 17/50\n",
      "15/15 [==============================] - 0s 5ms/step - loss: 0.3676 - binary_accuracy: 0.9467 - val_loss: 0.3264 - val_binary_accuracy: 0.9467\n",
      "Epoch 18/50\n",
      "15/15 [==============================] - 0s 5ms/step - loss: 0.3686 - binary_accuracy: 0.9467 - val_loss: 0.3238 - val_binary_accuracy: 1.0000\n",
      "Epoch 19/50\n",
      "15/15 [==============================] - 0s 4ms/step - loss: 0.3682 - binary_accuracy: 0.8933 - val_loss: 0.3215 - val_binary_accuracy: 1.0000\n",
      "Epoch 20/50\n",
      "15/15 [==============================] - 0s 4ms/step - loss: 0.3647 - binary_accuracy: 0.9333 - val_loss: 0.3214 - val_binary_accuracy: 0.9867\n",
      "Epoch 21/50\n",
      "15/15 [==============================] - 0s 4ms/step - loss: 0.3649 - binary_accuracy: 0.9067 - val_loss: 0.3195 - val_binary_accuracy: 0.9867\n",
      "Epoch 22/50\n",
      "15/15 [==============================] - 0s 4ms/step - loss: 0.3646 - binary_accuracy: 0.9067 - val_loss: 0.3165 - val_binary_accuracy: 1.0000\n",
      "Epoch 23/50\n",
      "15/15 [==============================] - 0s 5ms/step - loss: 0.3525 - binary_accuracy: 0.9467 - val_loss: 0.3138 - val_binary_accuracy: 1.0000\n",
      "Epoch 24/50\n",
      "15/15 [==============================] - 0s 4ms/step - loss: 0.3539 - binary_accuracy: 0.9200 - val_loss: 0.3108 - val_binary_accuracy: 1.0000\n",
      "Epoch 25/50\n",
      "15/15 [==============================] - 0s 4ms/step - loss: 0.3503 - binary_accuracy: 0.9467 - val_loss: 0.3092 - val_binary_accuracy: 1.0000\n",
      "Epoch 26/50\n",
      "15/15 [==============================] - 0s 5ms/step - loss: 0.3490 - binary_accuracy: 0.9200 - val_loss: 0.3150 - val_binary_accuracy: 0.9467\n",
      "Epoch 27/50\n",
      "15/15 [==============================] - 0s 5ms/step - loss: 0.3453 - binary_accuracy: 0.9333 - val_loss: 0.3132 - val_binary_accuracy: 0.9467\n",
      "Epoch 28/50\n",
      "15/15 [==============================] - 0s 4ms/step - loss: 0.3534 - binary_accuracy: 0.9333 - val_loss: 0.3059 - val_binary_accuracy: 0.9867\n",
      "Epoch 29/50\n",
      "15/15 [==============================] - 0s 4ms/step - loss: 0.3472 - binary_accuracy: 0.9333 - val_loss: 0.3066 - val_binary_accuracy: 0.9467\n",
      "Epoch 30/50\n",
      "15/15 [==============================] - 0s 4ms/step - loss: 0.3432 - binary_accuracy: 0.9467 - val_loss: 0.3044 - val_binary_accuracy: 0.9467\n",
      "Epoch 31/50\n",
      "15/15 [==============================] - 0s 5ms/step - loss: 0.3399 - binary_accuracy: 0.9200 - val_loss: 0.2984 - val_binary_accuracy: 1.0000\n",
      "Epoch 32/50\n",
      "15/15 [==============================] - 0s 5ms/step - loss: 0.3478 - binary_accuracy: 0.9200 - val_loss: 0.2971 - val_binary_accuracy: 1.0000\n",
      "Epoch 33/50\n",
      "15/15 [==============================] - 0s 4ms/step - loss: 0.3373 - binary_accuracy: 0.9467 - val_loss: 0.2979 - val_binary_accuracy: 0.9867\n"
     ]
    },
    {
     "name": "stdout",
     "output_type": "stream",
     "text": [
      "Epoch 34/50\n",
      "15/15 [==============================] - 0s 4ms/step - loss: 0.3354 - binary_accuracy: 0.9200 - val_loss: 0.2928 - val_binary_accuracy: 1.0000\n",
      "Epoch 35/50\n",
      "15/15 [==============================] - 0s 5ms/step - loss: 0.3356 - binary_accuracy: 0.9333 - val_loss: 0.2952 - val_binary_accuracy: 0.9733\n",
      "Epoch 36/50\n",
      "15/15 [==============================] - 0s 5ms/step - loss: 0.3328 - binary_accuracy: 0.9467 - val_loss: 0.2928 - val_binary_accuracy: 0.9867\n",
      "Epoch 37/50\n",
      "15/15 [==============================] - 0s 4ms/step - loss: 0.3322 - binary_accuracy: 0.9333 - val_loss: 0.2885 - val_binary_accuracy: 1.0000\n",
      "Epoch 38/50\n",
      "15/15 [==============================] - 0s 4ms/step - loss: 0.3294 - binary_accuracy: 0.9467 - val_loss: 0.2866 - val_binary_accuracy: 1.0000\n",
      "Epoch 39/50\n",
      "15/15 [==============================] - 0s 5ms/step - loss: 0.3266 - binary_accuracy: 0.9467 - val_loss: 0.2873 - val_binary_accuracy: 1.0000\n",
      "Epoch 40/50\n",
      "15/15 [==============================] - 0s 5ms/step - loss: 0.3239 - binary_accuracy: 0.9333 - val_loss: 0.2838 - val_binary_accuracy: 1.0000\n",
      "Epoch 41/50\n",
      "15/15 [==============================] - 0s 5ms/step - loss: 0.3238 - binary_accuracy: 0.9467 - val_loss: 0.2878 - val_binary_accuracy: 0.9467\n",
      "Epoch 42/50\n",
      "15/15 [==============================] - 0s 5ms/step - loss: 0.3281 - binary_accuracy: 0.9467 - val_loss: 0.2844 - val_binary_accuracy: 0.9867\n",
      "Epoch 43/50\n",
      "15/15 [==============================] - 0s 4ms/step - loss: 0.3223 - binary_accuracy: 0.9467 - val_loss: 0.2875 - val_binary_accuracy: 0.9467\n",
      "Epoch 44/50\n",
      "15/15 [==============================] - 0s 4ms/step - loss: 0.3189 - binary_accuracy: 0.9467 - val_loss: 0.2783 - val_binary_accuracy: 1.0000\n",
      "Epoch 45/50\n",
      "15/15 [==============================] - 0s 4ms/step - loss: 0.3190 - binary_accuracy: 0.9467 - val_loss: 0.2804 - val_binary_accuracy: 0.9867\n",
      "Epoch 46/50\n",
      "15/15 [==============================] - 0s 4ms/step - loss: 0.3182 - binary_accuracy: 0.9467 - val_loss: 0.2766 - val_binary_accuracy: 1.0000\n",
      "Epoch 47/50\n",
      "15/15 [==============================] - 0s 5ms/step - loss: 0.3197 - binary_accuracy: 0.9067 - val_loss: 0.2744 - val_binary_accuracy: 1.0000\n",
      "Epoch 48/50\n",
      "15/15 [==============================] - 0s 4ms/step - loss: 0.3147 - binary_accuracy: 0.9600 - val_loss: 0.2741 - val_binary_accuracy: 1.0000\n",
      "Epoch 49/50\n",
      "15/15 [==============================] - 0s 4ms/step - loss: 0.3143 - binary_accuracy: 0.9200 - val_loss: 0.2721 - val_binary_accuracy: 1.0000\n",
      "Epoch 50/50\n",
      "15/15 [==============================] - 0s 4ms/step - loss: 0.3193 - binary_accuracy: 0.9467 - val_loss: 0.2706 - val_binary_accuracy: 1.0000\n",
      "Epoch 1/100\n",
      "15/15 [==============================] - 1s 17ms/step - loss: 0.9765 - binary_accuracy: 0.4267 - val_loss: 0.8975 - val_binary_accuracy: 0.3067\n",
      "Epoch 2/100\n",
      "15/15 [==============================] - 0s 4ms/step - loss: 0.8621 - binary_accuracy: 0.3733 - val_loss: 0.8254 - val_binary_accuracy: 0.3333\n",
      "Epoch 3/100\n",
      "15/15 [==============================] - 0s 4ms/step - loss: 0.7947 - binary_accuracy: 0.3867 - val_loss: 0.7680 - val_binary_accuracy: 0.5200\n",
      "Epoch 4/100\n",
      "15/15 [==============================] - 0s 4ms/step - loss: 0.7423 - binary_accuracy: 0.4533 - val_loss: 0.7106 - val_binary_accuracy: 0.5867\n",
      "Epoch 5/100\n",
      "15/15 [==============================] - 0s 4ms/step - loss: 0.6946 - binary_accuracy: 0.5733 - val_loss: 0.6684 - val_binary_accuracy: 0.6800\n",
      "Epoch 6/100\n",
      "15/15 [==============================] - 0s 4ms/step - loss: 0.6518 - binary_accuracy: 0.6667 - val_loss: 0.6277 - val_binary_accuracy: 0.7867\n",
      "Epoch 7/100\n",
      "15/15 [==============================] - 0s 4ms/step - loss: 0.6225 - binary_accuracy: 0.7067 - val_loss: 0.5918 - val_binary_accuracy: 0.8133\n",
      "Epoch 8/100\n",
      "15/15 [==============================] - 0s 4ms/step - loss: 0.5875 - binary_accuracy: 0.7467 - val_loss: 0.5617 - val_binary_accuracy: 0.8133\n",
      "Epoch 9/100\n",
      "15/15 [==============================] - 0s 4ms/step - loss: 0.5653 - binary_accuracy: 0.7467 - val_loss: 0.5382 - val_binary_accuracy: 0.8533\n",
      "Epoch 10/100\n",
      "15/15 [==============================] - 0s 4ms/step - loss: 0.5373 - binary_accuracy: 0.8133 - val_loss: 0.5156 - val_binary_accuracy: 0.8133\n",
      "Epoch 11/100\n",
      "15/15 [==============================] - 0s 5ms/step - loss: 0.5139 - binary_accuracy: 0.7467 - val_loss: 0.4999 - val_binary_accuracy: 0.8667\n",
      "Epoch 12/100\n",
      "15/15 [==============================] - 0s 4ms/step - loss: 0.4994 - binary_accuracy: 0.8800 - val_loss: 0.4801 - val_binary_accuracy: 0.8400\n",
      "Epoch 13/100\n",
      "15/15 [==============================] - 0s 4ms/step - loss: 0.4922 - binary_accuracy: 0.7600 - val_loss: 0.4646 - val_binary_accuracy: 0.8800\n",
      "Epoch 14/100\n",
      "15/15 [==============================] - 0s 5ms/step - loss: 0.4722 - binary_accuracy: 0.8400 - val_loss: 0.4519 - val_binary_accuracy: 0.8933\n",
      "Epoch 15/100\n",
      "15/15 [==============================] - 0s 5ms/step - loss: 0.4683 - binary_accuracy: 0.8667 - val_loss: 0.4368 - val_binary_accuracy: 0.8800\n",
      "Epoch 16/100\n",
      "15/15 [==============================] - 0s 4ms/step - loss: 0.4515 - binary_accuracy: 0.8800 - val_loss: 0.4261 - val_binary_accuracy: 0.8933\n",
      "Epoch 17/100\n",
      "15/15 [==============================] - 0s 4ms/step - loss: 0.4400 - binary_accuracy: 0.9200 - val_loss: 0.4239 - val_binary_accuracy: 0.8400\n",
      "Epoch 18/100\n",
      "15/15 [==============================] - 0s 4ms/step - loss: 0.4346 - binary_accuracy: 0.8400 - val_loss: 0.4064 - val_binary_accuracy: 0.9200\n",
      "Epoch 19/100\n",
      "15/15 [==============================] - 0s 4ms/step - loss: 0.4176 - binary_accuracy: 0.9067 - val_loss: 0.4079 - val_binary_accuracy: 0.8400\n",
      "Epoch 20/100\n",
      "15/15 [==============================] - 0s 4ms/step - loss: 0.4181 - binary_accuracy: 0.8400 - val_loss: 0.3937 - val_binary_accuracy: 0.8800\n",
      "Epoch 21/100\n",
      "15/15 [==============================] - 0s 4ms/step - loss: 0.4101 - binary_accuracy: 0.8933 - val_loss: 0.3840 - val_binary_accuracy: 0.9200\n",
      "Epoch 22/100\n",
      "15/15 [==============================] - 0s 4ms/step - loss: 0.4023 - binary_accuracy: 0.9333 - val_loss: 0.3779 - val_binary_accuracy: 0.9333\n",
      "Epoch 23/100\n",
      "15/15 [==============================] - 0s 4ms/step - loss: 0.3938 - binary_accuracy: 0.9200 - val_loss: 0.3835 - val_binary_accuracy: 0.8400\n",
      "Epoch 24/100\n",
      "15/15 [==============================] - 0s 5ms/step - loss: 0.3961 - binary_accuracy: 0.9200 - val_loss: 0.3673 - val_binary_accuracy: 0.9333\n",
      "Epoch 25/100\n",
      "15/15 [==============================] - 0s 5ms/step - loss: 0.3842 - binary_accuracy: 0.9333 - val_loss: 0.3613 - val_binary_accuracy: 0.9333\n",
      "Epoch 26/100\n",
      "15/15 [==============================] - 0s 4ms/step - loss: 0.3878 - binary_accuracy: 0.9467 - val_loss: 0.3552 - val_binary_accuracy: 0.9200\n",
      "Epoch 27/100\n",
      "15/15 [==============================] - 0s 4ms/step - loss: 0.3800 - binary_accuracy: 0.9333 - val_loss: 0.3543 - val_binary_accuracy: 0.9200\n",
      "Epoch 28/100\n",
      "15/15 [==============================] - 0s 4ms/step - loss: 0.3768 - binary_accuracy: 0.9200 - val_loss: 0.3460 - val_binary_accuracy: 0.9467\n",
      "Epoch 29/100\n",
      "15/15 [==============================] - 0s 5ms/step - loss: 0.3702 - binary_accuracy: 0.9467 - val_loss: 0.3422 - val_binary_accuracy: 0.9733\n",
      "Epoch 30/100\n",
      "15/15 [==============================] - 0s 4ms/step - loss: 0.3646 - binary_accuracy: 0.9600 - val_loss: 0.3386 - val_binary_accuracy: 0.9600\n",
      "Epoch 31/100\n",
      "15/15 [==============================] - 0s 4ms/step - loss: 0.3594 - binary_accuracy: 0.9467 - val_loss: 0.3352 - val_binary_accuracy: 0.9600\n",
      "Epoch 32/100\n",
      "15/15 [==============================] - 0s 5ms/step - loss: 0.3565 - binary_accuracy: 0.9333 - val_loss: 0.3313 - val_binary_accuracy: 0.9333\n",
      "Epoch 33/100\n",
      "15/15 [==============================] - 0s 4ms/step - loss: 0.3538 - binary_accuracy: 0.9200 - val_loss: 0.3288 - val_binary_accuracy: 0.9333\n",
      "Epoch 34/100\n",
      "15/15 [==============================] - 0s 4ms/step - loss: 0.3565 - binary_accuracy: 0.9333 - val_loss: 0.3244 - val_binary_accuracy: 0.9600\n",
      "Epoch 35/100\n",
      "15/15 [==============================] - 0s 4ms/step - loss: 0.3445 - binary_accuracy: 0.9600 - val_loss: 0.3228 - val_binary_accuracy: 0.9333\n",
      "Epoch 36/100\n",
      "15/15 [==============================] - 0s 4ms/step - loss: 0.3439 - binary_accuracy: 0.9333 - val_loss: 0.3184 - val_binary_accuracy: 0.9733\n"
     ]
    },
    {
     "name": "stdout",
     "output_type": "stream",
     "text": [
      "Epoch 37/100\n",
      "15/15 [==============================] - 0s 4ms/step - loss: 0.3447 - binary_accuracy: 0.9600 - val_loss: 0.3173 - val_binary_accuracy: 0.9467\n",
      "Epoch 38/100\n",
      "15/15 [==============================] - 0s 4ms/step - loss: 0.3435 - binary_accuracy: 0.9467 - val_loss: 0.3130 - val_binary_accuracy: 0.9733\n",
      "Epoch 39/100\n",
      "15/15 [==============================] - 0s 5ms/step - loss: 0.3411 - binary_accuracy: 0.9200 - val_loss: 0.3103 - val_binary_accuracy: 0.9733\n",
      "Epoch 40/100\n",
      "15/15 [==============================] - 0s 4ms/step - loss: 0.3347 - binary_accuracy: 0.9600 - val_loss: 0.3096 - val_binary_accuracy: 0.9467\n",
      "Epoch 41/100\n",
      "15/15 [==============================] - 0s 4ms/step - loss: 0.3336 - binary_accuracy: 0.9333 - val_loss: 0.3055 - val_binary_accuracy: 0.9733\n",
      "Epoch 42/100\n",
      "15/15 [==============================] - 0s 5ms/step - loss: 0.3308 - binary_accuracy: 0.9600 - val_loss: 0.3047 - val_binary_accuracy: 0.9467\n",
      "Epoch 43/100\n",
      "15/15 [==============================] - 0s 4ms/step - loss: 0.3377 - binary_accuracy: 0.9333 - val_loss: 0.3010 - val_binary_accuracy: 0.9733\n",
      "Epoch 44/100\n",
      "15/15 [==============================] - 0s 4ms/step - loss: 0.3322 - binary_accuracy: 0.9333 - val_loss: 0.3003 - val_binary_accuracy: 0.9600\n",
      "Epoch 45/100\n",
      "15/15 [==============================] - 0s 5ms/step - loss: 0.3255 - binary_accuracy: 0.9467 - val_loss: 0.2968 - val_binary_accuracy: 0.9733\n",
      "Epoch 46/100\n",
      "15/15 [==============================] - 0s 4ms/step - loss: 0.3267 - binary_accuracy: 0.9467 - val_loss: 0.2999 - val_binary_accuracy: 0.9333\n",
      "Epoch 47/100\n",
      "15/15 [==============================] - 0s 4ms/step - loss: 0.3253 - binary_accuracy: 0.9467 - val_loss: 0.2932 - val_binary_accuracy: 0.9733\n",
      "Epoch 48/100\n",
      "15/15 [==============================] - 0s 4ms/step - loss: 0.3201 - binary_accuracy: 0.9467 - val_loss: 0.2912 - val_binary_accuracy: 0.9733\n",
      "Epoch 49/100\n",
      "15/15 [==============================] - 0s 4ms/step - loss: 0.3207 - binary_accuracy: 0.9467 - val_loss: 0.2890 - val_binary_accuracy: 0.9733\n",
      "Epoch 50/100\n",
      "15/15 [==============================] - 0s 5ms/step - loss: 0.3147 - binary_accuracy: 0.9600 - val_loss: 0.2890 - val_binary_accuracy: 0.9600\n",
      "Epoch 51/100\n",
      "15/15 [==============================] - 0s 4ms/step - loss: 0.3156 - binary_accuracy: 0.9467 - val_loss: 0.2860 - val_binary_accuracy: 0.9733\n",
      "Epoch 52/100\n",
      "15/15 [==============================] - 0s 4ms/step - loss: 0.3165 - binary_accuracy: 0.9733 - val_loss: 0.2857 - val_binary_accuracy: 0.9600\n",
      "Epoch 53/100\n",
      "15/15 [==============================] - 0s 4ms/step - loss: 0.3117 - binary_accuracy: 0.9600 - val_loss: 0.2852 - val_binary_accuracy: 0.9600\n",
      "Epoch 54/100\n",
      "15/15 [==============================] - 0s 4ms/step - loss: 0.3124 - binary_accuracy: 0.9600 - val_loss: 0.2805 - val_binary_accuracy: 0.9733\n",
      "Epoch 55/100\n",
      "15/15 [==============================] - 0s 4ms/step - loss: 0.3104 - binary_accuracy: 0.9467 - val_loss: 0.2788 - val_binary_accuracy: 0.9733\n",
      "Epoch 56/100\n",
      "15/15 [==============================] - 0s 5ms/step - loss: 0.3038 - binary_accuracy: 0.9467 - val_loss: 0.2792 - val_binary_accuracy: 0.9600\n",
      "Epoch 57/100\n",
      "15/15 [==============================] - 0s 4ms/step - loss: 0.3036 - binary_accuracy: 0.9600 - val_loss: 0.2757 - val_binary_accuracy: 0.9733\n",
      "Epoch 58/100\n",
      "15/15 [==============================] - 0s 4ms/step - loss: 0.3039 - binary_accuracy: 0.9333 - val_loss: 0.2770 - val_binary_accuracy: 0.9733\n",
      "Epoch 59/100\n",
      "15/15 [==============================] - 0s 5ms/step - loss: 0.3047 - binary_accuracy: 0.9600 - val_loss: 0.2780 - val_binary_accuracy: 0.9600\n",
      "Epoch 60/100\n",
      "15/15 [==============================] - 0s 5ms/step - loss: 0.3035 - binary_accuracy: 0.9467 - val_loss: 0.2718 - val_binary_accuracy: 0.9733\n",
      "Epoch 61/100\n",
      "15/15 [==============================] - 0s 5ms/step - loss: 0.2971 - binary_accuracy: 0.9467 - val_loss: 0.2720 - val_binary_accuracy: 0.9600\n",
      "Epoch 62/100\n",
      "15/15 [==============================] - 0s 5ms/step - loss: 0.3005 - binary_accuracy: 0.9467 - val_loss: 0.2693 - val_binary_accuracy: 0.9733\n",
      "Epoch 63/100\n",
      "15/15 [==============================] - 0s 5ms/step - loss: 0.2959 - binary_accuracy: 0.9600 - val_loss: 0.2675 - val_binary_accuracy: 0.9733\n",
      "Epoch 64/100\n",
      "15/15 [==============================] - 0s 4ms/step - loss: 0.2906 - binary_accuracy: 0.9600 - val_loss: 0.2752 - val_binary_accuracy: 0.9600\n",
      "Epoch 65/100\n",
      "15/15 [==============================] - 0s 5ms/step - loss: 0.2958 - binary_accuracy: 0.9600 - val_loss: 0.2655 - val_binary_accuracy: 0.9733\n",
      "Epoch 66/100\n",
      "15/15 [==============================] - 0s 4ms/step - loss: 0.2932 - binary_accuracy: 0.9600 - val_loss: 0.2638 - val_binary_accuracy: 0.9733\n",
      "Epoch 67/100\n",
      "15/15 [==============================] - 0s 5ms/step - loss: 0.2905 - binary_accuracy: 0.9600 - val_loss: 0.2624 - val_binary_accuracy: 0.9733\n",
      "Epoch 68/100\n",
      "15/15 [==============================] - 0s 5ms/step - loss: 0.2913 - binary_accuracy: 0.9600 - val_loss: 0.2612 - val_binary_accuracy: 0.9733\n",
      "Epoch 69/100\n",
      "15/15 [==============================] - 0s 5ms/step - loss: 0.2941 - binary_accuracy: 0.9600 - val_loss: 0.2609 - val_binary_accuracy: 0.9733\n",
      "Epoch 70/100\n",
      "15/15 [==============================] - 0s 4ms/step - loss: 0.2901 - binary_accuracy: 0.9600 - val_loss: 0.2594 - val_binary_accuracy: 0.9733\n",
      "Epoch 71/100\n",
      "15/15 [==============================] - 0s 4ms/step - loss: 0.2875 - binary_accuracy: 0.9467 - val_loss: 0.2580 - val_binary_accuracy: 0.9733\n",
      "Epoch 72/100\n",
      "15/15 [==============================] - 0s 5ms/step - loss: 0.2881 - binary_accuracy: 0.9467 - val_loss: 0.2569 - val_binary_accuracy: 0.9733\n",
      "Epoch 73/100\n",
      "15/15 [==============================] - 0s 5ms/step - loss: 0.2839 - binary_accuracy: 0.9467 - val_loss: 0.2558 - val_binary_accuracy: 0.9733\n",
      "Epoch 74/100\n",
      "15/15 [==============================] - 0s 4ms/step - loss: 0.2851 - binary_accuracy: 0.9600 - val_loss: 0.2545 - val_binary_accuracy: 0.9733\n",
      "Epoch 75/100\n",
      "15/15 [==============================] - ETA: 0s - loss: 0.2408 - binary_accuracy: 1.000 - 0s 4ms/step - loss: 0.2813 - binary_accuracy: 0.9600 - val_loss: 0.2569 - val_binary_accuracy: 0.9733\n",
      "Epoch 76/100\n",
      "15/15 [==============================] - 0s 5ms/step - loss: 0.2856 - binary_accuracy: 0.9600 - val_loss: 0.2536 - val_binary_accuracy: 0.9600\n",
      "Epoch 77/100\n",
      "15/15 [==============================] - 0s 5ms/step - loss: 0.2805 - binary_accuracy: 0.9600 - val_loss: 0.2516 - val_binary_accuracy: 0.9733\n",
      "Epoch 78/100\n",
      "15/15 [==============================] - 0s 5ms/step - loss: 0.2767 - binary_accuracy: 0.9600 - val_loss: 0.2505 - val_binary_accuracy: 0.9733\n",
      "Epoch 79/100\n",
      "15/15 [==============================] - 0s 4ms/step - loss: 0.2824 - binary_accuracy: 0.9600 - val_loss: 0.2497 - val_binary_accuracy: 0.9867\n",
      "Epoch 80/100\n",
      "15/15 [==============================] - 0s 4ms/step - loss: 0.2803 - binary_accuracy: 0.9467 - val_loss: 0.2483 - val_binary_accuracy: 0.9733\n",
      "Epoch 81/100\n",
      "15/15 [==============================] - 0s 5ms/step - loss: 0.2781 - binary_accuracy: 0.9467 - val_loss: 0.2499 - val_binary_accuracy: 0.9733\n",
      "Epoch 82/100\n",
      "15/15 [==============================] - 0s 5ms/step - loss: 0.2746 - binary_accuracy: 0.9600 - val_loss: 0.2477 - val_binary_accuracy: 0.9733\n",
      "Epoch 83/100\n",
      "15/15 [==============================] - 0s 5ms/step - loss: 0.2763 - binary_accuracy: 0.9600 - val_loss: 0.2455 - val_binary_accuracy: 0.9733\n",
      "Epoch 84/100\n",
      "15/15 [==============================] - 0s 5ms/step - loss: 0.2756 - binary_accuracy: 0.9733 - val_loss: 0.2445 - val_binary_accuracy: 0.9733\n",
      "Epoch 85/100\n",
      "15/15 [==============================] - 0s 5ms/step - loss: 0.2730 - binary_accuracy: 0.9200 - val_loss: 0.2456 - val_binary_accuracy: 0.9600\n",
      "Epoch 86/100\n",
      "15/15 [==============================] - 0s 4ms/step - loss: 0.2718 - binary_accuracy: 0.9600 - val_loss: 0.2427 - val_binary_accuracy: 0.9733\n",
      "Epoch 87/100\n",
      "15/15 [==============================] - 0s 4ms/step - loss: 0.2717 - binary_accuracy: 0.9467 - val_loss: 0.2423 - val_binary_accuracy: 0.9733\n",
      "Epoch 88/100\n",
      "15/15 [==============================] - 0s 5ms/step - loss: 0.2689 - binary_accuracy: 0.9600 - val_loss: 0.2420 - val_binary_accuracy: 0.9733\n",
      "Epoch 89/100\n"
     ]
    },
    {
     "name": "stdout",
     "output_type": "stream",
     "text": [
      "15/15 [==============================] - 0s 4ms/step - loss: 0.2679 - binary_accuracy: 0.9467 - val_loss: 0.2440 - val_binary_accuracy: 0.9733\n",
      "Epoch 90/100\n",
      "15/15 [==============================] - 0s 4ms/step - loss: 0.2670 - binary_accuracy: 0.9600 - val_loss: 0.2414 - val_binary_accuracy: 0.9600\n",
      "Epoch 91/100\n",
      "15/15 [==============================] - 0s 4ms/step - loss: 0.2682 - binary_accuracy: 0.9600 - val_loss: 0.2384 - val_binary_accuracy: 0.9733\n",
      "Epoch 92/100\n",
      "15/15 [==============================] - 0s 5ms/step - loss: 0.2657 - binary_accuracy: 0.9733 - val_loss: 0.2392 - val_binary_accuracy: 0.9600\n",
      "Epoch 93/100\n",
      "15/15 [==============================] - 0s 5ms/step - loss: 0.2649 - binary_accuracy: 0.9467 - val_loss: 0.2391 - val_binary_accuracy: 0.9733\n",
      "Epoch 94/100\n",
      "15/15 [==============================] - 0s 4ms/step - loss: 0.2674 - binary_accuracy: 0.9333 - val_loss: 0.2372 - val_binary_accuracy: 0.9733\n",
      "Epoch 95/100\n",
      "15/15 [==============================] - 0s 4ms/step - loss: 0.2655 - binary_accuracy: 0.9600 - val_loss: 0.2352 - val_binary_accuracy: 0.9733\n",
      "Epoch 96/100\n",
      "15/15 [==============================] - 0s 4ms/step - loss: 0.2629 - binary_accuracy: 0.9600 - val_loss: 0.2366 - val_binary_accuracy: 0.9600\n",
      "Epoch 97/100\n",
      "15/15 [==============================] - 0s 5ms/step - loss: 0.2630 - binary_accuracy: 0.9467 - val_loss: 0.2365 - val_binary_accuracy: 0.9733\n",
      "Epoch 98/100\n",
      "15/15 [==============================] - 0s 4ms/step - loss: 0.2625 - binary_accuracy: 0.9600 - val_loss: 0.2333 - val_binary_accuracy: 0.9733\n",
      "Epoch 99/100\n",
      "15/15 [==============================] - 0s 4ms/step - loss: 0.2625 - binary_accuracy: 0.9600 - val_loss: 0.2369 - val_binary_accuracy: 0.9733\n",
      "Epoch 100/100\n",
      "15/15 [==============================] - 0s 4ms/step - loss: 0.2641 - binary_accuracy: 0.9600 - val_loss: 0.2350 - val_binary_accuracy: 0.9733\n"
     ]
    }
   ],
   "source": [
    "import numpy as np\n",
    "import pandas as pd\n",
    "import matplotlib.pyplot as plt\n",
    "from tensorflow import keras\n",
    "from keras.layers import Dense\n",
    "from keras.models import Sequential\n",
    "from sklearn.datasets import load_iris\n",
    "from sklearn.model_selection import train_test_split\n",
    "\n",
    "# Préparation des données :\n",
    "\n",
    "iris = load_iris()\n",
    "X = iris['data']\n",
    "Y = (iris[\"target\"] == 2).astype(np.int) # On créé une liste qui contient 1 lorsque la fleur est de type 2 et 0 sinon pour faire une classification\n",
    "X_train, X_test, Y_train, Y_test = train_test_split(X, Y, test_size=0.5, random_state=2)\n",
    "n_features = 4\n",
    "model = keras.Sequential()\n",
    "model.add(keras.layers.Dense(1, input_shape=(n_features,), activation='sigmoid'))\n",
    "model.compile(optimizer='sgd', loss='binary_crossentropy', metrics=['binary_accuracy'])\n",
    "\n",
    "\n",
    "history_logistic_regression_20 = model.fit(X_train, Y_train,\n",
    "                                 batch_size=5,\n",
    "                                 epochs=20,\n",
    "                                 verbose=1,\n",
    "                                 validation_data=(X_test, Y_test)\n",
    "                        )\n",
    "\n",
    "model = keras.Sequential()\n",
    "model.add(keras.layers.Dense(1, input_shape=(n_features,), activation='sigmoid'))\n",
    "model.compile(optimizer='sgd', loss='binary_crossentropy', metrics=['binary_accuracy'])\n",
    "\n",
    "history_logistic_regression_50 = model.fit(X_train, Y_train,\n",
    "                                 batch_size=5,\n",
    "                                 epochs=50,\n",
    "                                 verbose=1,\n",
    "                                 validation_data=(X_test, Y_test)\n",
    "                        )\n",
    "\n",
    "model = keras.Sequential()\n",
    "model.add(keras.layers.Dense(1, input_shape=(n_features,), activation='sigmoid'))\n",
    "model.compile(optimizer='sgd', loss='binary_crossentropy', metrics=['binary_accuracy'])\n",
    "\n",
    "history_logistic_regression_100 = model.fit(X_train, Y_train,\n",
    "                                 batch_size=5,\n",
    "                                 epochs=100,\n",
    "                                 verbose=1,\n",
    "                                 validation_data=(X_test, Y_test)\n",
    "                        )"
   ]
  },
  {
   "cell_type": "code",
   "execution_count": 18,
   "metadata": {},
   "outputs": [
    {
     "data": {
      "image/png": "[encoded data removed]",
      "text/plain": [
       "<Figure size 504x720 with 2 Axes>"
      ]
     },
     "metadata": {},
     "output_type": "display_data"
    }
   ],
   "source": [
    "fig = plt.figure(figsize=(7, 10))\n",
    "\n",
    "fig.patch.set_facecolor((1,1,1))\n",
    "\n",
    "plt.subplot(211)\n",
    "\n",
    "plt.plot(history_logistic_regression_20.history['binary_accuracy'], \"g-\")\n",
    "plt.plot(history_logistic_regression_50.history['binary_accuracy'], \"r-\")\n",
    "plt.plot(history_logistic_regression_100.history['binary_accuracy'], \"b-\")\n",
    "plt.title('model accuracy')\n",
    "plt.ylabel('accuracy')\n",
    "plt.xlabel('epoch')\n",
    "\n",
    "plt.subplot(212)\n",
    "\n",
    "plt.plot(history_logistic_regression_20.history['loss'], \"g-\")\n",
    "plt.plot(history_logistic_regression_50.history['loss'], \"r-\")\n",
    "plt.plot(history_logistic_regression_100.history['loss'], \"b-\")\n",
    "plt.title('model loss')\n",
    "plt.ylabel('loss')\n",
    "plt.xlabel('epoch')\n",
    "plt.show()"
   ]
  },
  {
   "cell_type": "markdown",
   "metadata": {
    "id": "6-RrmRB6msPu"
   },
   "source": [
    "`keras` (et `tensorflow`) sont destinés à faire des modèles profonds et à traiter des très gros ensembles de données. Il est alors très facile de prendre le code précédent et d'ajouter de couches et des neurones. Ci-dessous, je mets d'abord une couche dense de 10 neurones suivi de la couche d'un neurone permettant de définir la classe de l'entrée.\n"
   ]
  },
  {
   "cell_type": "code",
   "execution_count": 19,
   "metadata": {
    "colab": {
     "base_uri": "https://localhost:8080/"
    },
    "id": "OUpoj9lfnZEk",
    "outputId": "7a696bc0-e063-4112-a09c-95598dc2bfa4"
   },
   "outputs": [
    {
     "name": "stdout",
     "output_type": "stream",
     "text": [
      "Epoch 1/20\n",
      "15/15 [==============================] - 1s 18ms/step - loss: 0.8884 - binary_accuracy: 0.3333 - val_loss: 0.8176 - val_binary_accuracy: 0.3333\n",
      "Epoch 2/20\n",
      "15/15 [==============================] - 0s 5ms/step - loss: 0.7780 - binary_accuracy: 0.3333 - val_loss: 0.7311 - val_binary_accuracy: 0.3333\n",
      "Epoch 3/20\n",
      "15/15 [==============================] - 0s 5ms/step - loss: 0.7093 - binary_accuracy: 0.4800 - val_loss: 0.6785 - val_binary_accuracy: 0.6933\n",
      "Epoch 4/20\n",
      "15/15 [==============================] - 0s 4ms/step - loss: 0.6662 - binary_accuracy: 0.6800 - val_loss: 0.6433 - val_binary_accuracy: 0.7467\n",
      "Epoch 5/20\n",
      "15/15 [==============================] - 0s 4ms/step - loss: 0.6374 - binary_accuracy: 0.6933 - val_loss: 0.6208 - val_binary_accuracy: 0.6667\n",
      "Epoch 6/20\n",
      "15/15 [==============================] - 0s 4ms/step - loss: 0.6188 - binary_accuracy: 0.6667 - val_loss: 0.6052 - val_binary_accuracy: 0.6667\n",
      "Epoch 7/20\n",
      "15/15 [==============================] - 0s 5ms/step - loss: 0.6063 - binary_accuracy: 0.6667 - val_loss: 0.5942 - val_binary_accuracy: 0.6667\n",
      "Epoch 8/20\n",
      "15/15 [==============================] - 0s 5ms/step - loss: 0.5964 - binary_accuracy: 0.6667 - val_loss: 0.5855 - val_binary_accuracy: 0.6667\n",
      "Epoch 9/20\n",
      "15/15 [==============================] - 0s 5ms/step - loss: 0.5894 - binary_accuracy: 0.6667 - val_loss: 0.5789 - val_binary_accuracy: 0.6667\n",
      "Epoch 10/20\n",
      "15/15 [==============================] - 0s 4ms/step - loss: 0.5840 - binary_accuracy: 0.6667 - val_loss: 0.5733 - val_binary_accuracy: 0.6667\n",
      "Epoch 11/20\n",
      "15/15 [==============================] - 0s 4ms/step - loss: 0.5798 - binary_accuracy: 0.6667 - val_loss: 0.5684 - val_binary_accuracy: 0.6667\n",
      "Epoch 12/20\n",
      "15/15 [==============================] - 0s 5ms/step - loss: 0.5745 - binary_accuracy: 0.6667 - val_loss: 0.5639 - val_binary_accuracy: 0.6667\n",
      "Epoch 13/20\n",
      "15/15 [==============================] - 0s 5ms/step - loss: 0.5707 - binary_accuracy: 0.6667 - val_loss: 0.5600 - val_binary_accuracy: 0.6667\n",
      "Epoch 14/20\n",
      "15/15 [==============================] - 0s 4ms/step - loss: 0.5674 - binary_accuracy: 0.6667 - val_loss: 0.5563 - val_binary_accuracy: 0.6667\n",
      "Epoch 15/20\n",
      "15/15 [==============================] - 0s 5ms/step - loss: 0.5640 - binary_accuracy: 0.6667 - val_loss: 0.5529 - val_binary_accuracy: 0.6667\n",
      "Epoch 16/20\n",
      "15/15 [==============================] - 0s 4ms/step - loss: 0.5618 - binary_accuracy: 0.6667 - val_loss: 0.5496 - val_binary_accuracy: 0.6667\n",
      "Epoch 17/20\n",
      "15/15 [==============================] - 0s 4ms/step - loss: 0.5583 - binary_accuracy: 0.6667 - val_loss: 0.5464 - val_binary_accuracy: 0.6667\n",
      "Epoch 18/20\n",
      "15/15 [==============================] - 0s 4ms/step - loss: 0.5552 - binary_accuracy: 0.6667 - val_loss: 0.5434 - val_binary_accuracy: 0.6667\n",
      "Epoch 19/20\n",
      "15/15 [==============================] - 0s 4ms/step - loss: 0.5521 - binary_accuracy: 0.6667 - val_loss: 0.5404 - val_binary_accuracy: 0.6667\n",
      "Epoch 20/20\n",
      "15/15 [==============================] - 0s 4ms/step - loss: 0.5504 - binary_accuracy: 0.6667 - val_loss: 0.5375 - val_binary_accuracy: 0.6667\n",
      "Epoch 1/50\n",
      "15/15 [==============================] - 1s 17ms/step - loss: 0.6522 - binary_accuracy: 0.6667 - val_loss: 0.6455 - val_binary_accuracy: 0.6667\n",
      "Epoch 2/50\n",
      "15/15 [==============================] - 0s 5ms/step - loss: 0.6445 - binary_accuracy: 0.6667 - val_loss: 0.6382 - val_binary_accuracy: 0.6667\n",
      "Epoch 3/50\n",
      "15/15 [==============================] - 0s 5ms/step - loss: 0.6374 - binary_accuracy: 0.6667 - val_loss: 0.6322 - val_binary_accuracy: 0.6667\n",
      "Epoch 4/50\n",
      "15/15 [==============================] - 0s 4ms/step - loss: 0.6326 - binary_accuracy: 0.6667 - val_loss: 0.6269 - val_binary_accuracy: 0.6667\n",
      "Epoch 5/50\n",
      "15/15 [==============================] - 0s 4ms/step - loss: 0.6273 - binary_accuracy: 0.6667 - val_loss: 0.6224 - val_binary_accuracy: 0.6667\n",
      "Epoch 6/50\n",
      "15/15 [==============================] - 0s 4ms/step - loss: 0.6228 - binary_accuracy: 0.6667 - val_loss: 0.6183 - val_binary_accuracy: 0.6667\n",
      "Epoch 7/50\n",
      "15/15 [==============================] - 0s 5ms/step - loss: 0.6198 - binary_accuracy: 0.6667 - val_loss: 0.6146 - val_binary_accuracy: 0.6667\n",
      "Epoch 8/50\n",
      "15/15 [==============================] - 0s 5ms/step - loss: 0.6156 - binary_accuracy: 0.6667 - val_loss: 0.6112 - val_binary_accuracy: 0.6667\n",
      "Epoch 9/50\n",
      "15/15 [==============================] - 0s 5ms/step - loss: 0.6143 - binary_accuracy: 0.6667 - val_loss: 0.6080 - val_binary_accuracy: 0.6667\n",
      "Epoch 10/50\n",
      "15/15 [==============================] - 0s 5ms/step - loss: 0.6104 - binary_accuracy: 0.6667 - val_loss: 0.6049 - val_binary_accuracy: 0.6667\n",
      "Epoch 11/50\n",
      "15/15 [==============================] - 0s 4ms/step - loss: 0.6075 - binary_accuracy: 0.6667 - val_loss: 0.6019 - val_binary_accuracy: 0.6667\n",
      "Epoch 12/50\n",
      "15/15 [==============================] - 0s 5ms/step - loss: 0.6061 - binary_accuracy: 0.6667 - val_loss: 0.5989 - val_binary_accuracy: 0.6667\n",
      "Epoch 13/50\n",
      "15/15 [==============================] - 0s 5ms/step - loss: 0.6024 - binary_accuracy: 0.6667 - val_loss: 0.5960 - val_binary_accuracy: 0.6667\n",
      "Epoch 14/50\n",
      "15/15 [==============================] - 0s 5ms/step - loss: 0.5999 - binary_accuracy: 0.6667 - val_loss: 0.5933 - val_binary_accuracy: 0.6667\n",
      "Epoch 15/50\n",
      "15/15 [==============================] - 0s 5ms/step - loss: 0.5974 - binary_accuracy: 0.6667 - val_loss: 0.5906 - val_binary_accuracy: 0.6667\n",
      "Epoch 16/50\n",
      "15/15 [==============================] - 0s 4ms/step - loss: 0.5951 - binary_accuracy: 0.6667 - val_loss: 0.5879 - val_binary_accuracy: 0.6667\n",
      "Epoch 17/50\n",
      "15/15 [==============================] - 0s 4ms/step - loss: 0.5937 - binary_accuracy: 0.6667 - val_loss: 0.5853 - val_binary_accuracy: 0.6667\n",
      "Epoch 18/50\n",
      "15/15 [==============================] - 0s 5ms/step - loss: 0.5908 - binary_accuracy: 0.6667 - val_loss: 0.5827 - val_binary_accuracy: 0.6667\n",
      "Epoch 19/50\n",
      "15/15 [==============================] - 0s 4ms/step - loss: 0.5881 - binary_accuracy: 0.6667 - val_loss: 0.5802 - val_binary_accuracy: 0.6667\n",
      "Epoch 20/50\n",
      "15/15 [==============================] - 0s 4ms/step - loss: 0.5853 - binary_accuracy: 0.6667 - val_loss: 0.5776 - val_binary_accuracy: 0.6667\n",
      "Epoch 21/50\n",
      "15/15 [==============================] - 0s 4ms/step - loss: 0.5838 - binary_accuracy: 0.6667 - val_loss: 0.5751 - val_binary_accuracy: 0.6667\n",
      "Epoch 22/50\n",
      "15/15 [==============================] - 0s 4ms/step - loss: 0.5808 - binary_accuracy: 0.6667 - val_loss: 0.5726 - val_binary_accuracy: 0.6667\n",
      "Epoch 23/50\n",
      "15/15 [==============================] - 0s 5ms/step - loss: 0.5786 - binary_accuracy: 0.6667 - val_loss: 0.5701 - val_binary_accuracy: 0.6667\n",
      "Epoch 24/50\n",
      "15/15 [==============================] - 0s 6ms/step - loss: 0.5772 - binary_accuracy: 0.6667 - val_loss: 0.5676 - val_binary_accuracy: 0.6667\n",
      "Epoch 25/50\n",
      "15/15 [==============================] - 0s 4ms/step - loss: 0.5749 - binary_accuracy: 0.6667 - val_loss: 0.5652 - val_binary_accuracy: 0.6667\n",
      "Epoch 26/50\n",
      "15/15 [==============================] - 0s 4ms/step - loss: 0.5722 - binary_accuracy: 0.6667 - val_loss: 0.5627 - val_binary_accuracy: 0.6667\n",
      "Epoch 27/50\n",
      "15/15 [==============================] - 0s 5ms/step - loss: 0.5696 - binary_accuracy: 0.6667 - val_loss: 0.5602 - val_binary_accuracy: 0.6667\n",
      "Epoch 28/50\n",
      "15/15 [==============================] - 0s 4ms/step - loss: 0.5678 - binary_accuracy: 0.6667 - val_loss: 0.5578 - val_binary_accuracy: 0.6667\n",
      "Epoch 29/50\n",
      "15/15 [==============================] - 0s 5ms/step - loss: 0.5662 - binary_accuracy: 0.6667 - val_loss: 0.5553 - val_binary_accuracy: 0.6667\n",
      "Epoch 30/50\n",
      "15/15 [==============================] - 0s 4ms/step - loss: 0.5637 - binary_accuracy: 0.6667 - val_loss: 0.5528 - val_binary_accuracy: 0.6667\n",
      "Epoch 31/50\n",
      "15/15 [==============================] - 0s 4ms/step - loss: 0.5616 - binary_accuracy: 0.6667 - val_loss: 0.5503 - val_binary_accuracy: 0.6667\n",
      "Epoch 32/50\n",
      "15/15 [==============================] - 0s 5ms/step - loss: 0.5587 - binary_accuracy: 0.6667 - val_loss: 0.5478 - val_binary_accuracy: 0.6667\n",
      "Epoch 33/50\n",
      "15/15 [==============================] - 0s 4ms/step - loss: 0.5567 - binary_accuracy: 0.6667 - val_loss: 0.5453 - val_binary_accuracy: 0.6667\n"
     ]
    },
    {
     "name": "stdout",
     "output_type": "stream",
     "text": [
      "Epoch 34/50\n",
      "15/15 [==============================] - ETA: 0s - loss: 0.4489 - binary_accuracy: 0.800 - 0s 4ms/step - loss: 0.5548 - binary_accuracy: 0.6667 - val_loss: 0.5429 - val_binary_accuracy: 0.6667\n",
      "Epoch 35/50\n",
      "15/15 [==============================] - 0s 4ms/step - loss: 0.5521 - binary_accuracy: 0.6667 - val_loss: 0.5404 - val_binary_accuracy: 0.6667\n",
      "Epoch 36/50\n",
      "15/15 [==============================] - 0s 4ms/step - loss: 0.5508 - binary_accuracy: 0.6667 - val_loss: 0.5378 - val_binary_accuracy: 0.6667\n",
      "Epoch 37/50\n",
      "15/15 [==============================] - 0s 5ms/step - loss: 0.5475 - binary_accuracy: 0.6667 - val_loss: 0.5353 - val_binary_accuracy: 0.6667\n",
      "Epoch 38/50\n",
      "15/15 [==============================] - 0s 5ms/step - loss: 0.5463 - binary_accuracy: 0.6667 - val_loss: 0.5328 - val_binary_accuracy: 0.6667\n",
      "Epoch 39/50\n",
      "15/15 [==============================] - 0s 4ms/step - loss: 0.5426 - binary_accuracy: 0.6667 - val_loss: 0.5302 - val_binary_accuracy: 0.6667\n",
      "Epoch 40/50\n",
      "15/15 [==============================] - 0s 5ms/step - loss: 0.5412 - binary_accuracy: 0.6667 - val_loss: 0.5273 - val_binary_accuracy: 0.6667\n",
      "Epoch 41/50\n",
      "15/15 [==============================] - 0s 4ms/step - loss: 0.5377 - binary_accuracy: 0.6667 - val_loss: 0.5245 - val_binary_accuracy: 0.6667\n",
      "Epoch 42/50\n",
      "15/15 [==============================] - 0s 5ms/step - loss: 0.5359 - binary_accuracy: 0.6667 - val_loss: 0.5215 - val_binary_accuracy: 0.6667\n",
      "Epoch 43/50\n",
      "15/15 [==============================] - 0s 5ms/step - loss: 0.5333 - binary_accuracy: 0.6667 - val_loss: 0.5186 - val_binary_accuracy: 0.6667\n",
      "Epoch 44/50\n",
      "15/15 [==============================] - 0s 4ms/step - loss: 0.5302 - binary_accuracy: 0.6667 - val_loss: 0.5155 - val_binary_accuracy: 0.6667\n",
      "Epoch 45/50\n",
      "15/15 [==============================] - 0s 4ms/step - loss: 0.5280 - binary_accuracy: 0.6667 - val_loss: 0.5124 - val_binary_accuracy: 0.6667\n",
      "Epoch 46/50\n",
      "15/15 [==============================] - 0s 4ms/step - loss: 0.5245 - binary_accuracy: 0.6667 - val_loss: 0.5093 - val_binary_accuracy: 0.6667\n",
      "Epoch 47/50\n",
      "15/15 [==============================] - 0s 4ms/step - loss: 0.5217 - binary_accuracy: 0.6667 - val_loss: 0.5060 - val_binary_accuracy: 0.6667\n",
      "Epoch 48/50\n",
      "15/15 [==============================] - 0s 4ms/step - loss: 0.5192 - binary_accuracy: 0.6667 - val_loss: 0.5025 - val_binary_accuracy: 0.6667\n",
      "Epoch 49/50\n",
      "15/15 [==============================] - 0s 4ms/step - loss: 0.5169 - binary_accuracy: 0.6667 - val_loss: 0.4988 - val_binary_accuracy: 0.6667\n",
      "Epoch 50/50\n",
      "15/15 [==============================] - 0s 4ms/step - loss: 0.5127 - binary_accuracy: 0.6933 - val_loss: 0.4954 - val_binary_accuracy: 0.6667\n",
      "Epoch 1/100\n",
      "15/15 [==============================] - 1s 17ms/step - loss: 0.5943 - binary_accuracy: 0.6667 - val_loss: 0.5838 - val_binary_accuracy: 0.6667\n",
      "Epoch 2/100\n",
      "15/15 [==============================] - 0s 4ms/step - loss: 0.5901 - binary_accuracy: 0.6667 - val_loss: 0.5778 - val_binary_accuracy: 0.6667\n",
      "Epoch 3/100\n",
      "15/15 [==============================] - 0s 4ms/step - loss: 0.5828 - binary_accuracy: 0.6667 - val_loss: 0.5721 - val_binary_accuracy: 0.6667\n",
      "Epoch 4/100\n",
      "15/15 [==============================] - 0s 5ms/step - loss: 0.5774 - binary_accuracy: 0.6667 - val_loss: 0.5664 - val_binary_accuracy: 0.6667\n",
      "Epoch 5/100\n",
      "15/15 [==============================] - 0s 5ms/step - loss: 0.5722 - binary_accuracy: 0.6667 - val_loss: 0.5609 - val_binary_accuracy: 0.6667\n",
      "Epoch 6/100\n",
      "15/15 [==============================] - 0s 4ms/step - loss: 0.5685 - binary_accuracy: 0.6667 - val_loss: 0.5553 - val_binary_accuracy: 0.6667\n",
      "Epoch 7/100\n",
      "15/15 [==============================] - 0s 4ms/step - loss: 0.5623 - binary_accuracy: 0.6667 - val_loss: 0.5498 - val_binary_accuracy: 0.6667\n",
      "Epoch 8/100\n",
      "15/15 [==============================] - 0s 5ms/step - loss: 0.5575 - binary_accuracy: 0.6667 - val_loss: 0.5442 - val_binary_accuracy: 0.6667\n",
      "Epoch 9/100\n",
      "15/15 [==============================] - 0s 4ms/step - loss: 0.5521 - binary_accuracy: 0.6667 - val_loss: 0.5386 - val_binary_accuracy: 0.6667\n",
      "Epoch 10/100\n",
      "15/15 [==============================] - 0s 4ms/step - loss: 0.5472 - binary_accuracy: 0.6667 - val_loss: 0.5329 - val_binary_accuracy: 0.6667\n",
      "Epoch 11/100\n",
      "15/15 [==============================] - 0s 4ms/step - loss: 0.5415 - binary_accuracy: 0.6667 - val_loss: 0.5272 - val_binary_accuracy: 0.6667\n",
      "Epoch 12/100\n",
      "15/15 [==============================] - 0s 5ms/step - loss: 0.5363 - binary_accuracy: 0.6667 - val_loss: 0.5216 - val_binary_accuracy: 0.6667\n",
      "Epoch 13/100\n",
      "15/15 [==============================] - 0s 5ms/step - loss: 0.5318 - binary_accuracy: 0.6667 - val_loss: 0.5159 - val_binary_accuracy: 0.6667\n",
      "Epoch 14/100\n",
      "15/15 [==============================] - 0s 4ms/step - loss: 0.5270 - binary_accuracy: 0.6667 - val_loss: 0.5102 - val_binary_accuracy: 0.6667\n",
      "Epoch 15/100\n",
      "15/15 [==============================] - 0s 4ms/step - loss: 0.5219 - binary_accuracy: 0.6667 - val_loss: 0.5045 - val_binary_accuracy: 0.6667\n",
      "Epoch 16/100\n",
      "15/15 [==============================] - 0s 4ms/step - loss: 0.5166 - binary_accuracy: 0.6667 - val_loss: 0.4991 - val_binary_accuracy: 0.6667\n",
      "Epoch 17/100\n",
      "15/15 [==============================] - 0s 5ms/step - loss: 0.5108 - binary_accuracy: 0.6667 - val_loss: 0.4939 - val_binary_accuracy: 0.6667\n",
      "Epoch 18/100\n",
      "15/15 [==============================] - 0s 5ms/step - loss: 0.5072 - binary_accuracy: 0.6667 - val_loss: 0.4887 - val_binary_accuracy: 0.6667\n",
      "Epoch 19/100\n",
      "15/15 [==============================] - 0s 4ms/step - loss: 0.5031 - binary_accuracy: 0.6800 - val_loss: 0.4836 - val_binary_accuracy: 0.6667\n",
      "Epoch 20/100\n",
      "15/15 [==============================] - 0s 4ms/step - loss: 0.4980 - binary_accuracy: 0.6800 - val_loss: 0.4789 - val_binary_accuracy: 0.6667\n",
      "Epoch 21/100\n",
      "15/15 [==============================] - 0s 4ms/step - loss: 0.4930 - binary_accuracy: 0.6800 - val_loss: 0.4745 - val_binary_accuracy: 0.6800\n",
      "Epoch 22/100\n",
      "15/15 [==============================] - 0s 5ms/step - loss: 0.4898 - binary_accuracy: 0.6800 - val_loss: 0.4703 - val_binary_accuracy: 0.6800\n",
      "Epoch 23/100\n",
      "15/15 [==============================] - 0s 4ms/step - loss: 0.4863 - binary_accuracy: 0.7067 - val_loss: 0.4665 - val_binary_accuracy: 0.6800\n",
      "Epoch 24/100\n",
      "15/15 [==============================] - 0s 4ms/step - loss: 0.4824 - binary_accuracy: 0.6800 - val_loss: 0.4627 - val_binary_accuracy: 0.6800\n",
      "Epoch 25/100\n",
      "15/15 [==============================] - 0s 4ms/step - loss: 0.4783 - binary_accuracy: 0.7067 - val_loss: 0.4592 - val_binary_accuracy: 0.6800\n",
      "Epoch 26/100\n",
      "15/15 [==============================] - 0s 4ms/step - loss: 0.4756 - binary_accuracy: 0.7067 - val_loss: 0.4557 - val_binary_accuracy: 0.6933\n",
      "Epoch 27/100\n",
      "15/15 [==============================] - 0s 4ms/step - loss: 0.4731 - binary_accuracy: 0.7200 - val_loss: 0.4527 - val_binary_accuracy: 0.6933\n",
      "Epoch 28/100\n",
      "15/15 [==============================] - 0s 4ms/step - loss: 0.4709 - binary_accuracy: 0.7067 - val_loss: 0.4495 - val_binary_accuracy: 0.7333\n",
      "Epoch 29/100\n",
      "15/15 [==============================] - 0s 4ms/step - loss: 0.4674 - binary_accuracy: 0.7067 - val_loss: 0.4466 - val_binary_accuracy: 0.7333\n",
      "Epoch 30/100\n",
      "15/15 [==============================] - 0s 4ms/step - loss: 0.4653 - binary_accuracy: 0.7600 - val_loss: 0.4441 - val_binary_accuracy: 0.7333\n",
      "Epoch 31/100\n",
      "15/15 [==============================] - 0s 4ms/step - loss: 0.4616 - binary_accuracy: 0.7333 - val_loss: 0.4415 - val_binary_accuracy: 0.7333\n",
      "Epoch 32/100\n",
      "15/15 [==============================] - 0s 4ms/step - loss: 0.4597 - binary_accuracy: 0.7333 - val_loss: 0.4389 - val_binary_accuracy: 0.7467\n",
      "Epoch 33/100\n",
      "15/15 [==============================] - 0s 5ms/step - loss: 0.4588 - binary_accuracy: 0.7333 - val_loss: 0.4364 - val_binary_accuracy: 0.7600\n",
      "Epoch 34/100\n",
      "15/15 [==============================] - 0s 4ms/step - loss: 0.4567 - binary_accuracy: 0.7600 - val_loss: 0.4341 - val_binary_accuracy: 0.7600\n",
      "Epoch 35/100\n",
      "15/15 [==============================] - 0s 5ms/step - loss: 0.4539 - binary_accuracy: 0.7333 - val_loss: 0.4318 - val_binary_accuracy: 0.7733\n",
      "Epoch 36/100\n"
     ]
    },
    {
     "name": "stdout",
     "output_type": "stream",
     "text": [
      "15/15 [==============================] - 0s 4ms/step - loss: 0.4513 - binary_accuracy: 0.7600 - val_loss: 0.4298 - val_binary_accuracy: 0.7600\n",
      "Epoch 37/100\n",
      "15/15 [==============================] - 0s 5ms/step - loss: 0.4491 - binary_accuracy: 0.7600 - val_loss: 0.4276 - val_binary_accuracy: 0.7733\n",
      "Epoch 38/100\n",
      "15/15 [==============================] - 0s 4ms/step - loss: 0.4477 - binary_accuracy: 0.7733 - val_loss: 0.4256 - val_binary_accuracy: 0.7733\n",
      "Epoch 39/100\n",
      "15/15 [==============================] - 0s 4ms/step - loss: 0.4451 - binary_accuracy: 0.7333 - val_loss: 0.4233 - val_binary_accuracy: 0.8000\n",
      "Epoch 40/100\n",
      "15/15 [==============================] - 0s 4ms/step - loss: 0.4439 - binary_accuracy: 0.7733 - val_loss: 0.4212 - val_binary_accuracy: 0.8000\n",
      "Epoch 41/100\n",
      "15/15 [==============================] - 0s 5ms/step - loss: 0.4417 - binary_accuracy: 0.7600 - val_loss: 0.4190 - val_binary_accuracy: 0.8000\n",
      "Epoch 42/100\n",
      "15/15 [==============================] - 0s 5ms/step - loss: 0.4389 - binary_accuracy: 0.8000 - val_loss: 0.4172 - val_binary_accuracy: 0.8000\n",
      "Epoch 43/100\n",
      "15/15 [==============================] - 0s 5ms/step - loss: 0.4380 - binary_accuracy: 0.7467 - val_loss: 0.4150 - val_binary_accuracy: 0.8267\n",
      "Epoch 44/100\n",
      "15/15 [==============================] - 0s 5ms/step - loss: 0.4361 - binary_accuracy: 0.7733 - val_loss: 0.4128 - val_binary_accuracy: 0.8267\n",
      "Epoch 45/100\n",
      "15/15 [==============================] - 0s 4ms/step - loss: 0.4345 - binary_accuracy: 0.8133 - val_loss: 0.4109 - val_binary_accuracy: 0.8400\n",
      "Epoch 46/100\n",
      "15/15 [==============================] - 0s 4ms/step - loss: 0.4330 - binary_accuracy: 0.8267 - val_loss: 0.4091 - val_binary_accuracy: 0.8267\n",
      "Epoch 47/100\n",
      "15/15 [==============================] - 0s 4ms/step - loss: 0.4316 - binary_accuracy: 0.7867 - val_loss: 0.4072 - val_binary_accuracy: 0.8533\n",
      "Epoch 48/100\n",
      "15/15 [==============================] - 0s 4ms/step - loss: 0.4292 - binary_accuracy: 0.8267 - val_loss: 0.4055 - val_binary_accuracy: 0.8400\n",
      "Epoch 49/100\n",
      "15/15 [==============================] - 0s 4ms/step - loss: 0.4271 - binary_accuracy: 0.8133 - val_loss: 0.4035 - val_binary_accuracy: 0.8667\n",
      "Epoch 50/100\n",
      "15/15 [==============================] - 0s 4ms/step - loss: 0.4257 - binary_accuracy: 0.8400 - val_loss: 0.4019 - val_binary_accuracy: 0.8667\n",
      "Epoch 51/100\n",
      "15/15 [==============================] - 0s 4ms/step - loss: 0.4252 - binary_accuracy: 0.7600 - val_loss: 0.3999 - val_binary_accuracy: 0.8800\n",
      "Epoch 52/100\n",
      "15/15 [==============================] - 0s 4ms/step - loss: 0.4226 - binary_accuracy: 0.8133 - val_loss: 0.3981 - val_binary_accuracy: 0.8800\n",
      "Epoch 53/100\n",
      "15/15 [==============================] - 0s 5ms/step - loss: 0.4202 - binary_accuracy: 0.8533 - val_loss: 0.3966 - val_binary_accuracy: 0.8667\n",
      "Epoch 54/100\n",
      "15/15 [==============================] - 0s 5ms/step - loss: 0.4206 - binary_accuracy: 0.8133 - val_loss: 0.3947 - val_binary_accuracy: 0.8933\n",
      "Epoch 55/100\n",
      "15/15 [==============================] - 0s 5ms/step - loss: 0.4178 - binary_accuracy: 0.8533 - val_loss: 0.3931 - val_binary_accuracy: 0.8933\n",
      "Epoch 56/100\n",
      "15/15 [==============================] - 0s 5ms/step - loss: 0.4157 - binary_accuracy: 0.8533 - val_loss: 0.3915 - val_binary_accuracy: 0.8933\n",
      "Epoch 57/100\n",
      "15/15 [==============================] - 0s 5ms/step - loss: 0.4149 - binary_accuracy: 0.8667 - val_loss: 0.3899 - val_binary_accuracy: 0.8933\n",
      "Epoch 58/100\n",
      "15/15 [==============================] - 0s 4ms/step - loss: 0.4130 - binary_accuracy: 0.8400 - val_loss: 0.3880 - val_binary_accuracy: 0.9067\n",
      "Epoch 59/100\n",
      "15/15 [==============================] - 0s 4ms/step - loss: 0.4112 - binary_accuracy: 0.8533 - val_loss: 0.3864 - val_binary_accuracy: 0.9067\n",
      "Epoch 60/100\n",
      "15/15 [==============================] - 0s 4ms/step - loss: 0.4103 - binary_accuracy: 0.9067 - val_loss: 0.3850 - val_binary_accuracy: 0.9067\n",
      "Epoch 61/100\n",
      "15/15 [==============================] - 0s 5ms/step - loss: 0.4091 - binary_accuracy: 0.8400 - val_loss: 0.3831 - val_binary_accuracy: 0.9067\n",
      "Epoch 62/100\n",
      "15/15 [==============================] - 0s 4ms/step - loss: 0.4082 - binary_accuracy: 0.8800 - val_loss: 0.3816 - val_binary_accuracy: 0.9067\n",
      "Epoch 63/100\n",
      "15/15 [==============================] - 0s 5ms/step - loss: 0.4066 - binary_accuracy: 0.8667 - val_loss: 0.3798 - val_binary_accuracy: 0.9067\n",
      "Epoch 64/100\n",
      "15/15 [==============================] - 0s 5ms/step - loss: 0.4046 - binary_accuracy: 0.9067 - val_loss: 0.3784 - val_binary_accuracy: 0.9067\n",
      "Epoch 65/100\n",
      "15/15 [==============================] - 0s 5ms/step - loss: 0.4037 - binary_accuracy: 0.8933 - val_loss: 0.3767 - val_binary_accuracy: 0.9067\n",
      "Epoch 66/100\n",
      "15/15 [==============================] - 0s 4ms/step - loss: 0.4019 - binary_accuracy: 0.9333 - val_loss: 0.3754 - val_binary_accuracy: 0.9067\n",
      "Epoch 67/100\n",
      "15/15 [==============================] - 0s 5ms/step - loss: 0.4008 - binary_accuracy: 0.8800 - val_loss: 0.3737 - val_binary_accuracy: 0.9067\n",
      "Epoch 68/100\n",
      "15/15 [==============================] - 0s 4ms/step - loss: 0.3978 - binary_accuracy: 0.9200 - val_loss: 0.3723 - val_binary_accuracy: 0.9067\n",
      "Epoch 69/100\n",
      "15/15 [==============================] - 0s 4ms/step - loss: 0.3973 - binary_accuracy: 0.9067 - val_loss: 0.3707 - val_binary_accuracy: 0.9067\n",
      "Epoch 70/100\n",
      "15/15 [==============================] - 0s 5ms/step - loss: 0.3953 - binary_accuracy: 0.8933 - val_loss: 0.3691 - val_binary_accuracy: 0.9067\n",
      "Epoch 71/100\n",
      "15/15 [==============================] - 0s 4ms/step - loss: 0.3955 - binary_accuracy: 0.9200 - val_loss: 0.3677 - val_binary_accuracy: 0.9067\n",
      "Epoch 72/100\n",
      "15/15 [==============================] - 0s 4ms/step - loss: 0.3943 - binary_accuracy: 0.9467 - val_loss: 0.3667 - val_binary_accuracy: 0.9067\n",
      "Epoch 73/100\n",
      "15/15 [==============================] - 0s 4ms/step - loss: 0.3915 - binary_accuracy: 0.8933 - val_loss: 0.3647 - val_binary_accuracy: 0.9067\n",
      "Epoch 74/100\n",
      "15/15 [==============================] - 0s 4ms/step - loss: 0.3914 - binary_accuracy: 0.9467 - val_loss: 0.3634 - val_binary_accuracy: 0.9067\n",
      "Epoch 75/100\n",
      "15/15 [==============================] - 0s 4ms/step - loss: 0.3894 - binary_accuracy: 0.9333 - val_loss: 0.3619 - val_binary_accuracy: 0.9200\n",
      "Epoch 76/100\n",
      "15/15 [==============================] - 0s 5ms/step - loss: 0.3869 - binary_accuracy: 0.9467 - val_loss: 0.3605 - val_binary_accuracy: 0.9200\n",
      "Epoch 77/100\n",
      "15/15 [==============================] - 0s 4ms/step - loss: 0.3876 - binary_accuracy: 0.9467 - val_loss: 0.3597 - val_binary_accuracy: 0.9067\n",
      "Epoch 78/100\n",
      "15/15 [==============================] - 0s 4ms/step - loss: 0.3866 - binary_accuracy: 0.9200 - val_loss: 0.3580 - val_binary_accuracy: 0.9200\n",
      "Epoch 79/100\n",
      "15/15 [==============================] - 0s 4ms/step - loss: 0.3835 - binary_accuracy: 0.9333 - val_loss: 0.3568 - val_binary_accuracy: 0.9200\n",
      "Epoch 80/100\n",
      "15/15 [==============================] - 0s 4ms/step - loss: 0.3832 - binary_accuracy: 0.9200 - val_loss: 0.3555 - val_binary_accuracy: 0.9200\n",
      "Epoch 81/100\n",
      "15/15 [==============================] - 0s 4ms/step - loss: 0.3821 - binary_accuracy: 0.9333 - val_loss: 0.3537 - val_binary_accuracy: 0.9200\n",
      "Epoch 82/100\n",
      "15/15 [==============================] - 0s 4ms/step - loss: 0.3802 - binary_accuracy: 0.9467 - val_loss: 0.3521 - val_binary_accuracy: 0.9200\n",
      "Epoch 83/100\n",
      "15/15 [==============================] - 0s 4ms/step - loss: 0.3799 - binary_accuracy: 0.9333 - val_loss: 0.3509 - val_binary_accuracy: 0.9200\n",
      "Epoch 84/100\n",
      "15/15 [==============================] - 0s 4ms/step - loss: 0.3774 - binary_accuracy: 0.9600 - val_loss: 0.3497 - val_binary_accuracy: 0.9200\n",
      "Epoch 85/100\n",
      "15/15 [==============================] - 0s 4ms/step - loss: 0.3761 - binary_accuracy: 0.9467 - val_loss: 0.3483 - val_binary_accuracy: 0.9200\n",
      "Epoch 86/100\n",
      "15/15 [==============================] - 0s 5ms/step - loss: 0.3768 - binary_accuracy: 0.9600 - val_loss: 0.3473 - val_binary_accuracy: 0.9200\n",
      "Epoch 87/100\n",
      "15/15 [==============================] - 0s 4ms/step - loss: 0.3740 - binary_accuracy: 0.9467 - val_loss: 0.3468 - val_binary_accuracy: 0.9200\n",
      "Epoch 88/100\n"
     ]
    },
    {
     "name": "stdout",
     "output_type": "stream",
     "text": [
      "15/15 [==============================] - 0s 5ms/step - loss: 0.3736 - binary_accuracy: 0.9467 - val_loss: 0.3455 - val_binary_accuracy: 0.9200\n",
      "Epoch 89/100\n",
      "15/15 [==============================] - 0s 5ms/step - loss: 0.3709 - binary_accuracy: 0.9333 - val_loss: 0.3434 - val_binary_accuracy: 0.9200\n",
      "Epoch 90/100\n",
      "15/15 [==============================] - 0s 5ms/step - loss: 0.3728 - binary_accuracy: 0.9067 - val_loss: 0.3415 - val_binary_accuracy: 0.9600\n",
      "Epoch 91/100\n",
      "15/15 [==============================] - 0s 4ms/step - loss: 0.3693 - binary_accuracy: 0.9600 - val_loss: 0.3408 - val_binary_accuracy: 0.9333\n",
      "Epoch 92/100\n",
      "15/15 [==============================] - 0s 5ms/step - loss: 0.3686 - binary_accuracy: 0.9200 - val_loss: 0.3390 - val_binary_accuracy: 0.9600\n",
      "Epoch 93/100\n",
      "15/15 [==============================] - 0s 5ms/step - loss: 0.3677 - binary_accuracy: 0.9600 - val_loss: 0.3382 - val_binary_accuracy: 0.9467\n",
      "Epoch 94/100\n",
      "15/15 [==============================] - 0s 4ms/step - loss: 0.3658 - binary_accuracy: 0.9600 - val_loss: 0.3369 - val_binary_accuracy: 0.9467\n",
      "Epoch 95/100\n",
      "15/15 [==============================] - 0s 4ms/step - loss: 0.3646 - binary_accuracy: 0.9600 - val_loss: 0.3364 - val_binary_accuracy: 0.9200\n",
      "Epoch 96/100\n",
      "15/15 [==============================] - 0s 4ms/step - loss: 0.3634 - binary_accuracy: 0.9467 - val_loss: 0.3350 - val_binary_accuracy: 0.9200\n",
      "Epoch 97/100\n",
      "15/15 [==============================] - 0s 4ms/step - loss: 0.3627 - binary_accuracy: 0.9467 - val_loss: 0.3332 - val_binary_accuracy: 0.9600\n",
      "Epoch 98/100\n",
      "15/15 [==============================] - 0s 4ms/step - loss: 0.3627 - binary_accuracy: 0.9467 - val_loss: 0.3324 - val_binary_accuracy: 0.9467\n",
      "Epoch 99/100\n",
      "15/15 [==============================] - 0s 4ms/step - loss: 0.3606 - binary_accuracy: 0.9467 - val_loss: 0.3306 - val_binary_accuracy: 0.9600\n",
      "Epoch 100/100\n",
      "15/15 [==============================] - 0s 5ms/step - loss: 0.3590 - binary_accuracy: 0.9600 - val_loss: 0.3300 - val_binary_accuracy: 0.9467\n"
     ]
    }
   ],
   "source": [
    "model = keras.Sequential()\n",
    "model.add(keras.layers.Dense(10, input_shape=(n_features,), activation='sigmoid'))\n",
    "model.add(keras.layers.Dense(1, activation='sigmoid'))\n",
    "model.compile(optimizer='sgd', loss='binary_crossentropy', metrics=['binary_accuracy'])\n",
    "\n",
    "\n",
    "history_neural_network_20 = model.fit(X_train, Y_train,\n",
    "                                 batch_size=5,\n",
    "                                 epochs=20,\n",
    "                                 verbose=1,\n",
    "                                 validation_data=(X_test, Y_test)\n",
    "                        )\n",
    "\n",
    "model = keras.Sequential()\n",
    "model.add(keras.layers.Dense(10, input_shape=(n_features,), activation='sigmoid'))\n",
    "model.add(keras.layers.Dense(1, activation='sigmoid'))\n",
    "model.compile(optimizer='sgd', loss='binary_crossentropy', metrics=['binary_accuracy'])\n",
    "\n",
    "history_neural_network_50 = model.fit(X_train, Y_train,\n",
    "                                 batch_size=5,\n",
    "                                 epochs=50,\n",
    "                                 verbose=1,\n",
    "                                 validation_data=(X_test, Y_test)\n",
    "                        )\n",
    "\n",
    "model = keras.Sequential()\n",
    "model.add(keras.layers.Dense(10, input_shape=(n_features,), activation='sigmoid'))\n",
    "model.add(keras.layers.Dense(1, activation='sigmoid'))\n",
    "model.compile(optimizer='sgd', loss='binary_crossentropy', metrics=['binary_accuracy'])\n",
    "\n",
    "history_neural_network_100 = model.fit(X_train, Y_train,\n",
    "                                 batch_size=5,\n",
    "                                 epochs=100,\n",
    "                                 verbose=1,\n",
    "                                 validation_data=(X_test, Y_test)\n",
    "                        )"
   ]
  },
  {
   "cell_type": "code",
   "execution_count": 20,
   "metadata": {},
   "outputs": [
    {
     "data": {
      "image/png": "[encoded data removed]",
      "text/plain": [
       "<Figure size 504x720 with 2 Axes>"
      ]
     },
     "metadata": {},
     "output_type": "display_data"
    }
   ],
   "source": [
    "fig = plt.figure(figsize=(7, 10))\n",
    "\n",
    "fig.patch.set_facecolor((1,1,1))\n",
    "\n",
    "plt.subplot(211)\n",
    "\n",
    "plt.plot(history_neural_network_20.history['binary_accuracy'], \"g-\")\n",
    "plt.plot(history_neural_network_50.history['binary_accuracy'], \"r-\")\n",
    "plt.plot(history_neural_network_100.history['binary_accuracy'], \"b-\")\n",
    "plt.title('model accuracy')\n",
    "plt.ylabel('accuracy')\n",
    "plt.xlabel('epoch')\n",
    "\n",
    "plt.subplot(212)\n",
    "\n",
    "plt.plot(history_neural_network_20.history['loss'], \"g-\")\n",
    "plt.plot(history_neural_network_50.history['loss'], \"r-\")\n",
    "plt.plot(history_neural_network_100.history['loss'], \"b-\")\n",
    "plt.title('model loss')\n",
    "plt.ylabel('loss')\n",
    "plt.xlabel('epoch')\n",
    "plt.show()"
   ]
  },
  {
   "cell_type": "markdown",
   "metadata": {
    "id": "mNEVxasCoVB7"
   },
   "source": [
    "# Question 5\n",
    "Comparez les performances du modèle simple de régression logistique (celui avec un seul neurone) et ce réseau de neurones. Faite varier le nombre d'époch (20, 50, 100) et dressez un tableau montrant la meilleure *accuracy* pour chacun des modèles et expliquez le résultat. "
   ]
  },
  {
   "cell_type": "code",
   "execution_count": 21,
   "metadata": {},
   "outputs": [
    {
     "name": "stdout",
     "output_type": "stream",
     "text": [
      "                     20 epochs  50 epochs  100 epochs\n",
      "logistic regression   0.933333   0.946667        0.96\n",
      "neural network        0.666667   0.693333        0.96\n"
     ]
    }
   ],
   "source": [
    "data = np.array([[history_logistic_regression_20.history['binary_accuracy'][len(history_logistic_regression_20.history['binary_accuracy'])-1],\n",
    "                   history_logistic_regression_50.history['binary_accuracy'][len(history_logistic_regression_50.history['binary_accuracy'])-1],\n",
    "                   history_logistic_regression_100.history['binary_accuracy'][len(history_logistic_regression_100.history['binary_accuracy'])-1]],\n",
    "                   [history_neural_network_20.history['binary_accuracy'][len(history_neural_network_20.history['binary_accuracy'])-1],\n",
    "                   history_neural_network_50.history['binary_accuracy'][len(history_neural_network_50.history['binary_accuracy'])-1],\n",
    "                   history_neural_network_100.history['binary_accuracy'][len(history_neural_network_100.history['binary_accuracy'])-1]]])\n",
    "\n",
    "columns = ['20 epochs','50 epochs','100 epochs']\n",
    "index = [\"logistic regression\", \"neural network\"]\n",
    "\n",
    "df = pd.DataFrame(data=data,index=index,columns=columns)\n",
    "\n",
    "print(df)"
   ]
  },
  {
   "cell_type": "markdown",
   "metadata": {},
   "source": [
    "La regression logistique semble rapidement overfitter en un nombre d'époques relativement faible, tandis que l'accuracy du réseau de neurones s'améliore avec un nombre d'époque croissant."
   ]
  },
  {
   "cell_type": "markdown",
   "metadata": {
    "id": "2Dw7gvmnqh20"
   },
   "source": [
    "# Utilisation d'un softmax pour une classification multiple\n",
    "La base de donnée `iris` représente 3 classes et pour l'instant, nous n'avons fait que classer les exemples comme étant dans une seule classe ou pas. Il est possible de créer un réseau avec 3 neurones de sorties qui vont calculer les 3 probabilités d'appartenance à chacune des classes. Il faut remettre en forme les labels des données dans un vecteur de 3 bits (un bit à 1 pour la classe à laquelle appartient l'entrée). Ceci correspond à ce que l'on appelle le \"One Hot Endoding\". Une classe est dédiée à cela dans sklearn. "
   ]
  },
  {
   "cell_type": "code",
   "execution_count": 22,
   "metadata": {
    "colab": {
     "base_uri": "https://localhost:8080/"
    },
    "id": "f8i_xCxMFWyM",
    "outputId": "2af9ece7-cec3-4a1d-c223-a48b48d33c5c"
   },
   "outputs": [
    {
     "name": "stdout",
     "output_type": "stream",
     "text": [
      "Nombre de features :  4\n",
      "Nombre de classes  3\n",
      " Exemple d'encodage de la donnée numéro 5 et 12 : \n",
      "features :  [5.4 3.9 1.7 0.4]  sortie :  [1. 0. 0.]\n",
      "features :  [4.8 3.  1.4 0.1]  sortie :  [1. 0. 0.]\n"
     ]
    }
   ],
   "source": [
    "import numpy as np\n",
    "import pandas as pd\n",
    "from sklearn.datasets import load_iris\n",
    "from sklearn.model_selection import train_test_split\n",
    "from sklearn.preprocessing import OneHotEncoder, StandardScaler\n",
    "\n",
    "iris = load_iris()\n",
    "X = iris['data']\n",
    "y = iris['target']\n",
    "names = iris['target_names']\n",
    "feature_names = iris['feature_names']\n",
    "\n",
    "# One hot encoding\n",
    "enc = OneHotEncoder()\n",
    "Y = enc.fit_transform(y[:, np.newaxis]).toarray()\n",
    "\n",
    "\n",
    "n_features = X.shape[1]\n",
    "n_classes = Y.shape[1]\n",
    "print(\"Nombre de features : \", n_features)\n",
    "print(\"Nombre de classes \", n_classes)\n",
    "print(\" Exemple d'encodage de la donnée numéro 5 et 12 : \")\n",
    "print(\"features : \", X[5], \" sortie : \", Y[5])\n",
    "print(\"features : \", X[12], \" sortie : \", Y[12])\n",
    "\n"
   ]
  },
  {
   "cell_type": "markdown",
   "metadata": {
    "id": "Gz4Pgp7QHFrj"
   },
   "source": [
    "Pour améliorer les convergences des algorithmes, il est conseillé de 'normaliser' les données. Pour cela les valeurs sont 're-calculées' de sorte que leur ordre soit respecté tout en rendant leur distribution normale (centrée sur 0 avec une variance de 1), c'est le rôle des `Scaler`. "
   ]
  },
  {
   "cell_type": "code",
   "execution_count": 23,
   "metadata": {
    "colab": {
     "base_uri": "https://localhost:8080/"
    },
    "id": "sqKfdEF5HE4D",
    "outputId": "f5dc1bf2-594e-4bee-ca26-65fe6bf766eb"
   },
   "outputs": [
    {
     "name": "stdout",
     "output_type": "stream",
     "text": [
      " Exemple d'encodage de la donnée numéro 5 et 12 : \n",
      "features :  [-0.53717756  1.93979142 -1.16971425 -1.05217993]  sortie :  [1. 0. 0.]\n",
      "features :  [-1.26418478 -0.13197948 -1.34022653 -1.44707648]  sortie :  [1. 0. 0.]\n"
     ]
    }
   ],
   "source": [
    "\n",
    "# Scale data to have mean 0 and variance 1 \n",
    "# which is importance for convergence of the neural network\n",
    "scaler = StandardScaler()\n",
    "X_scaled = scaler.fit_transform(X)\n",
    "\n",
    "print(\" Exemple d'encodage de la donnée numéro 5 et 12 : \")\n",
    "print(\"features : \", X_scaled[5], \" sortie : \", Y[5])\n",
    "print(\"features : \", X_scaled[12], \" sortie : \", Y[12])\n",
    "\n",
    "\n",
    "\n"
   ]
  },
  {
   "cell_type": "markdown",
   "metadata": {
    "id": "K5aX5FWnINyd"
   },
   "source": [
    "On redéfinie les données d'entrainement avec ces valeurs normalisées."
   ]
  },
  {
   "cell_type": "code",
   "execution_count": 24,
   "metadata": {
    "id": "laAastQHH4IL"
   },
   "outputs": [],
   "source": [
    "\n",
    "\n",
    "# Split the data set into training and testing\n",
    "X_train, X_test, Y_train, Y_test = train_test_split(\n",
    "    X_scaled, Y, test_size=0.5, random_state=2)"
   ]
  },
  {
   "cell_type": "markdown",
   "metadata": {
    "id": "9ptvekiLJvPb"
   },
   "source": [
    "Et on créé un réseau dont les 3 sorties sont désormais passées au travers d'un softmax."
   ]
  },
  {
   "cell_type": "code",
   "execution_count": 25,
   "metadata": {
    "id": "KSMv86ykbIkC"
   },
   "outputs": [],
   "source": [
    "\n",
    "model = keras.Sequential()\n",
    "model.add(keras.layers.Dense(10, input_shape=(n_features,), activation='sigmoid'))\n",
    "model.add(keras.layers.Dense(3, activation='softmax'))\n",
    "model.compile(loss='categorical_crossentropy', optimizer='adam', metrics=['accuracy'])\n"
   ]
  },
  {
   "cell_type": "markdown",
   "metadata": {
    "id": "ekbVmJ4BL5vy"
   },
   "source": [
    "Et on lance l'apprentissage :"
   ]
  },
  {
   "cell_type": "code",
   "execution_count": 26,
   "metadata": {
    "colab": {
     "base_uri": "https://localhost:8080/"
    },
    "id": "xinPIHFhL8Jf",
    "outputId": "f10e6d5f-cd71-4ecd-ad11-27cbd4add628"
   },
   "outputs": [
    {
     "name": "stdout",
     "output_type": "stream",
     "text": [
      "Epoch 1/50\n",
      "15/15 [==============================] - 1s 17ms/step - loss: 1.2819 - accuracy: 0.3333 - val_loss: 1.2898 - val_accuracy: 0.3333\n",
      "Epoch 2/50\n",
      "15/15 [==============================] - 0s 4ms/step - loss: 1.2408 - accuracy: 0.3333 - val_loss: 1.2472 - val_accuracy: 0.3333\n",
      "Epoch 3/50\n",
      "15/15 [==============================] - 0s 4ms/step - loss: 1.2053 - accuracy: 0.3333 - val_loss: 1.2113 - val_accuracy: 0.3333\n",
      "Epoch 4/50\n",
      "15/15 [==============================] - 0s 4ms/step - loss: 1.1714 - accuracy: 0.3333 - val_loss: 1.1799 - val_accuracy: 0.3200\n",
      "Epoch 5/50\n",
      "15/15 [==============================] - 0s 5ms/step - loss: 1.1428 - accuracy: 0.3333 - val_loss: 1.1499 - val_accuracy: 0.3200\n",
      "Epoch 6/50\n",
      "15/15 [==============================] - 0s 4ms/step - loss: 1.1156 - accuracy: 0.3333 - val_loss: 1.1230 - val_accuracy: 0.3067\n",
      "Epoch 7/50\n",
      "15/15 [==============================] - 0s 5ms/step - loss: 1.0916 - accuracy: 0.3333 - val_loss: 1.0960 - val_accuracy: 0.3067\n",
      "Epoch 8/50\n",
      "15/15 [==============================] - 0s 5ms/step - loss: 1.0667 - accuracy: 0.3067 - val_loss: 1.0752 - val_accuracy: 0.2933\n",
      "Epoch 9/50\n",
      "15/15 [==============================] - 0s 5ms/step - loss: 1.0446 - accuracy: 0.3067 - val_loss: 1.0519 - val_accuracy: 0.2933\n",
      "Epoch 10/50\n",
      "15/15 [==============================] - 0s 5ms/step - loss: 1.0250 - accuracy: 0.3333 - val_loss: 1.0269 - val_accuracy: 0.3200\n",
      "Epoch 11/50\n",
      "15/15 [==============================] - 0s 5ms/step - loss: 1.0030 - accuracy: 0.3867 - val_loss: 1.0066 - val_accuracy: 0.4000\n",
      "Epoch 12/50\n",
      "15/15 [==============================] - 0s 4ms/step - loss: 0.9828 - accuracy: 0.5200 - val_loss: 0.9853 - val_accuracy: 0.5733\n",
      "Epoch 13/50\n",
      "15/15 [==============================] - 0s 5ms/step - loss: 0.9636 - accuracy: 0.6133 - val_loss: 0.9647 - val_accuracy: 0.6400\n",
      "Epoch 14/50\n",
      "15/15 [==============================] - 0s 5ms/step - loss: 0.9442 - accuracy: 0.6800 - val_loss: 0.9454 - val_accuracy: 0.6533\n",
      "Epoch 15/50\n",
      "15/15 [==============================] - 0s 5ms/step - loss: 0.9248 - accuracy: 0.7200 - val_loss: 0.9267 - val_accuracy: 0.6667\n",
      "Epoch 16/50\n",
      "15/15 [==============================] - 0s 5ms/step - loss: 0.9072 - accuracy: 0.7600 - val_loss: 0.9069 - val_accuracy: 0.7333\n",
      "Epoch 17/50\n",
      "15/15 [==============================] - 0s 4ms/step - loss: 0.8895 - accuracy: 0.8000 - val_loss: 0.8887 - val_accuracy: 0.8000\n",
      "Epoch 18/50\n",
      "15/15 [==============================] - 0s 4ms/step - loss: 0.8723 - accuracy: 0.8133 - val_loss: 0.8690 - val_accuracy: 0.8000\n",
      "Epoch 19/50\n",
      "15/15 [==============================] - 0s 4ms/step - loss: 0.8544 - accuracy: 0.8400 - val_loss: 0.8514 - val_accuracy: 0.8667\n",
      "Epoch 20/50\n",
      "15/15 [==============================] - 0s 4ms/step - loss: 0.8378 - accuracy: 0.8400 - val_loss: 0.8337 - val_accuracy: 0.8800\n",
      "Epoch 21/50\n",
      "15/15 [==============================] - 0s 4ms/step - loss: 0.8216 - accuracy: 0.8267 - val_loss: 0.8166 - val_accuracy: 0.8800\n",
      "Epoch 22/50\n",
      "15/15 [==============================] - 0s 4ms/step - loss: 0.8063 - accuracy: 0.8133 - val_loss: 0.7989 - val_accuracy: 0.8800\n",
      "Epoch 23/50\n",
      "15/15 [==============================] - 0s 4ms/step - loss: 0.7901 - accuracy: 0.8400 - val_loss: 0.7836 - val_accuracy: 0.9067\n",
      "Epoch 24/50\n",
      "15/15 [==============================] - 0s 4ms/step - loss: 0.7748 - accuracy: 0.8667 - val_loss: 0.7678 - val_accuracy: 0.9067\n",
      "Epoch 25/50\n",
      "15/15 [==============================] - 0s 4ms/step - loss: 0.7606 - accuracy: 0.8400 - val_loss: 0.7524 - val_accuracy: 0.9067\n",
      "Epoch 26/50\n",
      "15/15 [==============================] - 0s 4ms/step - loss: 0.7460 - accuracy: 0.8667 - val_loss: 0.7379 - val_accuracy: 0.9067\n",
      "Epoch 27/50\n",
      "15/15 [==============================] - 0s 4ms/step - loss: 0.7323 - accuracy: 0.8667 - val_loss: 0.7233 - val_accuracy: 0.8933\n",
      "Epoch 28/50\n",
      "15/15 [==============================] - 0s 4ms/step - loss: 0.7192 - accuracy: 0.8800 - val_loss: 0.7098 - val_accuracy: 0.8933\n",
      "Epoch 29/50\n",
      "15/15 [==============================] - 0s 5ms/step - loss: 0.7070 - accuracy: 0.8667 - val_loss: 0.6955 - val_accuracy: 0.8933\n",
      "Epoch 30/50\n",
      "15/15 [==============================] - 0s 4ms/step - loss: 0.6936 - accuracy: 0.8667 - val_loss: 0.6825 - val_accuracy: 0.8933\n",
      "Epoch 31/50\n",
      "15/15 [==============================] - 0s 5ms/step - loss: 0.6817 - accuracy: 0.8667 - val_loss: 0.6706 - val_accuracy: 0.8933\n",
      "Epoch 32/50\n",
      "15/15 [==============================] - 0s 5ms/step - loss: 0.6705 - accuracy: 0.8667 - val_loss: 0.6581 - val_accuracy: 0.8933\n",
      "Epoch 33/50\n",
      "15/15 [==============================] - 0s 4ms/step - loss: 0.6590 - accuracy: 0.8667 - val_loss: 0.6458 - val_accuracy: 0.8933\n",
      "Epoch 34/50\n",
      "15/15 [==============================] - 0s 4ms/step - loss: 0.6477 - accuracy: 0.8667 - val_loss: 0.6350 - val_accuracy: 0.8933\n",
      "Epoch 35/50\n",
      "15/15 [==============================] - 0s 4ms/step - loss: 0.6374 - accuracy: 0.8667 - val_loss: 0.6246 - val_accuracy: 0.9067\n",
      "Epoch 36/50\n",
      "15/15 [==============================] - 0s 5ms/step - loss: 0.6276 - accuracy: 0.8800 - val_loss: 0.6140 - val_accuracy: 0.9067\n",
      "Epoch 37/50\n",
      "15/15 [==============================] - 0s 4ms/step - loss: 0.6180 - accuracy: 0.8800 - val_loss: 0.6045 - val_accuracy: 0.9067\n",
      "Epoch 38/50\n",
      "15/15 [==============================] - 0s 5ms/step - loss: 0.6082 - accuracy: 0.8800 - val_loss: 0.5949 - val_accuracy: 0.9067\n",
      "Epoch 39/50\n",
      "15/15 [==============================] - 0s 4ms/step - loss: 0.5997 - accuracy: 0.8800 - val_loss: 0.5847 - val_accuracy: 0.9067\n",
      "Epoch 40/50\n",
      "15/15 [==============================] - 0s 4ms/step - loss: 0.5905 - accuracy: 0.8800 - val_loss: 0.5762 - val_accuracy: 0.9067\n",
      "Epoch 41/50\n",
      "15/15 [==============================] - 0s 4ms/step - loss: 0.5824 - accuracy: 0.8800 - val_loss: 0.5675 - val_accuracy: 0.9067\n",
      "Epoch 42/50\n",
      "15/15 [==============================] - 0s 4ms/step - loss: 0.5740 - accuracy: 0.8933 - val_loss: 0.5589 - val_accuracy: 0.9067\n",
      "Epoch 43/50\n",
      "15/15 [==============================] - 0s 4ms/step - loss: 0.5660 - accuracy: 0.8933 - val_loss: 0.5505 - val_accuracy: 0.9067\n",
      "Epoch 44/50\n",
      "15/15 [==============================] - 0s 4ms/step - loss: 0.5590 - accuracy: 0.8800 - val_loss: 0.5422 - val_accuracy: 0.9067\n",
      "Epoch 45/50\n",
      "15/15 [==============================] - 0s 4ms/step - loss: 0.5514 - accuracy: 0.8933 - val_loss: 0.5352 - val_accuracy: 0.9067\n",
      "Epoch 46/50\n",
      "15/15 [==============================] - 0s 4ms/step - loss: 0.5442 - accuracy: 0.8933 - val_loss: 0.5284 - val_accuracy: 0.9067\n",
      "Epoch 47/50\n",
      "15/15 [==============================] - 0s 4ms/step - loss: 0.5373 - accuracy: 0.8800 - val_loss: 0.5218 - val_accuracy: 0.9067\n",
      "Epoch 48/50\n",
      "15/15 [==============================] - 0s 4ms/step - loss: 0.5305 - accuracy: 0.8800 - val_loss: 0.5147 - val_accuracy: 0.9067\n",
      "Epoch 49/50\n",
      "15/15 [==============================] - 0s 4ms/step - loss: 0.5247 - accuracy: 0.8933 - val_loss: 0.5074 - val_accuracy: 0.9067\n",
      "Epoch 50/50\n",
      "15/15 [==============================] - 0s 4ms/step - loss: 0.5181 - accuracy: 0.8933 - val_loss: 0.5017 - val_accuracy: 0.9067\n"
     ]
    }
   ],
   "source": [
    "history = model.fit(X_train, Y_train,\n",
    "                                 batch_size=5,\n",
    "                                 epochs=50,\n",
    "                                 verbose=1,\n",
    "                                 validation_data=(X_test, Y_test)\n",
    "                        )"
   ]
  },
  {
   "cell_type": "markdown",
   "metadata": {
    "id": "NmiCNOdiOADb"
   },
   "source": [
    "Le code suivant a simplement pour but de vous montrer comment voir la prédiction du modèle pour des valeurs d'entrées particulières."
   ]
  },
  {
   "cell_type": "code",
   "execution_count": 27,
   "metadata": {
    "colab": {
     "base_uri": "https://localhost:8080/"
    },
    "id": "ZBfnGntpMUn7",
    "outputId": "519129f7-8e46-457a-a718-940a56ea0e88"
   },
   "outputs": [
    {
     "name": "stdout",
     "output_type": "stream",
     "text": [
      "sortie prédite par le modèle pour une entrée particulière : \n",
      "[[0.7920715  0.15610075 0.05182775]]\n",
      "Elle appartient donc à la classe : \n",
      "[0]\n",
      "sortie prédite par le modèle pour une autre entrée particulière : \n",
      "[[0.10207105 0.40993673 0.48799223]]\n",
      "Elle appartient donc à la classe : \n",
      "[2]\n"
     ]
    }
   ],
   "source": [
    "print(\"sortie prédite par le modèle pour une entrée particulière : \")\n",
    "print(model.predict([[-0.53717756,  1.93979142, -1.16971425, -1.05217993]]))\n",
    "print(\"Elle appartient donc à la classe : \")\n",
    "print(np.argmax(model.predict([[-0.53717756,  1.93979142, -1.16971425, -1.05217993]]), axis=-1))\n",
    "\n",
    "print(\"sortie prédite par le modèle pour une autre entrée particulière : \")\n",
    "print(model.predict([[1.2,  0.82, 1, 0.2]]))\n",
    "print(\"Elle appartient donc à la classe : \")\n",
    "print(np.argmax(model.predict([[1,  1, 1, 1]]), axis=-1))"
   ]
  },
  {
   "cell_type": "markdown",
   "metadata": {
    "id": "uST1miSMOVQV"
   },
   "source": [
    "## Question 6 \n",
    "Comme expliqué plus haut, il existe plusieurs algorithmes de descente de gradient. Ici nous sommes partie sur un ADAM avec une couche dense composée de neurones avec une fonction de transfert sigmoïde. Pouvez vous dresser un tableau comparatif des résultats obtenus en utilisant un un algorithme de descente de gradient stochastique ('sgd') et des fonctions de transfert ('relu') et en conclure sur l'interêt de chacun de ces choix pour la classification de la base `iris` "
   ]
  },
  {
   "cell_type": "code",
   "execution_count": 28,
   "metadata": {
    "id": "RIajXhYKOUQU"
   },
   "outputs": [
    {
     "name": "stdout",
     "output_type": "stream",
     "text": [
      "Epoch 1/50\n",
      "15/15 [==============================] - 1s 18ms/step - loss: 0.9855 - accuracy: 0.6000 - val_loss: 0.9245 - val_accuracy: 0.5600\n",
      "Epoch 2/50\n",
      "15/15 [==============================] - 0s 4ms/step - loss: 0.9258 - accuracy: 0.6267 - val_loss: 0.8682 - val_accuracy: 0.6400\n",
      "Epoch 3/50\n",
      "15/15 [==============================] - 0s 4ms/step - loss: 0.8743 - accuracy: 0.6267 - val_loss: 0.8203 - val_accuracy: 0.6267\n",
      "Epoch 4/50\n",
      "15/15 [==============================] - 0s 5ms/step - loss: 0.8298 - accuracy: 0.6533 - val_loss: 0.7775 - val_accuracy: 0.6667\n",
      "Epoch 5/50\n",
      "15/15 [==============================] - 0s 4ms/step - loss: 0.7906 - accuracy: 0.6933 - val_loss: 0.7405 - val_accuracy: 0.6800\n",
      "Epoch 6/50\n",
      "15/15 [==============================] - 0s 4ms/step - loss: 0.7569 - accuracy: 0.6933 - val_loss: 0.7084 - val_accuracy: 0.7067\n",
      "Epoch 7/50\n",
      "15/15 [==============================] - 0s 4ms/step - loss: 0.7283 - accuracy: 0.6933 - val_loss: 0.6796 - val_accuracy: 0.7067\n",
      "Epoch 8/50\n",
      "15/15 [==============================] - 0s 5ms/step - loss: 0.7012 - accuracy: 0.6800 - val_loss: 0.6541 - val_accuracy: 0.7200\n",
      "Epoch 9/50\n",
      "15/15 [==============================] - 0s 4ms/step - loss: 0.6776 - accuracy: 0.6800 - val_loss: 0.6311 - val_accuracy: 0.7200\n",
      "Epoch 10/50\n",
      "15/15 [==============================] - 0s 4ms/step - loss: 0.6556 - accuracy: 0.6933 - val_loss: 0.6105 - val_accuracy: 0.7333\n",
      "Epoch 11/50\n",
      "15/15 [==============================] - 0s 4ms/step - loss: 0.6361 - accuracy: 0.7067 - val_loss: 0.5918 - val_accuracy: 0.7333\n",
      "Epoch 12/50\n",
      "15/15 [==============================] - 0s 5ms/step - loss: 0.6183 - accuracy: 0.7067 - val_loss: 0.5746 - val_accuracy: 0.7333\n",
      "Epoch 13/50\n",
      "15/15 [==============================] - 0s 5ms/step - loss: 0.6014 - accuracy: 0.7067 - val_loss: 0.5588 - val_accuracy: 0.7733\n",
      "Epoch 14/50\n",
      "15/15 [==============================] - 0s 5ms/step - loss: 0.5865 - accuracy: 0.7333 - val_loss: 0.5445 - val_accuracy: 0.7733\n",
      "Epoch 15/50\n",
      "15/15 [==============================] - 0s 4ms/step - loss: 0.5723 - accuracy: 0.7600 - val_loss: 0.5310 - val_accuracy: 0.8000\n",
      "Epoch 16/50\n",
      "15/15 [==============================] - 0s 4ms/step - loss: 0.5588 - accuracy: 0.7733 - val_loss: 0.5186 - val_accuracy: 0.8000\n",
      "Epoch 17/50\n",
      "15/15 [==============================] - 0s 5ms/step - loss: 0.5465 - accuracy: 0.7867 - val_loss: 0.5071 - val_accuracy: 0.8000\n",
      "Epoch 18/50\n",
      "15/15 [==============================] - 0s 4ms/step - loss: 0.5357 - accuracy: 0.7867 - val_loss: 0.4963 - val_accuracy: 0.8133\n",
      "Epoch 19/50\n",
      "15/15 [==============================] - 0s 5ms/step - loss: 0.5241 - accuracy: 0.7867 - val_loss: 0.4861 - val_accuracy: 0.8267\n",
      "Epoch 20/50\n",
      "15/15 [==============================] - 0s 4ms/step - loss: 0.5137 - accuracy: 0.8000 - val_loss: 0.4764 - val_accuracy: 0.8267\n",
      "Epoch 21/50\n",
      "15/15 [==============================] - 0s 5ms/step - loss: 0.5035 - accuracy: 0.8000 - val_loss: 0.4674 - val_accuracy: 0.8267\n",
      "Epoch 22/50\n",
      "15/15 [==============================] - 0s 4ms/step - loss: 0.4944 - accuracy: 0.8000 - val_loss: 0.4590 - val_accuracy: 0.8267\n",
      "Epoch 23/50\n",
      "15/15 [==============================] - 0s 4ms/step - loss: 0.4856 - accuracy: 0.8000 - val_loss: 0.4508 - val_accuracy: 0.8267\n",
      "Epoch 24/50\n",
      "15/15 [==============================] - 0s 5ms/step - loss: 0.4776 - accuracy: 0.8000 - val_loss: 0.4434 - val_accuracy: 0.8267\n",
      "Epoch 25/50\n",
      "15/15 [==============================] - 0s 4ms/step - loss: 0.4699 - accuracy: 0.8267 - val_loss: 0.4362 - val_accuracy: 0.8267\n",
      "Epoch 26/50\n",
      "15/15 [==============================] - 0s 5ms/step - loss: 0.4616 - accuracy: 0.8267 - val_loss: 0.4294 - val_accuracy: 0.8267\n",
      "Epoch 27/50\n",
      "15/15 [==============================] - 0s 5ms/step - loss: 0.4550 - accuracy: 0.8267 - val_loss: 0.4229 - val_accuracy: 0.8400\n",
      "Epoch 28/50\n",
      "15/15 [==============================] - 0s 5ms/step - loss: 0.4485 - accuracy: 0.8267 - val_loss: 0.4165 - val_accuracy: 0.8400\n",
      "Epoch 29/50\n",
      "15/15 [==============================] - 0s 5ms/step - loss: 0.4414 - accuracy: 0.8267 - val_loss: 0.4104 - val_accuracy: 0.8400\n",
      "Epoch 30/50\n",
      "15/15 [==============================] - 0s 4ms/step - loss: 0.4349 - accuracy: 0.8267 - val_loss: 0.4046 - val_accuracy: 0.8400\n",
      "Epoch 31/50\n",
      "15/15 [==============================] - 0s 4ms/step - loss: 0.4287 - accuracy: 0.8267 - val_loss: 0.3989 - val_accuracy: 0.8400\n",
      "Epoch 32/50\n",
      "15/15 [==============================] - 0s 4ms/step - loss: 0.4227 - accuracy: 0.8267 - val_loss: 0.3935 - val_accuracy: 0.8533\n",
      "Epoch 33/50\n",
      "15/15 [==============================] - 0s 4ms/step - loss: 0.4174 - accuracy: 0.8267 - val_loss: 0.3884 - val_accuracy: 0.8667\n",
      "Epoch 34/50\n",
      "15/15 [==============================] - 0s 5ms/step - loss: 0.4117 - accuracy: 0.8267 - val_loss: 0.3834 - val_accuracy: 0.8800\n",
      "Epoch 35/50\n",
      "15/15 [==============================] - 0s 4ms/step - loss: 0.4060 - accuracy: 0.8267 - val_loss: 0.3786 - val_accuracy: 0.8800\n",
      "Epoch 36/50\n",
      "15/15 [==============================] - 0s 4ms/step - loss: 0.4013 - accuracy: 0.8267 - val_loss: 0.3740 - val_accuracy: 0.8667\n",
      "Epoch 37/50\n",
      "15/15 [==============================] - 0s 4ms/step - loss: 0.3963 - accuracy: 0.8267 - val_loss: 0.3692 - val_accuracy: 0.8667\n",
      "Epoch 38/50\n",
      "15/15 [==============================] - 0s 4ms/step - loss: 0.3915 - accuracy: 0.8267 - val_loss: 0.3647 - val_accuracy: 0.8667\n",
      "Epoch 39/50\n",
      "15/15 [==============================] - 0s 4ms/step - loss: 0.3863 - accuracy: 0.8267 - val_loss: 0.3603 - val_accuracy: 0.8667\n",
      "Epoch 40/50\n",
      "15/15 [==============================] - 0s 5ms/step - loss: 0.3815 - accuracy: 0.8267 - val_loss: 0.3560 - val_accuracy: 0.8800\n",
      "Epoch 41/50\n",
      "15/15 [==============================] - 0s 4ms/step - loss: 0.3768 - accuracy: 0.8267 - val_loss: 0.3518 - val_accuracy: 0.8800\n",
      "Epoch 42/50\n",
      "15/15 [==============================] - 0s 5ms/step - loss: 0.3723 - accuracy: 0.8400 - val_loss: 0.3479 - val_accuracy: 0.8800\n",
      "Epoch 43/50\n",
      "15/15 [==============================] - ETA: 0s - loss: 0.5903 - accuracy: 0.80 - 0s 4ms/step - loss: 0.3683 - accuracy: 0.8533 - val_loss: 0.3438 - val_accuracy: 0.8800\n",
      "Epoch 44/50\n",
      "15/15 [==============================] - 0s 4ms/step - loss: 0.3644 - accuracy: 0.8400 - val_loss: 0.3401 - val_accuracy: 0.8800\n",
      "Epoch 45/50\n",
      "15/15 [==============================] - 0s 5ms/step - loss: 0.3597 - accuracy: 0.8533 - val_loss: 0.3365 - val_accuracy: 0.8800\n",
      "Epoch 46/50\n",
      "15/15 [==============================] - 0s 4ms/step - loss: 0.3557 - accuracy: 0.8667 - val_loss: 0.3327 - val_accuracy: 0.8933\n",
      "Epoch 47/50\n",
      "15/15 [==============================] - 0s 4ms/step - loss: 0.3516 - accuracy: 0.8667 - val_loss: 0.3291 - val_accuracy: 0.8933\n",
      "Epoch 48/50\n",
      "15/15 [==============================] - 0s 4ms/step - loss: 0.3470 - accuracy: 0.8667 - val_loss: 0.3259 - val_accuracy: 0.8933\n",
      "Epoch 49/50\n",
      "15/15 [==============================] - 0s 4ms/step - loss: 0.3428 - accuracy: 0.8667 - val_loss: 0.3226 - val_accuracy: 0.8933\n",
      "Epoch 50/50\n",
      "15/15 [==============================] - 0s 4ms/step - loss: 0.3392 - accuracy: 0.8667 - val_loss: 0.3195 - val_accuracy: 0.8933\n"
     ]
    }
   ],
   "source": [
    "\n",
    "model_new = keras.Sequential()\n",
    "model_new.add(keras.layers.Dense(10, input_shape=(n_features,), activation='relu'))\n",
    "model_new.add(keras.layers.Dense(3, activation='softmax'))\n",
    "model_new.compile(loss='categorical_crossentropy', optimizer='sgd', metrics=['accuracy'])\n",
    "\n",
    "history_new = model_new.fit(X_train, Y_train,\n",
    "                                 batch_size=5,\n",
    "                                 epochs=50,\n",
    "                                 verbose=1,\n",
    "                                 validation_data=(X_test, Y_test)\n",
    "                        )"
   ]
  },
  {
   "cell_type": "code",
   "execution_count": 29,
   "metadata": {},
   "outputs": [
    {
     "data": {
      "text/plain": [
       "<matplotlib.legend.Legend at 0x1de495fca60>"
      ]
     },
     "execution_count": 29,
     "metadata": {},
     "output_type": "execute_result"
    },
    {
     "data": {
      "image/png": "[encoded data removed]",
      "text/plain": [
       "<Figure size 504x720 with 2 Axes>"
      ]
     },
     "metadata": {},
     "output_type": "display_data"
    }
   ],
   "source": [
    "fig = plt.figure(figsize=(7, 10))\n",
    "\n",
    "fig.patch.set_facecolor((1,1,1))\n",
    "\n",
    "plt.subplot(211)\n",
    "\n",
    "plt.plot(history.history['accuracy'], \"g-\", label=\"ADAM\")\n",
    "plt.plot(history_new.history['accuracy'], \"b-\", label=\"SGD\")\n",
    "plt.title('model accuracy')\n",
    "plt.ylabel('accuracy')\n",
    "plt.xlabel('epoch')\n",
    "plt.legend()\n",
    "\n",
    "plt.subplot(212)\n",
    "\n",
    "plt.plot(history.history['loss'], \"g-\", label=\"ADAM\")\n",
    "plt.plot(history_new.history['loss'], \"b-\", label=\"SGD\")\n",
    "plt.title('model loss')\n",
    "plt.ylabel('loss')\n",
    "plt.xlabel('epoch')\n",
    "plt.legend()\n",
    "\n"
   ]
  },
  {
   "cell_type": "markdown",
   "metadata": {},
   "source": [
    "La descente de gradient stochastique semble avoir une accuracy plus stable, peut être lié à de l'overfitting.\n",
    "Cependant l'utilisation de ADAM semble atteindre un bon niveau d'accuracy assez rapidement vers 10 epochs avant de devenir instable."
   ]
  },
  {
   "cell_type": "markdown",
   "metadata": {
    "id": "RY2F9paoPWNT"
   },
   "source": [
    "# Comparaison automatique de modèles"
   ]
  },
  {
   "cell_type": "markdown",
   "metadata": {
    "id": "5R0Fa9ZwPtAB"
   },
   "source": [
    "Le code suivant permet de créer plusieurs modèles. "
   ]
  },
  {
   "cell_type": "markdown",
   "metadata": {
    "id": "JoYEhB1LLlAN"
   },
   "source": []
  },
  {
   "cell_type": "code",
   "execution_count": 30,
   "metadata": {
    "colab": {
     "base_uri": "https://localhost:8080/"
    },
    "id": "qJlz9behJS_j",
    "outputId": "7f8184ce-7634-4b9e-fdf1-5c46429365ad"
   },
   "outputs": [
    {
     "name": "stdout",
     "output_type": "stream",
     "text": [
      "Model: \"model_1\"\n",
      "_________________________________________________________________\n",
      "Layer (type)                 Output Shape              Param #   \n",
      "=================================================================\n",
      "dense_13 (Dense)             (None, 8)                 40        \n",
      "_________________________________________________________________\n",
      "dense_14 (Dense)             (None, 3)                 27        \n",
      "=================================================================\n",
      "Total params: 67\n",
      "Trainable params: 67\n",
      "Non-trainable params: 0\n",
      "_________________________________________________________________\n",
      "Model: \"model_2\"\n",
      "_________________________________________________________________\n",
      "Layer (type)                 Output Shape              Param #   \n",
      "=================================================================\n",
      "dense_15 (Dense)             (None, 8)                 40        \n",
      "_________________________________________________________________\n",
      "dense_16 (Dense)             (None, 8)                 72        \n",
      "_________________________________________________________________\n",
      "dense_17 (Dense)             (None, 3)                 27        \n",
      "=================================================================\n",
      "Total params: 139\n",
      "Trainable params: 139\n",
      "Non-trainable params: 0\n",
      "_________________________________________________________________\n",
      "Model: \"model_3\"\n",
      "_________________________________________________________________\n",
      "Layer (type)                 Output Shape              Param #   \n",
      "=================================================================\n",
      "dense_18 (Dense)             (None, 8)                 40        \n",
      "_________________________________________________________________\n",
      "dense_19 (Dense)             (None, 8)                 72        \n",
      "_________________________________________________________________\n",
      "dense_20 (Dense)             (None, 8)                 72        \n",
      "_________________________________________________________________\n",
      "dense_21 (Dense)             (None, 3)                 27        \n",
      "=================================================================\n",
      "Total params: 211\n",
      "Trainable params: 211\n",
      "Non-trainable params: 0\n",
      "_________________________________________________________________\n"
     ]
    }
   ],
   "source": [
    "from keras.models import Sequential\n",
    "from keras.layers import Dense\n",
    "\n",
    "def create_custom_model(input_dim, output_dim, nodes, n=1, name='model'):\n",
    "    def create_model():\n",
    "        # Create model\n",
    "        model = Sequential(name=name)\n",
    "        for i in range(n):\n",
    "            model.add(Dense(nodes, input_dim=input_dim, activation='relu'))\n",
    "        model.add(Dense(output_dim, activation='softmax'))\n",
    "\n",
    "        # Compile model\n",
    "        model.compile(loss='categorical_crossentropy', \n",
    "                      optimizer='adam', \n",
    "                      metrics=['accuracy'])\n",
    "        return model\n",
    "    return create_model\n",
    "\n",
    "models = [create_custom_model(n_features, n_classes, 8, i, 'model_{}'.format(i)) \n",
    "          for i in range(1, 4)]\n",
    "\n",
    "for create_model in models:\n",
    "    create_model().summary()\n"
   ]
  },
  {
   "cell_type": "markdown",
   "metadata": {
    "id": "G6Cq_U1cP5Fi"
   },
   "source": [
    "## Question 7\n",
    "Quelle est la différence entre ces 3 modèles ?"
   ]
  },
  {
   "cell_type": "markdown",
   "metadata": {},
   "source": [
    "Chaque nouveau modèle contient une couche dense de plus que le précèdent et ajoute donc de nouveaux paramètres (poids et biais) au réseau de neurones."
   ]
  },
  {
   "cell_type": "markdown",
   "metadata": {
    "id": "fGMCMdzfRB67"
   },
   "source": [
    "Le code suivant permet de les exécuter en parallèle et de stocker les résultats dans le dictionnaire `history_dict`. Nous n'entrerons pas ici dans les mécanismes de `callback` qui sont gérés via `TensorBoard`. Il faut simplement savoir que `Tensor Flow` est associé à une libraire `TensorBoard` qui permet la gestion et la supervision de tensor flow. En particulier, elle permet d'utiliser un serveur html pour afficher la progression des algorithmes en temps réel sur une page web via un mécanismes de callback."
   ]
  },
  {
   "cell_type": "code",
   "execution_count": 31,
   "metadata": {
    "colab": {
     "base_uri": "https://localhost:8080/"
    },
    "id": "dhTGVIzTJf6y",
    "outputId": "658c82b6-7edd-45a1-acd4-3f838882b6a9"
   },
   "outputs": [
    {
     "name": "stdout",
     "output_type": "stream",
     "text": [
      "Model name: model_1\n",
      "Test loss: 0.33771800994873047\n",
      "Test accuracy: 0.9200000166893005\n",
      "Model name: model_2\n",
      "Test loss: 0.34021303057670593\n",
      "Test accuracy: 0.8933333158493042\n",
      "Model name: model_3\n",
      "Test loss: 0.2533612847328186\n",
      "Test accuracy: 0.9333333373069763\n"
     ]
    }
   ],
   "source": [
    "from keras.callbacks import TensorBoard\n",
    "\n",
    "history_dict = {}\n",
    "\n",
    "# TensorBoard Callback\n",
    "cb = TensorBoard()\n",
    "\n",
    "for create_model in models:\n",
    "    model = create_model()\n",
    "    print('Model name:', model.name)\n",
    "    history_callback = model.fit(X_train, Y_train,\n",
    "                                 batch_size=5,\n",
    "                                 epochs=50,\n",
    "                                 verbose=0,\n",
    "                                 validation_data=(X_test, Y_test),\n",
    "                                 callbacks=[cb])\n",
    "    score = model.evaluate(X_test, Y_test, verbose=0)\n",
    "    print('Test loss:', score[0])\n",
    "    print('Test accuracy:', score[1])\n",
    "    \n",
    "    history_dict[model.name] = [history_callback, model]\n"
   ]
  },
  {
   "cell_type": "markdown",
   "metadata": {
    "id": "agRhnLjJRTaD"
   },
   "source": [
    "Ce dictionnaire est utilisé pour tracer des courbes de comparaison de performance :"
   ]
  },
  {
   "cell_type": "code",
   "execution_count": 32,
   "metadata": {
    "colab": {
     "base_uri": "https://localhost:8080/",
     "height": 391
    },
    "id": "Hb549OR9JmgS",
    "outputId": "65630616-e0b4-410b-f6b9-e0348d1a1628"
   },
   "outputs": [
    {
     "data": {
      "image/png": "[encoded data removed]",
      "text/plain": [
       "<Figure size 576x432 with 2 Axes>"
      ]
     },
     "metadata": {},
     "output_type": "display_data"
    }
   ],
   "source": [
    "fig, (ax1, ax2) = plt.subplots(2, figsize=(8, 6))\n",
    "\n",
    "for model_name in history_dict:\n",
    "    val_accurady = history_dict[model_name][0].history['val_accuracy']\n",
    "    val_loss = history_dict[model_name][0].history['val_loss']\n",
    "    ax1.plot(val_accurady, label=model_name)\n",
    "    ax2.plot(val_loss, label=model_name)\n",
    "    \n",
    "ax1.set_ylabel('validation accuracy')\n",
    "ax2.set_ylabel('validation loss')\n",
    "ax2.set_xlabel('epochs')\n",
    "ax1.legend()\n",
    "ax2.legend();\n"
   ]
  },
  {
   "cell_type": "markdown",
   "metadata": {
    "id": "ogD97lNeU1Mj"
   },
   "source": [
    "## Obtention de la courbe ROC \n",
    "La courbe ROC est un moyen d'évaluer la qualité d'un classifieur. Elle indique le taux de faux positifs et de faux négatifs selon le seuil que l'on fixe pour séparer le fait que les données appartiennent ou non à une classe. Ici, on prend la sortie du classifieur softmax, on fixe un seuil d'acceptation pour une classe donnée, on observe le classement issue du classifieur associé à ce seuil pour chaque donnée de test. Si le seuil est très bas, les données vont toutes être dans la classe. Si on compare à la classe réelle, on vera qu'il y a des données mal classées, ce seront les faux positifs. Plus le seuil est faible plus le nombre de faux positifs s'approche des 100%. A l'inverse si le seuil est très haut, des données seront classées hors de la classe alors qu'elles en font partie. Ce sont des faux négatifs. Plus le seuil est haut plus le taux de faux négatifs s'approche de 100%. On obtient donc des points extrèmes en haut à droites et en bas à gauche d'une courbe ROC. Les points intermédiaires vont permettre de délimiter une *aire sous la courbe*. Un classifieur parfait possède une aire sous la courbe de 1. Un classifieur *aléatoire* possède une aire sous la courbe de 0.5. Le code suivant montre l'air sous la courbe de vos modèles. \n"
   ]
  },
  {
   "cell_type": "code",
   "execution_count": 33,
   "metadata": {
    "colab": {
     "base_uri": "https://localhost:8080/",
     "height": 626
    },
    "id": "Qyt3zO80V__b",
    "outputId": "880d332b-c615-4c51-9f27-e9a9e32397a8"
   },
   "outputs": [
    {
     "name": "stdout",
     "output_type": "stream",
     "text": [
      "WARNING:tensorflow:5 out of the last 11 calls to <function Model.make_predict_function.<locals>.predict_function at 0x000001DE49773430> triggered tf.function retracing. Tracing is expensive and the excessive number of tracings could be due to (1) creating @tf.function repeatedly in a loop, (2) passing tensors with different shapes, (3) passing Python objects instead of tensors. For (1), please define your @tf.function outside of the loop. For (2), @tf.function has experimental_relax_shapes=True option that relaxes argument shapes that can avoid unnecessary retracing. For (3), please refer to https://www.tensorflow.org/guide/function#controlling_retracing and https://www.tensorflow.org/api_docs/python/tf/function for  more details.\n"
     ]
    },
    {
     "data": {
      "image/png": "[encoded data removed]",
      "text/plain": [
       "<Figure size 720x720 with 1 Axes>"
      ]
     },
     "metadata": {},
     "output_type": "display_data"
    }
   ],
   "source": [
    "from sklearn.metrics import roc_curve, auc\n",
    "\n",
    "plt.figure(figsize=(10, 10))\n",
    "plt.plot([0, 1], [0, 1], 'k--')\n",
    "\n",
    "for model_name in history_dict:\n",
    "    model = history_dict[model_name][1]\n",
    "    \n",
    "    Y_pred = model.predict(X_test)\n",
    "    fpr, tpr, threshold = roc_curve(Y_test.ravel(), Y_pred.ravel())\n",
    "    \n",
    "    plt.plot(fpr, tpr, label='{}, AUC = {:.3f}'.format(model_name, auc(fpr, tpr)))\n",
    "plt.xlabel('False positive rate')\n",
    "plt.ylabel('True positive rate')\n",
    "plt.title('ROC curve')\n",
    "plt.legend();\n"
   ]
  },
  {
   "cell_type": "markdown",
   "metadata": {
    "id": "mhyzuqp7Rjc7"
   },
   "source": [
    "## Question 8\n",
    "En modifiant les modèles en termes de fonction de transfert des neurones, nombre de couches par modèle, nombre de neurones ou encore fonction de transfert des neurones, essayez de déterminer une configuration qui *bat* le modèle 2.\n",
    "Montrez ses différentes courbes de performances."
   ]
  },
  {
   "cell_type": "code",
   "execution_count": 34,
   "metadata": {},
   "outputs": [
    {
     "name": "stdout",
     "output_type": "stream",
     "text": [
      "Model: \"sequential_8\"\n",
      "_________________________________________________________________\n",
      "Layer (type)                 Output Shape              Param #   \n",
      "=================================================================\n",
      "dense_31 (Dense)             (None, 16)                80        \n",
      "_________________________________________________________________\n",
      "dense_32 (Dense)             (None, 16)                272       \n",
      "_________________________________________________________________\n",
      "dense_33 (Dense)             (None, 16)                272       \n",
      "_________________________________________________________________\n",
      "dense_34 (Dense)             (None, 16)                272       \n",
      "_________________________________________________________________\n",
      "dense_35 (Dense)             (None, 3)                 51        \n",
      "=================================================================\n",
      "Total params: 947\n",
      "Trainable params: 947\n",
      "Non-trainable params: 0\n",
      "_________________________________________________________________\n"
     ]
    }
   ],
   "source": [
    "model_new = keras.Sequential()\n",
    "model_new.add(keras.layers.Dense(16, input_shape=(n_features,), activation='relu'))\n",
    "model_new.add(keras.layers.Dense(16,  activation='relu'))\n",
    "model_new.add(keras.layers.Dense(16,  activation='relu'))\n",
    "model_new.add(keras.layers.Dense(16,  activation='relu'))\n",
    "model_new.add(keras.layers.Dense(3, activation='softmax'))\n",
    "model_new.compile(loss='categorical_crossentropy', optimizer='sgd', metrics=['accuracy'])\n",
    "\n",
    "model_new.summary()\n"
   ]
  },
  {
   "cell_type": "code",
   "execution_count": 35,
   "metadata": {},
   "outputs": [
    {
     "name": "stdout",
     "output_type": "stream",
     "text": [
      "Epoch 1/50\n",
      "15/15 [==============================] - 1s 20ms/step - loss: 1.0946 - accuracy: 0.4533 - val_loss: 1.0941 - val_accuracy: 0.4267\n",
      "Epoch 2/50\n",
      "15/15 [==============================] - 0s 4ms/step - loss: 1.0763 - accuracy: 0.5333 - val_loss: 1.0811 - val_accuracy: 0.5200\n",
      "Epoch 3/50\n",
      "15/15 [==============================] - 0s 5ms/step - loss: 1.0666 - accuracy: 0.6267 - val_loss: 1.0717 - val_accuracy: 0.5867\n",
      "Epoch 4/50\n",
      "15/15 [==============================] - 0s 5ms/step - loss: 1.0541 - accuracy: 0.7067 - val_loss: 1.0612 - val_accuracy: 0.6400\n",
      "Epoch 5/50\n",
      "15/15 [==============================] - 0s 5ms/step - loss: 1.0433 - accuracy: 0.7333 - val_loss: 1.0497 - val_accuracy: 0.6533\n",
      "Epoch 6/50\n",
      "15/15 [==============================] - 0s 4ms/step - loss: 1.0315 - accuracy: 0.7600 - val_loss: 1.0380 - val_accuracy: 0.7067\n",
      "Epoch 7/50\n",
      "15/15 [==============================] - 0s 4ms/step - loss: 1.0195 - accuracy: 0.7733 - val_loss: 1.0247 - val_accuracy: 0.7200\n",
      "Epoch 8/50\n",
      "15/15 [==============================] - 0s 4ms/step - loss: 1.0054 - accuracy: 0.7867 - val_loss: 1.0099 - val_accuracy: 0.7333\n",
      "Epoch 9/50\n",
      "15/15 [==============================] - 0s 4ms/step - loss: 0.9897 - accuracy: 0.7733 - val_loss: 0.9924 - val_accuracy: 0.7600\n",
      "Epoch 10/50\n",
      "15/15 [==============================] - 0s 4ms/step - loss: 0.9713 - accuracy: 0.7733 - val_loss: 0.9718 - val_accuracy: 0.7733\n",
      "Epoch 11/50\n",
      "15/15 [==============================] - 0s 5ms/step - loss: 0.9489 - accuracy: 0.7867 - val_loss: 0.9468 - val_accuracy: 0.7867\n",
      "Epoch 12/50\n",
      "15/15 [==============================] - 0s 4ms/step - loss: 0.9207 - accuracy: 0.7733 - val_loss: 0.9167 - val_accuracy: 0.7867\n",
      "Epoch 13/50\n",
      "15/15 [==============================] - 0s 6ms/step - loss: 0.8896 - accuracy: 0.7733 - val_loss: 0.8815 - val_accuracy: 0.7867\n",
      "Epoch 14/50\n",
      "15/15 [==============================] - 0s 4ms/step - loss: 0.8528 - accuracy: 0.7600 - val_loss: 0.8427 - val_accuracy: 0.7733\n",
      "Epoch 15/50\n",
      "15/15 [==============================] - 0s 5ms/step - loss: 0.8142 - accuracy: 0.7733 - val_loss: 0.7981 - val_accuracy: 0.7733\n",
      "Epoch 16/50\n",
      "15/15 [==============================] - 0s 5ms/step - loss: 0.7714 - accuracy: 0.7600 - val_loss: 0.7498 - val_accuracy: 0.7867\n",
      "Epoch 17/50\n",
      "15/15 [==============================] - 0s 4ms/step - loss: 0.7240 - accuracy: 0.7733 - val_loss: 0.6992 - val_accuracy: 0.7867\n",
      "Epoch 18/50\n",
      "15/15 [==============================] - 0s 4ms/step - loss: 0.6751 - accuracy: 0.7733 - val_loss: 0.6477 - val_accuracy: 0.8000\n",
      "Epoch 19/50\n",
      "15/15 [==============================] - 0s 4ms/step - loss: 0.6298 - accuracy: 0.7733 - val_loss: 0.6018 - val_accuracy: 0.8000\n",
      "Epoch 20/50\n",
      "15/15 [==============================] - 0s 5ms/step - loss: 0.5878 - accuracy: 0.7867 - val_loss: 0.5616 - val_accuracy: 0.8400\n",
      "Epoch 21/50\n",
      "15/15 [==============================] - 0s 5ms/step - loss: 0.5487 - accuracy: 0.7867 - val_loss: 0.5246 - val_accuracy: 0.8400\n",
      "Epoch 22/50\n",
      "15/15 [==============================] - 0s 4ms/step - loss: 0.5156 - accuracy: 0.8133 - val_loss: 0.4910 - val_accuracy: 0.8400\n",
      "Epoch 23/50\n",
      "15/15 [==============================] - 0s 5ms/step - loss: 0.4840 - accuracy: 0.8133 - val_loss: 0.4627 - val_accuracy: 0.8400\n",
      "Epoch 24/50\n",
      "15/15 [==============================] - 0s 4ms/step - loss: 0.4565 - accuracy: 0.8133 - val_loss: 0.4367 - val_accuracy: 0.8533\n",
      "Epoch 25/50\n",
      "15/15 [==============================] - 0s 5ms/step - loss: 0.4319 - accuracy: 0.8267 - val_loss: 0.4153 - val_accuracy: 0.8667\n",
      "Epoch 26/50\n",
      "15/15 [==============================] - 0s 4ms/step - loss: 0.4088 - accuracy: 0.8400 - val_loss: 0.3942 - val_accuracy: 0.8667\n",
      "Epoch 27/50\n",
      "15/15 [==============================] - 0s 4ms/step - loss: 0.3874 - accuracy: 0.8400 - val_loss: 0.3760 - val_accuracy: 0.8667\n",
      "Epoch 28/50\n",
      "15/15 [==============================] - 0s 4ms/step - loss: 0.3675 - accuracy: 0.8400 - val_loss: 0.3636 - val_accuracy: 0.8667\n",
      "Epoch 29/50\n",
      "15/15 [==============================] - 0s 6ms/step - loss: 0.3529 - accuracy: 0.8533 - val_loss: 0.3506 - val_accuracy: 0.8800\n",
      "Epoch 30/50\n",
      "15/15 [==============================] - 0s 5ms/step - loss: 0.3317 - accuracy: 0.8800 - val_loss: 0.3414 - val_accuracy: 0.9067\n",
      "Epoch 31/50\n",
      "15/15 [==============================] - 0s 5ms/step - loss: 0.3167 - accuracy: 0.8933 - val_loss: 0.3249 - val_accuracy: 0.8933\n",
      "Epoch 32/50\n",
      "15/15 [==============================] - 0s 5ms/step - loss: 0.3034 - accuracy: 0.8667 - val_loss: 0.3209 - val_accuracy: 0.9333\n",
      "Epoch 33/50\n",
      "15/15 [==============================] - 0s 5ms/step - loss: 0.2893 - accuracy: 0.9200 - val_loss: 0.3130 - val_accuracy: 0.9333\n",
      "Epoch 34/50\n",
      "15/15 [==============================] - 0s 5ms/step - loss: 0.2731 - accuracy: 0.9333 - val_loss: 0.3063 - val_accuracy: 0.9333\n",
      "Epoch 35/50\n",
      "15/15 [==============================] - 0s 5ms/step - loss: 0.2606 - accuracy: 0.9467 - val_loss: 0.2938 - val_accuracy: 0.9333\n",
      "Epoch 36/50\n",
      "15/15 [==============================] - 0s 5ms/step - loss: 0.2513 - accuracy: 0.9200 - val_loss: 0.2890 - val_accuracy: 0.9333\n",
      "Epoch 37/50\n",
      "15/15 [==============================] - 0s 4ms/step - loss: 0.2379 - accuracy: 0.9467 - val_loss: 0.2836 - val_accuracy: 0.9333\n",
      "Epoch 38/50\n",
      "15/15 [==============================] - 0s 5ms/step - loss: 0.2279 - accuracy: 0.9333 - val_loss: 0.2805 - val_accuracy: 0.9333\n",
      "Epoch 39/50\n",
      "15/15 [==============================] - 0s 5ms/step - loss: 0.2164 - accuracy: 0.9733 - val_loss: 0.2751 - val_accuracy: 0.9333\n",
      "Epoch 40/50\n",
      "15/15 [==============================] - 0s 5ms/step - loss: 0.2085 - accuracy: 0.9600 - val_loss: 0.2693 - val_accuracy: 0.9333\n",
      "Epoch 41/50\n",
      "15/15 [==============================] - 0s 4ms/step - loss: 0.1972 - accuracy: 0.9600 - val_loss: 0.2704 - val_accuracy: 0.9333\n",
      "Epoch 42/50\n",
      "15/15 [==============================] - 0s 4ms/step - loss: 0.1887 - accuracy: 0.9733 - val_loss: 0.2698 - val_accuracy: 0.9333\n",
      "Epoch 43/50\n",
      "15/15 [==============================] - 0s 4ms/step - loss: 0.1822 - accuracy: 0.9600 - val_loss: 0.2623 - val_accuracy: 0.9333\n",
      "Epoch 44/50\n",
      "15/15 [==============================] - 0s 4ms/step - loss: 0.1741 - accuracy: 0.9733 - val_loss: 0.2554 - val_accuracy: 0.9333\n",
      "Epoch 45/50\n",
      "15/15 [==============================] - 0s 5ms/step - loss: 0.1663 - accuracy: 0.9733 - val_loss: 0.2544 - val_accuracy: 0.9333\n",
      "Epoch 46/50\n",
      "15/15 [==============================] - 0s 4ms/step - loss: 0.1576 - accuracy: 0.9733 - val_loss: 0.2405 - val_accuracy: 0.9333\n",
      "Epoch 47/50\n",
      "15/15 [==============================] - 0s 4ms/step - loss: 0.1546 - accuracy: 0.9867 - val_loss: 0.2447 - val_accuracy: 0.9333\n",
      "Epoch 48/50\n",
      "15/15 [==============================] - 0s 6ms/step - loss: 0.1471 - accuracy: 0.9733 - val_loss: 0.2360 - val_accuracy: 0.9333\n",
      "Epoch 49/50\n",
      "15/15 [==============================] - 0s 5ms/step - loss: 0.1427 - accuracy: 0.9733 - val_loss: 0.2395 - val_accuracy: 0.9333\n",
      "Epoch 50/50\n",
      "15/15 [==============================] - 0s 5ms/step - loss: 0.1353 - accuracy: 0.9600 - val_loss: 0.2507 - val_accuracy: 0.9333\n"
     ]
    }
   ],
   "source": [
    "history_new = model_new.fit(X_train, Y_train,\n",
    "                                 batch_size=5,\n",
    "                                 epochs=50,\n",
    "                                 verbose=1,\n",
    "                                 validation_data=(X_test, Y_test)\n",
    "                        )"
   ]
  },
  {
   "cell_type": "code",
   "execution_count": 36,
   "metadata": {},
   "outputs": [
    {
     "data": {
      "text/plain": [
       "Text(0.5, 0, 'epoch')"
      ]
     },
     "execution_count": 36,
     "metadata": {},
     "output_type": "execute_result"
    },
    {
     "data": {
      "image/png": "[encoded data removed]",
      "text/plain": [
       "<Figure size 504x720 with 2 Axes>"
      ]
     },
     "metadata": {},
     "output_type": "display_data"
    }
   ],
   "source": [
    "fig = plt.figure(figsize=(7, 10))\n",
    "\n",
    "fig.patch.set_facecolor((1,1,1))\n",
    "\n",
    "plt.subplot(211)\n",
    "\n",
    "plt.plot(history_new.history['accuracy'], \"b-\")\n",
    "plt.title('model accuracy')\n",
    "plt.ylabel('accuracy')\n",
    "plt.xlabel('epoch')\n",
    "\n",
    "plt.subplot(212)\n",
    "\n",
    "plt.plot(history_new.history['loss'], \"b-\")\n",
    "plt.title('model loss')\n",
    "plt.ylabel('loss')\n",
    "plt.xlabel('epoch')"
   ]
  },
  {
   "cell_type": "code",
   "execution_count": 37,
   "metadata": {},
   "outputs": [
    {
     "data": {
      "image/png": "[encoded data removed]",
      "text/plain": [
       "<Figure size 504x360 with 1 Axes>"
      ]
     },
     "metadata": {},
     "output_type": "display_data"
    }
   ],
   "source": [
    "fig = plt.figure(figsize=(7, 5))\n",
    "\n",
    "fig.patch.set_facecolor((1,1,1))\n",
    "\n",
    "model = history_dict[\"model_2\"][1]\n",
    "Y_pred = model.predict(X_test)\n",
    "fpr, tpr, threshold = roc_curve(Y_test.ravel(), Y_pred.ravel())\n",
    "plt.plot(fpr, tpr, label='{}, AUC = {:.3f}'.format(\"model_2\", auc(fpr, tpr)))\n",
    "\n",
    "Y_pred_new = model_new.predict(X_test)\n",
    "fpr, tpr, threshold = roc_curve(Y_test.ravel(), Y_pred_new.ravel())\n",
    "plt.plot(fpr, tpr, label='{}, AUC = {:.3f}'.format(\"model_new\", auc(fpr, tpr)))\n",
    "\n",
    "plt.xlabel('False positive rate')\n",
    "plt.ylabel('True positive rate')\n",
    "plt.title('ROC curve')\n",
    "plt.legend();"
   ]
  },
  {
   "cell_type": "markdown",
   "metadata": {},
   "source": [
    "Le nouveau modèle est plus performant que le modèle 2."
   ]
  },
  {
   "cell_type": "markdown",
   "metadata": {
    "id": "RhUDpQXumXhy"
   },
   "source": [
    "# Plus loin sur Tensor Flow\n",
    "\n",
    "Nous allons présenter la programmation plus bas niveau de tensorFlow. En tensorFlow, il faut définir un modèle avant tout calcul. Ce modèle est traduit en un graphe qui peut être distribué (sur GPU, sur grappes de machines ...)."
   ]
  },
  {
   "cell_type": "code",
   "execution_count": 38,
   "metadata": {
    "id": "5WOY5V61mr7X"
   },
   "outputs": [],
   "source": [
    "import tensorflow as tf\n",
    "x = tf.Variable(3, name=\"x\")\n",
    "y= tf.Variable(4, name=\"y\")\n",
    "f = x*x*y + y +2  "
   ]
  },
  {
   "cell_type": "markdown",
   "metadata": {
    "id": "jHBZO1xpm5CG"
   },
   "source": [
    "L'argument 'name' est facultatif mais utile pour les affichages et en particulier le 'tensorBoard' (abordé un peu plus loin dans ce TP). Pour exécuter le calcul, et par exemple obtenir la valeur de f, il faut créer une 'session'. Dans une session, on peut calculer les valeurs d'un noeud avec la méthode 'run()' de la session. Avant cela, il faut initialiser les valeurs des variables qui ont des valeurs initiales grâce à 'initializer'. "
   ]
  },
  {
   "cell_type": "code",
   "execution_count": 39,
   "metadata": {
    "colab": {
     "base_uri": "https://localhost:8080/"
    },
    "id": "H_hzBfppm6M3",
    "outputId": "000b6f8b-7a20-40bb-93c3-da0392a9aed7"
   },
   "outputs": [
    {
     "name": "stdout",
     "output_type": "stream",
     "text": [
      "tf.Tensor(42, shape=(), dtype=int32)\n"
     ]
    }
   ],
   "source": [
    "print(f)"
   ]
  }
 ],
 "metadata": {
  "colab": {
   "collapsed_sections": [],
   "name": "MasterSIIATensorFlow.ipynb",
   "provenance": []
  },
  "kernelspec": {
   "display_name": "Python 3 (ipykernel)",
   "language": "python",
   "name": "python3"
  },
  "language_info": {
   "codemirror_mode": {
    "name": "ipython",
    "version": 3
   },
   "file_extension": ".py",
   "mimetype": "text/x-python",
   "name": "python",
   "nbconvert_exporter": "python",
   "pygments_lexer": "ipython3",
   "version": "3.8.12"
  }
 },
 "nbformat": 4,
 "nbformat_minor": 1
}
